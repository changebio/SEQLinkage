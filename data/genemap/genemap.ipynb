{
 "cells": [
  {
   "cell_type": "markdown",
   "metadata": {
    "kernel": "SoS"
   },
   "source": [
    "# How to generate the `genemap.txt` file\n",
    "\n",
    "Using UCSC refGene for gene definition, Rutgers Map for genetic distances, and linear interpolation for those that cannot be found in the database."
   ]
  },
  {
   "cell_type": "markdown",
   "metadata": {
    "kernel": "SoS"
   },
   "source": [
    "## Gene range file\n",
    "\n",
    "Downloaded [refGene.txt.gz from UCSC](http://hgdownload.soe.ucsc.edu/goldenPath/hg19/database/refGene.txt.gz), currently version March 01, 2020.\n",
    "\n",
    "Code below are written by Min Qiao when she was at UChicago."
   ]
  },
  {
   "cell_type": "code",
   "execution_count": 4,
   "metadata": {
    "kernel": "Python3"
   },
   "outputs": [],
   "source": [
    "import pandas as pd, numpy as np\n",
    "import os\n",
    "from collections import Counter\n",
    "from more_itertools import unique_everseen\n",
    "cwd = os.path.expanduser(\"~/tmp/13-Mar-2020\")\n",
    "os.chdir(cwd)"
   ]
  },
  {
   "cell_type": "code",
   "execution_count": 5,
   "metadata": {
    "kernel": "Python3"
   },
   "outputs": [
    {
     "data": {
      "text/plain": [
       "0"
      ]
     },
     "execution_count": 5,
     "metadata": {},
     "output_type": "execute_result"
    }
   ],
   "source": [
    "status = os.system('wget http://hgdownload.soe.ucsc.edu/goldenPath/hg19/database/refGene.txt.gz')"
   ]
  },
  {
   "cell_type": "code",
   "execution_count": 7,
   "metadata": {
    "kernel": "Python3"
   },
   "outputs": [
    {
     "data": {
      "text/plain": [
       "(78288, 5)"
      ]
     },
     "execution_count": 7,
     "metadata": {},
     "output_type": "execute_result"
    }
   ],
   "source": [
    "ref_gene = pd.read_table(\"refGene.txt.gz\", compression=\"gzip\", sep = \"\\t\", header = None, usecols = (1,2,4,5,12), names = [\"tx_name\", \"chrom\", \"start\", \"end\", \"gene_name\"])\n",
    "ref_gene.shape"
   ]
  },
  {
   "cell_type": "code",
   "execution_count": 8,
   "metadata": {
    "kernel": "Python3"
   },
   "outputs": [
    {
     "data": {
      "text/plain": [
       "(74551, 5)"
      ]
     },
     "execution_count": 8,
     "metadata": {},
     "output_type": "execute_result"
    }
   ],
   "source": [
    "ref_gene = ref_gene[ref_gene[\"chrom\"].isin([\"chr\"+str(x+1) for x in range(22)] + [\"chrX\"])]\n",
    "ref_gene.shape"
   ]
  },
  {
   "cell_type": "code",
   "execution_count": 9,
   "metadata": {
    "kernel": "Python3"
   },
   "outputs": [],
   "source": [
    "ref_gene[\"CHR\"] = ref_gene[\"chrom\"].apply(lambda x: int(x.split(\"chr\")[1]) if x.split(\"chr\")[1] != \"X\" else \"X\")"
   ]
  },
  {
   "cell_type": "code",
   "execution_count": 10,
   "metadata": {
    "kernel": "Python3"
   },
   "outputs": [
    {
     "data": {
      "text/plain": [
       "(43442, 4)"
      ]
     },
     "execution_count": 10,
     "metadata": {},
     "output_type": "execute_result"
    }
   ],
   "source": [
    "ref_gene = ref_gene.drop_duplicates(subset = (\"CHR\", \"start\", \"end\"))\n",
    "ref_gene = ref_gene.sort_values(by = [\"CHR\", \"start\", \"end\"])[[\"CHR\", \"start\", \"end\", \"gene_name\"]]\n",
    "ref_gene.shape"
   ]
  },
  {
   "cell_type": "code",
   "execution_count": 11,
   "metadata": {
    "kernel": "Python3"
   },
   "outputs": [
    {
     "data": {
      "text/html": [
       "<div>\n",
       "<style scoped>\n",
       "    .dataframe tbody tr th:only-of-type {\n",
       "        vertical-align: middle;\n",
       "    }\n",
       "\n",
       "    .dataframe tbody tr th {\n",
       "        vertical-align: top;\n",
       "    }\n",
       "\n",
       "    .dataframe thead th {\n",
       "        text-align: right;\n",
       "    }\n",
       "</style>\n",
       "<table border=\"1\" class=\"dataframe\">\n",
       "  <thead>\n",
       "    <tr style=\"text-align: right;\">\n",
       "      <th></th>\n",
       "      <th>CHR</th>\n",
       "      <th>start</th>\n",
       "      <th>end</th>\n",
       "      <th>gene_name</th>\n",
       "    </tr>\n",
       "  </thead>\n",
       "  <tbody>\n",
       "    <tr>\n",
       "      <th>0</th>\n",
       "      <td>1</td>\n",
       "      <td>11868</td>\n",
       "      <td>14362</td>\n",
       "      <td>LOC102725121</td>\n",
       "    </tr>\n",
       "    <tr>\n",
       "      <th>1</th>\n",
       "      <td>1</td>\n",
       "      <td>11873</td>\n",
       "      <td>14409</td>\n",
       "      <td>DDX11L1</td>\n",
       "    </tr>\n",
       "    <tr>\n",
       "      <th>41329</th>\n",
       "      <td>1</td>\n",
       "      <td>14361</td>\n",
       "      <td>29370</td>\n",
       "      <td>WASH7P</td>\n",
       "    </tr>\n",
       "    <tr>\n",
       "      <th>3</th>\n",
       "      <td>1</td>\n",
       "      <td>17368</td>\n",
       "      <td>17436</td>\n",
       "      <td>MIR6859-1</td>\n",
       "    </tr>\n",
       "    <tr>\n",
       "      <th>7</th>\n",
       "      <td>1</td>\n",
       "      <td>30365</td>\n",
       "      <td>30503</td>\n",
       "      <td>MIR1302-2</td>\n",
       "    </tr>\n",
       "  </tbody>\n",
       "</table>\n",
       "</div>"
      ],
      "text/plain": [
       "      CHR  start    end     gene_name\n",
       "0       1  11868  14362  LOC102725121\n",
       "1       1  11873  14409       DDX11L1\n",
       "41329   1  14361  29370        WASH7P\n",
       "3       1  17368  17436     MIR6859-1\n",
       "7       1  30365  30503     MIR1302-2"
      ]
     },
     "execution_count": 11,
     "metadata": {},
     "output_type": "execute_result"
    }
   ],
   "source": [
    "ref_gene.head()"
   ]
  },
  {
   "cell_type": "markdown",
   "metadata": {
    "kernel": "Python3"
   },
   "source": [
    "There is a problem here: we cannot just `groupby` this data according to chr then gene name, because there exists some genes having the same name but are in different, non-overlapping positions. For example:"
   ]
  },
  {
   "cell_type": "markdown",
   "metadata": {
    "kernel": "Python3"
   },
   "source": [
    "## Genetic distance map file\n",
    "\n",
    "Downloaded from [here](http://compgen.rutgers.edu/downloads/rutgers_map_v3a.zip).\n",
    "\n",
    "These preprocessing scripts were mostly written by Hang Dai when he was at Baylor."
   ]
  },
  {
   "cell_type": "code",
   "execution_count": null,
   "metadata": {
    "kernel": "Python3"
   },
   "outputs": [],
   "source": [
    "# Copied from Hang Dai's preprocessing scripts in 2014\n",
    "# to SoS workflow, with minor data formatting adjustments\n",
    "\n",
    "# add_chr_to_original_file\n",
    "[preprocess_1]\n",
    "depends: executable('bgzip')\n",
    "parameter: chrom = list()\n",
    "if len(chrom) == 0: chrom = list(range(1,23)) + ['X']\n",
    "input: for_each = 'chrom'\n",
    "output: f'RUMap_chr{_chrom}.txt.gz'\n",
    "bash: expand = '${ }'\n",
    "\tawk -F'\\t' -v chromosome=\"${_chrom}\" 'BEGIN {OFS=\"\\t\"} {if (NR==1) {print \"#chr\",$1,$2,$3,$6,$7,$8,$9} else {if ($2==\"SNP\") {print chromosome,$1,$2,$3,$6,$7,$8,$9}}}' RUMapv3_B137_chr${_chrom if _chrom != 'X' else 23}.txt | sort -k5 -g | bgzip -c > ${_output}\n",
    "\n",
    "# make_tabix_index_file.sh\n",
    "[preprocess_2]\n",
    "output: f'{_input}.tbi'\n",
    "bash: expand = '${ }'\n",
    "\ttabix  -s1 -b5 -e5 -c# ${_input}\n",
    "\n",
    "# chr_min_max_dict\n",
    "[preprocess_3]\n",
    "input: group_by='all'\n",
    "python: expand = '${ }'\n",
    "import subprocess\n",
    "chr_min_max_dict={}\n",
    "for item in [${_input:nr,}]:\n",
    "\tprint(item)\n",
    "\tcommand='zcat {} | head -2 | tail -1'.format(item)\n",
    "\tp=subprocess.Popen(command, universal_newlines=True, shell=True, stdout=subprocess.PIPE)\n",
    "\tout=p.stdout.read().split('\\t')  #a list\n",
    "\tmin_pos=out[4]\n",
    "\tcommand='zcat {} | tail -1'.format(item)\n",
    "\tp=subprocess.Popen(command, universal_newlines=True, shell=True, stdout=subprocess.PIPE)\n",
    "\tout=p.stdout.read().split('\\t')  #a list\n",
    "\tmax_pos=out[4]\n",
    "\tchr_min_max_dict[item]=[min_pos, max_pos]\n",
    "print(chr_min_max_dict)\n",
    "print(len(chr_min_max_dict))\n",
    "\n",
    "[liftover_download: provides = ['hg19ToHg38.over.chain.gz', 'liftOver']]\n",
    "download:\n",
    "\thttps://hgdownload.soe.ucsc.edu/gbdb/hg19/liftOver/hg19ToHg38.over.chain.gz\n",
    "\thttp://hgdownload.soe.ucsc.edu/admin/exe/linux.x86_64/liftOver\n",
    "bash:\n",
    "\tchmod +x liftOver\n",
    "\n",
    "[liftover_genemap]\n",
    "depends: 'hg19ToHg38.over.chain.gz', 'liftOver'\n",
    "parameter: genemap = ''\n",
    "input: genemap\n",
    "output: f'{_input:nn}.hg38.txt'\n",
    "bash: expand = '${ }'\n",
    "\tawk '{print \"chr\"$1,$2,$3,$4}' ${_input} > ${_output:nn}.hg19.bed\n",
    "\t./liftOver ${_output:nn}.hg19.bed hg19ToHg38.over.chain.gz ${_output:nn}.hg38.bed ${_output:nn}.unlifted.bed\n",
    "python: expand = '${ }'\n",
    "\tgenemap = dict([(x.split()[3], x.strip().split()) for x in open(${_input:r}).readlines()])\n",
    "\tnew_coord = dict([(x.split()[3], x.strip().split()) for x in open('${_output:nn}.hg38.bed').readlines()])\n",
    "\ttotal = len(genemap)\n",
    "\tunmapped = 0\n",
    "\tfor k in list(genemap.keys()):\n",
    "\t\tif k in new_coord:\n",
    "\t\t\tgenemap[k][0] = new_coord[k][0][3:]\n",
    "\t\t\tgenemap[k][1] = new_coord[k][1]\n",
    "\t\t\tgenemap[k][2] = new_coord[k][2]\n",
    "\t\telse:\n",
    "\t\t\tdel genemap[k]\n",
    "\t\t\tunmapped += 1\n",
    "\tprint(f'{unmapped} units failed to be mapped to hg38.')\n",
    "\twith open(${_output:r}, 'w') as f:\n",
    "\t\tf.write('\\n'.join(['\\t'.join(x) for x in genemap.values()]))"
   ]
  },
  {
   "cell_type": "markdown",
   "metadata": {
    "kernel": "Python3"
   },
   "source": [
    "To use it, after downloading and decompressiong Rutgers Map data, run:\n",
    "\n",
    "```\n",
    "sos run genemap.ipynb preprocess\n",
    "python genetic_pos_searcher.py genemap.txt\n",
    "mv CM_genemap.txt genemap.hg19.txt\n",
    "sos run genemap.ipynb liftover_genemap --genemap genemap.hg19.txt\n",
    "```"
   ]
  }
 ],
 "metadata": {
  "kernelspec": {
   "display_name": "SoS",
   "language": "sos",
   "name": "sos"
  },
  "language_info": {
   "codemirror_mode": "sos",
   "file_extension": ".sos",
   "mimetype": "text/x-sos",
   "name": "sos",
   "nbconvert_exporter": "sos_notebook.converter.SoS_Exporter",
   "pygments_lexer": "sos"
  },
  "sos": {
   "kernels": [
    [
     "Python3",
     "python3",
     "Python3",
     "#FFD91A",
     ""
    ]
   ],
   "version": "0.21.7"
  }
 },
 "nbformat": 4,
 "nbformat_minor": 4
}
