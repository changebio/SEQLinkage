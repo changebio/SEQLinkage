{
 "cells": [
  {
   "cell_type": "code",
   "execution_count": null,
   "id": "22b94374-59d1-48e3-a06f-cfde9d795b35",
   "metadata": {},
   "outputs": [],
   "source": []
  },
  {
   "cell_type": "markdown",
   "id": "57659162-3bfb-4453-a1e7-82640b0ef666",
   "metadata": {},
   "source": [
    "## Checking APOE"
   ]
  },
  {
   "cell_type": "markdown",
   "id": "1eb47026-7aae-463c-9ae6-e949751e73e2",
   "metadata": {},
   "source": [
    "seqlink --fam data/new_trim_ped_famless17_no\\:xx.fam --vcf /mnt/mfs/statgen/alzheimers-family/linkage_files/geno/full_sample/vcf/full_sample.vcf.gz --anno MWE/annotation/EFIGA_NIALOAD_chr19.hg38.hg38_multianno.csv --pop data/full_sample_fam_pop.txt -f MERLIN --build hg38 --freq AF -o data/apoechr19test --blueprint data/data/genemap.hg38.chr19APOE.txt --bin 1 --maf-cutoff 0.05 --jobs 1"
   ]
  },
  {
   "cell_type": "markdown",
   "id": "a33d4d59-ae8d-4cc3-871c-6cb965a0efd8",
   "metadata": {},
   "source": [
    "75 genes\n",
    "5 Gb\n"
   ]
  },
  {
   "cell_type": "code",
   "execution_count": null,
   "id": "3c30b6c4-8937-45dc-8995-fb32ea00ea85",
   "metadata": {},
   "outputs": [],
   "source": [
    "import numpy as np\n",
    "import pandas as pd\n",
    "import pickle"
   ]
  },
  {
   "cell_type": "markdown",
   "id": "c433fc2c-d3bd-4f4d-9f19-e511e45dcb5d",
   "metadata": {},
   "source": [
    "### Read fam"
   ]
  },
  {
   "cell_type": "code",
   "execution_count": null,
   "id": "5b692698-1102-4c79-9a3a-a832b7519542",
   "metadata": {},
   "outputs": [],
   "source": [
    "fam17 = pd.read_csv('../data/new_trim_ped_famless17_no:xx.fam',delim_whitespace=True,header=None,names=['fid','iid','fathid','mothid','sex','ad'])"
   ]
  },
  {
   "cell_type": "code",
   "execution_count": null,
   "id": "514d50ef-0de8-44ec-997d-5425cd07ab20",
   "metadata": {},
   "outputs": [
    {
     "name": "stderr",
     "output_type": "stream",
     "text": [
      "/tmp/2292762.1.high_mem.q/ipykernel_17476/1308232463.py:1: SettingWithCopyWarning: \n",
      "A value is trying to be set on a copy of a slice from a DataFrame\n",
      "\n",
      "See the caveats in the documentation: https://pandas.pydata.org/pandas-docs/stable/user_guide/indexing.html#returning-a-view-versus-a-copy\n",
      "  fam17.ad[fam17.ad==-9]=0\n"
     ]
    }
   ],
   "source": [
    "fam17.ad[fam17.ad==-9]=0"
   ]
  },
  {
   "cell_type": "code",
   "execution_count": null,
   "id": "2cd779ea-1129-478a-a4a0-8770f42d7308",
   "metadata": {},
   "outputs": [],
   "source": [
    "fam17.index = list(fam17.iid)"
   ]
  },
  {
   "cell_type": "code",
   "execution_count": null,
   "id": "232734db-d063-445a-8347-e86500810c2e",
   "metadata": {},
   "outputs": [
    {
     "data": {
      "text/plain": [
       "2    1900\n",
       "0    1042\n",
       "1     957\n",
       "Name: ad, dtype: int64"
      ]
     },
     "execution_count": null,
     "metadata": {},
     "output_type": "execute_result"
    }
   ],
   "source": [
    "fam17.ad.value_counts()"
   ]
  },
  {
   "cell_type": "markdown",
   "id": "7dd3166b-dc1c-49b6-9e98-96cedc486645",
   "metadata": {},
   "source": [
    "## Read haplotypes"
   ]
  },
  {
   "cell_type": "code",
   "execution_count": null,
   "id": "2b0d404f-dac5-4c76-aaa9-f8d82efd44aa",
   "metadata": {},
   "outputs": [],
   "source": [
    "with open('../data/wg20220311/chr19test/tmp/CACHE/chr19test0.pickle', 'rb') as handle:\n",
    "    apoe = pickle.load(handle)"
   ]
  },
  {
   "cell_type": "code",
   "execution_count": null,
   "id": "0e361cdd-9e18-43f7-94d7-770fd1d79c54",
   "metadata": {},
   "outputs": [
    {
     "data": {
      "text/plain": [
       "dict_keys(['WASH5P', 'OR4F17', 'LINC01002', 'PLPP2', 'MIER2', 'THEG', 'C2CD4C', 'SHC2', 'ODF3L2', 'MADCAM1', 'TPGS1', 'CDC34', 'GZMM', 'BSG', 'HCN2', 'POLRMT', 'FGF22', 'RNF126', 'FSTL3', 'PRSS57', 'PALM', 'MISP', 'PTBP1', 'MIR4745', 'PLPPR3', 'MIR3187', 'AZU1', 'PRTN3', 'ELANE', 'CFD', 'MED16', 'RNU6-1@9,RNU6-7@9,RNU6-8@9', 'RNU6-2@9,RNU6-9@9', 'R3HDM4', 'KISS1R', 'ARID3A', 'WDR18', 'GRIN3B', 'TMEM259', 'RNU6-1@10,RNU6-7@10,RNU6-8@10', 'RNU6-2@10,RNU6-9@10', 'CNN2', 'ABCA7', 'ARHGAP45', 'POLR2E', 'GPX4', 'SBNO2', 'STK11', 'CBARP', 'ATP5F1D', 'MIDN', 'CIRBP-AS1', 'CIRBP', 'FAM174C', 'EFNA2', 'PWWP3A', 'NDUFS7', 'GAMT', 'DAZAP1', 'RPS15', 'APC2', 'C19orf25', 'PCSK4', 'REEP6', 'ADAMTSL5', 'PLK5', 'MEX3D', 'MBD3', 'UQCR11', 'TCF3', 'ONECUT3', 'ATP8B3', 'REXO1', 'MIR1909', 'LOC100288123', 'KLF16', 'ABHD17A', 'ADAT3', 'SCAMP4', 'CSNK1G2', 'CSNK1G2-AS1', 'BTBD2', 'MKNK2', 'MOB3A', 'IZUMO4', 'AP3D1', 'DOT1L', 'PLEKHJ1', 'MIR1227', 'SF3A2', 'AMH', 'MIR4321', 'JSRP1', 'OAZ1', 'PEAK3', 'LINGO3', 'LSM7', 'SPPL2B', 'TMPRSS9', 'TIMM13'])"
      ]
     },
     "execution_count": null,
     "metadata": {},
     "output_type": "execute_result"
    }
   ],
   "source": [
    "apoe.keys()"
   ]
  },
  {
   "cell_type": "code",
   "execution_count": null,
   "id": "335889e5-32df-43f7-9912-a5cbf9b6c110",
   "metadata": {},
   "outputs": [
    {
     "data": {
      "text/plain": [
       "[array(['chr19:62155:A:G', 'chr19:68258:TA:T'], dtype='<U16'),\n",
       " array([0.0758, 0.0833]),\n",
       " array([['1007', '1007_1', 'A2,1:', '1:'],\n",
       "        ['1007', '1007_1', '1:', '2:'],\n",
       "        ['1007', '1007_2', '1:', '2:'],\n",
       "        ['1007', '1007_2', 'A1,2:', '1:'],\n",
       "        ['1007', '1007_40', '1:', '?:'],\n",
       "        ['1007', '1007_40', '?:', '?:'],\n",
       "        ['1007', '1007_99', 'A1,2:', '1|'],\n",
       "        ['1007', '1007_99', 'A2,1:', '1|'],\n",
       "        ['1007', '1007_5', 'A1,2:', '1|'],\n",
       "        ['1007', '1007_5', 'A2,1:', '1|'],\n",
       "        ['1007', '1007_3', '1:', '2|'],\n",
       "        ['1007', '1007_3', '1:', '2|'],\n",
       "        ['1007', '1007_6', '1:', '2|'],\n",
       "        ['1007', '1007_6', 'A2,1:', '1|'],\n",
       "        ['1007', '1007_4', '1:', '2|'],\n",
       "        ['1007', '1007_4', 'A2,1:', '1|'],\n",
       "        ['1007', '1007_39', '1:', '2|'],\n",
       "        ['1007', '1007_39', '1:', '?|']], dtype='<U7')]"
      ]
     },
     "execution_count": null,
     "metadata": {},
     "output_type": "execute_result"
    }
   ],
   "source": [
    "apoe['WASH5P']['predata']['1007']"
   ]
  },
  {
   "cell_type": "markdown",
   "id": "e2ba253d-c05b-4dfc-a534-d0eef60f6648",
   "metadata": {},
   "source": [
    "## Functions to deal with haplotypes"
   ]
  },
  {
   "cell_type": "code",
   "execution_count": null,
   "id": "7b5c410b-bc09-4725-8530-0d1d6e70c3df",
   "metadata": {},
   "outputs": [],
   "source": [
    "def get_allele(s):\n",
    "    a = s[1] if s[0].isupper() else s[0]\n",
    "    return 0 if a=='?' else int(a)"
   ]
  },
  {
   "cell_type": "code",
   "execution_count": null,
   "id": "0ee672d1-5477-4210-ae6a-8ef55097fb16",
   "metadata": {},
   "outputs": [],
   "source": [
    "def name_haps(snps):\n",
    "    name = []\n",
    "    for i in snps:\n",
    "        name += [i+'_A0',i+'_A1']\n",
    "    return name"
   ]
  },
  {
   "cell_type": "code",
   "execution_count": null,
   "id": "620fd722-33cd-448c-abfd-f1032ff360b6",
   "metadata": {},
   "outputs": [],
   "source": [
    "def get_fam_hap(haps,name=None):\n",
    "    new_haps,new_iid = [],[]\n",
    "    iid = haps[:,1]\n",
    "    haps = haps[:,2:]\n",
    "    for i in range(0,haps.shape[0],2):\n",
    "        new_iid.append(iid[i])\n",
    "        hap_a01 = []\n",
    "        for a0,a1 in zip(haps[i],haps[i+1]):\n",
    "            hap_a01 += [get_allele(a0),get_allele(a1)]\n",
    "        new_haps.append(hap_a01)\n",
    "    new_haps = pd.DataFrame(new_haps)\n",
    "    new_haps.index = new_iid\n",
    "    if name is not None:\n",
    "        new_haps.columns = name\n",
    "    return new_haps"
   ]
  },
  {
   "cell_type": "code",
   "execution_count": null,
   "id": "e07309cd-c08f-4644-851d-05050aeef58a",
   "metadata": {},
   "outputs": [],
   "source": [
    "apoe_predata = apoe['APOE']['predata']"
   ]
  },
  {
   "cell_type": "code",
   "execution_count": null,
   "id": "fadba786-a2b1-43c2-842b-4d40f2dc6ca9",
   "metadata": {},
   "outputs": [],
   "source": [
    "apoe_freqs = []\n",
    "for i in apoe_predata.keys():\n",
    "    if len(apoe_predata[i][0])>0:\n",
    "        apoe_freqs.append(apoe_predata[i][1])"
   ]
  },
  {
   "cell_type": "code",
   "execution_count": null,
   "id": "bfd48a38-3914-4ea0-ad5a-bb4ed8255b91",
   "metadata": {},
   "outputs": [],
   "source": [
    "apoe_haps = []\n",
    "for i in apoe_predata.keys():\n",
    "    if len(apoe_predata[i][0])>0:\n",
    "        apoe_haps.append(get_fam_hap(apoe_predata[i][2],name_haps(apoe_predata[i][0])))"
   ]
  },
  {
   "cell_type": "code",
   "execution_count": null,
   "id": "d6993708-c72d-43a9-bab3-39996b834f40",
   "metadata": {},
   "outputs": [],
   "source": [
    "apoe_fam_haps = []\n",
    "for hap in apoe_haps:\n",
    "    apoe_fam_haps.append(pd.concat([fam17.loc[hap.index],hap],axis=1))"
   ]
  },
  {
   "cell_type": "code",
   "execution_count": null,
   "id": "a12af997-7226-413a-9015-6f4e4af05885",
   "metadata": {},
   "outputs": [],
   "source": [
    "with open('../data/apoechr19test/apoe_fam_haps.pickle', 'wb') as handle:\n",
    "        pickle.dump(apoe_fam_haps, handle, protocol=pickle.HIGHEST_PROTOCOL)"
   ]
  },
  {
   "cell_type": "code",
   "execution_count": null,
   "id": "827afa43-c8d3-4193-bfbc-48366b0127c7",
   "metadata": {},
   "outputs": [],
   "source": [
    "with open('../data/apoechr19test/apoe_freqs.pickle', 'wb') as handle:\n",
    "        pickle.dump(apoe_freqs, handle, protocol=pickle.HIGHEST_PROTOCOL)"
   ]
  },
  {
   "cell_type": "markdown",
   "id": "2b117405-9672-4ee7-bd0a-bd90bfa537c4",
   "metadata": {},
   "source": [
    "## All genes from haps to peds"
   ]
  },
  {
   "cell_type": "code",
   "execution_count": null,
   "id": "2751499c-d7b9-4cdf-9202-ef55652e7efa",
   "metadata": {},
   "outputs": [],
   "source": [
    "def format_haps_bunch(dhaps,fr,to):\n",
    "    gene_variants = {}\n",
    "    gene_haps = {}\n",
    "    for g in dhaps.keys()[fr:to]:\n",
    "        haps = dhaps[g]['predata']\n",
    "        for f in haps.keys():\n",
    "            if f not in gene_variants.keys():\n",
    "                gene_variants[f] = {'genes':[],'variants':[],'freqs':[],'uniq':[]}\n",
    "                gene_haps[f] = get_fam_hap(haps[f][2],name_haps(haps[f][0]))\n",
    "            else:\n",
    "                gene_haps[f] = pd.concat([gene_haps[f],get_fam_hap(haps[f][2],name_haps(haps[f][0]))],axis=1)\n",
    "            gene_variants[f]['genes'] += [g]*len(haps[f][0])\n",
    "            gene_variants[f]['variants'] += list(haps[f][0])\n",
    "            gene_variants[f]['freqs'] += list(haps[f][1])\n",
    "    for i,j in gene_variants.items():\n",
    "        redup_idx = ~gene_haps[i].columns.duplicated()\n",
    "        gene_haps[i] = gene_haps[i].iloc[:,redup_idx]\n",
    "        j['uniq'] = list(redup_idx[range(0,len(redup_idx),2)])\n",
    "        gene_variants[i] = pd.DataFrame(j)\n",
    "    return gene_variants,gene_haps"
   ]
  },
  {
   "cell_type": "code",
   "execution_count": null,
   "id": "e69d1eb0-1397-49a6-a85a-5b4ce6074b6c",
   "metadata": {},
   "outputs": [],
   "source": [
    "tmp,tmp1 = format_haps(apoe)"
   ]
  },
  {
   "cell_type": "code",
   "execution_count": null,
   "id": "b6105737-3c13-470f-8681-1fe1946f9a90",
   "metadata": {},
   "outputs": [],
   "source": [
    "gene_fam_haps = {}\n",
    "for k,hap in tmp1.items():\n",
    "    gene_fam_haps[k] = pd.concat([fam17.loc[hap.index],hap],axis=1)"
   ]
  },
  {
   "cell_type": "code",
   "execution_count": null,
   "id": "0634645f-9581-452c-b7d7-44ff1c4d316c",
   "metadata": {},
   "outputs": [],
   "source": [
    "with open('../data/apoechr19test/gene_fam_haps.pickle', 'wb') as handle:\n",
    "        pickle.dump(list(gene_fam_haps.values()), handle, protocol=pickle.HIGHEST_PROTOCOL)"
   ]
  },
  {
   "cell_type": "code",
   "execution_count": null,
   "id": "5764925e-1a5f-4571-ac9b-f0fc320bce31",
   "metadata": {},
   "outputs": [],
   "source": [
    "with open('../data/apoechr19test/gene_freqs.pickle', 'wb') as handle:\n",
    "        pickle.dump(tmp, handle, protocol=pickle.HIGHEST_PROTOCOL)"
   ]
  },
  {
   "cell_type": "code",
   "execution_count": null,
   "id": "ef96c564-0efe-41cc-87f6-4500955223a5",
   "metadata": {},
   "outputs": [
    {
     "data": {
      "text/plain": [
       "array([ True,  True,  True,  True,  True])"
      ]
     },
     "execution_count": null,
     "metadata": {},
     "output_type": "execute_result"
    }
   ],
   "source": [
    "~gene_fam_haps['1007'].columns.duplicated()[range(1,10,2)]"
   ]
  },
  {
   "cell_type": "code",
   "execution_count": null,
   "id": "24d6f87c-0a01-4731-bd85-77f76e16e305",
   "metadata": {},
   "outputs": [
    {
     "data": {
      "text/html": [
       "<div>\n",
       "<style scoped>\n",
       "    .dataframe tbody tr th:only-of-type {\n",
       "        vertical-align: middle;\n",
       "    }\n",
       "\n",
       "    .dataframe tbody tr th {\n",
       "        vertical-align: top;\n",
       "    }\n",
       "\n",
       "    .dataframe thead th {\n",
       "        text-align: right;\n",
       "    }\n",
       "</style>\n",
       "<table border=\"1\" class=\"dataframe\">\n",
       "  <thead>\n",
       "    <tr style=\"text-align: right;\">\n",
       "      <th></th>\n",
       "      <th>fid</th>\n",
       "      <th>iid</th>\n",
       "      <th>fathid</th>\n",
       "      <th>mothid</th>\n",
       "      <th>sex</th>\n",
       "      <th>ad</th>\n",
       "      <th>V6-43622586_A0</th>\n",
       "      <th>V6-43622586_A1</th>\n",
       "      <th>V17-43622964_A0</th>\n",
       "      <th>V17-43622964_A1</th>\n",
       "      <th>...</th>\n",
       "      <th>V930-45642984_A0</th>\n",
       "      <th>V930-45642984_A1</th>\n",
       "      <th>V957-45644269_A0</th>\n",
       "      <th>V957-45644269_A1</th>\n",
       "      <th>V965-45644454_A0</th>\n",
       "      <th>V965-45644454_A1</th>\n",
       "      <th>V975-45644979_A0</th>\n",
       "      <th>V975-45644979_A1</th>\n",
       "      <th>V978-45645128_A0</th>\n",
       "      <th>V978-45645128_A1</th>\n",
       "    </tr>\n",
       "  </thead>\n",
       "  <tbody>\n",
       "    <tr>\n",
       "      <th>1007_1</th>\n",
       "      <td>1007</td>\n",
       "      <td>1007_1</td>\n",
       "      <td>0</td>\n",
       "      <td>0</td>\n",
       "      <td>1</td>\n",
       "      <td>0</td>\n",
       "      <td>2</td>\n",
       "      <td>2</td>\n",
       "      <td>2</td>\n",
       "      <td>2</td>\n",
       "      <td>...</td>\n",
       "      <td>1</td>\n",
       "      <td>2</td>\n",
       "      <td>1</td>\n",
       "      <td>1</td>\n",
       "      <td>1</td>\n",
       "      <td>2</td>\n",
       "      <td>2</td>\n",
       "      <td>1</td>\n",
       "      <td>2</td>\n",
       "      <td>1</td>\n",
       "    </tr>\n",
       "    <tr>\n",
       "      <th>1007_2</th>\n",
       "      <td>1007</td>\n",
       "      <td>1007_2</td>\n",
       "      <td>0</td>\n",
       "      <td>0</td>\n",
       "      <td>2</td>\n",
       "      <td>0</td>\n",
       "      <td>1</td>\n",
       "      <td>1</td>\n",
       "      <td>1</td>\n",
       "      <td>1</td>\n",
       "      <td>...</td>\n",
       "      <td>1</td>\n",
       "      <td>1</td>\n",
       "      <td>1</td>\n",
       "      <td>2</td>\n",
       "      <td>1</td>\n",
       "      <td>1</td>\n",
       "      <td>2</td>\n",
       "      <td>1</td>\n",
       "      <td>2</td>\n",
       "      <td>1</td>\n",
       "    </tr>\n",
       "    <tr>\n",
       "      <th>1007_40</th>\n",
       "      <td>1007</td>\n",
       "      <td>1007_40</td>\n",
       "      <td>0</td>\n",
       "      <td>0</td>\n",
       "      <td>1</td>\n",
       "      <td>0</td>\n",
       "      <td>2</td>\n",
       "      <td>0</td>\n",
       "      <td>1</td>\n",
       "      <td>0</td>\n",
       "      <td>...</td>\n",
       "      <td>1</td>\n",
       "      <td>0</td>\n",
       "      <td>2</td>\n",
       "      <td>0</td>\n",
       "      <td>1</td>\n",
       "      <td>0</td>\n",
       "      <td>1</td>\n",
       "      <td>0</td>\n",
       "      <td>1</td>\n",
       "      <td>0</td>\n",
       "    </tr>\n",
       "    <tr>\n",
       "      <th>1007_99</th>\n",
       "      <td>1007</td>\n",
       "      <td>1007_99</td>\n",
       "      <td>1007_1</td>\n",
       "      <td>1007_2</td>\n",
       "      <td>2</td>\n",
       "      <td>2</td>\n",
       "      <td>1</td>\n",
       "      <td>2</td>\n",
       "      <td>1</td>\n",
       "      <td>2</td>\n",
       "      <td>...</td>\n",
       "      <td>1</td>\n",
       "      <td>1</td>\n",
       "      <td>2</td>\n",
       "      <td>1</td>\n",
       "      <td>1</td>\n",
       "      <td>1</td>\n",
       "      <td>1</td>\n",
       "      <td>1</td>\n",
       "      <td>1</td>\n",
       "      <td>1</td>\n",
       "    </tr>\n",
       "    <tr>\n",
       "      <th>1007_5</th>\n",
       "      <td>1007</td>\n",
       "      <td>1007_5</td>\n",
       "      <td>1007_1</td>\n",
       "      <td>1007_2</td>\n",
       "      <td>2</td>\n",
       "      <td>2</td>\n",
       "      <td>1</td>\n",
       "      <td>2</td>\n",
       "      <td>1</td>\n",
       "      <td>2</td>\n",
       "      <td>...</td>\n",
       "      <td>1</td>\n",
       "      <td>2</td>\n",
       "      <td>2</td>\n",
       "      <td>1</td>\n",
       "      <td>1</td>\n",
       "      <td>2</td>\n",
       "      <td>1</td>\n",
       "      <td>1</td>\n",
       "      <td>1</td>\n",
       "      <td>2</td>\n",
       "    </tr>\n",
       "    <tr>\n",
       "      <th>1007_3</th>\n",
       "      <td>1007</td>\n",
       "      <td>1007_3</td>\n",
       "      <td>1007_1</td>\n",
       "      <td>1007_2</td>\n",
       "      <td>1</td>\n",
       "      <td>2</td>\n",
       "      <td>1</td>\n",
       "      <td>2</td>\n",
       "      <td>1</td>\n",
       "      <td>2</td>\n",
       "      <td>...</td>\n",
       "      <td>1</td>\n",
       "      <td>1</td>\n",
       "      <td>1</td>\n",
       "      <td>1</td>\n",
       "      <td>1</td>\n",
       "      <td>1</td>\n",
       "      <td>2</td>\n",
       "      <td>2</td>\n",
       "      <td>2</td>\n",
       "      <td>2</td>\n",
       "    </tr>\n",
       "    <tr>\n",
       "      <th>1007_6</th>\n",
       "      <td>1007</td>\n",
       "      <td>1007_6</td>\n",
       "      <td>1007_1</td>\n",
       "      <td>1007_2</td>\n",
       "      <td>2</td>\n",
       "      <td>2</td>\n",
       "      <td>1</td>\n",
       "      <td>2</td>\n",
       "      <td>1</td>\n",
       "      <td>2</td>\n",
       "      <td>...</td>\n",
       "      <td>1</td>\n",
       "      <td>1</td>\n",
       "      <td>1</td>\n",
       "      <td>1</td>\n",
       "      <td>1</td>\n",
       "      <td>1</td>\n",
       "      <td>2</td>\n",
       "      <td>2</td>\n",
       "      <td>2</td>\n",
       "      <td>2</td>\n",
       "    </tr>\n",
       "    <tr>\n",
       "      <th>1007_4</th>\n",
       "      <td>1007</td>\n",
       "      <td>1007_4</td>\n",
       "      <td>1007_1</td>\n",
       "      <td>1007_2</td>\n",
       "      <td>2</td>\n",
       "      <td>0</td>\n",
       "      <td>1</td>\n",
       "      <td>2</td>\n",
       "      <td>1</td>\n",
       "      <td>2</td>\n",
       "      <td>...</td>\n",
       "      <td>1</td>\n",
       "      <td>1</td>\n",
       "      <td>2</td>\n",
       "      <td>1</td>\n",
       "      <td>1</td>\n",
       "      <td>1</td>\n",
       "      <td>1</td>\n",
       "      <td>2</td>\n",
       "      <td>1</td>\n",
       "      <td>2</td>\n",
       "    </tr>\n",
       "    <tr>\n",
       "      <th>1007_39</th>\n",
       "      <td>1007</td>\n",
       "      <td>1007_39</td>\n",
       "      <td>1007_40</td>\n",
       "      <td>1007_4</td>\n",
       "      <td>1</td>\n",
       "      <td>1</td>\n",
       "      <td>1</td>\n",
       "      <td>2</td>\n",
       "      <td>1</td>\n",
       "      <td>1</td>\n",
       "      <td>...</td>\n",
       "      <td>1</td>\n",
       "      <td>1</td>\n",
       "      <td>2</td>\n",
       "      <td>2</td>\n",
       "      <td>1</td>\n",
       "      <td>1</td>\n",
       "      <td>1</td>\n",
       "      <td>1</td>\n",
       "      <td>1</td>\n",
       "      <td>1</td>\n",
       "    </tr>\n",
       "  </tbody>\n",
       "</table>\n",
       "<p>9 rows × 9548 columns</p>\n",
       "</div>"
      ],
      "text/plain": [
       "          fid      iid   fathid  mothid  sex  ad  V6-43622586_A0  \\\n",
       "1007_1   1007   1007_1        0       0    1   0               2   \n",
       "1007_2   1007   1007_2        0       0    2   0               1   \n",
       "1007_40  1007  1007_40        0       0    1   0               2   \n",
       "1007_99  1007  1007_99   1007_1  1007_2    2   2               1   \n",
       "1007_5   1007   1007_5   1007_1  1007_2    2   2               1   \n",
       "1007_3   1007   1007_3   1007_1  1007_2    1   2               1   \n",
       "1007_6   1007   1007_6   1007_1  1007_2    2   2               1   \n",
       "1007_4   1007   1007_4   1007_1  1007_2    2   0               1   \n",
       "1007_39  1007  1007_39  1007_40  1007_4    1   1               1   \n",
       "\n",
       "         V6-43622586_A1  V17-43622964_A0  V17-43622964_A1  ...  \\\n",
       "1007_1                2                2                2  ...   \n",
       "1007_2                1                1                1  ...   \n",
       "1007_40               0                1                0  ...   \n",
       "1007_99               2                1                2  ...   \n",
       "1007_5                2                1                2  ...   \n",
       "1007_3                2                1                2  ...   \n",
       "1007_6                2                1                2  ...   \n",
       "1007_4                2                1                2  ...   \n",
       "1007_39               2                1                1  ...   \n",
       "\n",
       "         V930-45642984_A0  V930-45642984_A1  V957-45644269_A0  \\\n",
       "1007_1                  1                 2                 1   \n",
       "1007_2                  1                 1                 1   \n",
       "1007_40                 1                 0                 2   \n",
       "1007_99                 1                 1                 2   \n",
       "1007_5                  1                 2                 2   \n",
       "1007_3                  1                 1                 1   \n",
       "1007_6                  1                 1                 1   \n",
       "1007_4                  1                 1                 2   \n",
       "1007_39                 1                 1                 2   \n",
       "\n",
       "         V957-45644269_A1  V965-45644454_A0  V965-45644454_A1  \\\n",
       "1007_1                  1                 1                 2   \n",
       "1007_2                  2                 1                 1   \n",
       "1007_40                 0                 1                 0   \n",
       "1007_99                 1                 1                 1   \n",
       "1007_5                  1                 1                 2   \n",
       "1007_3                  1                 1                 1   \n",
       "1007_6                  1                 1                 1   \n",
       "1007_4                  1                 1                 1   \n",
       "1007_39                 2                 1                 1   \n",
       "\n",
       "         V975-45644979_A0  V975-45644979_A1  V978-45645128_A0  \\\n",
       "1007_1                  2                 1                 2   \n",
       "1007_2                  2                 1                 2   \n",
       "1007_40                 1                 0                 1   \n",
       "1007_99                 1                 1                 1   \n",
       "1007_5                  1                 1                 1   \n",
       "1007_3                  2                 2                 2   \n",
       "1007_6                  2                 2                 2   \n",
       "1007_4                  1                 2                 1   \n",
       "1007_39                 1                 1                 1   \n",
       "\n",
       "         V978-45645128_A1  \n",
       "1007_1                  1  \n",
       "1007_2                  1  \n",
       "1007_40                 0  \n",
       "1007_99                 1  \n",
       "1007_5                  2  \n",
       "1007_3                  2  \n",
       "1007_6                  2  \n",
       "1007_4                  2  \n",
       "1007_39                 1  \n",
       "\n",
       "[9 rows x 9548 columns]"
      ]
     },
     "execution_count": null,
     "metadata": {},
     "output_type": "execute_result"
    }
   ],
   "source": [
    "gene_fam_haps['1007'].iloc[:,~gene_fam_haps['1007'].columns.duplicated()]"
   ]
  },
  {
   "cell_type": "code",
   "execution_count": null,
   "id": "413be1b3-9c9a-465c-a504-b6da8db0ada7",
   "metadata": {},
   "outputs": [],
   "source": [
    "tmp1['1010']"
   ]
  },
  {
   "cell_type": "code",
   "execution_count": null,
   "id": "e91c248f-3b8a-4815-b6a4-23c2cdefefe5",
   "metadata": {},
   "outputs": [
    {
     "name": "stdout",
     "output_type": "stream",
     "text": [
      "          V39-44907853_A0  V39-44907853_A1\n",
      "4_146_1                 2                1\n",
      "4_146_2                 1                1\n",
      "4_146_99                1                2\n",
      "4_146_7                 1                1\n",
      "4_146_6                 1                2\n",
      "4_146_3                 1                2\n"
     ]
    }
   ],
   "source": [
    "for h in apoe_haps:\n",
    "    if h.shape[1]<3:\n",
    "        print(h)"
   ]
  },
  {
   "cell_type": "code",
   "execution_count": null,
   "id": "aab29818-21ce-467b-bd3f-4e2768ab0d07",
   "metadata": {},
   "outputs": [],
   "source": [
    "from functools import reduce\n",
    "apoe_haps_all = reduce(lambda x, y: pd.merge(x, y, how = 'outer',left_index=True,right_index=True), [h.T for h in apoe_haps])"
   ]
  },
  {
   "cell_type": "code",
   "execution_count": null,
   "id": "b7f53927-3bef-4171-ac94-36e1ea1eca65",
   "metadata": {},
   "outputs": [],
   "source": [
    "apoe_haps_all = apoe_haps_all.T"
   ]
  },
  {
   "cell_type": "code",
   "execution_count": null,
   "id": "5380a269-e0f7-4abb-bef0-6c4b04d1c672",
   "metadata": {},
   "outputs": [
    {
     "data": {
      "text/plain": [
       "(2141, 82)"
      ]
     },
     "execution_count": null,
     "metadata": {},
     "output_type": "execute_result"
    }
   ],
   "source": [
    "apoe_haps_all.shape"
   ]
  },
  {
   "cell_type": "code",
   "execution_count": null,
   "id": "c5482743-15d0-44c5-b861-81659a7a02b4",
   "metadata": {},
   "outputs": [
    {
     "ename": "TypeError",
     "evalue": "merge() missing 1 required positional argument: 'right'",
     "output_type": "error",
     "traceback": [
      "\u001b[0;31m---------------------------------------------------------------------------\u001b[0m",
      "\u001b[0;31mTypeError\u001b[0m                                 Traceback (most recent call last)",
      "\u001b[0;32m/tmp/2206534.1.plot.q/ipykernel_12210/1075946108.py\u001b[0m in \u001b[0;36m<module>\u001b[0;34m\u001b[0m\n\u001b[0;32m----> 1\u001b[0;31m \u001b[0mpd\u001b[0m\u001b[0;34m.\u001b[0m\u001b[0mmerge\u001b[0m\u001b[0;34m(\u001b[0m\u001b[0;34m[\u001b[0m\u001b[0mh\u001b[0m\u001b[0;34m.\u001b[0m\u001b[0mT\u001b[0m \u001b[0;32mfor\u001b[0m \u001b[0mh\u001b[0m \u001b[0;32min\u001b[0m \u001b[0mapoe_haps\u001b[0m\u001b[0;34m[\u001b[0m\u001b[0;34m:\u001b[0m\u001b[0;36m3\u001b[0m\u001b[0;34m]\u001b[0m\u001b[0;34m]\u001b[0m\u001b[0;34m,\u001b[0m\u001b[0mhow\u001b[0m\u001b[0;34m=\u001b[0m\u001b[0;34m'outer'\u001b[0m\u001b[0;34m)\u001b[0m\u001b[0;34m\u001b[0m\u001b[0;34m\u001b[0m\u001b[0m\n\u001b[0m",
      "\u001b[0;31mTypeError\u001b[0m: merge() missing 1 required positional argument: 'right'"
     ]
    }
   ],
   "source": [
    "pd.merge([h.T for h in apoe_haps[:3]],how='outer')"
   ]
  },
  {
   "cell_type": "code",
   "execution_count": null,
   "id": "307b969b-56f0-4297-bb02-4651f2632240",
   "metadata": {},
   "outputs": [
    {
     "data": {
      "text/html": [
       "<div>\n",
       "<style scoped>\n",
       "    .dataframe tbody tr th:only-of-type {\n",
       "        vertical-align: middle;\n",
       "    }\n",
       "\n",
       "    .dataframe tbody tr th {\n",
       "        vertical-align: top;\n",
       "    }\n",
       "\n",
       "    .dataframe thead th {\n",
       "        text-align: right;\n",
       "    }\n",
       "</style>\n",
       "<table border=\"1\" class=\"dataframe\">\n",
       "  <thead>\n",
       "    <tr style=\"text-align: right;\">\n",
       "      <th></th>\n",
       "      <th>990_1</th>\n",
       "      <th>990_2</th>\n",
       "      <th>990_99</th>\n",
       "      <th>990_12</th>\n",
       "    </tr>\n",
       "  </thead>\n",
       "  <tbody>\n",
       "    <tr>\n",
       "      <th>V5-44906026_A0</th>\n",
       "      <td>1</td>\n",
       "      <td>1</td>\n",
       "      <td>1</td>\n",
       "      <td>1</td>\n",
       "    </tr>\n",
       "    <tr>\n",
       "      <th>V5-44906026_A1</th>\n",
       "      <td>2</td>\n",
       "      <td>1</td>\n",
       "      <td>1</td>\n",
       "      <td>2</td>\n",
       "    </tr>\n",
       "    <tr>\n",
       "      <th>V25-44907187_A0</th>\n",
       "      <td>1</td>\n",
       "      <td>2</td>\n",
       "      <td>2</td>\n",
       "      <td>2</td>\n",
       "    </tr>\n",
       "    <tr>\n",
       "      <th>V25-44907187_A1</th>\n",
       "      <td>2</td>\n",
       "      <td>2</td>\n",
       "      <td>1</td>\n",
       "      <td>2</td>\n",
       "    </tr>\n",
       "    <tr>\n",
       "      <th>V49-44908684_A0</th>\n",
       "      <td>2</td>\n",
       "      <td>1</td>\n",
       "      <td>1</td>\n",
       "      <td>1</td>\n",
       "    </tr>\n",
       "    <tr>\n",
       "      <th>V49-44908684_A1</th>\n",
       "      <td>1</td>\n",
       "      <td>1</td>\n",
       "      <td>2</td>\n",
       "      <td>1</td>\n",
       "    </tr>\n",
       "    <tr>\n",
       "      <th>V58-44909186_A0</th>\n",
       "      <td>1</td>\n",
       "      <td>1</td>\n",
       "      <td>1</td>\n",
       "      <td>1</td>\n",
       "    </tr>\n",
       "    <tr>\n",
       "      <th>V58-44909186_A1</th>\n",
       "      <td>2</td>\n",
       "      <td>1</td>\n",
       "      <td>1</td>\n",
       "      <td>2</td>\n",
       "    </tr>\n",
       "  </tbody>\n",
       "</table>\n",
       "</div>"
      ],
      "text/plain": [
       "                 990_1  990_2  990_99  990_12\n",
       "V5-44906026_A0       1      1       1       1\n",
       "V5-44906026_A1       2      1       1       2\n",
       "V25-44907187_A0      1      2       2       2\n",
       "V25-44907187_A1      2      2       1       2\n",
       "V49-44908684_A0      2      1       1       1\n",
       "V49-44908684_A1      1      1       2       1\n",
       "V58-44909186_A0      1      1       1       1\n",
       "V58-44909186_A1      2      1       1       2"
      ]
     },
     "execution_count": null,
     "metadata": {},
     "output_type": "execute_result"
    }
   ],
   "source": [
    "h.T"
   ]
  },
  {
   "cell_type": "markdown",
   "id": "d917901b-3d9d-4a49-8739-9a21b8492c3c",
   "metadata": {},
   "source": [
    "## chr18 pickle3"
   ]
  },
  {
   "cell_type": "code",
   "execution_count": null,
   "id": "e03449c8-bcf8-4918-9b63-114660e73d15",
   "metadata": {},
   "outputs": [],
   "source": [
    "with open('../data/chr18test/tmp/CACHE/chr18test3.pickle', 'rb') as handle:\n",
    "    chr18pkl3 = pickle.load(handle)"
   ]
  },
  {
   "cell_type": "code",
   "execution_count": null,
   "id": "7e4fe553-eadb-4dd2-88a3-425324253a9d",
   "metadata": {},
   "outputs": [],
   "source": [
    "tmp,tmp1 = format_haps(chr18pkl3)"
   ]
  },
  {
   "cell_type": "code",
   "execution_count": null,
   "id": "59af5378-f001-4751-bbc0-b59607ce309c",
   "metadata": {},
   "outputs": [],
   "source": [
    "gene_fam_haps = {}\n",
    "for k,hap in tmp1.items():\n",
    "    gene_fam_haps[k] = pd.concat([fam17.loc[hap.index],hap],axis=1)"
   ]
  },
  {
   "cell_type": "code",
   "execution_count": null,
   "id": "c2958268-36ba-4132-b1e7-1faf1c1d496c",
   "metadata": {},
   "outputs": [],
   "source": [
    "with open('../data/chr18test/chr18pkl3_gene_fam_haps.pickle', 'wb') as handle:\n",
    "        pickle.dump(gene_fam_haps, handle, protocol=pickle.HIGHEST_PROTOCOL)"
   ]
  },
  {
   "cell_type": "code",
   "execution_count": null,
   "id": "a8b2e01d-6ea2-41be-8146-900fe76258fb",
   "metadata": {},
   "outputs": [],
   "source": [
    "with open('../data/chr18test/chr18pkl3_gene_freqs.pickle', 'wb') as handle:\n",
    "        pickle.dump(tmp, handle, protocol=pickle.HIGHEST_PROTOCOL)"
   ]
  },
  {
   "cell_type": "code",
   "execution_count": null,
   "id": "9945e1f4-c32f-486d-915b-59a6baa67b70",
   "metadata": {},
   "outputs": [],
   "source": []
  }
 ],
 "metadata": {
  "kernelspec": {
   "display_name": "Python 3 (ipykernel)",
   "language": "python",
   "name": "python3"
  }
 },
 "nbformat": 4,
 "nbformat_minor": 5
}
