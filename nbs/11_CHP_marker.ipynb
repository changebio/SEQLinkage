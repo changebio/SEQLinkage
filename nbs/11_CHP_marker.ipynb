{
 "cells": [
  {
   "cell_type": "markdown",
   "id": "a6aa8fcd-1481-4c2a-8136-fc57be6f13fe",
   "metadata": {},
   "source": [
    "# CHP marker"
   ]
  },
  {
   "cell_type": "code",
   "execution_count": null,
   "id": "3da3cc8e-6a41-4373-b3a2-f394f225a0c8",
   "metadata": {},
   "outputs": [],
   "source": [
    "import pandas as pd\n",
    "import numpy as np\n",
    "import pickle\n",
    "from SEQLinkage.linkage import *"
   ]
  },
  {
   "cell_type": "markdown",
   "id": "cd55cad0-ef73-47f1-9672-778271b1e971",
   "metadata": {},
   "source": [
    "### Read fam"
   ]
  },
  {
   "cell_type": "code",
   "execution_count": null,
   "id": "804b7394-c295-46be-aa41-1e42c50b6d59",
   "metadata": {},
   "outputs": [
    {
     "name": "stderr",
     "output_type": "stream",
     "text": [
      "/tmp/2296001.1.high_mem.q/ipykernel_13925/2396333578.py:3: SettingWithCopyWarning: \n",
      "A value is trying to be set on a copy of a slice from a DataFrame\n",
      "\n",
      "See the caveats in the documentation: https://pandas.pydata.org/pandas-docs/stable/user_guide/indexing.html#returning-a-view-versus-a-copy\n",
      "  fam17.ad[fam17.ad==-9]=0\n"
     ]
    }
   ],
   "source": [
    "fam17 = pd.read_csv('../data/new_trim_ped_famless17_no:xx.fam',delim_whitespace=True,header=None,names=['fid','iid','fathid','mothid','sex','ad'])\n",
    "fam17.index = list(fam17.iid)\n",
    "fam17.ad[fam17.ad==-9]=0\n",
    "fam17_d = {}\n",
    "for i in fam17.fid.unique():\n",
    "    fam17_d[i] = fam17[fam17.fid==i]"
   ]
  },
  {
   "cell_type": "code",
   "execution_count": null,
   "id": "87fc03d4-6d84-4a72-98b2-72d2f1ac66cf",
   "metadata": {},
   "outputs": [],
   "source": [
    "with open('../data/wg20220316/chr22test/tmp/CACHE/chr22test0.pickle', 'rb') as handle:\n",
    "    genes = pickle.load(handle)"
   ]
  },
  {
   "cell_type": "code",
   "execution_count": null,
   "id": "6c61829e-4d55-4eec-a682-7859ca0fb852",
   "metadata": {},
   "outputs": [
    {
     "data": {
      "text/plain": [
       "dict_keys(['DUXAP8', 'BMS1P22@3', 'BMS1P17@3,BMS1P18@3', 'PSLNR', 'POTEH', 'POTEH-AS1@2', 'OR11H1', 'CCT8L2', 'TPTEP1', 'ANKRD62P1-PARP4P3', 'LINC01665', 'XKR3', 'HSFY1P1', 'GAB4', 'CECR7', 'IL17RA', 'TMEM121B', 'LINC01664', 'HDHD5', 'HDHD5-AS1', 'ADA2', 'CECR3', 'CECR2', 'LOC101929372', 'ATP6V1E1'])"
      ]
     },
     "execution_count": null,
     "metadata": {},
     "output_type": "execute_result"
    }
   ],
   "source": [
    "genes.keys()"
   ]
  },
  {
   "cell_type": "code",
   "execution_count": null,
   "id": "38b5e7d5-1ab1-4de1-bf17-6037be44fcff",
   "metadata": {},
   "outputs": [],
   "source": [
    "from cstatgen import cstatgen_py3 as cstatgen"
   ]
  },
  {
   "cell_type": "code",
   "execution_count": null,
   "id": "46ee4369-08f3-4b93-ad60-3a06809a3a42",
   "metadata": {},
   "outputs": [],
   "source": [
    "wsize=1\n",
    "coder = cstatgen.HaplotypeCoder(wsize)"
   ]
  },
  {
   "cell_type": "code",
   "execution_count": null,
   "id": "cc42853d-8a38-40be-a04b-95b810091092",
   "metadata": {},
   "outputs": [
    {
     "ename": "NameError",
     "evalue": "name 'chp_haps' is not defined",
     "output_type": "error",
     "traceback": [
      "\u001b[0;31m---------------------------------------------------------------------------\u001b[0m",
      "\u001b[0;31mNameError\u001b[0m                                 Traceback (most recent call last)",
      "Input \u001b[0;32mIn [7]\u001b[0m, in \u001b[0;36m<cell line: 1>\u001b[0;34m()\u001b[0m\n\u001b[0;32m----> 1\u001b[0m coder\u001b[38;5;241m.\u001b[39mExecute([\u001b[43mchp_haps\u001b[49m[\u001b[38;5;241m2\u001b[39m][:,[\u001b[38;5;241m0\u001b[39m,\u001b[38;5;241m1\u001b[39m]\u001b[38;5;241m+\u001b[39m\u001b[38;5;28mlist\u001b[39m(np\u001b[38;5;241m.\u001b[39mwhere(chp_haps[\u001b[38;5;241m1\u001b[39m]\u001b[38;5;241m<\u001b[39m\u001b[38;5;241m0.05\u001b[39m)[\u001b[38;5;241m0\u001b[39m]\u001b[38;5;241m+\u001b[39m\u001b[38;5;241m2\u001b[39m)]], [chp_haps[\u001b[38;5;241m1\u001b[39m][chp_haps[\u001b[38;5;241m1\u001b[39m]\u001b[38;5;241m<\u001b[39m\u001b[38;5;241m0.05\u001b[39m]], [[[]]],\u001b[38;5;28;01mFalse\u001b[39;00m)\n",
      "\u001b[0;31mNameError\u001b[0m: name 'chp_haps' is not defined"
     ]
    }
   ],
   "source": [
    "coder.Execute([chp_haps[2][:,[0,1]+list(np.where(chp_haps[1]<0.05)[0]+2)]], [chp_haps[1][chp_haps[1]<0.05]], [[[]]],False)"
   ]
  },
  {
   "cell_type": "code",
   "execution_count": null,
   "id": "f11a387f-b66c-4292-9f66-50d91b65d84b",
   "metadata": {},
   "outputs": [
    {
     "name": "stdout",
     "output_type": "stream",
     "text": [
      "5 10\n",
      "6 3\n",
      "0 0\n",
      "4 12\n",
      "2 1\n",
      "7 9\n",
      "8 11\n",
      "6 5\n",
      "6 5\n",
      "0 6\n"
     ]
    }
   ],
   "source": [
    "for line in coder.GetHaplotypes():\n",
    "    print(line[2],line[4])"
   ]
  },
  {
   "cell_type": "code",
   "execution_count": null,
   "id": "cc6a8273-d25b-487a-a85a-ea0ee2e8d97c",
   "metadata": {},
   "outputs": [
    {
     "data": {
      "text/plain": [
       "(('989',\n",
       "  '989_1',\n",
       "  '5',\n",
       "  '2112211111111111111111112111111111111111111212212222111221112122',\n",
       "  '10',\n",
       "  '1121122121111112222112221212212222111222121111121111111111111111'),\n",
       " ('989',\n",
       "  '989_2',\n",
       "  '6',\n",
       "  '1111111111111222212211111121121111222111112121111111222212211111',\n",
       "  '3',\n",
       "  '1211111212222111111121111112211111111111211111111111111111121211'),\n",
       " ('989', '989_29', '0', 'NULL', '0', 'NULL'),\n",
       " ('989',\n",
       "  '989_99',\n",
       "  '4',\n",
       "  '1111111111111221111121111122121111211111112121111111221111121211',\n",
       "  '12',\n",
       "  '2121122121111112222112222111112222111222121112212222111211111122'),\n",
       " ('989',\n",
       "  '989_24',\n",
       "  '2',\n",
       "  '1111111111111111111111111111111111111111211111111111111111111111',\n",
       "  '1',\n",
       "  '1111111111111111111111111111111111111111111111111111111111111111'),\n",
       " ('989',\n",
       "  '989_10',\n",
       "  '7',\n",
       "  '1211111111122112212121111121221111111111112121111111222212211211',\n",
       "  '9',\n",
       "  '1112211111111111111112222211211222111221111212121222111111111122'),\n",
       " ('989',\n",
       "  '989_8',\n",
       "  '8',\n",
       "  '1111111212211222212221111121121111222111112121111111221111111111',\n",
       "  '11',\n",
       "  '2121122121111111111112222112111222111222121112212222111221112122'),\n",
       " ('989',\n",
       "  '989_7',\n",
       "  '6',\n",
       "  '1111111111111222212211111121121111222111112121111111222212211111',\n",
       "  '5',\n",
       "  '2112211111111111111111112111111111111111111212212222111221112122'),\n",
       " ('989',\n",
       "  '989_6',\n",
       "  '6',\n",
       "  '1111111111111222212211111121121111222111112121111111222212211111',\n",
       "  '5',\n",
       "  '2112211111111111111111112111111111111111111212212222111221112122'),\n",
       " ('989',\n",
       "  '989_30',\n",
       "  '0',\n",
       "  'NULL',\n",
       "  '6',\n",
       "  '1111111111111222212211111121121111222111112121111111222212211111'))"
      ]
     },
     "execution_count": null,
     "metadata": {},
     "output_type": "execute_result"
    }
   ],
   "source": [
    "coder.GetHaplotypes()"
   ]
  },
  {
   "cell_type": "code",
   "execution_count": null,
   "id": "2c0b6f0b-9f39-474d-9488-2f7834c1c470",
   "metadata": {},
   "outputs": [],
   "source": [
    "coder.Execute([chp_haps[2][:,[0,1]+list(np.where(chp_haps[1]<0.05)[0]+2)]], [chp_haps[1][chp_haps[1]<0.05]], [[[]]],True)"
   ]
  },
  {
   "cell_type": "code",
   "execution_count": null,
   "id": "ad66e65b-6900-47aa-b066-d84a3b897edb",
   "metadata": {},
   "outputs": [
    {
     "data": {
      "text/plain": [
       "(('989',\n",
       "  '989_1',\n",
       "  '2,3,1,1,1,1,1,1,1,1,1,2,1,1,1,1,1,1,1,1,2,1,2,2,1,4,1,2,2,1,4',\n",
       "  '21,122,11,111,111,11,1111,1,1,11,1,2,11,1,11,1111,1,1111,111,1,2,1,2,2,1,222211,1,2,211,1,2122',\n",
       "  '1,2,2,2,1,1,3,1,1,2,2,1,2,2,2,3,1,2,3,1,1,1,1,1,2,1,1,1,1,1,1',\n",
       "  '11,211,22,121,111,11,2222,1,1,22,2,1,21,2,21,2222,1,1122,212,1,1,1,1,1,2,111111,1,1,111,1,1111'),\n",
       " ('989',\n",
       "  '989_2',\n",
       "  '1,1,1,1,1,2,2,2,1,1,1,1,3,1,3,1,2,3,1,2,1,2,1,1,1,2,2,2,3,1,1',\n",
       "  '11,111,11,111,111,22,2212,2,1,11,1,1,12,1,12,1111,2,2211,111,2,1,2,1,1,1,111122,2,2,122,1,1111',\n",
       "  '3,1,1,3,4,1,1,1,2,1,1,1,1,2,2,1,1,1,2,1,1,1,1,1,1,1,1,1,1,2,2',\n",
       "  '12,111,11,212,222,11,1111,1,2,11,1,1,11,2,21,1111,1,1111,121,1,1,1,1,1,1,111111,1,1,111,2,1211'),\n",
       " ('989',\n",
       "  '989_29',\n",
       "  '0,0,0,0,0,0,0,0,0,0,0,0,0,0,0,0,0,0,0,0,0,0,0,0,0,0,0,0,0,0,0',\n",
       "  'NULL,NULL,NULL,NULL,NULL,NULL,NULL,NULL,NULL,NULL,NULL,NULL,NULL,NULL,NULL,NULL,NULL,NULL,NULL,NULL,NULL,NULL,NULL,NULL,NULL,NULL,NULL,NULL,NULL,NULL,NULL',\n",
       "  '0,0,0,0,0,0,0,0,0,0,0,0,0,0,0,0,0,0,0,0,0,0,0,0,0,0,0,0,0,0,0',\n",
       "  'NULL,NULL,NULL,NULL,NULL,NULL,NULL,NULL,NULL,NULL,NULL,NULL,NULL,NULL,NULL,NULL,NULL,NULL,NULL,NULL,NULL,NULL,NULL,NULL,NULL,NULL,NULL,NULL,NULL,NULL,NULL'),\n",
       " ('989',\n",
       "  '989_99',\n",
       "  '1,1,1,1,1,2,1,1,2,1,1,1,3,2,3,1,2,1,1,2,1,2,1,1,1,2,1,1,1,2,2',\n",
       "  '11,111,11,111,111,22,1111,1,2,11,1,1,12,2,12,1111,2,1111,111,2,1,2,1,1,1,111122,1,1,111,2,1211',\n",
       "  '2,2,2,2,1,1,3,1,1,2,2,2,1,1,1,3,1,2,3,1,1,1,2,2,1,4,1,2,1,1,3',\n",
       "  '21,211,22,121,111,11,2222,1,1,22,2,2,11,1,11,2222,1,1122,212,1,1,1,2,2,1,222211,1,2,111,1,1122'),\n",
       " ('989',\n",
       "  '989_24',\n",
       "  '1,1,1,1,1,1,1,1,1,1,1,1,1,1,1,1,1,1,2,1,1,1,1,1,1,1,1,1,1,1,1',\n",
       "  '11,111,11,111,111,11,1111,1,1,11,1,1,11,1,11,1111,1,1111,121,1,1,1,1,1,1,111111,1,1,111,1,1111',\n",
       "  '1,1,1,1,1,1,1,1,1,1,1,1,1,1,1,1,1,1,1,1,1,1,1,1,1,1,1,1,1,1,1',\n",
       "  '11,111,11,111,111,11,1111,1,1,11,1,1,11,1,11,1111,1,1111,111,1,1,1,1,1,1,111111,1,1,111,1,1111'),\n",
       " ('989',\n",
       "  '989_10',\n",
       "  '3,1,1,1,3,1,2,1,2,1,1,1,3,1,4,1,1,1,1,2,1,2,1,1,1,2,2,2,3,1,2',\n",
       "  '12,111,11,111,122,11,2212,1,2,11,1,1,12,1,22,1111,1,1111,111,2,1,2,1,1,1,111122,2,2,122,1,1211',\n",
       "  '1,3,1,1,1,1,1,1,1,2,2,2,2,1,2,2,1,2,1,1,2,1,2,1,2,3,1,1,1,1,3',\n",
       "  '11,122,11,111,111,11,1111,1,1,22,2,2,21,1,21,1222,1,1122,111,1,2,1,2,1,2,122211,1,1,111,1,1122'),\n",
       " ('989',\n",
       "  '989_8',\n",
       "  '1,1,1,3,2,2,2,2,2,1,1,1,3,1,3,1,2,3,1,2,1,2,1,1,1,2,1,1,1,1,1',\n",
       "  '11,111,11,212,211,22,2212,2,2,11,1,1,12,1,12,1111,2,2211,111,2,1,2,1,1,1,111122,1,1,111,1,1111',\n",
       "  '2,2,2,2,1,1,1,1,1,2,2,2,1,2,1,2,1,2,3,1,1,1,2,2,1,4,1,2,2,1,4',\n",
       "  '21,211,22,121,111,11,1111,1,1,22,2,2,11,2,11,1222,1,1122,212,1,1,1,2,2,1,222211,1,2,211,1,2122'),\n",
       " ('989',\n",
       "  '989_7',\n",
       "  '1,1,1,1,1,2,2,2,1,1,1,1,3,1,3,1,2,3,1,2,1,2,1,1,1,2,2,2,3,1,1',\n",
       "  '11,111,11,111,111,22,2212,2,1,11,1,1,12,1,12,1111,2,2211,111,2,1,2,1,1,1,111122,2,2,122,1,1111',\n",
       "  '2,3,1,1,1,1,1,1,1,1,1,2,1,1,1,1,1,1,1,1,2,1,2,2,1,4,1,2,2,1,4',\n",
       "  '21,122,11,111,111,11,1111,1,1,11,1,2,11,1,11,1111,1,1111,111,1,2,1,2,2,1,222211,1,2,211,1,2122'),\n",
       " ('989',\n",
       "  '989_6',\n",
       "  '1,1,1,1,1,2,2,2,1,1,1,1,3,1,3,1,2,3,1,2,1,2,1,1,1,2,2,2,3,1,1',\n",
       "  '11,111,11,111,111,22,2212,2,1,11,1,1,12,1,12,1111,2,2211,111,2,1,2,1,1,1,111122,2,2,122,1,1111',\n",
       "  '2,3,1,1,1,1,1,1,1,1,1,2,1,1,1,1,1,1,1,1,2,1,2,2,1,4,1,2,2,1,4',\n",
       "  '21,122,11,111,111,11,1111,1,1,11,1,2,11,1,11,1111,1,1111,111,1,2,1,2,2,1,222211,1,2,211,1,2122'),\n",
       " ('989',\n",
       "  '989_30',\n",
       "  '0,0,0,0,0,0,0,0,0,0,0,0,0,0,0,0,0,0,0,0,0,0,0,0,0,0,0,0,0,0,0',\n",
       "  'NULL,NULL,NULL,NULL,NULL,NULL,NULL,NULL,NULL,NULL,NULL,NULL,NULL,NULL,NULL,NULL,NULL,NULL,NULL,NULL,NULL,NULL,NULL,NULL,NULL,NULL,NULL,NULL,NULL,NULL,NULL',\n",
       "  '1,1,1,1,1,2,2,2,1,1,1,1,3,1,3,1,2,3,1,2,1,2,1,1,1,2,2,2,3,1,1',\n",
       "  '11,111,11,111,111,22,2212,2,1,11,1,1,12,1,12,1111,2,2211,111,2,1,2,1,1,1,111122,2,2,122,1,1111'))"
      ]
     },
     "execution_count": null,
     "metadata": {},
     "output_type": "execute_result"
    }
   ],
   "source": [
    "coder.GetHaplotypes()"
   ]
  },
  {
   "cell_type": "code",
   "execution_count": null,
   "id": "d917acbd-7fb3-4148-bddb-2d28b440edf9",
   "metadata": {},
   "outputs": [],
   "source": [
    "def count_recomb(chp_haps):\n",
    "    coder.Execute([chp_haps[2][:,[0,1]+list(np.where(chp_haps[1]<0.05)[0]+2)]], [chp_haps[1][chp_haps[1]<0.05]], [[[]]],True)\n",
    "    return len(coder.GetHaplotypes()[0][2].split(','))"
   ]
  },
  {
   "cell_type": "code",
   "execution_count": null,
   "id": "bb06030f-b718-4491-bca7-ba996c5b12d3",
   "metadata": {},
   "outputs": [],
   "source": [
    "def count_recomb1(chp_haps,cutoff=3):\n",
    "    coder.Execute([chp_haps[2][:,[0,1]+list(np.where(chp_haps[1]<0.05)[0]+2)]], [chp_haps[1][chp_haps[1]<0.05]], [[[]]],True)\n",
    "    if len(coder.GetHaplotypes()[0][2].split(','))<=3:\n",
    "        print(coder.GetHaplotypes()[0])"
   ]
  },
  {
   "cell_type": "code",
   "execution_count": null,
   "id": "84a81863-915f-4c41-b7bf-1c398df71df9",
   "metadata": {},
   "outputs": [],
   "source": [
    "tmp = []\n",
    "for i in genes['TPTEP1']['predata'].values():\n",
    "    tmp.append(count_recomb(i))"
   ]
  },
  {
   "cell_type": "code",
   "execution_count": null,
   "id": "1b9f36fb-07b0-488c-8bf2-bfe3f2063578",
   "metadata": {},
   "outputs": [
    {
     "data": {
      "text/plain": [
       "0.4551148225469729"
      ]
     },
     "execution_count": null,
     "metadata": {},
     "output_type": "execute_result"
    }
   ],
   "source": [
    "sum(pd.Series(tmp)<3)/len(tmp)"
   ]
  },
  {
   "cell_type": "code",
   "execution_count": null,
   "id": "f649c8f2-64bf-4715-9493-f3e001524198",
   "metadata": {},
   "outputs": [
    {
     "data": {
      "text/plain": [
       "<AxesSubplot:>"
      ]
     },
     "execution_count": null,
     "metadata": {},
     "output_type": "execute_result"
    },
    {
     "data": {
      "image/png": "[encoded data removed]",
      "text/plain": [
       "<Figure size 432x288 with 1 Axes>"
      ]
     },
     "metadata": {
      "needs_background": "light"
     },
     "output_type": "display_data"
    }
   ],
   "source": [
    "pd.Series(tmp).hist()"
   ]
  },
  {
   "cell_type": "code",
   "execution_count": null,
   "id": "848fd30b-6db1-4e10-bd62-b1eaa1301b04",
   "metadata": {},
   "outputs": [
    {
     "name": "stdout",
     "output_type": "stream",
     "text": [
      "('1033', '1033_1', '3', '22222222221', '2', '11111111112')\n",
      "('1036', '1036_1', '4', '122121221111', '0', 'NULL')\n",
      "('10J_103', '10J_103_3', '2', '222222121222212222212222222222222', '0', 'NULL')\n",
      "('10J_119', '10J_119_2', '3', '222111212211', '0', 'NULL')\n",
      "('10J_121', '10J_121_2', '3', '22211222222', '2', '11122111111')\n",
      "('10J_131', '10J_131_3', '2', '11112', '3', '22221')\n",
      "('10J_89', '10J_89_2', '3', '11222', '0', 'NULL')\n",
      "('10R_R105', '10R_R105_6', '1,4', '1,1122', '1,1', '1,1111')\n",
      "('10R_R16', '10R_R16_15', '2', '11122111', '3', '11111212')\n",
      "('10R_R4', '10R_R4_10', '2', '222111222111', '3', '111222111222')\n",
      "('10R_R66', '10R_R66_3', '2', '1111111111121', '5', '1222211211111')\n",
      "('10R_R87', '10R_R87_3', '3', '2211212', '2', '1122121')\n",
      "('1137', '1137_1', '2', '111111111111111111121211112', '6', '121212221122112221111111111')\n",
      "('11_15', '11_15_15.101', '3', '2212211', '1', '1111111')\n",
      "('11_19', '11_19_19.101', '1', '11111111', '0', 'NULL')\n",
      "('1252', '1252_1', '3', '1111111221', '4', '1122112111')\n",
      "('1277', '1277_2', '4', '111111111111112111111111112111211111', '1', '111111111111111111111111111111111111')\n",
      "('1317', '1317_3', '3', '122111111121111111111112221', '4', '211222222212222222222221112')\n",
      "('1403', '1403_1', '4', '12112212222221212222212222112', '1', '11111111111111111111111111111')\n",
      "('14_1658', '14_1658_102', '2', '111112111111112211112', '3', '111111121111121112211')\n",
      "('14_TJ', '14_TJ_1', '4', '2211211222112', '0', 'NULL')\n",
      "('150', '150_1', '3', '222222212111221222222222222', '0', 'NULL')\n",
      "('15_10052', '15_10052_13368090', '1,1', '11111,1111111', '1,4', '11111,1122221')\n",
      "('15_1121', '15_1121_51313787', '2', '1221221211', '3', '2112112122')\n",
      "('15_12091', '15_12091_4674458', '0', 'NULL', '0', 'NULL')\n",
      "('15_2131', '15_2131_3668522', '0', 'NULL', '0', 'NULL')\n",
      "('15_3111', '15_3111_25811383', '3', '122121111121', '4', '211212222212')\n",
      "('15_7051', '15_7051_63315934', '2,2,1', '2,1112121,1', '1,3,1', '1,1111212,1')\n",
      "('15_7053', '15_7053_24013397', '2', '211', '3', '122')\n",
      "('15_9044', '15_9044_4558977', '0', 'NULL', '0', 'NULL')\n",
      "('15_9052', '15_9052_77854343', '2', '1111211111121111112211111', '3', '2221122222212222221122222')\n",
      "('15_9053', '15_9053_36420989', '3', '222222222212222122122', '2', '111111111121111211211')\n",
      "('161', '161_1', '2,9,0', '111211111111,2111221121211222,NULL', '4,3,2', '222112212222,1211111211111111,1221121111')\n",
      "('173', '173_1', '2', '11221', '4', '22112')\n",
      "('1731', '1731_1', '0,1', 'NULL,1', '0,1', 'NULL,1')\n",
      "('175', '175_16', '3', '1111112111211111111212111121', '4', '2222221222122222222121222212')\n",
      "('1783', '1783_1', '3,2,2', '1111212111121221,12,1112111111111', '4,1,3', '2222121221212111,11,2221222222222')\n",
      "('17_13', '17_13_5', '2', '11111111112', '1', '11111111111')\n",
      "('17_15', '17_15_11', '2', '1212111111121111121111111111111112111111111111111111111', '0', 'NULL')\n",
      "('17_17', '17_17_5', '1', '111111111111111111111111111111111111111111', '2', '112111111121211121111112211112212222121111')\n",
      "('17_5', '17_5_5', '6,2', '2222111222212112221122222222222,2222', '4,1', '1111121111121211112211111111111,1111')\n",
      "('1858', '1858_1', '1', '111111111111111111111111111', '5', '212212222222222222121222122')\n",
      "('191', '191_21', '3', '2222112212221', '2', '1111221121111')\n",
      "('1928', '1928_1', '3,1', '1122111,1', '1,1', '1111111,1')\n",
      "('19_L0010', '19_L0010_L0010D', '2', '12211', '3', '21122')\n",
      "('19_L0030', '19_L0030_L0030D', '0', 'NULL', '0', 'NULL')\n",
      "('19_L008', '19_L008_L008F', '2', '2221112', '0', 'NULL')\n",
      "('2', '2_23', '4', '222212211122221221212221222222212211122212', '3', '111121112111112112121112111111111122111121')\n",
      "('20', '20_1', '6', '2212122211121221212221222111212', '5', '1121211121212112111111111111121')\n",
      "('203', '203_1', '2', '111111211111111111111211111111111111', '0', 'NULL')\n",
      "('2129', '2129_1', '6', '2212221121111111111112122112', '5', '1121111112112211111121111111')\n",
      "('216', '216_26', '2', '1111111112212111111112111111111111111111111111221111111', '0', 'NULL')\n",
      "('21_ND128', '21_ND128_10', '2', '11122122', '3', '22211211')\n",
      "('21_ND386', '21_ND386_7', '2', '22221111', '3', '11112222')\n",
      "('221', '221_1', '5', '222221221112121111121222221', '3', '111111112121211121112111111')\n",
      "('242', '242_1', '3', '1122222221122121222211121222', '2', '2211111112111212111122212111')\n",
      "('25_30', '25_30_700a', '3', '1121112221121', '0', 'NULL')\n",
      "('25_37', '25_37_940a', '0', 'NULL', '0', 'NULL')\n",
      "('25_41', '25_41_1110', '1,1', '11111,11', '3,2', '12211,21')\n",
      "('25_42', '25_42_1145a', '3', '21221', '0', 'NULL')\n",
      "('25_5', '25_5_100', '2', '21121', '3', '12212')\n",
      "('25_62', '25_62_1804', '2', '122122111211', '3', '211211222122')\n",
      "('25_67', '25_67_1970', '2', '111112111121111211', '3', '222221221112222122')\n",
      "('25_68', '25_68_2012', '1,3,1', '11,1111122,111', '1,2,5', '11,1121111,221')\n",
      "('25_69', '25_69_2022a', '2,2', '1112,1112', '1,3', '1111,1121')\n",
      "('25_70', '25_70_2043a', '0', 'NULL', '0', 'NULL')\n",
      "('25_71', '25_71_2074', '3', '211221212', '2', '122112121')\n",
      "('25_72', '25_72_2094a', '2', '1112111121111', '0', 'NULL')\n",
      "('25_73', '25_73_2208', '5', '111221212111211221211', '2', '211112111111211111111')\n",
      "('25_76', '25_76_2305', '4', '122222222222122222222212', '2', '211111111111211111111121')\n",
      "('25_78', '25_78_2405a', '5,2', '211111112121211211112111111,121', '0,0', 'NULL,NULL')\n",
      "('25_80', '25_80_2449', '2', '12', '3', '21')\n",
      "('25_81', '25_81_2469', '2', '1212211', '3', '2121122')\n",
      "('26_AMC', '26_AMC_AMC08809', '3', '2212222', '1', '1121111')\n",
      "('26_BDU', '26_BDU_BDU98206', '2', '1211222211', '3', '2122111122')\n",
      "('26_BES', '26_BES_BES23010', '3', '1111111222211222121122212222221112', '2', '2222222111122111212211121111112221')\n",
      "('26_BPC', '26_BPC_BPC82822', '4,4', '11121211,2212', '2,1', '11111112,1111')\n",
      "('26_BSR', '26_BSR_BSR95604', '2', '22111122111121', '3', '11222211222212')\n",
      "('26_CBL', '26_CBL_CBL12410', '2', '111111111111122111111111111', '3', '222222222222211222222222222')\n",
      "('26_CJE', '26_CJE_CJE43402', '1,1', '1111111111111111111111111,1111111111111111111111', '5,1', '2222222221112212222222122,1111111111111111111111')\n",
      "('26_CRO', '26_CRO_CRO99405', '3,2', '11212,211111', '2,4', '21111,111122')\n",
      "('26_EL', '26_EL_EL17820', '2', '1121', '3', '2212')\n",
      "('26_ERC', '26_ERC_ERC38803', '3,1', '22212,1111121', '2,5', '11121,2112211')\n",
      "('26_FBB', '26_FBB_FBB79604', '1', '11', '0', 'NULL')\n",
      "('26_FSN', '26_FSN_FSN79405', '1,3', '11111,1111211121211', '1,6', '11111,2221112112112')\n",
      "('26_HIC', '26_HIC_HIC38602', '2', '11111112211111', '3', '22222221122222')\n",
      "('26_HOJ', '26_HOJ_HOJ39406', '4,1', '112221,1111111', '5,3', '221112,2122122')\n",
      "('26_HTB', '26_HTB_HTB24409', '2', '1212', '3', '2121')\n",
      "('26_HWN', '26_HWN_HWN10605', '1,2,2', '11,1212111111,2', '2,3,1', '22,2121222222,1')\n",
      "('26_KS', '26_KS_KS3664', '5', '1111111111221212112211111112111', '6', '2222212211111121111121221121221')\n",
      "('26_LCU', '26_LCU_LCU05604', '2', '1221121111122111112121221112121211221', '3', '2112112122211222221212112221212122112')\n",
      "('26_ML', '26_ML_ML42202', '2', '21111221', '3', '12222112')\n",
      "('26_PBO', '26_PBO_PBO03402', '3', '222211122222221', '2', '111122211111112')\n",
      "('26_PH', '26_PH_PH17607', '1,2,3', '1111111,211,11121121', '3,1,6', '2222211,111,12112211')\n",
      "('26_PJH', '26_PJH_PJH11604', '4', '1221112', '5', '2112211')\n",
      "('26_QDH', '26_QDH_QDH18607', '1', '111111111', '0', 'NULL')\n",
      "('26_RBR', '26_RBR_RBR22805', '3', '111111111122211112111', '5', '222121222111111121221')\n",
      "('26_RR', '26_RR_RR13604', '0', 'NULL', '0', 'NULL')\n",
      "('26_SFD', '26_SFD_SFD15007', '1,2,1', '111111,121111,111', '2,3,1', '122211,111211,111')\n",
      "('26_SGA', '26_SGA_SGA31604', '1', '11111111', '2', '11211111')\n",
      "('26_SPH', '26_SPH_SPH52604', '2', '2', '1', '1')\n",
      "('26_SVF', '26_SVF_SVF93604', '4', '212122112111', '3', '121111121221')\n",
      "('26_SWM', '26_SWM_SWM20602', '3', '221', '2', '112')\n",
      "('26_TCC', '26_TCC_TCC65603', '3', '11222122', '0', 'NULL')\n",
      "('26_TRL', '26_TRL_TRL89402', '3', '2221', '2', '1112')\n",
      "('26_WKU', '26_WKU_WKU10205', '4', '121222222212', '3', '212111111121')\n",
      "('278', '278_1', '4', '22112112121211121', '5', '12112212211222212')\n",
      "('27_104', '27_104_84752', '1', '111111111111121', '2', '111111111111211')\n",
      "('27_107', '27_107_84820', '2', '1211211', '3', '2122112')\n",
      "('27_121', '27_121_84958', '3', '221212221', '1', '111121111')\n",
      "('27_122', '27_122_84952', '1', '111111111111', '1', '111111111111')\n",
      "('27_134', '27_134_85109', '2', '1211111', '3', '2122222')\n",
      "('27_136', '27_136_85176', '3', '22121111222', '2', '11212222111')\n",
      "('27_147', '27_147_85343', '3', '2122222', '2', '1211111')\n",
      "('27_177', '27_177_85847', '2', '1112', '3', '2221')\n",
      "('27_239', '27_239_86355', '2,2,1', '2,111112,11111', '1,4,2', '1,222121,21211')\n",
      "('27_25', '27_25_84401', '2', '1121121111111122', '3', '1111212221221111')\n",
      "('27_70', '27_70_84461', '4', '11212222', '2', '11121111')\n",
      "('27_90', '27_90_84574', '2', '2121', '3', '1212')\n",
      "('28_1', '28_1_1', '2', '122121211122', '3', '211212122211')\n",
      "('28_4', '28_4_39', '2,1', '112,11111111', '3,2', '221,11111121')\n",
      "('28_9', '28_9_100', '1,1,1', '11111,111,1', '3,1,1', '22112,111,1')\n",
      "('295', '295_1', '2,1', '111121112,1111', '4,1', '122212121,1111')\n",
      "('2_13', '2_13_9', '2', '21111111', '5', '21122221')\n",
      "('2_17', '2_17_8', '3,3', '2212222122,122', '2,1', '1121111211,111')\n",
      "('2_19', '2_19_2', '3', '22222221211222', '0', 'NULL')\n",
      "('2_20', '2_20_2', '2', '211112221', '3', '122221112')\n",
      "('311', '311_1', '2', '11111111111221212', '0', 'NULL')\n",
      "('319', '319_1', '6', '221122121222211122222222121211212', '2', '111111111111112111111111111111111')\n",
      "('3247', '3247_1', '5,3', '1211222,22122', '2,2', '2111111,11211')\n",
      "('3318', '3318_1', '4', '2222222221122221222221212211', '0', 'NULL')\n",
      "('3324', '3324_7', '3,5', '12121211111211122111211222211112221111212,22122212122212112121111111212212112', '0,4', 'NULL,11122211122212112112211111112212212')\n",
      "('336', '336_10', '4', '2222212112222222122112111212212212221112112', '3', '1111111111111111111211212111111111112211121')\n",
      "('339', '339_9', '2', '1111111111211', '4', '2222222222122')\n",
      "('341', '341_1', '2,2,1', '111112122,111211112,1', '0,0,0', 'NULL,NULL,NULL')\n",
      "('348', '348_1', '2', '12111211112112112121111111', '3', '21222122221221221212122222')\n",
      "('365', '365_1', '1,1', '111,111111111111111111111111111111111111111111', '1,1', '111,111111111111111111111111111111111111111111')\n",
      "('370', '370_1', '2', '111111111111221121111111221', '3', '111221112222111111111111111')\n",
      "('3755', '3755_15', '2', '1112222212122', '0', 'NULL')\n",
      "('3762', '3762_1', '2,4', '2222222,2221111111121111111111111211112111111111211111111', '1,3', '1111111,1112211111111111111111112111111111111111112121111')\n",
      "('3847', '3847_1', '3', '22222221122122221222222', '0', 'NULL')\n",
      "('3851', '3851_1', '1', '11111111112111111111121', '2', '11111111211111111112111')\n",
      "('3894', '3894_1', '3', '1111112111211111111111221111111111111111111121111121111111', '4', '2222221222122222222222112222222222222222222212222212221222')\n",
      "('4', '4_1', '6,7', '1121112221122212112112212221221212121222,21122121211122111212122212211211211121', '1,5', '1111111111111111111111111111111111111111,11111111111111111111111111112122111111')\n",
      "('411', '411_1', '2,8', '11121121,111111221222211222222222111122122211221212122222212222211111122122', '4,1', '22211112,111111111111111111111111111111111111111111111111111111111111111111')\n",
      "('4184', '4184_1', '2', '11111111111122111', '3', '11112211112121111')\n",
      "('440', '440_1', '1', '111111111111111111', '0', 'NULL')\n",
      "('463', '463_1', '3', '22112122122', '2', '11221211211')\n",
      "('490', '490_1', '3', '2221221212', '2', '1112112121')\n",
      "('492', '492_1', '2', '11112112212122', '0', 'NULL')\n",
      "('4_129', '4_129_12', '3', '121212', '2', '112121')\n",
      "('4_146', '4_146_1', '2', '1111221222111222211122211222111122221222122', '0', 'NULL')\n",
      "('4_1836', '4_1836_1', '4,2', '1221,1211111111111111', '2,3', '1112,1111111111112111')\n",
      "('4_220', '4_220_1', '2', '211112', '3', '122211')\n",
      "('4_3741', '4_3741_1', '1', '111111111111', '2', '222222222222')\n",
      "('4_3742', '4_3742_1', '1,1', '1111111,111111111111', '0,0', 'NULL,NULL')\n",
      "('4_3758', '4_3758_13', '3', '22221211', '2', '11112122')\n",
      "('4_3832', '4_3832_1', '1', '11122211211211111111', '3', '12211121122122222212')\n",
      "('4_39', '4_39_1', '1,6', '1111,1121212', '2,2', '2111,1112111')\n",
      "('4_41', '4_41_1', '2', '11111111111111111111111211', '0', 'NULL')\n",
      "('4_429', '4_429_1', '3', '2222222222221122211222222211222212112212', '0', 'NULL')\n",
      "('4_461', '4_461_1', '2', '22', '1', '11')\n",
      "('4_472', '4_472_1', '6', '11111221111112111111221', '4', '21111211111111112211111')\n",
      "('4_499', '4_499_1', '3,3', '11111111111121211111222111,11211111222211111221111111111', '0,0', 'NULL,NULL')\n",
      "('4_512', '4_512_1', '1', '1111111112111111111111111111', '8', '2222221221111111222111121111')\n",
      "('4_549', '4_549_1', '1', '1111111112111111', '8', '2122211111211121')\n",
      "('4_550', '4_550_1', '4', '221112222', '1', '111111111')\n",
      "('4_603', '4_603_1', '1,2', '1111111111,2', '3,1', '2111111212,1')\n",
      "('4_606', '4_606_1', '2,1,2', '2,1,221', '2,2,3', '2,2,212')\n",
      "('4_633', '4_633_1', '3', '122211121', '4', '211122212')\n",
      "('4_653', '4_653_1', '3', '221222122112222', '2', '112111211221111')\n",
      "('4_730', '4_730_1', '1', '11111111111111111111', '4', '22222222212222111222')\n",
      "('4_92', '4_92_1', '1', '1112111', '2', '2111221')\n",
      "('4_947', '4_947_1', '4', '22221211212222111', '2', '11111121111111122')\n",
      "('5', '5_1', '2,2,2', '11111111121,222,1111111111111112111111111111111', '1,1,1', '11111111111,111,1111111111111111111111111111111')\n",
      "('504', '504_1', '3', '1121112211111111111111', '0', 'NULL')\n",
      "('508', '508_32', '2', '1111121121122212121', '3', '2222212211211121212')\n",
      "('524', '524_32', '3', '2221222222222221112222212', '2', '1112111111111112221111121')\n",
      "('525', '525_1', '1,1,2', '1,11111111,1111111111112', '1,3,7', '1,22222222,1222122222111')\n",
      "('540', '540_30', '1', '1111111111111111111111111111', '0', 'NULL')\n",
      "('569', '569_1', '2', '121221122111112111212111111111111112', '0', 'NULL')\n",
      "('577', '577_1', '4', '212222222222222212', '0', 'NULL')\n",
      "('583', '583_1', '4', '222221221221211112222222121222', '2', '111111112112111121111111111111')\n",
      "('587', '587_1', '3', '221', '2', '112')\n",
      "('5_26011', '5_26011_1000', '2', '1211111211', '3', '2122222122')\n",
      "('5_26108', '5_26108_1000', '2,3', '112112,22', '3,1', '221221,11')\n",
      "('5_26177', '5_26177_1000', '2,2', '111221,222', '1,1', '111111,111')\n",
      "('5_26229', '5_26229_100', '2', '2111121', '0', 'NULL')\n",
      "('5_26441', '5_26441_1000', '4', '11111122', '5', '22211211')\n",
      "('616', '616_1', '2', '111111211', '0', 'NULL')\n",
      "('665', '665_1', '4,2', '11111111111111111111111111111212111111111111111111111111111111111,211111111111111111111111111111111111111111111111111111111111111111', '0,9', 'NULL,111112111211111111112111112111122111111111111111121212211211111112')\n",
      "('673', '673_1', '2', '21222122111112', '3', '12111211222221')\n",
      "('682', '682_1', '2', '111112111111111112121111121122111221121211122211212112', '3', '222221222222222221212222212211222112212122211122121221')\n",
      "('686', '686_1', '4', '211111222222', '0', 'NULL')\n",
      "('692', '692_1', '4', '1121211112122111112111121111111111', '0', 'NULL')\n",
      "('696', '696_1', '2', '2112121', '3', '1221212')\n",
      "('6_1541', '6_1541_1', '2', '22111121221112', '0', 'NULL')\n",
      "('723', '723_1', '2', '122212122211112', '0', 'NULL')\n",
      "('724', '724_82', '1,1', '11112211,111', '3,3', '11221112,122')\n",
      "('753', '753_1', '4,2', '1112112121,111111211111111111111', '5,4', '2221211112,222212122222222221222')\n",
      "('754', '754_1', '0', 'NULL', '0', 'NULL')\n",
      "('756', '756_5', '3', '22222222112221111', '0', 'NULL')\n",
      "('767', '767_1', '4', '111212122121111122221222111221121121211222221121122112121112111', '3', '111111111211212111111111111111111111121111111111111111111111111')\n",
      "('772', '772_1', '2', '1111111111111211211121111111111111111111112111', '5', '1111122112222121122112212222212222222222211222')\n",
      "('793', '793_1', '2,2', '1112,1121', '4,3', '1221,1112')\n",
      "('7_111', '7_111_90051', '3', '2212221', '2', '1121112')\n",
      "('7_113', '7_113_90025', '1', '11111', '0', 'NULL')\n",
      "('7_120', '7_120_90039', '1', '1111', '2', '1221')\n",
      "('7_125', '7_125_90065', '4', '12121212122221', '3', '21212121211112')\n",
      "('800', '800_1', '3', '222222212212222122222222222222222', '2', '111111121121111211111111111111111')\n",
      "('838', '838_1', '3', '11122211112111221111111211', '4', '22211121211222112211112121')\n",
      "('850', '850_1', '2,1,3', '2,11111111,222', '1,5,1', '1,11222112,111')\n",
      "('863', '863_1', '4', '22222112211221112112212', '3', '21122111221222112212211')\n",
      "('8_62815', '8_62815_49', '1', '1', '0', 'NULL')\n",
      "('8_62826', '8_62826_57', '1', '1111', '4', '2212')\n",
      "('8_64007', '8_64007_2', '2', '1111112', '0', 'NULL')\n",
      "('8_64009', '8_64009_28', '2', '111112111', '4', '222221212')\n",
      "('8_64010', '8_64010_3', '2', '22111221111', '3', '22111111122')\n",
      "('8_64021', '8_64021_22', '1,3', '1,1121111111112', '2,0', '2,NULL')\n",
      "('8_64023', '8_64023_87', '2,1,1', '2,1,1111111', '1,2,2', '1,2,1121111')\n",
      "('8_64037', '8_64037_2', '0', 'NULL', '0', 'NULL')\n",
      "('8_64039', '8_64039_1', '1,1,1', '11111111111111111111111111111111111111,111111111,111111111111', '8,1,4', '22222212111122211211121112111111112111,111111111,111211112111')\n",
      "('8_64045', '8_64045_17', '2', '22121111111222111', '3', '11212222222111222')\n",
      "('8_64066', '8_64066_21', '1,1', '11,1111', '1,2', '11,1211')\n",
      "('8_64074', '8_64074_19', '3', '22222221222221122', '2', '11111112111112211')\n",
      "('8_64075', '8_64075_2', '5,9', '111221221212222121222,11121111111221222212', '4,3', '222212111111111212111,11111111111112111121')\n",
      "('8_64085', '8_64085_18', '3', '212122212', '2', '121211121')\n",
      "('8_64092', '8_64092_2', '4', '22212211121', '3', '11121122212')\n",
      "('8_64093', '8_64093_3', '4', '222222221121122211', '3', '111111112212211122')\n",
      "('8_64097', '8_64097_2', '2', '2111121212', '0', 'NULL')\n",
      "('8_64099', '8_64099_2', '1,2,1', '1,111121,111', '1,3,2', '1,211111,211')\n",
      "('914', '914_1', '4', '21212121211122211222', '0', 'NULL')\n",
      "('915', '915_1', '5', '2221221221121111211122112111211112121112121211111211121', '4', '1111112111211111111121111111121111111111111122121111111')\n",
      "('937', '937_1', '2', '111111111111121111111111', '4', '222222222222212222222222')\n",
      "('990', '990_1', '4', '22222212222221222111211212211222', '3', '11111121111112111222122121122111')\n"
     ]
    }
   ],
   "source": [
    "for i in genes['TPTEP1']['predata'].values():\n",
    "    count_recomb1(i)"
   ]
  },
  {
   "cell_type": "code",
   "execution_count": null,
   "id": "de6c0e77-8995-4482-bf21-23082c3f8e2f",
   "metadata": {},
   "outputs": [],
   "source": [
    "def get_chp_haps(haps,cutoff=0.05):\n",
    "    new_haps = pd.DataFrame(haps[2][:,2:])\n",
    "    new_haps.index = haps[2][:,1]\n",
    "    new_haps.columns = haps[0]\n",
    "    new_haps=new_haps.loc[:,haps[1]<cutoff]\n",
    "    return new_haps"
   ]
  },
  {
   "cell_type": "code",
   "execution_count": null,
   "id": "c3558240-9de7-406e-a5b6-8532d37e8920",
   "metadata": {},
   "outputs": [],
   "source": [
    "chp_haps=genes['TPTEP1']['predata']['989']"
   ]
  },
  {
   "cell_type": "code",
   "execution_count": null,
   "id": "3f36df60-35d0-4cda-80ec-65493d89aa3a",
   "metadata": {},
   "outputs": [
    {
     "data": {
      "text/plain": [
       "[array([['989', '989_1', '2:', ..., '1:', '2:', 'A2,1:'],\n",
       "        ['989', '989_1', '1:', ..., '1:', '1:', '1:'],\n",
       "        ['989', '989_2', '1:', ..., '1:', '1:', '1:'],\n",
       "        ...,\n",
       "        ['989', '989_6', '2|', ..., '1|', '2|', 'A2,1|'],\n",
       "        ['989', '989_30', '?|', ..., '?|', '?|', '?|'],\n",
       "        ['989', '989_30', '1|', ..., '1|', '1|', '1|']], dtype='<U6')]"
      ]
     },
     "execution_count": null,
     "metadata": {},
     "output_type": "execute_result"
    }
   ],
   "source": [
    "list([chp_haps[2][:,[0,1]+list(np.where(chp_haps[1]<0.05)[0]+2)]])"
   ]
  },
  {
   "cell_type": "code",
   "execution_count": null,
   "id": "a24ab7e9-edf9-4d14-97ea-21840259e14e",
   "metadata": {},
   "outputs": [
    {
     "data": {
      "text/plain": [
       "chr22:16603423:G:A         2:\n",
       "chr22:16603689:C:CT        1:\n",
       "chr22:16607513:CT:C        1:\n",
       "chr22:16608484:T:A         2:\n",
       "chr22:16608728:A:T         2:\n",
       "                        ...  \n",
       "chr22:16644805:G:A         1:\n",
       "chr22:16644880:G:A         2:\n",
       "chr22:16644924:G:T         1:\n",
       "chr22:16645776:CAT:C       2:\n",
       "chr22:16648380:C:T      A2,1:\n",
       "Name: 989_1, Length: 64, dtype: object"
      ]
     },
     "execution_count": null,
     "metadata": {},
     "output_type": "execute_result"
    }
   ],
   "source": [
    "haplotypes\n",
    "chp_haps.iloc[0,:]"
   ]
  },
  {
   "cell_type": "markdown",
   "id": "f5e825ff-92c1-4e18-915c-b527de893b89",
   "metadata": {},
   "source": [
    "### Filter geno"
   ]
  },
  {
   "cell_type": "code",
   "execution_count": null,
   "id": "d38d0a8b-842b-4123-b678-7e32fd7855e5",
   "metadata": {},
   "outputs": [],
   "source": [
    "with open('../data/wg20220316/chr22test/TPTEP1genodata.pickle', 'rb') as handle:\n",
    "    geno = pickle.load(handle)"
   ]
  },
  {
   "cell_type": "markdown",
   "id": "515a2111-746a-4f4f-878f-7bdcdae5e98e",
   "metadata": {},
   "source": [
    "#### Famliy 989"
   ]
  },
  {
   "cell_type": "code",
   "execution_count": null,
   "id": "dba356b1-ed59-45c3-b366-a38cb35d3d7c",
   "metadata": {},
   "outputs": [],
   "source": [
    "chp_haps=genes['TPTEP1']['predata']['989']"
   ]
  },
  {
   "cell_type": "code",
   "execution_count": null,
   "id": "4a8faf72-788d-4779-bbcd-c1d3b2afd815",
   "metadata": {},
   "outputs": [
    {
     "data": {
      "text/html": [
       "<div>\n",
       "<style scoped>\n",
       "    .dataframe tbody tr th:only-of-type {\n",
       "        vertical-align: middle;\n",
       "    }\n",
       "\n",
       "    .dataframe tbody tr th {\n",
       "        vertical-align: top;\n",
       "    }\n",
       "\n",
       "    .dataframe thead th {\n",
       "        text-align: right;\n",
       "    }\n",
       "</style>\n",
       "<table border=\"1\" class=\"dataframe\">\n",
       "  <thead>\n",
       "    <tr style=\"text-align: right;\">\n",
       "      <th></th>\n",
       "      <th>0</th>\n",
       "      <th>1</th>\n",
       "      <th>2</th>\n",
       "      <th>3</th>\n",
       "      <th>4</th>\n",
       "      <th>5</th>\n",
       "      <th>6</th>\n",
       "      <th>7</th>\n",
       "      <th>8</th>\n",
       "      <th>9</th>\n",
       "      <th>...</th>\n",
       "      <th>152</th>\n",
       "      <th>153</th>\n",
       "      <th>154</th>\n",
       "      <th>155</th>\n",
       "      <th>156</th>\n",
       "      <th>157</th>\n",
       "      <th>158</th>\n",
       "      <th>159</th>\n",
       "      <th>160</th>\n",
       "      <th>161</th>\n",
       "    </tr>\n",
       "  </thead>\n",
       "  <tbody>\n",
       "    <tr>\n",
       "      <th>0</th>\n",
       "      <td>989</td>\n",
       "      <td>989_1</td>\n",
       "      <td>0</td>\n",
       "      <td>0</td>\n",
       "      <td>1</td>\n",
       "      <td>00</td>\n",
       "      <td>00</td>\n",
       "      <td>00</td>\n",
       "      <td>00</td>\n",
       "      <td>00</td>\n",
       "      <td>...</td>\n",
       "      <td>00</td>\n",
       "      <td>00</td>\n",
       "      <td>00</td>\n",
       "      <td>00</td>\n",
       "      <td>00</td>\n",
       "      <td>00</td>\n",
       "      <td>00</td>\n",
       "      <td>00</td>\n",
       "      <td>00</td>\n",
       "      <td>00</td>\n",
       "    </tr>\n",
       "    <tr>\n",
       "      <th>1</th>\n",
       "      <td>989</td>\n",
       "      <td>989_2</td>\n",
       "      <td>0</td>\n",
       "      <td>0</td>\n",
       "      <td>2</td>\n",
       "      <td>00</td>\n",
       "      <td>00</td>\n",
       "      <td>00</td>\n",
       "      <td>00</td>\n",
       "      <td>00</td>\n",
       "      <td>...</td>\n",
       "      <td>00</td>\n",
       "      <td>00</td>\n",
       "      <td>00</td>\n",
       "      <td>00</td>\n",
       "      <td>00</td>\n",
       "      <td>00</td>\n",
       "      <td>00</td>\n",
       "      <td>00</td>\n",
       "      <td>00</td>\n",
       "      <td>00</td>\n",
       "    </tr>\n",
       "    <tr>\n",
       "      <th>2</th>\n",
       "      <td>989</td>\n",
       "      <td>989_10</td>\n",
       "      <td>989_1</td>\n",
       "      <td>989_2</td>\n",
       "      <td>1</td>\n",
       "      <td>12</td>\n",
       "      <td>12</td>\n",
       "      <td>11</td>\n",
       "      <td>12</td>\n",
       "      <td>12</td>\n",
       "      <td>...</td>\n",
       "      <td>11</td>\n",
       "      <td>12</td>\n",
       "      <td>12</td>\n",
       "      <td>12</td>\n",
       "      <td>12</td>\n",
       "      <td>11</td>\n",
       "      <td>11</td>\n",
       "      <td>11</td>\n",
       "      <td>12</td>\n",
       "      <td>12</td>\n",
       "    </tr>\n",
       "    <tr>\n",
       "      <th>3</th>\n",
       "      <td>989</td>\n",
       "      <td>989_8</td>\n",
       "      <td>989_1</td>\n",
       "      <td>989_2</td>\n",
       "      <td>1</td>\n",
       "      <td>12</td>\n",
       "      <td>12</td>\n",
       "      <td>12</td>\n",
       "      <td>11</td>\n",
       "      <td>12</td>\n",
       "      <td>...</td>\n",
       "      <td>11</td>\n",
       "      <td>12</td>\n",
       "      <td>12</td>\n",
       "      <td>12</td>\n",
       "      <td>12</td>\n",
       "      <td>11</td>\n",
       "      <td>11</td>\n",
       "      <td>11</td>\n",
       "      <td>12</td>\n",
       "      <td>12</td>\n",
       "    </tr>\n",
       "    <tr>\n",
       "      <th>4</th>\n",
       "      <td>989</td>\n",
       "      <td>989_99</td>\n",
       "      <td>989_1</td>\n",
       "      <td>989_2</td>\n",
       "      <td>2</td>\n",
       "      <td>12</td>\n",
       "      <td>12</td>\n",
       "      <td>12</td>\n",
       "      <td>11</td>\n",
       "      <td>12</td>\n",
       "      <td>...</td>\n",
       "      <td>11</td>\n",
       "      <td>12</td>\n",
       "      <td>22</td>\n",
       "      <td>12</td>\n",
       "      <td>22</td>\n",
       "      <td>12</td>\n",
       "      <td>11</td>\n",
       "      <td>11</td>\n",
       "      <td>12</td>\n",
       "      <td>12</td>\n",
       "    </tr>\n",
       "    <tr>\n",
       "      <th>5</th>\n",
       "      <td>989</td>\n",
       "      <td>989_24</td>\n",
       "      <td>989_1</td>\n",
       "      <td>989_2</td>\n",
       "      <td>2</td>\n",
       "      <td>11</td>\n",
       "      <td>11</td>\n",
       "      <td>11</td>\n",
       "      <td>11</td>\n",
       "      <td>11</td>\n",
       "      <td>...</td>\n",
       "      <td>22</td>\n",
       "      <td>22</td>\n",
       "      <td>22</td>\n",
       "      <td>11</td>\n",
       "      <td>22</td>\n",
       "      <td>11</td>\n",
       "      <td>22</td>\n",
       "      <td>12</td>\n",
       "      <td>11</td>\n",
       "      <td>22</td>\n",
       "    </tr>\n",
       "    <tr>\n",
       "      <th>6</th>\n",
       "      <td>989</td>\n",
       "      <td>989_6</td>\n",
       "      <td>989_1</td>\n",
       "      <td>989_2</td>\n",
       "      <td>1</td>\n",
       "      <td>00</td>\n",
       "      <td>00</td>\n",
       "      <td>00</td>\n",
       "      <td>00</td>\n",
       "      <td>00</td>\n",
       "      <td>...</td>\n",
       "      <td>00</td>\n",
       "      <td>00</td>\n",
       "      <td>00</td>\n",
       "      <td>00</td>\n",
       "      <td>00</td>\n",
       "      <td>00</td>\n",
       "      <td>00</td>\n",
       "      <td>00</td>\n",
       "      <td>00</td>\n",
       "      <td>00</td>\n",
       "    </tr>\n",
       "    <tr>\n",
       "      <th>7</th>\n",
       "      <td>989</td>\n",
       "      <td>989_7</td>\n",
       "      <td>989_1</td>\n",
       "      <td>989_2</td>\n",
       "      <td>1</td>\n",
       "      <td>00</td>\n",
       "      <td>00</td>\n",
       "      <td>00</td>\n",
       "      <td>00</td>\n",
       "      <td>00</td>\n",
       "      <td>...</td>\n",
       "      <td>00</td>\n",
       "      <td>00</td>\n",
       "      <td>00</td>\n",
       "      <td>00</td>\n",
       "      <td>00</td>\n",
       "      <td>00</td>\n",
       "      <td>00</td>\n",
       "      <td>00</td>\n",
       "      <td>00</td>\n",
       "      <td>00</td>\n",
       "    </tr>\n",
       "    <tr>\n",
       "      <th>8</th>\n",
       "      <td>989</td>\n",
       "      <td>989_29</td>\n",
       "      <td>0</td>\n",
       "      <td>0</td>\n",
       "      <td>2</td>\n",
       "      <td>00</td>\n",
       "      <td>00</td>\n",
       "      <td>00</td>\n",
       "      <td>00</td>\n",
       "      <td>00</td>\n",
       "      <td>...</td>\n",
       "      <td>00</td>\n",
       "      <td>00</td>\n",
       "      <td>00</td>\n",
       "      <td>00</td>\n",
       "      <td>00</td>\n",
       "      <td>00</td>\n",
       "      <td>00</td>\n",
       "      <td>00</td>\n",
       "      <td>00</td>\n",
       "      <td>00</td>\n",
       "    </tr>\n",
       "    <tr>\n",
       "      <th>9</th>\n",
       "      <td>989</td>\n",
       "      <td>989_30</td>\n",
       "      <td>989_6</td>\n",
       "      <td>989_29</td>\n",
       "      <td>2</td>\n",
       "      <td>00</td>\n",
       "      <td>00</td>\n",
       "      <td>00</td>\n",
       "      <td>00</td>\n",
       "      <td>00</td>\n",
       "      <td>...</td>\n",
       "      <td>00</td>\n",
       "      <td>00</td>\n",
       "      <td>00</td>\n",
       "      <td>00</td>\n",
       "      <td>00</td>\n",
       "      <td>00</td>\n",
       "      <td>00</td>\n",
       "      <td>00</td>\n",
       "      <td>00</td>\n",
       "      <td>00</td>\n",
       "    </tr>\n",
       "  </tbody>\n",
       "</table>\n",
       "<p>10 rows × 162 columns</p>\n",
       "</div>"
      ],
      "text/plain": [
       "   0       1      2       3   4   5   6   7   8   9    ... 152 153 154 155  \\\n",
       "0  989   989_1      0       0   1  00  00  00  00  00  ...  00  00  00  00   \n",
       "1  989   989_2      0       0   2  00  00  00  00  00  ...  00  00  00  00   \n",
       "2  989  989_10  989_1   989_2   1  12  12  11  12  12  ...  11  12  12  12   \n",
       "3  989   989_8  989_1   989_2   1  12  12  12  11  12  ...  11  12  12  12   \n",
       "4  989  989_99  989_1   989_2   2  12  12  12  11  12  ...  11  12  22  12   \n",
       "5  989  989_24  989_1   989_2   2  11  11  11  11  11  ...  22  22  22  11   \n",
       "6  989   989_6  989_1   989_2   1  00  00  00  00  00  ...  00  00  00  00   \n",
       "7  989   989_7  989_1   989_2   1  00  00  00  00  00  ...  00  00  00  00   \n",
       "8  989  989_29      0       0   2  00  00  00  00  00  ...  00  00  00  00   \n",
       "9  989  989_30  989_6  989_29   2  00  00  00  00  00  ...  00  00  00  00   \n",
       "\n",
       "  156 157 158 159 160 161  \n",
       "0  00  00  00  00  00  00  \n",
       "1  00  00  00  00  00  00  \n",
       "2  12  11  11  11  12  12  \n",
       "3  12  11  11  11  12  12  \n",
       "4  22  12  11  11  12  12  \n",
       "5  22  11  22  12  11  22  \n",
       "6  00  00  00  00  00  00  \n",
       "7  00  00  00  00  00  00  \n",
       "8  00  00  00  00  00  00  \n",
       "9  00  00  00  00  00  00  \n",
       "\n",
       "[10 rows x 162 columns]"
      ]
     },
     "execution_count": null,
     "metadata": {},
     "output_type": "execute_result"
    }
   ],
   "source": [
    "pd.DataFrame(geno['989'])"
   ]
  },
  {
   "cell_type": "code",
   "execution_count": null,
   "id": "b91413e9-f139-40a1-8916-1e82e28a3dc8",
   "metadata": {},
   "outputs": [],
   "source": [
    "haplotyper = cstatgen.HaplotypingEngine(verbose = False)"
   ]
  },
  {
   "cell_type": "code",
   "execution_count": null,
   "id": "19c8ac85-7ede-4fa8-94ca-fcab9b72ae55",
   "metadata": {},
   "outputs": [],
   "source": [
    "item_varnames=chp_haps[0]\n",
    "positions = [int(i.split(':')[1]) for i in item_varnames]\n",
    "chrom = '22'"
   ]
  },
  {
   "cell_type": "code",
   "execution_count": null,
   "id": "e9cd0c77-77af-4134-971d-6fc109ef6d70",
   "metadata": {},
   "outputs": [],
   "source": [
    "fgeno = np.array(geno['989'])"
   ]
  },
  {
   "cell_type": "code",
   "execution_count": null,
   "id": "d25f21e0-faab-4647-be05-d4d6d0a19452",
   "metadata": {},
   "outputs": [
    {
     "name": "stdout",
     "output_type": "stream",
     "text": [
      "                                                                      \r"
     ]
    }
   ],
   "source": [
    "item_haplotypes = haplotyper.Execute(chrom, item_varnames, positions, fgeno)"
   ]
  },
  {
   "cell_type": "code",
   "execution_count": null,
   "id": "6a0fcb18-6b3e-4fd4-8d33-618e2d7f5484",
   "metadata": {},
   "outputs": [
    {
     "name": "stdout",
     "output_type": "stream",
     "text": [
      "                                                                      \r"
     ]
    }
   ],
   "source": [
    "item_haplotypes = haplotyper.Execute(chrom, item_varnames[:80], positions[:80], fgeno[:85])"
   ]
  },
  {
   "cell_type": "code",
   "execution_count": null,
   "id": "7f7115af-668d-4394-bcbe-c4428ed4b3dc",
   "metadata": {},
   "outputs": [
    {
     "data": {
      "text/plain": [
       "True"
      ]
     },
     "execution_count": null,
     "metadata": {},
     "output_type": "execute_result"
    }
   ],
   "source": [
    "np.alltrue(np.array(item_haplotypes[0]) == chp_haps[2][:,:82])"
   ]
  },
  {
   "cell_type": "code",
   "execution_count": null,
   "id": "5ec70a7a-f12a-4325-8251-927fff0b7d04",
   "metadata": {},
   "outputs": [],
   "source": [
    "def hapexe(idx):\n",
    "    new_pos = [j for i,j in zip(idx,positions) if i]\n",
    "    item_haplotypes = haplotyper.Execute(chrom, item_varnames[idx],new_pos, fgeno[:,[0,1,2,3,4]+list(np.where(idx)[0]+5)])\n",
    "    return item_haplotypes"
   ]
  },
  {
   "cell_type": "markdown",
   "id": "cc1965c0-07b1-4431-9236-9fdb1ddd66c3",
   "metadata": {},
   "source": [
    "#### 1.remove common variants"
   ]
  },
  {
   "cell_type": "code",
   "execution_count": null,
   "id": "e5e1e7e2-9aae-441f-bbf8-17b89a68d0dd",
   "metadata": {},
   "outputs": [
    {
     "name": "stdout",
     "output_type": "stream",
     "text": [
      "                                                                      \r"
     ]
    }
   ],
   "source": [
    "item_haplotypes_rare = hapexe(chp_haps[1]<0.05)"
   ]
  },
  {
   "cell_type": "code",
   "execution_count": null,
   "id": "b607f492-6c03-4ad8-bfd7-0f4c74a5244a",
   "metadata": {},
   "outputs": [],
   "source": [
    "idx = chp_haps[1]<0.05"
   ]
  },
  {
   "cell_type": "code",
   "execution_count": null,
   "id": "d7a650cc-ab30-4568-b14b-c8922e3b3b64",
   "metadata": {},
   "outputs": [
    {
     "data": {
      "text/plain": [
       "array([[ True,  True,  True, ...,  True,  True, False],\n",
       "       [ True,  True,  True, ...,  True,  True,  True],\n",
       "       [ True,  True,  True, ..., False, False, False],\n",
       "       ...,\n",
       "       [ True,  True, False, ...,  True,  True, False],\n",
       "       [ True,  True, False, ...,  True,  True,  True],\n",
       "       [ True,  True, False, ..., False, False, False]])"
      ]
     },
     "execution_count": null,
     "metadata": {},
     "output_type": "execute_result"
    }
   ],
   "source": [
    "np.array(item_haplotypes_rare[0]) == chp_haps[2][:,[0,1]+list(np.where(idx)[0]+2)]"
   ]
  },
  {
   "cell_type": "code",
   "execution_count": null,
   "id": "586aacea-cc53-4f74-921e-b4651c119b82",
   "metadata": {},
   "outputs": [],
   "source": [
    "[:,[0,1,2,3,4]+list(np.where(chp_haps[1]<0.05)[0]+5)]"
   ]
  },
  {
   "cell_type": "code",
   "execution_count": null,
   "id": "76f7f273-39e3-4d0b-ad97-293d9685b3af",
   "metadata": {},
   "outputs": [],
   "source": [
    "coder.Execute([chp_haps[2][:,[0,1]+list(np.where(chp_haps[1]<0.05)[0]+2)]], [chp_haps[1][chp_haps[1]<0.05]], [[[]]],True)"
   ]
  },
  {
   "cell_type": "code",
   "execution_count": null,
   "id": "50e55f8f-e230-4df2-b709-3e2b10064619",
   "metadata": {},
   "outputs": [
    {
     "data": {
      "text/plain": [
       "31"
      ]
     },
     "execution_count": null,
     "metadata": {},
     "output_type": "execute_result"
    }
   ],
   "source": [
    "len(coder.GetHaplotypes()[0][2].split(','))"
   ]
  },
  {
   "cell_type": "code",
   "execution_count": null,
   "id": "88eca21c-3eb5-4695-8327-01b79e88b9ee",
   "metadata": {},
   "outputs": [],
   "source": [
    "coder.Execute([np.array(item_haplotypes_rare[0])], [chp_haps[1][chp_haps[1]<0.05]], [[[]]],True)"
   ]
  },
  {
   "cell_type": "code",
   "execution_count": null,
   "id": "a507be3d-39d0-4eee-8a7a-4d9028ac23f4",
   "metadata": {},
   "outputs": [
    {
     "data": {
      "text/plain": [
       "19"
      ]
     },
     "execution_count": null,
     "metadata": {},
     "output_type": "execute_result"
    }
   ],
   "source": [
    "len(coder.GetHaplotypes()[0][2].split(','))"
   ]
  },
  {
   "cell_type": "code",
   "execution_count": null,
   "id": "f11630c4-fa04-423c-90ac-d7e65313c081",
   "metadata": {},
   "outputs": [
    {
     "data": {
      "text/plain": [
       "(('989',\n",
       "  '989_1',\n",
       "  '2,2,3,1,1,1,1,1,1,2,2,3,2,3,1,2,2,1,2',\n",
       "  '212112,2,2122,111111,1,1,1,11111111,1,2,2,2222,22,222,1,221222122222212,211,1,2122',\n",
       "  '1,1,1,2,1,2,1,2,2,1,1,1,1,1,2,1,1,1,1',\n",
       "  '111111,1,1111,221122,1,2,1,22222221,2,1,1,1111,11,111,2,111111111111111,111,1,1111'),\n",
       " ('989',\n",
       "  '989_2',\n",
       "  '1,1,2,3,2,2,2,3,1,1,1,1,1,1,1,1,1,2,3',\n",
       "  '111111,1,1211,112222,2,2,2,22222122,1,1,1,1111,11,111,1,111111111111111,111,2,1222',\n",
       "  '3,1,1,1,1,1,1,1,2,2,1,2,1,2,1,3,3,1,1',\n",
       "  '121221,1,1111,111111,1,1,1,11111111,2,2,1,2221,11,221,1,122221212222222,122,1,1111'),\n",
       " ('989',\n",
       "  '989_29',\n",
       "  '0,0,0,0,0,0,0,0,0,0,0,0,0,0,0,0,0,0,0',\n",
       "  'NULL,NULL,NULL,NULL,NULL,NULL,NULL,NULL,NULL,NULL,NULL,NULL,NULL,NULL,NULL,NULL,NULL,NULL,NULL',\n",
       "  '0,0,0,0,0,0,0,0,0,0,0,0,0,0,0,0,0,0,0',\n",
       "  'NULL,NULL,NULL,NULL,NULL,NULL,NULL,NULL,NULL,NULL,NULL,NULL,NULL,NULL,NULL,NULL,NULL,NULL,NULL'),\n",
       " ('989',\n",
       "  '989_99',\n",
       "  '1,1,2,3,2,2,1,3,1,1,1,1,1,1,1,1,1,2,3',\n",
       "  '111111,1,1211,112222,2,2,1,22222122,1,1,1,1111,11,111,1,111111111111111,111,2,1222',\n",
       "  '2,2,1,1,1,1,1,1,1,2,2,3,1,3,1,2,1,1,1',\n",
       "  '212112,2,1111,111111,1,1,1,11111111,1,2,2,2222,11,222,1,221222122222212,111,1,1111'),\n",
       " ('989',\n",
       "  '989_24',\n",
       "  '1,1,1,1,1,1,1,1,1,1,1,1,1,1,1,1,1,1,1',\n",
       "  '111111,1,1111,111111,1,1,1,11111111,1,1,1,1111,11,111,1,111111111111111,111,1,1111',\n",
       "  '1,1,1,1,1,1,1,1,1,1,1,1,1,1,2,1,1,1,1',\n",
       "  '111111,1,1111,111111,1,1,1,11111111,1,1,1,1111,11,111,2,111111111111111,111,1,1111'),\n",
       " ('989',\n",
       "  '989_10',\n",
       "  '3,1,1,1,1,1,1,1,2,2,1,2,1,2,1,3,3,1,3',\n",
       "  '121221,1,1111,111111,1,1,1,11111111,2,2,1,2221,11,221,1,122221212222222,122,1,1222',\n",
       "  '1,1,1,2,1,2,1,2,2,1,1,1,1,1,1,1,1,1,1',\n",
       "  '111111,1,1111,221122,1,2,1,22222221,2,1,1,1111,11,111,1,111111111111111,111,1,1111'),\n",
       " ('989',\n",
       "  '989_8',\n",
       "  '1,1,2,3,1,2,2,3,1,1,1,1,1,1,1,1,1,1,1',\n",
       "  '111111,1,1211,112222,1,2,2,22222122,1,1,1,1111,11,111,1,111111111111111,111,1,1111',\n",
       "  '2,2,3,1,1,1,1,1,1,2,1,3,2,3,1,2,2,1,2',\n",
       "  '212112,2,2122,111111,1,1,1,11111111,1,2,1,2222,22,222,1,221222122222212,211,1,2122'),\n",
       " ('989',\n",
       "  '989_7',\n",
       "  '1,1,2,3,2,2,2,3,1,1,1,1,1,1,1,1,1,2,3',\n",
       "  '111111,1,1211,112222,2,2,2,22222122,1,1,1,1111,11,111,1,111111111111111,111,2,1222',\n",
       "  '2,2,3,1,1,1,1,1,1,2,2,3,2,3,1,2,2,1,2',\n",
       "  '212112,2,2122,111111,1,1,1,11111111,1,2,2,2222,22,222,1,221222122222212,211,1,2122'),\n",
       " ('989',\n",
       "  '989_6',\n",
       "  '1,1,2,3,2,2,2,3,1,1,1,1,1,1,1,1,1,2,3',\n",
       "  '111111,1,1211,112222,2,2,2,22222122,1,1,1,1111,11,111,1,111111111111111,111,2,1222',\n",
       "  '2,2,3,1,1,1,1,1,1,2,2,3,2,3,1,2,2,1,2',\n",
       "  '212112,2,2122,111111,1,1,1,11111111,1,2,2,2222,22,222,1,221222122222212,211,1,2122'),\n",
       " ('989',\n",
       "  '989_30',\n",
       "  '0,0,0,0,0,0,0,0,0,0,0,0,0,0,0,0,0,0,0',\n",
       "  'NULL,NULL,NULL,NULL,NULL,NULL,NULL,NULL,NULL,NULL,NULL,NULL,NULL,NULL,NULL,NULL,NULL,NULL,NULL',\n",
       "  '1,1,2,3,2,2,2,3,1,1,1,1,1,1,1,1,1,2,3',\n",
       "  '111111,1,1211,112222,2,2,2,22222122,1,1,1,1111,11,111,1,111111111111111,111,2,1222'))"
      ]
     },
     "execution_count": null,
     "metadata": {},
     "output_type": "execute_result"
    }
   ],
   "source": [
    "coder.GetHaplotypes()"
   ]
  },
  {
   "cell_type": "code",
   "execution_count": null,
   "id": "2e438fcd-27af-47d6-9d34-e351557a6508",
   "metadata": {},
   "outputs": [],
   "source": [
    "tmp = pd.DataFrame(fgeno)"
   ]
  },
  {
   "cell_type": "code",
   "execution_count": null,
   "id": "1aa15bdd-244f-4ba6-bb20-75a695a59e91",
   "metadata": {},
   "outputs": [],
   "source": [
    "tmp1=pd.DataFrame([tmp.loc[:,i].value_counts() for i in range(5,162)])"
   ]
  },
  {
   "cell_type": "code",
   "execution_count": null,
   "id": "16749fb5-cf1c-4bbb-80ad-1f0b25f0a1b7",
   "metadata": {},
   "outputs": [],
   "source": [
    "tmp1=tmp1.fillna(0)"
   ]
  },
  {
   "cell_type": "code",
   "execution_count": null,
   "id": "44959906-194e-45b0-b53a-6748a9787ff4",
   "metadata": {},
   "outputs": [
    {
     "data": {
      "text/plain": [
       "1.0    70\n",
       "3.0    38\n",
       "4.0    29\n",
       "2.0    20\n",
       "dtype: int64"
      ]
     },
     "execution_count": null,
     "metadata": {},
     "output_type": "execute_result"
    }
   ],
   "source": [
    "tmp1.iloc[:,[1,3]].sum(axis=1).value_counts()"
   ]
  },
  {
   "cell_type": "code",
   "execution_count": null,
   "id": "9c8d329f-949b-4670-9762-6f1ec2771b22",
   "metadata": {},
   "outputs": [
    {
     "data": {
      "text/plain": [
       "7.0    46\n",
       "9.0    44\n",
       "8.0    39\n",
       "6.0    28\n",
       "dtype: int64"
      ]
     },
     "execution_count": null,
     "metadata": {},
     "output_type": "execute_result"
    }
   ],
   "source": [
    "tmp1.iloc[:,[0,1]].sum(axis=1).value_counts()"
   ]
  },
  {
   "cell_type": "code",
   "execution_count": null,
   "id": "6958cd20-6457-4712-8df7-d62fa532a63c",
   "metadata": {},
   "outputs": [],
   "source": [
    "item_haplotypes_rare1 = hapexe(np.logical_and(np.array(tmp1.iloc[:,[1,3]].sum(axis=1)==1),idx))"
   ]
  },
  {
   "cell_type": "code",
   "execution_count": null,
   "id": "3c18b1c3-4528-43f4-9a0e-28ae0830f92f",
   "metadata": {},
   "outputs": [],
   "source": [
    "coder.Execute([np.array(item_haplotypes_rare1[0])], [chp_haps[1][np.logical_and(np.array(tmp1.iloc[:,[1,3]].sum(axis=1)==1),idx)]], [[[]]],True)"
   ]
  },
  {
   "cell_type": "code",
   "execution_count": null,
   "id": "11fa02f0-4546-4ecf-ae4c-1ab9cccfabc3",
   "metadata": {},
   "outputs": [
    {
     "data": {
      "text/plain": [
       "9"
      ]
     },
     "execution_count": null,
     "metadata": {},
     "output_type": "execute_result"
    }
   ],
   "source": [
    "len(coder.GetHaplotypes()[0][2].split(','))"
   ]
  },
  {
   "cell_type": "code",
   "execution_count": null,
   "id": "0846beef-2e54-4d66-8319-090359fc54e9",
   "metadata": {},
   "outputs": [
    {
     "data": {
      "text/plain": [
       "(('989',\n",
       "  '989_1',\n",
       "  '1,2,3,1,1,2,2,3,1',\n",
       "  '11111111,21,22,1,11,12,2,2122,11',\n",
       "  '3,1,1,1,1,1,1,1,2',\n",
       "  '22211122,11,11,1,11,11,1,1111,21'),\n",
       " ('989',\n",
       "  '989_2',\n",
       "  '1,1,1,1,2,3,0,2,3',\n",
       "  '11111111,11,11,1,22,21,NULL,1211,12',\n",
       "  '2,3,2,2,1,1,1,1,1',\n",
       "  '11122211,12,12,2,11,11,1,1111,11'),\n",
       " ('989',\n",
       "  '989_29',\n",
       "  '0,0,0,0,0,0,0,0,0',\n",
       "  'NULL,NULL,NULL,NULL,NULL,NULL,NULL,NULL,NULL',\n",
       "  '0,0,0,0,0,0,0,0,0',\n",
       "  'NULL,NULL,NULL,NULL,NULL,NULL,NULL,NULL,NULL'),\n",
       " ('989',\n",
       "  '989_99',\n",
       "  '1,1,1,2,1,1,1,1,1',\n",
       "  '11111111,11,11,2,11,11,1,1111,11',\n",
       "  '1,2,1,1,1,1,1,1,2',\n",
       "  '11111111,21,11,1,11,11,1,1111,21'),\n",
       " ('989',\n",
       "  '989_24',\n",
       "  '1,1,1,1,1,3,1,1,1',\n",
       "  '11111111,11,11,1,11,21,1,1111,11',\n",
       "  '1,1,1,1,1,1,1,1,1',\n",
       "  '11111111,11,11,1,11,11,1,1111,11'),\n",
       " ('989',\n",
       "  '989_10',\n",
       "  '1,1,2,1,1,1,1,1,1',\n",
       "  '11111111,11,12,1,11,11,1,1111,11',\n",
       "  '3,1,3,1,1,2,2,3,1',\n",
       "  '22211122,11,22,1,11,12,2,2122,11'),\n",
       " ('989',\n",
       "  '989_8',\n",
       "  '2,3,1,1,2,1,1,2,3',\n",
       "  '11122211,12,11,1,22,11,1,1211,12',\n",
       "  '1,1,1,1,1,1,1,1,1',\n",
       "  '11111111,11,11,1,11,11,1,1111,11'),\n",
       " ('989',\n",
       "  '989_7',\n",
       "  '1,1,1,1,2,3,0,2,3',\n",
       "  '11111111,11,11,1,22,21,NULL,1211,12',\n",
       "  '1,2,3,1,1,2,2,3,1',\n",
       "  '11111111,21,22,1,11,12,2,2122,11'),\n",
       " ('989',\n",
       "  '989_6',\n",
       "  '1,1,1,1,2,3,0,2,3',\n",
       "  '11111111,11,11,1,22,21,NULL,1211,12',\n",
       "  '1,2,3,1,1,2,2,3,1',\n",
       "  '11111111,21,22,1,11,12,2,2122,11'),\n",
       " ('989',\n",
       "  '989_30',\n",
       "  '0,0,0,0,0,0,0,0,0',\n",
       "  'NULL,NULL,NULL,NULL,NULL,NULL,NULL,NULL,NULL',\n",
       "  '1,1,1,1,2,3,0,2,3',\n",
       "  '11111111,11,11,1,22,21,NULL,1211,12'))"
      ]
     },
     "execution_count": null,
     "metadata": {},
     "output_type": "execute_result"
    }
   ],
   "source": [
    "coder.GetHaplotypes()"
   ]
  },
  {
   "cell_type": "code",
   "execution_count": null,
   "id": "4afb244c-c0b3-4501-89bc-28b899d8949c",
   "metadata": {},
   "outputs": [],
   "source": []
  },
  {
   "cell_type": "code",
   "execution_count": null,
   "id": "d4a9eff5-3ddd-4f8f-8149-6b589de92673",
   "metadata": {},
   "outputs": [
    {
     "name": "stdout",
     "output_type": "stream",
     "text": [
      "                                                                      \r"
     ]
    }
   ],
   "source": [
    "item_haplotypes_rare2 = hapexe(np.array(tmp1.iloc[:,[1,3]].sum(axis=1)==1))"
   ]
  },
  {
   "cell_type": "code",
   "execution_count": null,
   "id": "bb9bfca8-91e3-41ce-8a69-441fc04b0700",
   "metadata": {},
   "outputs": [],
   "source": [
    "coder.Execute([np.array(item_haplotypes_rare2[0])], [chp_haps[1][np.array(tmp1.iloc[:,[1,3]].sum(axis=1)==1)]], [[[]]],True)"
   ]
  },
  {
   "cell_type": "code",
   "execution_count": null,
   "id": "c1a59f52-1416-42ac-b689-0ded421263ea",
   "metadata": {},
   "outputs": [
    {
     "data": {
      "text/plain": [
       "38"
      ]
     },
     "execution_count": null,
     "metadata": {},
     "output_type": "execute_result"
    }
   ],
   "source": [
    "len(coder.GetHaplotypes()[0][2].split(','))"
   ]
  },
  {
   "cell_type": "code",
   "execution_count": null,
   "id": "81f197b5-2b0b-4792-9896-f724238b4416",
   "metadata": {},
   "outputs": [
    {
     "data": {
      "text/plain": [
       "(('989',\n",
       "  '989_1',\n",
       "  '1,1,1,3,2,2,3,2,1,1,1,2,1,2,1,1,1,1,1,1,1,1,1,1,1,1,1,2,2,1,2,1,1,1,1,1,1,1',\n",
       "  '1,11,11,2221,22,22,212,2,1,111,1,2,1,2,11,1,111,1,1,1,1,1,111,1,11,11111,1,2,22222,1,2,1111,1,111,11,1,1,11',\n",
       "  '1,2,2,1,1,1,1,1,2,1,2,1,2,1,2,2,1,1,2,2,2,1,2,1,1,3,2,1,1,2,1,2,1,2,2,2,1,3',\n",
       "  '1,22,22,1111,11,11,111,1,2,111,2,1,2,1,22,2,111,1,2,2,2,1,222,1,11,22222,2,1,11111,2,1,2222,1,211,12,2,1,22'),\n",
       " ('989',\n",
       "  '989_2',\n",
       "  '1,1,1,1,1,1,2,1,2,1,2,1,2,1,2,1,1,2,2,1,2,2,1,2,2,1,1,1,1,1,1,1,2,3,1,2,1,1',\n",
       "  '1,11,11,1111,11,11,121,1,2,111,2,1,2,1,22,1,111,2,2,1,2,2,111,2,22,11111,1,1,11111,1,1,1111,2,122,11,2,1,11',\n",
       "  '2,2,1,2,1,2,1,1,1,2,1,1,1,1,1,1,2,1,1,1,1,1,2,1,1,2,1,1,2,1,1,2,1,1,3,1,2,2',\n",
       "  '2,22,11,1112,11,22,111,1,1,222,1,1,1,1,11,1,222,1,1,1,1,1,222,1,11,22211,1,1,22222,1,1,2222,1,111,21,1,2,21'),\n",
       " ('989',\n",
       "  '989_29',\n",
       "  '0,0,0,0,0,0,0,0,0,0,0,0,0,0,0,0,0,0,0,0,0,0,0,0,0,0,0,0,0,0,0,0,0,0,0,0,0,0',\n",
       "  'NULL,NULL,NULL,NULL,NULL,NULL,NULL,NULL,NULL,NULL,NULL,NULL,NULL,NULL,NULL,NULL,NULL,NULL,NULL,NULL,NULL,NULL,NULL,NULL,NULL,NULL,NULL,NULL,NULL,NULL,NULL,NULL,NULL,NULL,NULL,NULL,NULL,NULL',\n",
       "  '0,0,0,0,0,0,0,0,0,0,0,0,0,0,0,0,0,0,0,0,0,0,0,0,0,0,0,0,0,0,0,0,0,0,0,0,0,0',\n",
       "  'NULL,NULL,NULL,NULL,NULL,NULL,NULL,NULL,NULL,NULL,NULL,NULL,NULL,NULL,NULL,NULL,NULL,NULL,NULL,NULL,NULL,NULL,NULL,NULL,NULL,NULL,NULL,NULL,NULL,NULL,NULL,NULL,NULL,NULL,NULL,NULL,NULL,NULL'),\n",
       " ('989',\n",
       "  '989_99',\n",
       "  '1,1,1,1,1,1,1,1,1,2,1,1,1,1,1,1,2,1,1,1,1,2,1,2,1,1,1,1,1,1,1,1,1,1,3,1,2,1',\n",
       "  '1,11,11,1111,11,11,111,1,1,222,1,1,1,1,11,1,222,1,1,1,1,2,111,2,11,11111,1,1,11111,1,1,1111,1,111,21,1,2,11',\n",
       "  '1,1,1,1,1,1,3,2,1,1,1,2,1,2,1,1,1,1,1,1,1,1,1,1,1,1,1,2,1,1,2,1,1,1,1,1,1,1',\n",
       "  '1,11,11,1111,11,11,212,2,1,111,1,2,1,2,11,1,111,1,1,1,1,1,111,1,11,11111,1,2,11111,1,2,1111,1,111,11,1,1,11'),\n",
       " ('989',\n",
       "  '989_24',\n",
       "  '1,2,1,2,1,2,1,1,2,1,2,1,2,1,2,1,1,1,1,1,2,1,2,1,1,2,1,1,2,1,1,2,1,1,1,2,1,2',\n",
       "  '1,22,11,1112,11,22,111,1,2,111,2,1,2,1,22,1,111,1,1,1,2,1,222,1,11,22211,1,1,22222,1,1,2222,1,111,11,2,1,21',\n",
       "  '1,2,1,1,1,2,1,1,2,1,2,1,2,1,2,1,1,1,1,2,2,1,2,1,1,3,1,1,2,1,1,2,1,1,1,2,1,3',\n",
       "  '1,22,11,1111,11,22,111,1,2,111,2,1,2,1,22,1,111,1,1,2,2,1,222,1,11,22222,1,1,22222,1,1,2222,1,111,11,2,1,22'),\n",
       " ('989',\n",
       "  '989_10',\n",
       "  '2,1,1,1,1,1,1,1,1,1,1,1,1,1,1,1,1,1,2,1,1,1,1,1,1,1,1,1,1,1,1,1,2,3,1,1,1,1',\n",
       "  '2,11,11,1111,11,11,111,1,1,111,1,1,1,1,11,1,111,1,2,1,1,1,111,1,11,11111,1,1,11111,1,1,1111,2,122,11,1,1,11',\n",
       "  '1,1,2,1,2,1,1,1,1,1,1,1,1,1,1,2,1,1,2,1,1,1,1,1,1,1,2,1,1,2,1,1,1,1,1,1,1,1',\n",
       "  '1,11,22,1111,22,11,111,1,1,111,1,1,1,1,11,2,111,1,2,1,1,1,111,1,11,11111,2,1,11111,2,1,1111,1,111,11,1,1,11'),\n",
       " ('989',\n",
       "  '989_8',\n",
       "  '1,1,1,1,1,1,2,1,1,1,1,1,1,1,1,1,1,2,1,1,1,1,1,1,2,1,1,1,1,1,1,1,1,1,1,1,1,1',\n",
       "  '1,11,11,1111,11,11,121,1,1,111,1,1,1,1,11,1,111,2,1,1,1,1,111,1,22,11111,1,1,11111,1,1,1111,1,111,11,1,1,11',\n",
       "  '1,1,1,3,1,1,1,1,1,1,1,1,1,1,1,1,1,1,1,1,1,1,1,1,1,1,1,1,1,1,1,1,1,2,2,1,1,1',\n",
       "  '1,11,11,2221,11,11,111,1,1,111,1,1,1,1,11,1,111,1,1,1,1,1,111,1,11,11111,1,1,11111,1,1,1111,1,211,12,1,1,11'),\n",
       " ('989',\n",
       "  '989_7',\n",
       "  '1,1,1,1,1,1,2,1,2,1,2,1,2,1,2,1,1,2,2,1,2,2,1,2,2,1,1,1,1,1,1,1,2,3,1,2,1,1',\n",
       "  '1,11,11,1111,11,11,121,1,2,111,2,1,2,1,22,1,111,2,2,1,2,2,111,2,22,11111,1,1,11111,1,1,1111,2,122,11,2,1,11',\n",
       "  '1,1,1,3,2,2,3,2,1,1,1,2,1,2,1,1,1,1,1,1,1,1,1,1,1,1,1,2,2,1,2,1,1,1,1,1,1,1',\n",
       "  '1,11,11,2221,22,22,212,2,1,111,1,2,1,2,11,1,111,1,1,1,1,1,111,1,11,11111,1,2,22222,1,2,1111,1,111,11,1,1,11'),\n",
       " ('989',\n",
       "  '989_6',\n",
       "  '1,1,1,1,1,1,2,1,2,1,2,1,2,1,2,1,1,2,2,1,2,2,1,2,2,1,1,1,1,1,1,1,2,3,1,2,1,1',\n",
       "  '1,11,11,1111,11,11,121,1,2,111,2,1,2,1,22,1,111,2,2,1,2,2,111,2,22,11111,1,1,11111,1,1,1111,2,122,11,2,1,11',\n",
       "  '1,1,1,3,2,2,3,2,1,1,1,2,1,2,1,1,1,1,1,1,1,1,1,1,1,1,1,2,2,1,2,1,1,1,1,1,1,1',\n",
       "  '1,11,11,2221,22,22,212,2,1,111,1,2,1,2,11,1,111,1,1,1,1,1,111,1,11,11111,1,2,22222,1,2,1111,1,111,11,1,1,11'),\n",
       " ('989',\n",
       "  '989_30',\n",
       "  '0,0,0,0,0,0,0,0,0,0,0,0,0,0,0,0,0,0,0,0,0,0,0,0,0,0,0,0,0,0,0,0,0,0,0,0,0,0',\n",
       "  'NULL,NULL,NULL,NULL,NULL,NULL,NULL,NULL,NULL,NULL,NULL,NULL,NULL,NULL,NULL,NULL,NULL,NULL,NULL,NULL,NULL,NULL,NULL,NULL,NULL,NULL,NULL,NULL,NULL,NULL,NULL,NULL,NULL,NULL,NULL,NULL,NULL,NULL',\n",
       "  '1,1,1,1,1,1,2,1,2,1,2,1,2,1,2,1,1,2,2,1,2,2,1,2,2,1,1,1,1,1,1,1,2,3,1,2,1,1',\n",
       "  '1,11,11,1111,11,11,121,1,2,111,2,1,2,1,22,1,111,2,2,1,2,2,111,2,22,11111,1,1,11111,1,1,1111,2,122,11,2,1,11'))"
      ]
     },
     "execution_count": null,
     "metadata": {},
     "output_type": "execute_result"
    }
   ],
   "source": [
    "coder.GetHaplotypes()"
   ]
  },
  {
   "cell_type": "code",
   "execution_count": null,
   "id": "4c43a428-35e4-434c-9e7a-5e57fdf1a8ef",
   "metadata": {},
   "outputs": [],
   "source": []
  }
 ],
 "metadata": {
  "kernelspec": {
   "display_name": "Python 3 (ipykernel)",
   "language": "python",
   "name": "python3"
  }
 },
 "nbformat": 4,
 "nbformat_minor": 5
}
