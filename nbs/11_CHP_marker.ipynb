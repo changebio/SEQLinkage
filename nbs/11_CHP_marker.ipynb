{
 "cells": [
  {
   "cell_type": "markdown",
   "id": "a6aa8fcd-1481-4c2a-8136-fc57be6f13fe",
   "metadata": {},
   "source": [
    "# CHP marker"
   ]
  },
  {
   "cell_type": "code",
   "execution_count": null,
   "id": "3da3cc8e-6a41-4373-b3a2-f394f225a0c8",
   "metadata": {},
   "outputs": [],
   "source": [
    "import pandas as pd\n",
    "import numpy as np\n",
    "import pickle\n",
    "from SEQLinkage.linkage import *"
   ]
  },
  {
   "cell_type": "markdown",
   "id": "cd55cad0-ef73-47f1-9672-778271b1e971",
   "metadata": {},
   "source": [
    "### Read fam"
   ]
  },
  {
   "cell_type": "code",
   "execution_count": null,
   "id": "804b7394-c295-46be-aa41-1e42c50b6d59",
   "metadata": {},
   "outputs": [
    {
     "name": "stderr",
     "output_type": "stream",
     "text": [
      "/tmp/2295440.1.high_mem.q/ipykernel_34964/2396333578.py:3: SettingWithCopyWarning: \n",
      "A value is trying to be set on a copy of a slice from a DataFrame\n",
      "\n",
      "See the caveats in the documentation: https://pandas.pydata.org/pandas-docs/stable/user_guide/indexing.html#returning-a-view-versus-a-copy\n",
      "  fam17.ad[fam17.ad==-9]=0\n"
     ]
    }
   ],
   "source": [
    "fam17 = pd.read_csv('../data/new_trim_ped_famless17_no:xx.fam',delim_whitespace=True,header=None,names=['fid','iid','fathid','mothid','sex','ad'])\n",
    "fam17.index = list(fam17.iid)\n",
    "fam17.ad[fam17.ad==-9]=0\n",
    "fam17_d = {}\n",
    "for i in fam17.fid.unique():\n",
    "    fam17_d[i] = fam17[fam17.fid==i]"
   ]
  },
  {
   "cell_type": "code",
   "execution_count": null,
   "id": "87fc03d4-6d84-4a72-98b2-72d2f1ac66cf",
   "metadata": {},
   "outputs": [],
   "source": [
    "with open('../data/wg20220311/chr19test/CACHE/chr19test43.pickle', 'rb') as handle:\n",
    "    genes = pickle.load(handle)"
   ]
  },
  {
   "cell_type": "code",
   "execution_count": null,
   "id": "6c61829e-4d55-4eec-a682-7859ca0fb852",
   "metadata": {},
   "outputs": [
    {
     "data": {
      "text/plain": [
       "dict_keys(['LOC100379224', 'ZNF225', 'ZNF234', 'ZNF226', 'ZNF227', 'ZNF233', 'ZNF235', 'ZNF112', 'ZNF285', 'ZNF229', 'ZNF180', 'CEACAM20', 'CEACAM22P', 'IGSF23', 'PVR', 'MIR4531', 'CEACAM19', 'CEACAM16', 'BCL3', 'CBLC', 'BCAM', 'NECTIN2', 'TOMM40', 'APOE', 'APOC1'])"
      ]
     },
     "execution_count": null,
     "metadata": {},
     "output_type": "execute_result"
    }
   ],
   "source": [
    "genes.keys()"
   ]
  },
  {
   "cell_type": "code",
   "execution_count": null,
   "id": "37022fab-ad19-4ae0-8eb4-26eccdf07a1b",
   "metadata": {},
   "outputs": [
    {
     "data": {
      "text/plain": [
       "[array(['chr19:44905910:C:G', 'chr19:44906745:G:A', 'chr19:44907187:G:A',\n",
       "        'chr19:44908684:T:C'], dtype='<U18'),\n",
       " array([0.4113, 0.0745, 0.3247, 0.1105]),\n",
       " array([['1007', '1007_1', '2:', '1:', 'A1,2:', '1:'],\n",
       "        ['1007', '1007_1', '2:', '2:', '1:', '2:'],\n",
       "        ['1007', '1007_2', '1:', '1:', 'A2,1:', '1:'],\n",
       "        ['1007', '1007_2', '2:', '2:', '1:', '2:'],\n",
       "        ['1007', '1007_40', '2:', '1:', 'A1,2:', '1:'],\n",
       "        ['1007', '1007_40', '?:', '?:', '?:', '?:'],\n",
       "        ['1007', '1007_99', '2:', '1/', 'A2,1|', '1\\\\'],\n",
       "        ['1007', '1007_99', '2:', '1/', 'A1,2|', '2\\\\'],\n",
       "        ['1007', '1007_5', '2:', '2|', '1|', '2|'],\n",
       "        ['1007', '1007_5', '2:', '2|', '1|', '2|'],\n",
       "        ['1007', '1007_3', '1:', '1|', 'A2,1|', '1|'],\n",
       "        ['1007', '1007_3', '2:', '1|', 'A1,2|', '1|'],\n",
       "        ['1007', '1007_6', '1:', '1|', 'A2,1|', '1|'],\n",
       "        ['1007', '1007_6', '2:', '1|', 'A1,2|', '1|'],\n",
       "        ['1007', '1007_4', '1:', '1|', 'A2,1|', '1|'],\n",
       "        ['1007', '1007_4', '2:', '1|', 'A1,2|', '1|'],\n",
       "        ['1007', '1007_39', '1:', '1|', 'A2,1|', '1|'],\n",
       "        ['1007', '1007_39', '2:', '1|', 'A1,2|', '1|']], dtype='<U7')]"
      ]
     },
     "execution_count": null,
     "metadata": {},
     "output_type": "execute_result"
    }
   ],
   "source": [
    "genes['APOE']['predata']['1007']"
   ]
  },
  {
   "cell_type": "code",
   "execution_count": null,
   "id": "cf71cef0-c49b-415f-8e25-9e07a8151a88",
   "metadata": {},
   "outputs": [],
   "source": []
  }
 ],
 "metadata": {
  "kernelspec": {
   "display_name": "Python 3 (ipykernel)",
   "language": "python",
   "name": "python3"
  }
 },
 "nbformat": 4,
 "nbformat_minor": 5
}
