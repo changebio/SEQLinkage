{
 "cells": [
  {
   "cell_type": "code",
   "execution_count": null,
   "id": "1cb141c7-fa44-400f-9273-82bd18be436a",
   "metadata": {},
   "outputs": [],
   "source": []
  },
  {
   "cell_type": "markdown",
   "id": "4236ee39-afb5-4b79-86bc-9ab9563051cf",
   "metadata": {},
   "source": [
    "### 1.Generate CHP markers\n",
    "write out to tped and tfam format"
   ]
  },
  {
   "cell_type": "code",
   "execution_count": null,
   "id": "30e65192-bf7b-4a25-977d-474bf418e62b",
   "metadata": {},
   "outputs": [],
   "source": []
  },
  {
   "cell_type": "code",
   "execution_count": null,
   "id": "10e3f1d9-584e-4931-97fe-370f32ee65f6",
   "metadata": {},
   "outputs": [],
   "source": []
  },
  {
   "cell_type": "markdown",
   "id": "060e4c4a-5ed7-4b41-a7d9-c3e27afbaa81",
   "metadata": {},
   "source": [
    "### 2.runPM"
   ]
  },
  {
   "cell_type": "markdown",
   "id": "0cb478d6-8604-47c9-8184-4f26c304ca13",
   "metadata": {},
   "source": [
    "runPM <param"
   ]
  },
  {
   "cell_type": "markdown",
   "id": "27cdb5ae-8cc1-4344-ae74-f63d1591dfe2",
   "metadata": {},
   "source": [
    "### 3.paramlink2"
   ]
  },
  {
   "cell_type": "code",
   "execution_count": null,
   "id": "67f70d8f-121e-4b0d-bb1d-4b5b61dd200d",
   "metadata": {},
   "outputs": [],
   "source": []
  }
 ],
 "metadata": {
  "kernelspec": {
   "display_name": "Python 3 (ipykernel)",
   "language": "python",
   "name": "python3"
  }
 },
 "nbformat": 4,
 "nbformat_minor": 5
}
