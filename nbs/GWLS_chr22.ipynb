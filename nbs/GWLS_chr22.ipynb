{
 "cells": [
  {
   "cell_type": "code",
   "execution_count": null,
   "id": "9f9b4d09-e301-440e-816b-b2d1bb92cf49",
   "metadata": {},
   "outputs": [],
   "source": [
    "import sys\n",
    "import os.path\n",
    "import glob\n",
    "import pandas as pd\n",
    "import numpy as np\n",
    "import pickle\n",
    "from SEQLinkage.linkage import *"
   ]
  },
  {
   "cell_type": "code",
   "execution_count": null,
   "id": "16dc70f5-48e0-4696-ba63-aecabf9411e2",
   "metadata": {},
   "outputs": [
    {
     "name": "stderr",
     "output_type": "stream",
     "text": [
      "/tmp/2440590.1.high_mem.q/ipykernel_23771/2986720832.py:8: SettingWithCopyWarning: \n",
      "A value is trying to be set on a copy of a slice from a DataFrame\n",
      "\n",
      "See the caveats in the documentation: https://pandas.pydata.org/pandas-docs/stable/user_guide/indexing.html#returning-a-view-versus-a-copy\n",
      "  fam17.ad[fam17.ad==-9]=0\n"
     ]
    }
   ],
   "source": [
    "fam_vcf='../data/wg20220316/fam17_vcf.pickle'\n",
    "fam_path='../data/new_trim_ped_famless17_no:xx.fam'\n",
    "if os.path.isfile(fam_vcf):\n",
    "    with open(fam_vcf, 'rb') as handle:\n",
    "        fam17_vcf = pickle.load(handle)\n",
    "fam17 = pd.read_csv(fam_path,delim_whitespace=True,header=None,names=['fid','iid','fathid','mothid','sex','ad'])\n",
    "fam17.index = list(fam17.iid)\n",
    "fam17.ad[fam17.ad==-9]=0\n",
    "fam17_d = {}\n",
    "cutoff=0.05\n",
    "for i in fam17.fid.unique():\n",
    "    fam17_d[i] = fam17[fam17.fid==i]"
   ]
  },
  {
   "cell_type": "code",
   "execution_count": null,
   "id": "3e9cb3fd-7cb0-4a89-86d8-8e908a9c215d",
   "metadata": {},
   "outputs": [],
   "source": [
    "inputs=glob.glob('../data/wg20220316/chr22test/tmp/CACHE/chr22test*.pickle')"
   ]
  },
  {
   "cell_type": "code",
   "execution_count": null,
   "id": "89bc7978-89d9-4175-b759-4730656855f0",
   "metadata": {},
   "outputs": [
    {
     "name": "stdout",
     "output_type": "stream",
     "text": [
      "../data/wg20220316/chr22test/tmp/CACHE/chr22test24\n",
      "../data/wg20220316/chr22test/tmp/CACHE/chr22test23\n",
      "create input ../data/wg20220316/chr22test/tmp/CACHE/chr22test23cutoff0.05unimputed.input\n"
     ]
    },
    {
     "name": "stderr",
     "output_type": "stream",
     "text": [
      "exist! jump ../data/wg20220316/chr22test/tmp/CACHE/chr22test24cutoff0.05unimputed.input\n",
      "exist! jump ../data/wg20220316/chr22test/tmp/CACHE/chr22test24cutoff0.05unimputed.lods\n"
     ]
    },
    {
     "name": "stdout",
     "output_type": "stream",
     "text": [
      "create input ../data/wg20220316/chr22test/tmp/CACHE/chr22test23cutoff0.05unimputed.lods\n",
      "3815.2759209126234\n",
      "../data/wg20220316/chr22test/tmp/CACHE/chr22test22\n",
      "create input ../data/wg20220316/chr22test/tmp/CACHE/chr22test22cutoff0.05unimputed.input\n",
      "create input ../data/wg20220316/chr22test/tmp/CACHE/chr22test22cutoff0.05unimputed.lods\n",
      "2975.9615220054984\n",
      "../data/wg20220316/chr22test/tmp/CACHE/chr22test21\n",
      "create input ../data/wg20220316/chr22test/tmp/CACHE/chr22test21cutoff0.05unimputed.input\n",
      "create input ../data/wg20220316/chr22test/tmp/CACHE/chr22test21cutoff0.05unimputed.lods\n",
      "3550.831952303648\n",
      "../data/wg20220316/chr22test/tmp/CACHE/chr22test20\n",
      "create input ../data/wg20220316/chr22test/tmp/CACHE/chr22test20cutoff0.05unimputed.input\n",
      "create input ../data/wg20220316/chr22test/tmp/CACHE/chr22test20cutoff0.05unimputed.lods\n",
      "2697.201189249754\n",
      "../data/wg20220316/chr22test/tmp/CACHE/chr22test19\n",
      "create input ../data/wg20220316/chr22test/tmp/CACHE/chr22test19cutoff0.05unimputed.input\n",
      "create input ../data/wg20220316/chr22test/tmp/CACHE/chr22test19cutoff0.05unimputed.lods\n",
      "1159.5177156180143\n",
      "../data/wg20220316/chr22test/tmp/CACHE/chr22test18\n",
      "create input ../data/wg20220316/chr22test/tmp/CACHE/chr22test18cutoff0.05unimputed.input\n",
      "create input ../data/wg20220316/chr22test/tmp/CACHE/chr22test18cutoff0.05unimputed.lods\n",
      "918.2032298892736\n",
      "../data/wg20220316/chr22test/tmp/CACHE/chr22test17\n",
      "create input ../data/wg20220316/chr22test/tmp/CACHE/chr22test17cutoff0.05unimputed.input\n",
      "create input ../data/wg20220316/chr22test/tmp/CACHE/chr22test17cutoff0.05unimputed.lods\n",
      "1525.852048367262\n",
      "../data/wg20220316/chr22test/tmp/CACHE/chr22test16\n",
      "create input ../data/wg20220316/chr22test/tmp/CACHE/chr22test16cutoff0.05unimputed.input\n",
      "create input ../data/wg20220316/chr22test/tmp/CACHE/chr22test16cutoff0.05unimputed.lods\n",
      "862.629325337708\n",
      "../data/wg20220316/chr22test/tmp/CACHE/chr22test15\n",
      "create input ../data/wg20220316/chr22test/tmp/CACHE/chr22test15cutoff0.05unimputed.input\n",
      "create input ../data/wg20220316/chr22test/tmp/CACHE/chr22test15cutoff0.05unimputed.lods\n",
      "1026.3272412791848\n",
      "../data/wg20220316/chr22test/tmp/CACHE/chr22test14\n",
      "create input ../data/wg20220316/chr22test/tmp/CACHE/chr22test14cutoff0.05unimputed.input\n",
      "create input ../data/wg20220316/chr22test/tmp/CACHE/chr22test14cutoff0.05unimputed.lods\n",
      "1444.2991509884596\n",
      "../data/wg20220316/chr22test/tmp/CACHE/chr22test13\n",
      "create input ../data/wg20220316/chr22test/tmp/CACHE/chr22test13cutoff0.05unimputed.input\n",
      "create input ../data/wg20220316/chr22test/tmp/CACHE/chr22test13cutoff0.05unimputed.lods\n",
      "2651.569228731096\n",
      "../data/wg20220316/chr22test/tmp/CACHE/chr22test12\n",
      "create input ../data/wg20220316/chr22test/tmp/CACHE/chr22test12cutoff0.05unimputed.input\n",
      "create input ../data/wg20220316/chr22test/tmp/CACHE/chr22test12cutoff0.05unimputed.lods\n",
      "4451.343232676387\n",
      "../data/wg20220316/chr22test/tmp/CACHE/chr22test11\n",
      "create input ../data/wg20220316/chr22test/tmp/CACHE/chr22test11cutoff0.05unimputed.input\n",
      "create input ../data/wg20220316/chr22test/tmp/CACHE/chr22test11cutoff0.05unimputed.lods\n",
      "1255.633154168725\n",
      "../data/wg20220316/chr22test/tmp/CACHE/chr22test10\n",
      "create input ../data/wg20220316/chr22test/tmp/CACHE/chr22test10cutoff0.05unimputed.input\n",
      "create input ../data/wg20220316/chr22test/tmp/CACHE/chr22test10cutoff0.05unimputed.lods\n",
      "1302.4823306277394\n",
      "../data/wg20220316/chr22test/tmp/CACHE/chr22test9\n",
      "create input ../data/wg20220316/chr22test/tmp/CACHE/chr22test9cutoff0.05unimputed.input\n",
      "create input ../data/wg20220316/chr22test/tmp/CACHE/chr22test9cutoff0.05unimputed.lods\n",
      "1768.4950269460678\n",
      "../data/wg20220316/chr22test/tmp/CACHE/chr22test8\n",
      "create input ../data/wg20220316/chr22test/tmp/CACHE/chr22test8cutoff0.05unimputed.input\n",
      "create input ../data/wg20220316/chr22test/tmp/CACHE/chr22test8cutoff0.05unimputed.lods\n",
      "2728.166352495551\n",
      "../data/wg20220316/chr22test/tmp/CACHE/chr22test7\n",
      "create input ../data/wg20220316/chr22test/tmp/CACHE/chr22test7cutoff0.05unimputed.input\n",
      "create input ../data/wg20220316/chr22test/tmp/CACHE/chr22test7cutoff0.05unimputed.lods\n",
      "1757.9775252267718\n",
      "../data/wg20220316/chr22test/tmp/CACHE/chr22test6\n",
      "create input ../data/wg20220316/chr22test/tmp/CACHE/chr22test6cutoff0.05unimputed.input\n",
      "create input ../data/wg20220316/chr22test/tmp/CACHE/chr22test6cutoff0.05unimputed.lods\n",
      "1270.0055547058582\n",
      "../data/wg20220316/chr22test/tmp/CACHE/chr22test5\n",
      "create input ../data/wg20220316/chr22test/tmp/CACHE/chr22test5cutoff0.05unimputed.input\n",
      "create input ../data/wg20220316/chr22test/tmp/CACHE/chr22test5cutoff0.05unimputed.lods\n",
      "1197.6981139928102\n",
      "../data/wg20220316/chr22test/tmp/CACHE/chr22test4\n",
      "create input ../data/wg20220316/chr22test/tmp/CACHE/chr22test4cutoff0.05unimputed.input\n",
      "create input ../data/wg20220316/chr22test/tmp/CACHE/chr22test4cutoff0.05unimputed.lods\n",
      "557.5677814260125\n",
      "../data/wg20220316/chr22test/tmp/CACHE/chr22test3\n",
      "create input ../data/wg20220316/chr22test/tmp/CACHE/chr22test3cutoff0.05unimputed.input\n",
      "create input ../data/wg20220316/chr22test/tmp/CACHE/chr22test3cutoff0.05unimputed.lods\n",
      "779.8307698443532\n",
      "../data/wg20220316/chr22test/tmp/CACHE/chr22test2\n",
      "create input ../data/wg20220316/chr22test/tmp/CACHE/chr22test2cutoff0.05unimputed.input\n",
      "create input ../data/wg20220316/chr22test/tmp/CACHE/chr22test2cutoff0.05unimputed.lods\n",
      "1182.7327677235007\n",
      "../data/wg20220316/chr22test/tmp/CACHE/chr22test1\n",
      "create input ../data/wg20220316/chr22test/tmp/CACHE/chr22test1cutoff0.05unimputed.input\n",
      "create input ../data/wg20220316/chr22test/tmp/CACHE/chr22test1cutoff0.05unimputed.lods\n",
      "1845.5880765542388\n",
      "../data/wg20220316/chr22test/tmp/CACHE/chr22test0\n",
      "create input ../data/wg20220316/chr22test/tmp/CACHE/chr22test0cutoff0.05unimputed.input\n",
      "create input ../data/wg20220316/chr22test/tmp/CACHE/chr22test0cutoff0.05unimputed.lods\n",
      "1756.7208736017346\n"
     ]
    }
   ],
   "source": [
    "for i in inputs:\n",
    "    file=i[:-7]\n",
    "    print(file)\n",
    "    output=file+'cutoff'+str(cutoff)+'unimputed.input'\n",
    "    if os.path.isfile(output):\n",
    "        print('exist! jump',output,file=sys.stderr)\n",
    "    else:\n",
    "        print('create input',output,file=sys.stdout)\n",
    "        with open(file+'.pickle', 'rb') as handle:\n",
    "            genes = pickle.load(handle)\n",
    "        gene_variants,gene_fam_haps = format_haps_bunch(genes,fam17_d,fam17_vcf,cutoff)\n",
    "        with open(file+'cutoff'+str(cutoff)+'unimputed.input','wb') as handle:\n",
    "            pickle.dump([gene_variants,gene_fam_haps], handle, protocol=pickle.HIGHEST_PROTOCOL)\n",
    "\n",
    "    output_file=output[:-6]+'.lods'\n",
    "    if os.path.isfile(output_file):\n",
    "        print('exist! jump',output_file,file=sys.stderr)\n",
    "    else:\n",
    "        print('create input',output_file,file=sys.stdout)\n",
    "        with open(output, 'rb') as handle:\n",
    "            gene_variants,gene_fam_haps = pickle.load(handle) \n",
    "        afreqs = []\n",
    "        for k in gene_fam_haps.keys():\n",
    "            variants= gene_variants[k]\n",
    "            variants=variants.freqs[variants.uniq]\n",
    "            afreqs.append(list(variants.round(decimals=3)))\n",
    "        res = parallel_lods(gene_fam_haps.values(),afreqs,np.arange(0,0.5,0.05))\n",
    "        with open(output_file,'wb') as handle:\n",
    "            pickle.dump(res, handle, protocol=pickle.HIGHEST_PROTOCOL)"
   ]
  },
  {
   "cell_type": "markdown",
   "id": "0d5957cc-20f6-4125-bad2-e02da54ca5e8",
   "metadata": {},
   "source": [
    "### Genotype of Genes on chr22"
   ]
  },
  {
   "cell_type": "code",
   "execution_count": null,
   "id": "950634ef-1bd7-4a34-9d75-7b738250fd47",
   "metadata": {},
   "outputs": [],
   "source": [
    "inputs=glob.glob('../data/wg20220419/chr22test/tmp/CACHE/chr22test*.pickle')"
   ]
  },
  {
   "cell_type": "code",
   "execution_count": null,
   "id": "4bca00d2-f0b5-4019-9d9e-82f34c539033",
   "metadata": {},
   "outputs": [
    {
     "name": "stdout",
     "output_type": "stream",
     "text": [
      "../data/wg20220419/chr22test/tmp/CACHE/chr22test25\n",
      "create input ../data/wg20220419/chr22test/tmp/CACHE/chr22test25cutoff0.05unimputed.input\n",
      "create input ../data/wg20220419/chr22test/tmp/CACHE/chr22test25cutoff0.05unimputed.lods\n",
      "219.76730405539274\n",
      "../data/wg20220419/chr22test/tmp/CACHE/chr22test24\n",
      "create input ../data/wg20220419/chr22test/tmp/CACHE/chr22test24cutoff0.05unimputed.input\n",
      "create input ../data/wg20220419/chr22test/tmp/CACHE/chr22test24cutoff0.05unimputed.lods\n",
      "844.886928498745\n",
      "../data/wg20220419/chr22test/tmp/CACHE/chr22test23\n",
      "create input ../data/wg20220419/chr22test/tmp/CACHE/chr22test23cutoff0.05unimputed.input\n",
      "create input ../data/wg20220419/chr22test/tmp/CACHE/chr22test23cutoff0.05unimputed.lods\n"
     ]
    }
   ],
   "source": [
    "for i in inputs:\n",
    "    file=i[:-7]\n",
    "    print(file)\n",
    "    output=file+'cutoff'+str(cutoff)+'unimputed.input'\n",
    "    if os.path.isfile(output):\n",
    "        print('exist! jump',output,file=sys.stderr)\n",
    "    else:\n",
    "        print('create input',output,file=sys.stdout)\n",
    "        with open(file+'.pickle', 'rb') as handle:\n",
    "            genes = pickle.load(handle)\n",
    "        gene_variants,gene_fam_haps = format_haps_bunch(genes,fam17_d,fam17_vcf,cutoff,haplotype=False)\n",
    "        with open(file+'cutoff'+str(cutoff)+'unimputed.input','wb') as handle:\n",
    "            pickle.dump([gene_variants,gene_fam_haps], handle, protocol=pickle.HIGHEST_PROTOCOL)\n",
    "\n",
    "    output_file=output[:-6]+'.lods'\n",
    "    if os.path.isfile(output_file):\n",
    "        print('exist! jump',output_file,file=sys.stderr)\n",
    "    else:\n",
    "        print('create input',output_file,file=sys.stdout)\n",
    "        with open(output, 'rb') as handle:\n",
    "            gene_variants,gene_fam_haps = pickle.load(handle) \n",
    "        afreqs = []\n",
    "        for k in gene_fam_haps.keys():\n",
    "            variants= gene_variants[k]\n",
    "            variants=variants.freqs[variants.uniq]\n",
    "            afreqs.append(list(variants.round(decimals=3)))\n",
    "        res = parallel_lods(gene_fam_haps.values(),afreqs,np.arange(0,0.5,0.05))\n",
    "        with open(output_file,'wb') as handle:\n",
    "            pickle.dump(res, handle, protocol=pickle.HIGHEST_PROTOCOL)"
   ]
  },
  {
   "cell_type": "code",
   "execution_count": null,
   "id": "f8a3beaf-34ca-4cba-b664-c38a0c25d354",
   "metadata": {},
   "outputs": [],
   "source": []
  },
  {
   "cell_type": "markdown",
   "id": "a36d09f6-ef94-4eae-a1f2-ea1d7d5b5521",
   "metadata": {},
   "source": [
    "sos run nbs/seqlink_sos.ipynb seqlink --cwd data/wg20220419 --fam_path data/new_trim_ped_famless17_no:xx.fam --vcf_path /mnt/mfs/statgen/alzheimers-family/linkage_files/geno/full_sample/vcf/full_sample.vcf.gz --anno_path MWE/annotation --pop_path data/full_sample_fam_pop.txt --chrom 22 -j 1"
   ]
  }
 ],
 "metadata": {
  "kernelspec": {
   "display_name": "Python 3 (ipykernel)",
   "language": "python",
   "name": "python3"
  }
 },
 "nbformat": 4,
 "nbformat_minor": 5
}
