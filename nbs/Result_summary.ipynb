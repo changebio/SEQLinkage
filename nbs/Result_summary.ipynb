{
 "cells": [
  {
   "cell_type": "markdown",
   "id": "f5c2f6b2-19e8-4239-a33f-c7761ed8ad47",
   "metadata": {},
   "source": [
    "# Result summary of linkage analysis of all variants"
   ]
  },
  {
   "cell_type": "code",
   "execution_count": null,
   "id": "bf10d0f0-80f9-4f72-b67b-d596de84580d",
   "metadata": {},
   "outputs": [],
   "source": [
    "import pandas as pd\n",
    "import numpy as np\n",
    "import pickle\n",
    "from SEQLinkage.linkage import *"
   ]
  },
  {
   "cell_type": "code",
   "execution_count": null,
   "id": "482313d7-fbac-4709-9270-44d98e382217",
   "metadata": {},
   "outputs": [],
   "source": [
    "import glob"
   ]
  },
  {
   "cell_type": "code",
   "execution_count": null,
   "id": "3abb4ba2-8c27-4250-830f-42bd72fe7195",
   "metadata": {},
   "outputs": [],
   "source": [
    "path_ress=glob.glob('../data/wg20220316/chr22test/tmp/CACHE/chr22test*cutoff0.05_rho*.result')"
   ]
  },
  {
   "cell_type": "code",
   "execution_count": null,
   "id": "832d1d52-2a91-484c-b6e5-003d0edc1aac",
   "metadata": {},
   "outputs": [
    {
     "data": {
      "text/plain": [
       "['../data/wg20220316/chr22test/tmp/CACHE/chr22test0cutoff0.05_rho0.45.result',\n",
       " '../data/wg20220316/chr22test/tmp/CACHE/chr22test0cutoff0.05_rho0.4.result',\n",
       " '../data/wg20220316/chr22test/tmp/CACHE/chr22test0cutoff0.05_rho0.35000000000000003.result',\n",
       " '../data/wg20220316/chr22test/tmp/CACHE/chr22test0cutoff0.05_rho0.30000000000000004.result',\n",
       " '../data/wg20220316/chr22test/tmp/CACHE/chr22test0cutoff0.05_rho0.25.result',\n",
       " '../data/wg20220316/chr22test/tmp/CACHE/chr22test0cutoff0.05_rho0.2.result',\n",
       " '../data/wg20220316/chr22test/tmp/CACHE/chr22test0cutoff0.05_rho0.15000000000000002.result',\n",
       " '../data/wg20220316/chr22test/tmp/CACHE/chr22test0cutoff0.05_rho0.1.result',\n",
       " '../data/wg20220316/chr22test/tmp/CACHE/chr22test0cutoff0.05_rho0.05.result',\n",
       " '../data/wg20220316/chr22test/tmp/CACHE/chr22test0cutoff0.05_rho0.0.result',\n",
       " '../data/wg20220316/chr22test/tmp/CACHE/chr22test1cutoff0.05_rho0.45.result',\n",
       " '../data/wg20220316/chr22test/tmp/CACHE/chr22test1cutoff0.05_rho0.4.result',\n",
       " '../data/wg20220316/chr22test/tmp/CACHE/chr22test1cutoff0.05_rho0.35000000000000003.result',\n",
       " '../data/wg20220316/chr22test/tmp/CACHE/chr22test1cutoff0.05_rho0.30000000000000004.result',\n",
       " '../data/wg20220316/chr22test/tmp/CACHE/chr22test1cutoff0.05_rho0.25.result',\n",
       " '../data/wg20220316/chr22test/tmp/CACHE/chr22test1cutoff0.05_rho0.2.result',\n",
       " '../data/wg20220316/chr22test/tmp/CACHE/chr22test1cutoff0.05_rho0.15000000000000002.result',\n",
       " '../data/wg20220316/chr22test/tmp/CACHE/chr22test1cutoff0.05_rho0.1.result',\n",
       " '../data/wg20220316/chr22test/tmp/CACHE/chr22test1cutoff0.05_rho0.05.result',\n",
       " '../data/wg20220316/chr22test/tmp/CACHE/chr22test1cutoff0.05_rho0.0.result',\n",
       " '../data/wg20220316/chr22test/tmp/CACHE/chr22test2cutoff0.05_rho0.45.result',\n",
       " '../data/wg20220316/chr22test/tmp/CACHE/chr22test2cutoff0.05_rho0.4.result',\n",
       " '../data/wg20220316/chr22test/tmp/CACHE/chr22test2cutoff0.05_rho0.35000000000000003.result',\n",
       " '../data/wg20220316/chr22test/tmp/CACHE/chr22test2cutoff0.05_rho0.30000000000000004.result',\n",
       " '../data/wg20220316/chr22test/tmp/CACHE/chr22test2cutoff0.05_rho0.25.result',\n",
       " '../data/wg20220316/chr22test/tmp/CACHE/chr22test2cutoff0.05_rho0.2.result',\n",
       " '../data/wg20220316/chr22test/tmp/CACHE/chr22test2cutoff0.05_rho0.15000000000000002.result',\n",
       " '../data/wg20220316/chr22test/tmp/CACHE/chr22test2cutoff0.05_rho0.1.result',\n",
       " '../data/wg20220316/chr22test/tmp/CACHE/chr22test2cutoff0.05_rho0.05.result',\n",
       " '../data/wg20220316/chr22test/tmp/CACHE/chr22test2cutoff0.05_rho0.0.result',\n",
       " '../data/wg20220316/chr22test/tmp/CACHE/chr22test3cutoff0.05_rho0.45.result',\n",
       " '../data/wg20220316/chr22test/tmp/CACHE/chr22test3cutoff0.05_rho0.4.result',\n",
       " '../data/wg20220316/chr22test/tmp/CACHE/chr22test3cutoff0.05_rho0.35000000000000003.result',\n",
       " '../data/wg20220316/chr22test/tmp/CACHE/chr22test3cutoff0.05_rho0.30000000000000004.result',\n",
       " '../data/wg20220316/chr22test/tmp/CACHE/chr22test3cutoff0.05_rho0.25.result',\n",
       " '../data/wg20220316/chr22test/tmp/CACHE/chr22test3cutoff0.05_rho0.2.result',\n",
       " '../data/wg20220316/chr22test/tmp/CACHE/chr22test3cutoff0.05_rho0.15000000000000002.result',\n",
       " '../data/wg20220316/chr22test/tmp/CACHE/chr22test3cutoff0.05_rho0.1.result',\n",
       " '../data/wg20220316/chr22test/tmp/CACHE/chr22test3cutoff0.05_rho0.05.result',\n",
       " '../data/wg20220316/chr22test/tmp/CACHE/chr22test3cutoff0.05_rho0.0.result',\n",
       " '../data/wg20220316/chr22test/tmp/CACHE/chr22test4cutoff0.05_rho0.45.result',\n",
       " '../data/wg20220316/chr22test/tmp/CACHE/chr22test4cutoff0.05_rho0.4.result',\n",
       " '../data/wg20220316/chr22test/tmp/CACHE/chr22test4cutoff0.05_rho0.35000000000000003.result',\n",
       " '../data/wg20220316/chr22test/tmp/CACHE/chr22test4cutoff0.05_rho0.30000000000000004.result',\n",
       " '../data/wg20220316/chr22test/tmp/CACHE/chr22test4cutoff0.05_rho0.25.result',\n",
       " '../data/wg20220316/chr22test/tmp/CACHE/chr22test4cutoff0.05_rho0.2.result',\n",
       " '../data/wg20220316/chr22test/tmp/CACHE/chr22test4cutoff0.05_rho0.15000000000000002.result',\n",
       " '../data/wg20220316/chr22test/tmp/CACHE/chr22test4cutoff0.05_rho0.1.result',\n",
       " '../data/wg20220316/chr22test/tmp/CACHE/chr22test4cutoff0.05_rho0.05.result',\n",
       " '../data/wg20220316/chr22test/tmp/CACHE/chr22test4cutoff0.05_rho0.0.result',\n",
       " '../data/wg20220316/chr22test/tmp/CACHE/chr22test5cutoff0.05_rho0.45.result',\n",
       " '../data/wg20220316/chr22test/tmp/CACHE/chr22test5cutoff0.05_rho0.4.result',\n",
       " '../data/wg20220316/chr22test/tmp/CACHE/chr22test5cutoff0.05_rho0.35000000000000003.result',\n",
       " '../data/wg20220316/chr22test/tmp/CACHE/chr22test5cutoff0.05_rho0.30000000000000004.result',\n",
       " '../data/wg20220316/chr22test/tmp/CACHE/chr22test5cutoff0.05_rho0.25.result',\n",
       " '../data/wg20220316/chr22test/tmp/CACHE/chr22test5cutoff0.05_rho0.2.result',\n",
       " '../data/wg20220316/chr22test/tmp/CACHE/chr22test5cutoff0.05_rho0.15000000000000002.result',\n",
       " '../data/wg20220316/chr22test/tmp/CACHE/chr22test5cutoff0.05_rho0.1.result',\n",
       " '../data/wg20220316/chr22test/tmp/CACHE/chr22test5cutoff0.05_rho0.05.result',\n",
       " '../data/wg20220316/chr22test/tmp/CACHE/chr22test5cutoff0.05_rho0.0.result',\n",
       " '../data/wg20220316/chr22test/tmp/CACHE/chr22test6cutoff0.05_rho0.45.result',\n",
       " '../data/wg20220316/chr22test/tmp/CACHE/chr22test6cutoff0.05_rho0.4.result',\n",
       " '../data/wg20220316/chr22test/tmp/CACHE/chr22test6cutoff0.05_rho0.35000000000000003.result',\n",
       " '../data/wg20220316/chr22test/tmp/CACHE/chr22test6cutoff0.05_rho0.30000000000000004.result',\n",
       " '../data/wg20220316/chr22test/tmp/CACHE/chr22test6cutoff0.05_rho0.25.result',\n",
       " '../data/wg20220316/chr22test/tmp/CACHE/chr22test6cutoff0.05_rho0.2.result',\n",
       " '../data/wg20220316/chr22test/tmp/CACHE/chr22test6cutoff0.05_rho0.15000000000000002.result',\n",
       " '../data/wg20220316/chr22test/tmp/CACHE/chr22test6cutoff0.05_rho0.1.result',\n",
       " '../data/wg20220316/chr22test/tmp/CACHE/chr22test6cutoff0.05_rho0.05.result',\n",
       " '../data/wg20220316/chr22test/tmp/CACHE/chr22test6cutoff0.05_rho0.0.result',\n",
       " '../data/wg20220316/chr22test/tmp/CACHE/chr22test7cutoff0.05_rho0.45.result',\n",
       " '../data/wg20220316/chr22test/tmp/CACHE/chr22test7cutoff0.05_rho0.4.result',\n",
       " '../data/wg20220316/chr22test/tmp/CACHE/chr22test7cutoff0.05_rho0.35000000000000003.result',\n",
       " '../data/wg20220316/chr22test/tmp/CACHE/chr22test7cutoff0.05_rho0.30000000000000004.result',\n",
       " '../data/wg20220316/chr22test/tmp/CACHE/chr22test7cutoff0.05_rho0.25.result',\n",
       " '../data/wg20220316/chr22test/tmp/CACHE/chr22test7cutoff0.05_rho0.2.result',\n",
       " '../data/wg20220316/chr22test/tmp/CACHE/chr22test7cutoff0.05_rho0.15000000000000002.result',\n",
       " '../data/wg20220316/chr22test/tmp/CACHE/chr22test7cutoff0.05_rho0.1.result',\n",
       " '../data/wg20220316/chr22test/tmp/CACHE/chr22test7cutoff0.05_rho0.05.result',\n",
       " '../data/wg20220316/chr22test/tmp/CACHE/chr22test7cutoff0.05_rho0.0.result',\n",
       " '../data/wg20220316/chr22test/tmp/CACHE/chr22test8cutoff0.05_rho0.45.result',\n",
       " '../data/wg20220316/chr22test/tmp/CACHE/chr22test8cutoff0.05_rho0.4.result',\n",
       " '../data/wg20220316/chr22test/tmp/CACHE/chr22test8cutoff0.05_rho0.35000000000000003.result',\n",
       " '../data/wg20220316/chr22test/tmp/CACHE/chr22test8cutoff0.05_rho0.30000000000000004.result',\n",
       " '../data/wg20220316/chr22test/tmp/CACHE/chr22test8cutoff0.05_rho0.25.result',\n",
       " '../data/wg20220316/chr22test/tmp/CACHE/chr22test8cutoff0.05_rho0.2.result',\n",
       " '../data/wg20220316/chr22test/tmp/CACHE/chr22test8cutoff0.05_rho0.15000000000000002.result',\n",
       " '../data/wg20220316/chr22test/tmp/CACHE/chr22test8cutoff0.05_rho0.1.result',\n",
       " '../data/wg20220316/chr22test/tmp/CACHE/chr22test8cutoff0.05_rho0.05.result',\n",
       " '../data/wg20220316/chr22test/tmp/CACHE/chr22test8cutoff0.05_rho0.0.result',\n",
       " '../data/wg20220316/chr22test/tmp/CACHE/chr22test9cutoff0.05_rho0.45.result',\n",
       " '../data/wg20220316/chr22test/tmp/CACHE/chr22test9cutoff0.05_rho0.4.result',\n",
       " '../data/wg20220316/chr22test/tmp/CACHE/chr22test9cutoff0.05_rho0.35000000000000003.result',\n",
       " '../data/wg20220316/chr22test/tmp/CACHE/chr22test9cutoff0.05_rho0.30000000000000004.result',\n",
       " '../data/wg20220316/chr22test/tmp/CACHE/chr22test9cutoff0.05_rho0.25.result',\n",
       " '../data/wg20220316/chr22test/tmp/CACHE/chr22test9cutoff0.05_rho0.2.result',\n",
       " '../data/wg20220316/chr22test/tmp/CACHE/chr22test9cutoff0.05_rho0.15000000000000002.result',\n",
       " '../data/wg20220316/chr22test/tmp/CACHE/chr22test9cutoff0.05_rho0.1.result',\n",
       " '../data/wg20220316/chr22test/tmp/CACHE/chr22test9cutoff0.05_rho0.05.result',\n",
       " '../data/wg20220316/chr22test/tmp/CACHE/chr22test9cutoff0.05_rho0.0.result',\n",
       " '../data/wg20220316/chr22test/tmp/CACHE/chr22test10cutoff0.05_rho0.45.result',\n",
       " '../data/wg20220316/chr22test/tmp/CACHE/chr22test10cutoff0.05_rho0.4.result',\n",
       " '../data/wg20220316/chr22test/tmp/CACHE/chr22test10cutoff0.05_rho0.35000000000000003.result',\n",
       " '../data/wg20220316/chr22test/tmp/CACHE/chr22test10cutoff0.05_rho0.30000000000000004.result',\n",
       " '../data/wg20220316/chr22test/tmp/CACHE/chr22test10cutoff0.05_rho0.25.result',\n",
       " '../data/wg20220316/chr22test/tmp/CACHE/chr22test10cutoff0.05_rho0.2.result',\n",
       " '../data/wg20220316/chr22test/tmp/CACHE/chr22test10cutoff0.05_rho0.15000000000000002.result',\n",
       " '../data/wg20220316/chr22test/tmp/CACHE/chr22test10cutoff0.05_rho0.1.result',\n",
       " '../data/wg20220316/chr22test/tmp/CACHE/chr22test10cutoff0.05_rho0.05.result',\n",
       " '../data/wg20220316/chr22test/tmp/CACHE/chr22test10cutoff0.05_rho0.0.result',\n",
       " '../data/wg20220316/chr22test/tmp/CACHE/chr22test11cutoff0.05_rho0.45.result',\n",
       " '../data/wg20220316/chr22test/tmp/CACHE/chr22test11cutoff0.05_rho0.4.result',\n",
       " '../data/wg20220316/chr22test/tmp/CACHE/chr22test11cutoff0.05_rho0.35000000000000003.result',\n",
       " '../data/wg20220316/chr22test/tmp/CACHE/chr22test11cutoff0.05_rho0.30000000000000004.result',\n",
       " '../data/wg20220316/chr22test/tmp/CACHE/chr22test11cutoff0.05_rho0.25.result',\n",
       " '../data/wg20220316/chr22test/tmp/CACHE/chr22test11cutoff0.05_rho0.2.result',\n",
       " '../data/wg20220316/chr22test/tmp/CACHE/chr22test11cutoff0.05_rho0.15000000000000002.result',\n",
       " '../data/wg20220316/chr22test/tmp/CACHE/chr22test11cutoff0.05_rho0.1.result',\n",
       " '../data/wg20220316/chr22test/tmp/CACHE/chr22test11cutoff0.05_rho0.05.result',\n",
       " '../data/wg20220316/chr22test/tmp/CACHE/chr22test11cutoff0.05_rho0.0.result',\n",
       " '../data/wg20220316/chr22test/tmp/CACHE/chr22test12cutoff0.05_rho0.45.result',\n",
       " '../data/wg20220316/chr22test/tmp/CACHE/chr22test12cutoff0.05_rho0.4.result',\n",
       " '../data/wg20220316/chr22test/tmp/CACHE/chr22test12cutoff0.05_rho0.35000000000000003.result',\n",
       " '../data/wg20220316/chr22test/tmp/CACHE/chr22test12cutoff0.05_rho0.30000000000000004.result',\n",
       " '../data/wg20220316/chr22test/tmp/CACHE/chr22test12cutoff0.05_rho0.25.result',\n",
       " '../data/wg20220316/chr22test/tmp/CACHE/chr22test12cutoff0.05_rho0.2.result',\n",
       " '../data/wg20220316/chr22test/tmp/CACHE/chr22test12cutoff0.05_rho0.15000000000000002.result',\n",
       " '../data/wg20220316/chr22test/tmp/CACHE/chr22test12cutoff0.05_rho0.1.result',\n",
       " '../data/wg20220316/chr22test/tmp/CACHE/chr22test12cutoff0.05_rho0.05.result',\n",
       " '../data/wg20220316/chr22test/tmp/CACHE/chr22test12cutoff0.05_rho0.0.result',\n",
       " '../data/wg20220316/chr22test/tmp/CACHE/chr22test13cutoff0.05_rho0.45.result',\n",
       " '../data/wg20220316/chr22test/tmp/CACHE/chr22test13cutoff0.05_rho0.4.result',\n",
       " '../data/wg20220316/chr22test/tmp/CACHE/chr22test13cutoff0.05_rho0.35000000000000003.result',\n",
       " '../data/wg20220316/chr22test/tmp/CACHE/chr22test13cutoff0.05_rho0.30000000000000004.result',\n",
       " '../data/wg20220316/chr22test/tmp/CACHE/chr22test13cutoff0.05_rho0.25.result',\n",
       " '../data/wg20220316/chr22test/tmp/CACHE/chr22test13cutoff0.05_rho0.2.result',\n",
       " '../data/wg20220316/chr22test/tmp/CACHE/chr22test13cutoff0.05_rho0.15000000000000002.result',\n",
       " '../data/wg20220316/chr22test/tmp/CACHE/chr22test13cutoff0.05_rho0.1.result',\n",
       " '../data/wg20220316/chr22test/tmp/CACHE/chr22test13cutoff0.05_rho0.05.result',\n",
       " '../data/wg20220316/chr22test/tmp/CACHE/chr22test13cutoff0.05_rho0.0.result',\n",
       " '../data/wg20220316/chr22test/tmp/CACHE/chr22test14cutoff0.05_rho0.45.result',\n",
       " '../data/wg20220316/chr22test/tmp/CACHE/chr22test14cutoff0.05_rho0.4.result',\n",
       " '../data/wg20220316/chr22test/tmp/CACHE/chr22test14cutoff0.05_rho0.35000000000000003.result',\n",
       " '../data/wg20220316/chr22test/tmp/CACHE/chr22test14cutoff0.05_rho0.30000000000000004.result',\n",
       " '../data/wg20220316/chr22test/tmp/CACHE/chr22test14cutoff0.05_rho0.25.result',\n",
       " '../data/wg20220316/chr22test/tmp/CACHE/chr22test14cutoff0.05_rho0.2.result',\n",
       " '../data/wg20220316/chr22test/tmp/CACHE/chr22test14cutoff0.05_rho0.15000000000000002.result',\n",
       " '../data/wg20220316/chr22test/tmp/CACHE/chr22test14cutoff0.05_rho0.1.result',\n",
       " '../data/wg20220316/chr22test/tmp/CACHE/chr22test14cutoff0.05_rho0.05.result',\n",
       " '../data/wg20220316/chr22test/tmp/CACHE/chr22test14cutoff0.05_rho0.0.result',\n",
       " '../data/wg20220316/chr22test/tmp/CACHE/chr22test15cutoff0.05_rho0.45.result',\n",
       " '../data/wg20220316/chr22test/tmp/CACHE/chr22test15cutoff0.05_rho0.4.result',\n",
       " '../data/wg20220316/chr22test/tmp/CACHE/chr22test15cutoff0.05_rho0.35000000000000003.result',\n",
       " '../data/wg20220316/chr22test/tmp/CACHE/chr22test15cutoff0.05_rho0.30000000000000004.result',\n",
       " '../data/wg20220316/chr22test/tmp/CACHE/chr22test15cutoff0.05_rho0.25.result',\n",
       " '../data/wg20220316/chr22test/tmp/CACHE/chr22test15cutoff0.05_rho0.2.result',\n",
       " '../data/wg20220316/chr22test/tmp/CACHE/chr22test15cutoff0.05_rho0.15000000000000002.result',\n",
       " '../data/wg20220316/chr22test/tmp/CACHE/chr22test15cutoff0.05_rho0.1.result',\n",
       " '../data/wg20220316/chr22test/tmp/CACHE/chr22test15cutoff0.05_rho0.05.result',\n",
       " '../data/wg20220316/chr22test/tmp/CACHE/chr22test15cutoff0.05_rho0.0.result',\n",
       " '../data/wg20220316/chr22test/tmp/CACHE/chr22test16cutoff0.05_rho0.45.result',\n",
       " '../data/wg20220316/chr22test/tmp/CACHE/chr22test16cutoff0.05_rho0.4.result',\n",
       " '../data/wg20220316/chr22test/tmp/CACHE/chr22test16cutoff0.05_rho0.35000000000000003.result',\n",
       " '../data/wg20220316/chr22test/tmp/CACHE/chr22test16cutoff0.05_rho0.30000000000000004.result',\n",
       " '../data/wg20220316/chr22test/tmp/CACHE/chr22test16cutoff0.05_rho0.25.result',\n",
       " '../data/wg20220316/chr22test/tmp/CACHE/chr22test16cutoff0.05_rho0.2.result',\n",
       " '../data/wg20220316/chr22test/tmp/CACHE/chr22test16cutoff0.05_rho0.15000000000000002.result',\n",
       " '../data/wg20220316/chr22test/tmp/CACHE/chr22test16cutoff0.05_rho0.1.result',\n",
       " '../data/wg20220316/chr22test/tmp/CACHE/chr22test16cutoff0.05_rho0.05.result',\n",
       " '../data/wg20220316/chr22test/tmp/CACHE/chr22test16cutoff0.05_rho0.0.result',\n",
       " '../data/wg20220316/chr22test/tmp/CACHE/chr22test17cutoff0.05_rho0.45.result',\n",
       " '../data/wg20220316/chr22test/tmp/CACHE/chr22test17cutoff0.05_rho0.4.result',\n",
       " '../data/wg20220316/chr22test/tmp/CACHE/chr22test17cutoff0.05_rho0.35000000000000003.result',\n",
       " '../data/wg20220316/chr22test/tmp/CACHE/chr22test17cutoff0.05_rho0.30000000000000004.result',\n",
       " '../data/wg20220316/chr22test/tmp/CACHE/chr22test17cutoff0.05_rho0.25.result',\n",
       " '../data/wg20220316/chr22test/tmp/CACHE/chr22test17cutoff0.05_rho0.2.result',\n",
       " '../data/wg20220316/chr22test/tmp/CACHE/chr22test17cutoff0.05_rho0.15000000000000002.result',\n",
       " '../data/wg20220316/chr22test/tmp/CACHE/chr22test17cutoff0.05_rho0.1.result',\n",
       " '../data/wg20220316/chr22test/tmp/CACHE/chr22test17cutoff0.05_rho0.05.result',\n",
       " '../data/wg20220316/chr22test/tmp/CACHE/chr22test17cutoff0.05_rho0.0.result',\n",
       " '../data/wg20220316/chr22test/tmp/CACHE/chr22test18cutoff0.05_rho0.45.result',\n",
       " '../data/wg20220316/chr22test/tmp/CACHE/chr22test18cutoff0.05_rho0.4.result',\n",
       " '../data/wg20220316/chr22test/tmp/CACHE/chr22test18cutoff0.05_rho0.35000000000000003.result',\n",
       " '../data/wg20220316/chr22test/tmp/CACHE/chr22test18cutoff0.05_rho0.30000000000000004.result',\n",
       " '../data/wg20220316/chr22test/tmp/CACHE/chr22test18cutoff0.05_rho0.25.result',\n",
       " '../data/wg20220316/chr22test/tmp/CACHE/chr22test18cutoff0.05_rho0.2.result',\n",
       " '../data/wg20220316/chr22test/tmp/CACHE/chr22test18cutoff0.05_rho0.15000000000000002.result',\n",
       " '../data/wg20220316/chr22test/tmp/CACHE/chr22test18cutoff0.05_rho0.1.result',\n",
       " '../data/wg20220316/chr22test/tmp/CACHE/chr22test18cutoff0.05_rho0.05.result',\n",
       " '../data/wg20220316/chr22test/tmp/CACHE/chr22test18cutoff0.05_rho0.0.result',\n",
       " '../data/wg20220316/chr22test/tmp/CACHE/chr22test19cutoff0.05_rho0.45.result',\n",
       " '../data/wg20220316/chr22test/tmp/CACHE/chr22test19cutoff0.05_rho0.4.result',\n",
       " '../data/wg20220316/chr22test/tmp/CACHE/chr22test19cutoff0.05_rho0.35000000000000003.result',\n",
       " '../data/wg20220316/chr22test/tmp/CACHE/chr22test19cutoff0.05_rho0.30000000000000004.result',\n",
       " '../data/wg20220316/chr22test/tmp/CACHE/chr22test19cutoff0.05_rho0.25.result',\n",
       " '../data/wg20220316/chr22test/tmp/CACHE/chr22test19cutoff0.05_rho0.2.result',\n",
       " '../data/wg20220316/chr22test/tmp/CACHE/chr22test19cutoff0.05_rho0.15000000000000002.result',\n",
       " '../data/wg20220316/chr22test/tmp/CACHE/chr22test19cutoff0.05_rho0.1.result',\n",
       " '../data/wg20220316/chr22test/tmp/CACHE/chr22test19cutoff0.05_rho0.05.result',\n",
       " '../data/wg20220316/chr22test/tmp/CACHE/chr22test19cutoff0.05_rho0.0.result',\n",
       " '../data/wg20220316/chr22test/tmp/CACHE/chr22test20cutoff0.05_rho0.45.result',\n",
       " '../data/wg20220316/chr22test/tmp/CACHE/chr22test20cutoff0.05_rho0.4.result',\n",
       " '../data/wg20220316/chr22test/tmp/CACHE/chr22test20cutoff0.05_rho0.35000000000000003.result',\n",
       " '../data/wg20220316/chr22test/tmp/CACHE/chr22test20cutoff0.05_rho0.30000000000000004.result',\n",
       " '../data/wg20220316/chr22test/tmp/CACHE/chr22test20cutoff0.05_rho0.25.result',\n",
       " '../data/wg20220316/chr22test/tmp/CACHE/chr22test20cutoff0.05_rho0.2.result',\n",
       " '../data/wg20220316/chr22test/tmp/CACHE/chr22test20cutoff0.05_rho0.15000000000000002.result',\n",
       " '../data/wg20220316/chr22test/tmp/CACHE/chr22test20cutoff0.05_rho0.1.result',\n",
       " '../data/wg20220316/chr22test/tmp/CACHE/chr22test20cutoff0.05_rho0.05.result',\n",
       " '../data/wg20220316/chr22test/tmp/CACHE/chr22test20cutoff0.05_rho0.0.result',\n",
       " '../data/wg20220316/chr22test/tmp/CACHE/chr22test21cutoff0.05_rho0.45.result',\n",
       " '../data/wg20220316/chr22test/tmp/CACHE/chr22test21cutoff0.05_rho0.4.result',\n",
       " '../data/wg20220316/chr22test/tmp/CACHE/chr22test21cutoff0.05_rho0.35000000000000003.result',\n",
       " '../data/wg20220316/chr22test/tmp/CACHE/chr22test21cutoff0.05_rho0.30000000000000004.result',\n",
       " '../data/wg20220316/chr22test/tmp/CACHE/chr22test21cutoff0.05_rho0.25.result',\n",
       " '../data/wg20220316/chr22test/tmp/CACHE/chr22test21cutoff0.05_rho0.2.result',\n",
       " '../data/wg20220316/chr22test/tmp/CACHE/chr22test21cutoff0.05_rho0.15000000000000002.result',\n",
       " '../data/wg20220316/chr22test/tmp/CACHE/chr22test21cutoff0.05_rho0.1.result',\n",
       " '../data/wg20220316/chr22test/tmp/CACHE/chr22test21cutoff0.05_rho0.05.result',\n",
       " '../data/wg20220316/chr22test/tmp/CACHE/chr22test21cutoff0.05_rho0.0.result',\n",
       " '../data/wg20220316/chr22test/tmp/CACHE/chr22test22cutoff0.05_rho0.45.result',\n",
       " '../data/wg20220316/chr22test/tmp/CACHE/chr22test22cutoff0.05_rho0.4.result',\n",
       " '../data/wg20220316/chr22test/tmp/CACHE/chr22test22cutoff0.05_rho0.35000000000000003.result',\n",
       " '../data/wg20220316/chr22test/tmp/CACHE/chr22test22cutoff0.05_rho0.30000000000000004.result',\n",
       " '../data/wg20220316/chr22test/tmp/CACHE/chr22test22cutoff0.05_rho0.25.result',\n",
       " '../data/wg20220316/chr22test/tmp/CACHE/chr22test22cutoff0.05_rho0.2.result',\n",
       " '../data/wg20220316/chr22test/tmp/CACHE/chr22test22cutoff0.05_rho0.15000000000000002.result',\n",
       " '../data/wg20220316/chr22test/tmp/CACHE/chr22test22cutoff0.05_rho0.1.result',\n",
       " '../data/wg20220316/chr22test/tmp/CACHE/chr22test22cutoff0.05_rho0.05.result',\n",
       " '../data/wg20220316/chr22test/tmp/CACHE/chr22test22cutoff0.05_rho0.0.result',\n",
       " '../data/wg20220316/chr22test/tmp/CACHE/chr22test23cutoff0.05_rho0.45.result',\n",
       " '../data/wg20220316/chr22test/tmp/CACHE/chr22test23cutoff0.05_rho0.4.result',\n",
       " '../data/wg20220316/chr22test/tmp/CACHE/chr22test23cutoff0.05_rho0.35000000000000003.result',\n",
       " '../data/wg20220316/chr22test/tmp/CACHE/chr22test23cutoff0.05_rho0.30000000000000004.result',\n",
       " '../data/wg20220316/chr22test/tmp/CACHE/chr22test23cutoff0.05_rho0.25.result',\n",
       " '../data/wg20220316/chr22test/tmp/CACHE/chr22test23cutoff0.05_rho0.2.result',\n",
       " '../data/wg20220316/chr22test/tmp/CACHE/chr22test23cutoff0.05_rho0.15000000000000002.result',\n",
       " '../data/wg20220316/chr22test/tmp/CACHE/chr22test23cutoff0.05_rho0.1.result',\n",
       " '../data/wg20220316/chr22test/tmp/CACHE/chr22test23cutoff0.05_rho0.05.result',\n",
       " '../data/wg20220316/chr22test/tmp/CACHE/chr22test23cutoff0.05_rho0.0.result',\n",
       " '../data/wg20220316/chr22test/tmp/CACHE/chr22test24cutoff0.05_rho0.45.result',\n",
       " '../data/wg20220316/chr22test/tmp/CACHE/chr22test24cutoff0.05_rho0.4.result',\n",
       " '../data/wg20220316/chr22test/tmp/CACHE/chr22test24cutoff0.05_rho0.35000000000000003.result',\n",
       " '../data/wg20220316/chr22test/tmp/CACHE/chr22test24cutoff0.05_rho0.30000000000000004.result',\n",
       " '../data/wg20220316/chr22test/tmp/CACHE/chr22test24cutoff0.05_rho0.25.result',\n",
       " '../data/wg20220316/chr22test/tmp/CACHE/chr22test24cutoff0.05_rho0.2.result',\n",
       " '../data/wg20220316/chr22test/tmp/CACHE/chr22test24cutoff0.05_rho0.15000000000000002.result',\n",
       " '../data/wg20220316/chr22test/tmp/CACHE/chr22test24cutoff0.05_rho0.1.result',\n",
       " '../data/wg20220316/chr22test/tmp/CACHE/chr22test24cutoff0.05_rho0.05.result',\n",
       " '../data/wg20220316/chr22test/tmp/CACHE/chr22test24cutoff0.05_rho0.0.result']"
      ]
     },
     "execution_count": null,
     "metadata": {},
     "output_type": "execute_result"
    }
   ],
   "source": [
    "path_ress"
   ]
  },
  {
   "cell_type": "code",
   "execution_count": null,
   "id": "33aa6150-21a5-4fd9-96fb-dea89180cac3",
   "metadata": {},
   "outputs": [],
   "source": [
    "smy_ress=[]\n",
    "for path in path_ress:\n",
    "    with open(path, 'rb') as handle:\n",
    "        smy_ress.append(pickle.load(handle))"
   ]
  },
  {
   "cell_type": "code",
   "execution_count": null,
   "id": "a05e475c-bb7f-4ede-a13b-81d8a1621e0e",
   "metadata": {},
   "outputs": [
    {
     "ename": "NameError",
     "evalue": "name 'smy_ress' is not defined",
     "output_type": "error",
     "traceback": [
      "\u001b[0;31m---------------------------------------------------------------------------\u001b[0m",
      "\u001b[0;31mNameError\u001b[0m                                 Traceback (most recent call last)",
      "Input \u001b[0;32mIn [5]\u001b[0m, in \u001b[0;36m<cell line: 1>\u001b[0;34m()\u001b[0m\n\u001b[0;32m----> 1\u001b[0m smy_ress \u001b[38;5;241m=\u001b[39m pd\u001b[38;5;241m.\u001b[39mconcat(\u001b[43msmy_ress\u001b[49m)\n",
      "\u001b[0;31mNameError\u001b[0m: name 'smy_ress' is not defined"
     ]
    }
   ],
   "source": [
    "smy_ress = pd.concat(smy_ress)"
   ]
  },
  {
   "cell_type": "code",
   "execution_count": null,
   "id": "c6fb8f11-0be4-4fea-b6d6-67e94c40c7cd",
   "metadata": {},
   "outputs": [],
   "source": [
    "smy_ress = smy_ress.reset_index(drop=True)"
   ]
  },
  {
   "cell_type": "code",
   "execution_count": null,
   "id": "79800560-d54f-4147-9f9c-800ebc01abf2",
   "metadata": {},
   "outputs": [
    {
     "data": {
      "text/html": [
       "<div>\n",
       "<style scoped>\n",
       "    .dataframe tbody tr th:only-of-type {\n",
       "        vertical-align: middle;\n",
       "    }\n",
       "\n",
       "    .dataframe tbody tr th {\n",
       "        vertical-align: top;\n",
       "    }\n",
       "\n",
       "    .dataframe thead th {\n",
       "        text-align: right;\n",
       "    }\n",
       "</style>\n",
       "<table border=\"1\" class=\"dataframe\">\n",
       "  <thead>\n",
       "    <tr style=\"text-align: right;\">\n",
       "      <th></th>\n",
       "      <th>CHR</th>\n",
       "      <th>POS</th>\n",
       "      <th>A0</th>\n",
       "      <th>A1</th>\n",
       "      <th>SNP</th>\n",
       "      <th>LOD</th>\n",
       "    </tr>\n",
       "  </thead>\n",
       "  <tbody>\n",
       "    <tr>\n",
       "      <th>0</th>\n",
       "      <td>chr1</td>\n",
       "      <td>13273</td>\n",
       "      <td>G</td>\n",
       "      <td>C</td>\n",
       "      <td>chr1:13273:G:C</td>\n",
       "      <td>-74.514730</td>\n",
       "    </tr>\n",
       "    <tr>\n",
       "      <th>1</th>\n",
       "      <td>chr1</td>\n",
       "      <td>13417</td>\n",
       "      <td>C</td>\n",
       "      <td>CGAGA</td>\n",
       "      <td>chr1:13417:C:CGAGA</td>\n",
       "      <td>-45.422910</td>\n",
       "    </tr>\n",
       "    <tr>\n",
       "      <th>2</th>\n",
       "      <td>chr1</td>\n",
       "      <td>14464</td>\n",
       "      <td>A</td>\n",
       "      <td>T</td>\n",
       "      <td>chr1:14464:A:T</td>\n",
       "      <td>-73.298011</td>\n",
       "    </tr>\n",
       "    <tr>\n",
       "      <th>3</th>\n",
       "      <td>chr1</td>\n",
       "      <td>14470</td>\n",
       "      <td>G</td>\n",
       "      <td>A</td>\n",
       "      <td>chr1:14470:G:A</td>\n",
       "      <td>-23.480194</td>\n",
       "    </tr>\n",
       "    <tr>\n",
       "      <th>4</th>\n",
       "      <td>chr1</td>\n",
       "      <td>14653</td>\n",
       "      <td>C</td>\n",
       "      <td>T</td>\n",
       "      <td>chr1:14653:C:T</td>\n",
       "      <td>-75.901918</td>\n",
       "    </tr>\n",
       "    <tr>\n",
       "      <th>...</th>\n",
       "      <td>...</td>\n",
       "      <td>...</td>\n",
       "      <td>...</td>\n",
       "      <td>...</td>\n",
       "      <td>...</td>\n",
       "      <td>...</td>\n",
       "    </tr>\n",
       "    <tr>\n",
       "      <th>2151550</th>\n",
       "      <td>chr1</td>\n",
       "      <td>248917571</td>\n",
       "      <td>T</td>\n",
       "      <td>C</td>\n",
       "      <td>chr1:248917571:T:C</td>\n",
       "      <td>0.000000</td>\n",
       "    </tr>\n",
       "    <tr>\n",
       "      <th>2151551</th>\n",
       "      <td>chr1</td>\n",
       "      <td>248841866</td>\n",
       "      <td>C</td>\n",
       "      <td>T</td>\n",
       "      <td>chr1:248841866:C:T</td>\n",
       "      <td>-0.278979</td>\n",
       "    </tr>\n",
       "    <tr>\n",
       "      <th>2151552</th>\n",
       "      <td>chr1</td>\n",
       "      <td>248913782</td>\n",
       "      <td>A</td>\n",
       "      <td>AT</td>\n",
       "      <td>chr1:248913782:A:AT</td>\n",
       "      <td>-0.278979</td>\n",
       "    </tr>\n",
       "    <tr>\n",
       "      <th>2151553</th>\n",
       "      <td>chr1</td>\n",
       "      <td>248918955</td>\n",
       "      <td>T</td>\n",
       "      <td>C</td>\n",
       "      <td>chr1:248918955:T:C</td>\n",
       "      <td>-0.278979</td>\n",
       "    </tr>\n",
       "    <tr>\n",
       "      <th>2151554</th>\n",
       "      <td>chr1</td>\n",
       "      <td>248909615</td>\n",
       "      <td>G</td>\n",
       "      <td>C</td>\n",
       "      <td>chr1:248909615:G:C</td>\n",
       "      <td>-0.424501</td>\n",
       "    </tr>\n",
       "  </tbody>\n",
       "</table>\n",
       "<p>2151555 rows × 6 columns</p>\n",
       "</div>"
      ],
      "text/plain": [
       "          CHR        POS A0     A1                  SNP        LOD\n",
       "0        chr1      13273  G      C       chr1:13273:G:C -74.514730\n",
       "1        chr1      13417  C  CGAGA   chr1:13417:C:CGAGA -45.422910\n",
       "2        chr1      14464  A      T       chr1:14464:A:T -73.298011\n",
       "3        chr1      14470  G      A       chr1:14470:G:A -23.480194\n",
       "4        chr1      14653  C      T       chr1:14653:C:T -75.901918\n",
       "...       ...        ... ..    ...                  ...        ...\n",
       "2151550  chr1  248917571  T      C   chr1:248917571:T:C   0.000000\n",
       "2151551  chr1  248841866  C      T   chr1:248841866:C:T  -0.278979\n",
       "2151552  chr1  248913782  A     AT  chr1:248913782:A:AT  -0.278979\n",
       "2151553  chr1  248918955  T      C   chr1:248918955:T:C  -0.278979\n",
       "2151554  chr1  248909615  G      C   chr1:248909615:G:C  -0.424501\n",
       "\n",
       "[2151555 rows x 6 columns]"
      ]
     },
     "execution_count": null,
     "metadata": {},
     "output_type": "execute_result"
    }
   ],
   "source": [
    "smy_ress"
   ]
  },
  {
   "cell_type": "code",
   "execution_count": null,
   "id": "5b1224ad-1002-42b6-a195-5fa649870980",
   "metadata": {},
   "outputs": [],
   "source": [
    "with open('../data/wg20220316/chr1_common_variants.pickle','rb') as handle:\n",
    "    com_vars = pickle.load(handle)"
   ]
  },
  {
   "cell_type": "code",
   "execution_count": null,
   "id": "077688d0-6371-42e3-9578-5476cf50a0fd",
   "metadata": {},
   "outputs": [
    {
     "data": {
      "text/plain": [
       "1                 chr1:10146:AC:A\n",
       "5              chr1:10178:CCTAA:C\n",
       "11         chr1:10247:TAAACCCTA:T\n",
       "13                 chr1:10250:A:C\n",
       "43                chr1:10439:AC:A\n",
       "                    ...          \n",
       "6803126       chr1:248945750:G:GT\n",
       "6803162      chr1:248945852:T:TAG\n",
       "6803168      chr1:248946252:GGT:G\n",
       "6803170    chr1:248946254:T:TTAGG\n",
       "6803173        chr1:248946255:G:T\n",
       "Name: Otherinfo1, Length: 743228, dtype: object"
      ]
     },
     "execution_count": null,
     "metadata": {},
     "output_type": "execute_result"
    }
   ],
   "source": [
    "com_vars"
   ]
  },
  {
   "cell_type": "code",
   "execution_count": null,
   "id": "416b5777-ec23-497e-b845-f61f7a2235f9",
   "metadata": {},
   "outputs": [],
   "source": [
    "smy_ress_com = smy_ress[smy_ress.SNP.isin(com_vars)]"
   ]
  },
  {
   "cell_type": "code",
   "execution_count": null,
   "id": "0b299cae-b200-46e3-8077-18510fc62f93",
   "metadata": {},
   "outputs": [
    {
     "data": {
      "text/html": [
       "<div>\n",
       "<style scoped>\n",
       "    .dataframe tbody tr th:only-of-type {\n",
       "        vertical-align: middle;\n",
       "    }\n",
       "\n",
       "    .dataframe tbody tr th {\n",
       "        vertical-align: top;\n",
       "    }\n",
       "\n",
       "    .dataframe thead th {\n",
       "        text-align: right;\n",
       "    }\n",
       "</style>\n",
       "<table border=\"1\" class=\"dataframe\">\n",
       "  <thead>\n",
       "    <tr style=\"text-align: right;\">\n",
       "      <th></th>\n",
       "      <th>CHR</th>\n",
       "      <th>POS</th>\n",
       "      <th>A0</th>\n",
       "      <th>A1</th>\n",
       "      <th>SNP</th>\n",
       "      <th>LOD</th>\n",
       "    </tr>\n",
       "  </thead>\n",
       "  <tbody>\n",
       "    <tr>\n",
       "      <th>0</th>\n",
       "      <td>chr1</td>\n",
       "      <td>13273</td>\n",
       "      <td>G</td>\n",
       "      <td>C</td>\n",
       "      <td>chr1:13273:G:C</td>\n",
       "      <td>-74.514730</td>\n",
       "    </tr>\n",
       "    <tr>\n",
       "      <th>1</th>\n",
       "      <td>chr1</td>\n",
       "      <td>13417</td>\n",
       "      <td>C</td>\n",
       "      <td>CGAGA</td>\n",
       "      <td>chr1:13417:C:CGAGA</td>\n",
       "      <td>-45.422910</td>\n",
       "    </tr>\n",
       "    <tr>\n",
       "      <th>2</th>\n",
       "      <td>chr1</td>\n",
       "      <td>14464</td>\n",
       "      <td>A</td>\n",
       "      <td>T</td>\n",
       "      <td>chr1:14464:A:T</td>\n",
       "      <td>-73.298011</td>\n",
       "    </tr>\n",
       "    <tr>\n",
       "      <th>4</th>\n",
       "      <td>chr1</td>\n",
       "      <td>14653</td>\n",
       "      <td>C</td>\n",
       "      <td>T</td>\n",
       "      <td>chr1:14653:C:T</td>\n",
       "      <td>-75.901918</td>\n",
       "    </tr>\n",
       "    <tr>\n",
       "      <th>7</th>\n",
       "      <td>chr1</td>\n",
       "      <td>14907</td>\n",
       "      <td>A</td>\n",
       "      <td>G</td>\n",
       "      <td>chr1:14907:A:G</td>\n",
       "      <td>-73.862812</td>\n",
       "    </tr>\n",
       "    <tr>\n",
       "      <th>...</th>\n",
       "      <td>...</td>\n",
       "      <td>...</td>\n",
       "      <td>...</td>\n",
       "      <td>...</td>\n",
       "      <td>...</td>\n",
       "      <td>...</td>\n",
       "    </tr>\n",
       "    <tr>\n",
       "      <th>2150962</th>\n",
       "      <td>chr1</td>\n",
       "      <td>248855548</td>\n",
       "      <td>T</td>\n",
       "      <td>C</td>\n",
       "      <td>chr1:248855548:T:C</td>\n",
       "      <td>-68.558368</td>\n",
       "    </tr>\n",
       "    <tr>\n",
       "      <th>2150963</th>\n",
       "      <td>chr1</td>\n",
       "      <td>248855917</td>\n",
       "      <td>G</td>\n",
       "      <td>C</td>\n",
       "      <td>chr1:248855917:G:C</td>\n",
       "      <td>-64.218025</td>\n",
       "    </tr>\n",
       "    <tr>\n",
       "      <th>2150964</th>\n",
       "      <td>chr1</td>\n",
       "      <td>248856006</td>\n",
       "      <td>C</td>\n",
       "      <td>T</td>\n",
       "      <td>chr1:248856006:C:T</td>\n",
       "      <td>-64.218025</td>\n",
       "    </tr>\n",
       "    <tr>\n",
       "      <th>2150965</th>\n",
       "      <td>chr1</td>\n",
       "      <td>248856131</td>\n",
       "      <td>C</td>\n",
       "      <td>T</td>\n",
       "      <td>chr1:248856131:C:T</td>\n",
       "      <td>-64.218025</td>\n",
       "    </tr>\n",
       "    <tr>\n",
       "      <th>2151212</th>\n",
       "      <td>chr1</td>\n",
       "      <td>248914941</td>\n",
       "      <td>A</td>\n",
       "      <td>G</td>\n",
       "      <td>chr1:248914941:A:G</td>\n",
       "      <td>-8.968550</td>\n",
       "    </tr>\n",
       "  </tbody>\n",
       "</table>\n",
       "<p>352919 rows × 6 columns</p>\n",
       "</div>"
      ],
      "text/plain": [
       "          CHR        POS A0     A1                 SNP        LOD\n",
       "0        chr1      13273  G      C      chr1:13273:G:C -74.514730\n",
       "1        chr1      13417  C  CGAGA  chr1:13417:C:CGAGA -45.422910\n",
       "2        chr1      14464  A      T      chr1:14464:A:T -73.298011\n",
       "4        chr1      14653  C      T      chr1:14653:C:T -75.901918\n",
       "7        chr1      14907  A      G      chr1:14907:A:G -73.862812\n",
       "...       ...        ... ..    ...                 ...        ...\n",
       "2150962  chr1  248855548  T      C  chr1:248855548:T:C -68.558368\n",
       "2150963  chr1  248855917  G      C  chr1:248855917:G:C -64.218025\n",
       "2150964  chr1  248856006  C      T  chr1:248856006:C:T -64.218025\n",
       "2150965  chr1  248856131  C      T  chr1:248856131:C:T -64.218025\n",
       "2151212  chr1  248914941  A      G  chr1:248914941:A:G  -8.968550\n",
       "\n",
       "[352919 rows x 6 columns]"
      ]
     },
     "execution_count": null,
     "metadata": {},
     "output_type": "execute_result"
    }
   ],
   "source": [
    "smy_ress_com"
   ]
  },
  {
   "cell_type": "markdown",
   "id": "fcb630b7-3332-47b4-92b7-36dc9b2408b0",
   "metadata": {},
   "source": [
    "## all common variants"
   ]
  },
  {
   "cell_type": "code",
   "execution_count": null,
   "id": "f336704b-6c7c-4f11-8a98-912f58bf34fa",
   "metadata": {},
   "outputs": [
    {
     "data": {
      "text/plain": [
       "['../data/wg20220316/chr0test/',\n",
       " '../data/wg20220316/chr10test/',\n",
       " '../data/wg20220316/chr11test/',\n",
       " '../data/wg20220316/chr12test/',\n",
       " '../data/wg20220316/chr13test/',\n",
       " '../data/wg20220316/chr14test/',\n",
       " '../data/wg20220316/chr15test/',\n",
       " '../data/wg20220316/chr16test/',\n",
       " '../data/wg20220316/chr17test/',\n",
       " '../data/wg20220316/chr18test/',\n",
       " '../data/wg20220316/chr19test/',\n",
       " '../data/wg20220316/chr1test/',\n",
       " '../data/wg20220316/chr20test/',\n",
       " '../data/wg20220316/chr21test/',\n",
       " '../data/wg20220316/chr22test/',\n",
       " '../data/wg20220316/chr2test/',\n",
       " '../data/wg20220316/chr3test/',\n",
       " '../data/wg20220316/chr4test/',\n",
       " '../data/wg20220316/chr5test/',\n",
       " '../data/wg20220316/chr6test/',\n",
       " '../data/wg20220316/chr7test/',\n",
       " '../data/wg20220316/chr8test/',\n",
       " '../data/wg20220316/chr9test/']"
      ]
     },
     "execution_count": null,
     "metadata": {},
     "output_type": "execute_result"
    }
   ],
   "source": [
    "sorted(glob.glob('../data/wg20220316/chr*test/'))"
   ]
  },
  {
   "cell_type": "code",
   "execution_count": null,
   "id": "3f9ddc27-99cd-4ca5-a7ee-e612d382fc6f",
   "metadata": {},
   "outputs": [],
   "source": [
    "def get_common_smyress(path_ress,path_com_vars):\n",
    "    smy_ress=[]\n",
    "    for path in path_ress:\n",
    "        with open(path, 'rb') as handle:\n",
    "            smy_ress.append(pickle.load(handle))\n",
    "    smy_ress = pd.concat(smy_ress)\n",
    "    smy_ress = smy_ress.reset_index(drop=True)\n",
    "    with open(path_com_vars,'rb') as handle:\n",
    "        com_vars = pickle.load(handle)\n",
    "    smy_ress_com = smy_ress[smy_ress.SNP.isin(com_vars)]\n",
    "    return smy_ress_com"
   ]
  },
  {
   "cell_type": "code",
   "execution_count": null,
   "id": "0d4ac121-b114-44af-8031-92e5ca9d00e6",
   "metadata": {},
   "outputs": [
    {
     "name": "stdout",
     "output_type": "stream",
     "text": [
      "['../data/wg20220316/chr11test/tmp/CACHE/chr11test0cutoffNone.result', '../data/wg20220316/chr11test/tmp/CACHE/chr11test1cutoffNone.result', '../data/wg20220316/chr11test/tmp/CACHE/chr11test2cutoffNone.result', '../data/wg20220316/chr11test/tmp/CACHE/chr11test3cutoffNone.result', '../data/wg20220316/chr11test/tmp/CACHE/chr11test4cutoffNone.result', '../data/wg20220316/chr11test/tmp/CACHE/chr11test5cutoffNone.result', '../data/wg20220316/chr11test/tmp/CACHE/chr11test6cutoffNone.result', '../data/wg20220316/chr11test/tmp/CACHE/chr11test7cutoffNone.result', '../data/wg20220316/chr11test/tmp/CACHE/chr11test8cutoffNone.result', '../data/wg20220316/chr11test/tmp/CACHE/chr11test9cutoffNone.result', '../data/wg20220316/chr11test/tmp/CACHE/chr11test10cutoffNone.result', '../data/wg20220316/chr11test/tmp/CACHE/chr11test11cutoffNone.result', '../data/wg20220316/chr11test/tmp/CACHE/chr11test12cutoffNone.result', '../data/wg20220316/chr11test/tmp/CACHE/chr11test13cutoffNone.result', '../data/wg20220316/chr11test/tmp/CACHE/chr11test14cutoffNone.result', '../data/wg20220316/chr11test/tmp/CACHE/chr11test15cutoffNone.result', '../data/wg20220316/chr11test/tmp/CACHE/chr11test16cutoffNone.result', '../data/wg20220316/chr11test/tmp/CACHE/chr11test17cutoffNone.result', '../data/wg20220316/chr11test/tmp/CACHE/chr11test18cutoffNone.result', '../data/wg20220316/chr11test/tmp/CACHE/chr11test19cutoffNone.result', '../data/wg20220316/chr11test/tmp/CACHE/chr11test20cutoffNone.result', '../data/wg20220316/chr11test/tmp/CACHE/chr11test21cutoffNone.result', '../data/wg20220316/chr11test/tmp/CACHE/chr11test22cutoffNone.result', '../data/wg20220316/chr11test/tmp/CACHE/chr11test23cutoffNone.result', '../data/wg20220316/chr11test/tmp/CACHE/chr11test24cutoffNone.result', '../data/wg20220316/chr11test/tmp/CACHE/chr11test25cutoffNone.result', '../data/wg20220316/chr11test/tmp/CACHE/chr11test26cutoffNone.result', '../data/wg20220316/chr11test/tmp/CACHE/chr11test27cutoffNone.result', '../data/wg20220316/chr11test/tmp/CACHE/chr11test28cutoffNone.result', '../data/wg20220316/chr11test/tmp/CACHE/chr11test29cutoffNone.result', '../data/wg20220316/chr11test/tmp/CACHE/chr11test30cutoffNone.result', '../data/wg20220316/chr11test/tmp/CACHE/chr11test31cutoffNone.result', '../data/wg20220316/chr11test/tmp/CACHE/chr11test32cutoffNone.result', '../data/wg20220316/chr11test/tmp/CACHE/chr11test33cutoffNone.result', '../data/wg20220316/chr11test/tmp/CACHE/chr11test34cutoffNone.result', '../data/wg20220316/chr11test/tmp/CACHE/chr11test35cutoffNone.result', '../data/wg20220316/chr11test/tmp/CACHE/chr11test36cutoffNone.result', '../data/wg20220316/chr11test/tmp/CACHE/chr11test37cutoffNone.result', '../data/wg20220316/chr11test/tmp/CACHE/chr11test38cutoffNone.result', '../data/wg20220316/chr11test/tmp/CACHE/chr11test39cutoffNone.result', '../data/wg20220316/chr11test/tmp/CACHE/chr11test40cutoffNone.result', '../data/wg20220316/chr11test/tmp/CACHE/chr11test41cutoffNone.result', '../data/wg20220316/chr11test/tmp/CACHE/chr11test42cutoffNone.result', '../data/wg20220316/chr11test/tmp/CACHE/chr11test43cutoffNone.result', '../data/wg20220316/chr11test/tmp/CACHE/chr11test44cutoffNone.result', '../data/wg20220316/chr11test/tmp/CACHE/chr11test45cutoffNone.result', '../data/wg20220316/chr11test/tmp/CACHE/chr11test46cutoffNone.result', '../data/wg20220316/chr11test/tmp/CACHE/chr11test47cutoffNone.result', '../data/wg20220316/chr11test/tmp/CACHE/chr11test48cutoffNone.result', '../data/wg20220316/chr11test/tmp/CACHE/chr11test49cutoffNone.result', '../data/wg20220316/chr11test/tmp/CACHE/chr11test50cutoffNone.result', '../data/wg20220316/chr11test/tmp/CACHE/chr11test51cutoffNone.result', '../data/wg20220316/chr11test/tmp/CACHE/chr11test52cutoffNone.result', '../data/wg20220316/chr11test/tmp/CACHE/chr11test53cutoffNone.result', '../data/wg20220316/chr11test/tmp/CACHE/chr11test54cutoffNone.result', '../data/wg20220316/chr11test/tmp/CACHE/chr11test55cutoffNone.result', '../data/wg20220316/chr11test/tmp/CACHE/chr11test56cutoffNone.result', '../data/wg20220316/chr11test/tmp/CACHE/chr11test57cutoffNone.result', '../data/wg20220316/chr11test/tmp/CACHE/chr11test58cutoffNone.result', '../data/wg20220316/chr11test/tmp/CACHE/chr11test59cutoffNone.result', '../data/wg20220316/chr11test/tmp/CACHE/chr11test60cutoffNone.result', '../data/wg20220316/chr11test/tmp/CACHE/chr11test61cutoffNone.result', '../data/wg20220316/chr11test/tmp/CACHE/chr11test62cutoffNone.result', '../data/wg20220316/chr11test/tmp/CACHE/chr11test63cutoffNone.result', '../data/wg20220316/chr11test/tmp/CACHE/chr11test64cutoffNone.result', '../data/wg20220316/chr11test/tmp/CACHE/chr11test65cutoffNone.result'] ../data/wg20220316/chr11_common_variants.pickle\n",
      "['../data/wg20220316/chr12test/tmp/CACHE/chr12test0cutoffNone.result', '../data/wg20220316/chr12test/tmp/CACHE/chr12test1cutoffNone.result', '../data/wg20220316/chr12test/tmp/CACHE/chr12test2cutoffNone.result', '../data/wg20220316/chr12test/tmp/CACHE/chr12test3cutoffNone.result', '../data/wg20220316/chr12test/tmp/CACHE/chr12test4cutoffNone.result', '../data/wg20220316/chr12test/tmp/CACHE/chr12test5cutoffNone.result', '../data/wg20220316/chr12test/tmp/CACHE/chr12test6cutoffNone.result', '../data/wg20220316/chr12test/tmp/CACHE/chr12test7cutoffNone.result', '../data/wg20220316/chr12test/tmp/CACHE/chr12test8cutoffNone.result', '../data/wg20220316/chr12test/tmp/CACHE/chr12test9cutoffNone.result', '../data/wg20220316/chr12test/tmp/CACHE/chr12test10cutoffNone.result', '../data/wg20220316/chr12test/tmp/CACHE/chr12test11cutoffNone.result', '../data/wg20220316/chr12test/tmp/CACHE/chr12test12cutoffNone.result', '../data/wg20220316/chr12test/tmp/CACHE/chr12test13cutoffNone.result', '../data/wg20220316/chr12test/tmp/CACHE/chr12test14cutoffNone.result', '../data/wg20220316/chr12test/tmp/CACHE/chr12test15cutoffNone.result', '../data/wg20220316/chr12test/tmp/CACHE/chr12test16cutoffNone.result', '../data/wg20220316/chr12test/tmp/CACHE/chr12test17cutoffNone.result', '../data/wg20220316/chr12test/tmp/CACHE/chr12test18cutoffNone.result', '../data/wg20220316/chr12test/tmp/CACHE/chr12test19cutoffNone.result', '../data/wg20220316/chr12test/tmp/CACHE/chr12test20cutoffNone.result', '../data/wg20220316/chr12test/tmp/CACHE/chr12test21cutoffNone.result', '../data/wg20220316/chr12test/tmp/CACHE/chr12test22cutoffNone.result', '../data/wg20220316/chr12test/tmp/CACHE/chr12test23cutoffNone.result', '../data/wg20220316/chr12test/tmp/CACHE/chr12test24cutoffNone.result', '../data/wg20220316/chr12test/tmp/CACHE/chr12test25cutoffNone.result', '../data/wg20220316/chr12test/tmp/CACHE/chr12test26cutoffNone.result', '../data/wg20220316/chr12test/tmp/CACHE/chr12test27cutoffNone.result', '../data/wg20220316/chr12test/tmp/CACHE/chr12test28cutoffNone.result', '../data/wg20220316/chr12test/tmp/CACHE/chr12test29cutoffNone.result', '../data/wg20220316/chr12test/tmp/CACHE/chr12test30cutoffNone.result', '../data/wg20220316/chr12test/tmp/CACHE/chr12test31cutoffNone.result', '../data/wg20220316/chr12test/tmp/CACHE/chr12test32cutoffNone.result', '../data/wg20220316/chr12test/tmp/CACHE/chr12test33cutoffNone.result', '../data/wg20220316/chr12test/tmp/CACHE/chr12test34cutoffNone.result', '../data/wg20220316/chr12test/tmp/CACHE/chr12test35cutoffNone.result', '../data/wg20220316/chr12test/tmp/CACHE/chr12test36cutoffNone.result', '../data/wg20220316/chr12test/tmp/CACHE/chr12test37cutoffNone.result', '../data/wg20220316/chr12test/tmp/CACHE/chr12test38cutoffNone.result', '../data/wg20220316/chr12test/tmp/CACHE/chr12test39cutoffNone.result', '../data/wg20220316/chr12test/tmp/CACHE/chr12test40cutoffNone.result', '../data/wg20220316/chr12test/tmp/CACHE/chr12test41cutoffNone.result', '../data/wg20220316/chr12test/tmp/CACHE/chr12test42cutoffNone.result', '../data/wg20220316/chr12test/tmp/CACHE/chr12test43cutoffNone.result', '../data/wg20220316/chr12test/tmp/CACHE/chr12test44cutoffNone.result', '../data/wg20220316/chr12test/tmp/CACHE/chr12test45cutoffNone.result', '../data/wg20220316/chr12test/tmp/CACHE/chr12test46cutoffNone.result', '../data/wg20220316/chr12test/tmp/CACHE/chr12test47cutoffNone.result', '../data/wg20220316/chr12test/tmp/CACHE/chr12test48cutoffNone.result', '../data/wg20220316/chr12test/tmp/CACHE/chr12test49cutoffNone.result', '../data/wg20220316/chr12test/tmp/CACHE/chr12test50cutoffNone.result', '../data/wg20220316/chr12test/tmp/CACHE/chr12test51cutoffNone.result', '../data/wg20220316/chr12test/tmp/CACHE/chr12test52cutoffNone.result', '../data/wg20220316/chr12test/tmp/CACHE/chr12test53cutoffNone.result'] ../data/wg20220316/chr12_common_variants.pickle\n",
      "['../data/wg20220316/chr13test/tmp/CACHE/chr13test0cutoffNone.result', '../data/wg20220316/chr13test/tmp/CACHE/chr13test1cutoffNone.result', '../data/wg20220316/chr13test/tmp/CACHE/chr13test2cutoffNone.result', '../data/wg20220316/chr13test/tmp/CACHE/chr13test3cutoffNone.result', '../data/wg20220316/chr13test/tmp/CACHE/chr13test4cutoffNone.result', '../data/wg20220316/chr13test/tmp/CACHE/chr13test5cutoffNone.result', '../data/wg20220316/chr13test/tmp/CACHE/chr13test6cutoffNone.result', '../data/wg20220316/chr13test/tmp/CACHE/chr13test7cutoffNone.result', '../data/wg20220316/chr13test/tmp/CACHE/chr13test8cutoffNone.result', '../data/wg20220316/chr13test/tmp/CACHE/chr13test9cutoffNone.result', '../data/wg20220316/chr13test/tmp/CACHE/chr13test10cutoffNone.result', '../data/wg20220316/chr13test/tmp/CACHE/chr13test11cutoffNone.result', '../data/wg20220316/chr13test/tmp/CACHE/chr13test12cutoffNone.result', '../data/wg20220316/chr13test/tmp/CACHE/chr13test13cutoffNone.result', '../data/wg20220316/chr13test/tmp/CACHE/chr13test14cutoffNone.result', '../data/wg20220316/chr13test/tmp/CACHE/chr13test15cutoffNone.result', '../data/wg20220316/chr13test/tmp/CACHE/chr13test16cutoffNone.result', '../data/wg20220316/chr13test/tmp/CACHE/chr13test17cutoffNone.result', '../data/wg20220316/chr13test/tmp/CACHE/chr13test18cutoffNone.result', '../data/wg20220316/chr13test/tmp/CACHE/chr13test19cutoffNone.result', '../data/wg20220316/chr13test/tmp/CACHE/chr13test20cutoffNone.result', '../data/wg20220316/chr13test/tmp/CACHE/chr13test21cutoffNone.result', '../data/wg20220316/chr13test/tmp/CACHE/chr13test22cutoffNone.result', '../data/wg20220316/chr13test/tmp/CACHE/chr13test23cutoffNone.result', '../data/wg20220316/chr13test/tmp/CACHE/chr13test24cutoffNone.result'] ../data/wg20220316/chr13_common_variants.pickle\n",
      "['../data/wg20220316/chr14test/tmp/CACHE/chr14test0cutoffNone.result', '../data/wg20220316/chr14test/tmp/CACHE/chr14test1cutoffNone.result', '../data/wg20220316/chr14test/tmp/CACHE/chr14test2cutoffNone.result', '../data/wg20220316/chr14test/tmp/CACHE/chr14test3cutoffNone.result', '../data/wg20220316/chr14test/tmp/CACHE/chr14test4cutoffNone.result', '../data/wg20220316/chr14test/tmp/CACHE/chr14test5cutoffNone.result', '../data/wg20220316/chr14test/tmp/CACHE/chr14test6cutoffNone.result', '../data/wg20220316/chr14test/tmp/CACHE/chr14test7cutoffNone.result', '../data/wg20220316/chr14test/tmp/CACHE/chr14test8cutoffNone.result', '../data/wg20220316/chr14test/tmp/CACHE/chr14test9cutoffNone.result', '../data/wg20220316/chr14test/tmp/CACHE/chr14test10cutoffNone.result', '../data/wg20220316/chr14test/tmp/CACHE/chr14test11cutoffNone.result', '../data/wg20220316/chr14test/tmp/CACHE/chr14test12cutoffNone.result', '../data/wg20220316/chr14test/tmp/CACHE/chr14test13cutoffNone.result', '../data/wg20220316/chr14test/tmp/CACHE/chr14test14cutoffNone.result', '../data/wg20220316/chr14test/tmp/CACHE/chr14test15cutoffNone.result', '../data/wg20220316/chr14test/tmp/CACHE/chr14test16cutoffNone.result', '../data/wg20220316/chr14test/tmp/CACHE/chr14test17cutoffNone.result', '../data/wg20220316/chr14test/tmp/CACHE/chr14test18cutoffNone.result', '../data/wg20220316/chr14test/tmp/CACHE/chr14test19cutoffNone.result', '../data/wg20220316/chr14test/tmp/CACHE/chr14test20cutoffNone.result', '../data/wg20220316/chr14test/tmp/CACHE/chr14test21cutoffNone.result', '../data/wg20220316/chr14test/tmp/CACHE/chr14test22cutoffNone.result', '../data/wg20220316/chr14test/tmp/CACHE/chr14test23cutoffNone.result', '../data/wg20220316/chr14test/tmp/CACHE/chr14test24cutoffNone.result', '../data/wg20220316/chr14test/tmp/CACHE/chr14test25cutoffNone.result', '../data/wg20220316/chr14test/tmp/CACHE/chr14test26cutoffNone.result', '../data/wg20220316/chr14test/tmp/CACHE/chr14test27cutoffNone.result', '../data/wg20220316/chr14test/tmp/CACHE/chr14test28cutoffNone.result', '../data/wg20220316/chr14test/tmp/CACHE/chr14test29cutoffNone.result', '../data/wg20220316/chr14test/tmp/CACHE/chr14test30cutoffNone.result', '../data/wg20220316/chr14test/tmp/CACHE/chr14test31cutoffNone.result', '../data/wg20220316/chr14test/tmp/CACHE/chr14test32cutoffNone.result', '../data/wg20220316/chr14test/tmp/CACHE/chr14test33cutoffNone.result', '../data/wg20220316/chr14test/tmp/CACHE/chr14test34cutoffNone.result', '../data/wg20220316/chr14test/tmp/CACHE/chr14test35cutoffNone.result'] ../data/wg20220316/chr14_common_variants.pickle\n",
      "['../data/wg20220316/chr15test/tmp/CACHE/chr15test0cutoffNone.result', '../data/wg20220316/chr15test/tmp/CACHE/chr15test1cutoffNone.result', '../data/wg20220316/chr15test/tmp/CACHE/chr15test2cutoffNone.result', '../data/wg20220316/chr15test/tmp/CACHE/chr15test3cutoffNone.result', '../data/wg20220316/chr15test/tmp/CACHE/chr15test4cutoffNone.result', '../data/wg20220316/chr15test/tmp/CACHE/chr15test5cutoffNone.result', '../data/wg20220316/chr15test/tmp/CACHE/chr15test6cutoffNone.result', '../data/wg20220316/chr15test/tmp/CACHE/chr15test7cutoffNone.result', '../data/wg20220316/chr15test/tmp/CACHE/chr15test8cutoffNone.result', '../data/wg20220316/chr15test/tmp/CACHE/chr15test9cutoffNone.result', '../data/wg20220316/chr15test/tmp/CACHE/chr15test10cutoffNone.result', '../data/wg20220316/chr15test/tmp/CACHE/chr15test11cutoffNone.result', '../data/wg20220316/chr15test/tmp/CACHE/chr15test12cutoffNone.result', '../data/wg20220316/chr15test/tmp/CACHE/chr15test13cutoffNone.result', '../data/wg20220316/chr15test/tmp/CACHE/chr15test14cutoffNone.result', '../data/wg20220316/chr15test/tmp/CACHE/chr15test15cutoffNone.result', '../data/wg20220316/chr15test/tmp/CACHE/chr15test16cutoffNone.result', '../data/wg20220316/chr15test/tmp/CACHE/chr15test17cutoffNone.result', '../data/wg20220316/chr15test/tmp/CACHE/chr15test18cutoffNone.result', '../data/wg20220316/chr15test/tmp/CACHE/chr15test19cutoffNone.result', '../data/wg20220316/chr15test/tmp/CACHE/chr15test20cutoffNone.result', '../data/wg20220316/chr15test/tmp/CACHE/chr15test21cutoffNone.result', '../data/wg20220316/chr15test/tmp/CACHE/chr15test22cutoffNone.result', '../data/wg20220316/chr15test/tmp/CACHE/chr15test23cutoffNone.result', '../data/wg20220316/chr15test/tmp/CACHE/chr15test24cutoffNone.result', '../data/wg20220316/chr15test/tmp/CACHE/chr15test25cutoffNone.result', '../data/wg20220316/chr15test/tmp/CACHE/chr15test26cutoffNone.result', '../data/wg20220316/chr15test/tmp/CACHE/chr15test27cutoffNone.result', '../data/wg20220316/chr15test/tmp/CACHE/chr15test28cutoffNone.result', '../data/wg20220316/chr15test/tmp/CACHE/chr15test29cutoffNone.result', '../data/wg20220316/chr15test/tmp/CACHE/chr15test30cutoffNone.result', '../data/wg20220316/chr15test/tmp/CACHE/chr15test31cutoffNone.result', '../data/wg20220316/chr15test/tmp/CACHE/chr15test32cutoffNone.result', '../data/wg20220316/chr15test/tmp/CACHE/chr15test33cutoffNone.result', '../data/wg20220316/chr15test/tmp/CACHE/chr15test34cutoffNone.result', '../data/wg20220316/chr15test/tmp/CACHE/chr15test35cutoffNone.result', '../data/wg20220316/chr15test/tmp/CACHE/chr15test36cutoffNone.result', '../data/wg20220316/chr15test/tmp/CACHE/chr15test37cutoffNone.result', '../data/wg20220316/chr15test/tmp/CACHE/chr15test38cutoffNone.result'] ../data/wg20220316/chr15_common_variants.pickle\n",
      "['../data/wg20220316/chr16test/tmp/CACHE/chr16test39cutoffNone.result', '../data/wg20220316/chr16test/tmp/CACHE/chr16test40cutoffNone.result', '../data/wg20220316/chr16test/tmp/CACHE/chr16test41cutoffNone.result', '../data/wg20220316/chr16test/tmp/CACHE/chr16test42cutoffNone.result', '../data/wg20220316/chr16test/tmp/CACHE/chr16test43cutoffNone.result', '../data/wg20220316/chr16test/tmp/CACHE/chr16test44cutoffNone.result'] ../data/wg20220316/chr16_common_variants.pickle\n",
      "['../data/wg20220316/chr17test/tmp/CACHE/chr17test0cutoffNone.result', '../data/wg20220316/chr17test/tmp/CACHE/chr17test1cutoffNone.result', '../data/wg20220316/chr17test/tmp/CACHE/chr17test2cutoffNone.result', '../data/wg20220316/chr17test/tmp/CACHE/chr17test3cutoffNone.result', '../data/wg20220316/chr17test/tmp/CACHE/chr17test4cutoffNone.result', '../data/wg20220316/chr17test/tmp/CACHE/chr17test5cutoffNone.result', '../data/wg20220316/chr17test/tmp/CACHE/chr17test6cutoffNone.result', '../data/wg20220316/chr17test/tmp/CACHE/chr17test7cutoffNone.result', '../data/wg20220316/chr17test/tmp/CACHE/chr17test8cutoffNone.result', '../data/wg20220316/chr17test/tmp/CACHE/chr17test9cutoffNone.result', '../data/wg20220316/chr17test/tmp/CACHE/chr17test10cutoffNone.result', '../data/wg20220316/chr17test/tmp/CACHE/chr17test11cutoffNone.result', '../data/wg20220316/chr17test/tmp/CACHE/chr17test12cutoffNone.result', '../data/wg20220316/chr17test/tmp/CACHE/chr17test13cutoffNone.result', '../data/wg20220316/chr17test/tmp/CACHE/chr17test14cutoffNone.result', '../data/wg20220316/chr17test/tmp/CACHE/chr17test15cutoffNone.result', '../data/wg20220316/chr17test/tmp/CACHE/chr17test16cutoffNone.result', '../data/wg20220316/chr17test/tmp/CACHE/chr17test17cutoffNone.result', '../data/wg20220316/chr17test/tmp/CACHE/chr17test18cutoffNone.result', '../data/wg20220316/chr17test/tmp/CACHE/chr17test19cutoffNone.result', '../data/wg20220316/chr17test/tmp/CACHE/chr17test20cutoffNone.result', '../data/wg20220316/chr17test/tmp/CACHE/chr17test21cutoffNone.result', '../data/wg20220316/chr17test/tmp/CACHE/chr17test22cutoffNone.result', '../data/wg20220316/chr17test/tmp/CACHE/chr17test23cutoffNone.result', '../data/wg20220316/chr17test/tmp/CACHE/chr17test24cutoffNone.result', '../data/wg20220316/chr17test/tmp/CACHE/chr17test25cutoffNone.result', '../data/wg20220316/chr17test/tmp/CACHE/chr17test26cutoffNone.result', '../data/wg20220316/chr17test/tmp/CACHE/chr17test27cutoffNone.result', '../data/wg20220316/chr17test/tmp/CACHE/chr17test28cutoffNone.result', '../data/wg20220316/chr17test/tmp/CACHE/chr17test29cutoffNone.result', '../data/wg20220316/chr17test/tmp/CACHE/chr17test30cutoffNone.result', '../data/wg20220316/chr17test/tmp/CACHE/chr17test31cutoffNone.result', '../data/wg20220316/chr17test/tmp/CACHE/chr17test32cutoffNone.result', '../data/wg20220316/chr17test/tmp/CACHE/chr17test33cutoffNone.result', '../data/wg20220316/chr17test/tmp/CACHE/chr17test34cutoffNone.result', '../data/wg20220316/chr17test/tmp/CACHE/chr17test35cutoffNone.result', '../data/wg20220316/chr17test/tmp/CACHE/chr17test36cutoffNone.result', '../data/wg20220316/chr17test/tmp/CACHE/chr17test37cutoffNone.result', '../data/wg20220316/chr17test/tmp/CACHE/chr17test38cutoffNone.result', '../data/wg20220316/chr17test/tmp/CACHE/chr17test39cutoffNone.result', '../data/wg20220316/chr17test/tmp/CACHE/chr17test40cutoffNone.result', '../data/wg20220316/chr17test/tmp/CACHE/chr17test41cutoffNone.result', '../data/wg20220316/chr17test/tmp/CACHE/chr17test42cutoffNone.result', '../data/wg20220316/chr17test/tmp/CACHE/chr17test43cutoffNone.result', '../data/wg20220316/chr17test/tmp/CACHE/chr17test44cutoffNone.result', '../data/wg20220316/chr17test/tmp/CACHE/chr17test45cutoffNone.result', '../data/wg20220316/chr17test/tmp/CACHE/chr17test46cutoffNone.result', '../data/wg20220316/chr17test/tmp/CACHE/chr17test47cutoffNone.result', '../data/wg20220316/chr17test/tmp/CACHE/chr17test48cutoffNone.result', '../data/wg20220316/chr17test/tmp/CACHE/chr17test49cutoffNone.result', '../data/wg20220316/chr17test/tmp/CACHE/chr17test50cutoffNone.result', '../data/wg20220316/chr17test/tmp/CACHE/chr17test51cutoffNone.result', '../data/wg20220316/chr17test/tmp/CACHE/chr17test52cutoffNone.result', '../data/wg20220316/chr17test/tmp/CACHE/chr17test53cutoffNone.result', '../data/wg20220316/chr17test/tmp/CACHE/chr17test54cutoffNone.result', '../data/wg20220316/chr17test/tmp/CACHE/chr17test55cutoffNone.result', '../data/wg20220316/chr17test/tmp/CACHE/chr17test56cutoffNone.result', '../data/wg20220316/chr17test/tmp/CACHE/chr17test57cutoffNone.result', '../data/wg20220316/chr17test/tmp/CACHE/chr17test58cutoffNone.result', '../data/wg20220316/chr17test/tmp/CACHE/chr17test59cutoffNone.result', '../data/wg20220316/chr17test/tmp/CACHE/chr17test60cutoffNone.result', '../data/wg20220316/chr17test/tmp/CACHE/chr17test61cutoffNone.result'] ../data/wg20220316/chr17_common_variants.pickle\n",
      "['../data/wg20220316/chr18test/tmp/CACHE/chr18test0cutoffNone.result', '../data/wg20220316/chr18test/tmp/CACHE/chr18test1cutoffNone.result', '../data/wg20220316/chr18test/tmp/CACHE/chr18test2cutoffNone.result', '../data/wg20220316/chr18test/tmp/CACHE/chr18test3cutoffNone.result', '../data/wg20220316/chr18test/tmp/CACHE/chr18test4cutoffNone.result', '../data/wg20220316/chr18test/tmp/CACHE/chr18test5cutoffNone.result', '../data/wg20220316/chr18test/tmp/CACHE/chr18test6cutoffNone.result', '../data/wg20220316/chr18test/tmp/CACHE/chr18test7cutoffNone.result', '../data/wg20220316/chr18test/tmp/CACHE/chr18test8cutoffNone.result', '../data/wg20220316/chr18test/tmp/CACHE/chr18test9cutoffNone.result', '../data/wg20220316/chr18test/tmp/CACHE/chr18test10cutoffNone.result', '../data/wg20220316/chr18test/tmp/CACHE/chr18test11cutoffNone.result', '../data/wg20220316/chr18test/tmp/CACHE/chr18test12cutoffNone.result', '../data/wg20220316/chr18test/tmp/CACHE/chr18test13cutoffNone.result', '../data/wg20220316/chr18test/tmp/CACHE/chr18test14cutoffNone.result', '../data/wg20220316/chr18test/tmp/CACHE/chr18test15cutoffNone.result', '../data/wg20220316/chr18test/tmp/CACHE/chr18test16cutoffNone.result'] ../data/wg20220316/chr18_common_variants.pickle\n",
      "['../data/wg20220316/chr19test/tmp/CACHE/chr19test0cutoffNone.result', '../data/wg20220316/chr19test/tmp/CACHE/chr19test1cutoffNone.result', '../data/wg20220316/chr19test/tmp/CACHE/chr19test2cutoffNone.result', '../data/wg20220316/chr19test/tmp/CACHE/chr19test3cutoffNone.result', '../data/wg20220316/chr19test/tmp/CACHE/chr19test4cutoffNone.result', '../data/wg20220316/chr19test/tmp/CACHE/chr19test5cutoffNone.result', '../data/wg20220316/chr19test/tmp/CACHE/chr19test6cutoffNone.result', '../data/wg20220316/chr19test/tmp/CACHE/chr19test7cutoffNone.result', '../data/wg20220316/chr19test/tmp/CACHE/chr19test8cutoffNone.result', '../data/wg20220316/chr19test/tmp/CACHE/chr19test9cutoffNone.result', '../data/wg20220316/chr19test/tmp/CACHE/chr19test10cutoffNone.result', '../data/wg20220316/chr19test/tmp/CACHE/chr19test11cutoffNone.result', '../data/wg20220316/chr19test/tmp/CACHE/chr19test12cutoffNone.result', '../data/wg20220316/chr19test/tmp/CACHE/chr19test13cutoffNone.result', '../data/wg20220316/chr19test/tmp/CACHE/chr19test14cutoffNone.result', '../data/wg20220316/chr19test/tmp/CACHE/chr19test15cutoffNone.result', '../data/wg20220316/chr19test/tmp/CACHE/chr19test16cutoffNone.result', '../data/wg20220316/chr19test/tmp/CACHE/chr19test17cutoffNone.result', '../data/wg20220316/chr19test/tmp/CACHE/chr19test18cutoffNone.result', '../data/wg20220316/chr19test/tmp/CACHE/chr19test19cutoffNone.result', '../data/wg20220316/chr19test/tmp/CACHE/chr19test20cutoffNone.result', '../data/wg20220316/chr19test/tmp/CACHE/chr19test21cutoffNone.result', '../data/wg20220316/chr19test/tmp/CACHE/chr19test22cutoffNone.result', '../data/wg20220316/chr19test/tmp/CACHE/chr19test23cutoffNone.result', '../data/wg20220316/chr19test/tmp/CACHE/chr19test24cutoffNone.result', '../data/wg20220316/chr19test/tmp/CACHE/chr19test25cutoffNone.result', '../data/wg20220316/chr19test/tmp/CACHE/chr19test26cutoffNone.result', '../data/wg20220316/chr19test/tmp/CACHE/chr19test27cutoffNone.result', '../data/wg20220316/chr19test/tmp/CACHE/chr19test28cutoffNone.result', '../data/wg20220316/chr19test/tmp/CACHE/chr19test29cutoffNone.result', '../data/wg20220316/chr19test/tmp/CACHE/chr19test30cutoffNone.result', '../data/wg20220316/chr19test/tmp/CACHE/chr19test31cutoffNone.result', '../data/wg20220316/chr19test/tmp/CACHE/chr19test32cutoffNone.result', '../data/wg20220316/chr19test/tmp/CACHE/chr19test33cutoffNone.result', '../data/wg20220316/chr19test/tmp/CACHE/chr19test34cutoffNone.result', '../data/wg20220316/chr19test/tmp/CACHE/chr19test35cutoffNone.result', '../data/wg20220316/chr19test/tmp/CACHE/chr19test36cutoffNone.result', '../data/wg20220316/chr19test/tmp/CACHE/chr19test37cutoffNone.result', '../data/wg20220316/chr19test/tmp/CACHE/chr19test38cutoffNone.result', '../data/wg20220316/chr19test/tmp/CACHE/chr19test39cutoffNone.result', '../data/wg20220316/chr19test/tmp/CACHE/chr19test40cutoffNone.result', '../data/wg20220316/chr19test/tmp/CACHE/chr19test41cutoffNone.result', '../data/wg20220316/chr19test/tmp/CACHE/chr19test42cutoffNone.result', '../data/wg20220316/chr19test/tmp/CACHE/chr19test43cutoffNone.result', '../data/wg20220316/chr19test/tmp/CACHE/chr19test44cutoffNone.result', '../data/wg20220316/chr19test/tmp/CACHE/chr19test45cutoffNone.result', '../data/wg20220316/chr19test/tmp/CACHE/chr19test46cutoffNone.result', '../data/wg20220316/chr19test/tmp/CACHE/chr19test47cutoffNone.result', '../data/wg20220316/chr19test/tmp/CACHE/chr19test48cutoffNone.result', '../data/wg20220316/chr19test/tmp/CACHE/chr19test49cutoffNone.result', '../data/wg20220316/chr19test/tmp/CACHE/chr19test50cutoffNone.result', '../data/wg20220316/chr19test/tmp/CACHE/chr19test51cutoffNone.result', '../data/wg20220316/chr19test/tmp/CACHE/chr19test52cutoffNone.result', '../data/wg20220316/chr19test/tmp/CACHE/chr19test53cutoffNone.result', '../data/wg20220316/chr19test/tmp/CACHE/chr19test54cutoffNone.result', '../data/wg20220316/chr19test/tmp/CACHE/chr19test55cutoffNone.result', '../data/wg20220316/chr19test/tmp/CACHE/chr19test56cutoffNone.result', '../data/wg20220316/chr19test/tmp/CACHE/chr19test57cutoffNone.result', '../data/wg20220316/chr19test/tmp/CACHE/chr19test58cutoffNone.result', '../data/wg20220316/chr19test/tmp/CACHE/chr19test59cutoffNone.result', '../data/wg20220316/chr19test/tmp/CACHE/chr19test60cutoffNone.result', '../data/wg20220316/chr19test/tmp/CACHE/chr19test61cutoffNone.result', '../data/wg20220316/chr19test/tmp/CACHE/chr19test62cutoffNone.result', '../data/wg20220316/chr19test/tmp/CACHE/chr19test63cutoffNone.result', '../data/wg20220316/chr19test/tmp/CACHE/chr19test64cutoffNone.result', '../data/wg20220316/chr19test/tmp/CACHE/chr19test65cutoffNone.result', '../data/wg20220316/chr19test/tmp/CACHE/chr19test66cutoffNone.result', '../data/wg20220316/chr19test/tmp/CACHE/chr19test67cutoffNone.result'] ../data/wg20220316/chr19_common_variants.pickle\n",
      "['../data/wg20220316/chr20test/tmp/CACHE/chr20test0cutoffNone.result', '../data/wg20220316/chr20test/tmp/CACHE/chr20test1cutoffNone.result', '../data/wg20220316/chr20test/tmp/CACHE/chr20test2cutoffNone.result', '../data/wg20220316/chr20test/tmp/CACHE/chr20test3cutoffNone.result', '../data/wg20220316/chr20test/tmp/CACHE/chr20test4cutoffNone.result', '../data/wg20220316/chr20test/tmp/CACHE/chr20test5cutoffNone.result', '../data/wg20220316/chr20test/tmp/CACHE/chr20test6cutoffNone.result', '../data/wg20220316/chr20test/tmp/CACHE/chr20test7cutoffNone.result', '../data/wg20220316/chr20test/tmp/CACHE/chr20test8cutoffNone.result', '../data/wg20220316/chr20test/tmp/CACHE/chr20test9cutoffNone.result', '../data/wg20220316/chr20test/tmp/CACHE/chr20test10cutoffNone.result', '../data/wg20220316/chr20test/tmp/CACHE/chr20test11cutoffNone.result', '../data/wg20220316/chr20test/tmp/CACHE/chr20test12cutoffNone.result', '../data/wg20220316/chr20test/tmp/CACHE/chr20test13cutoffNone.result', '../data/wg20220316/chr20test/tmp/CACHE/chr20test14cutoffNone.result', '../data/wg20220316/chr20test/tmp/CACHE/chr20test15cutoffNone.result', '../data/wg20220316/chr20test/tmp/CACHE/chr20test16cutoffNone.result', '../data/wg20220316/chr20test/tmp/CACHE/chr20test17cutoffNone.result', '../data/wg20220316/chr20test/tmp/CACHE/chr20test18cutoffNone.result', '../data/wg20220316/chr20test/tmp/CACHE/chr20test19cutoffNone.result', '../data/wg20220316/chr20test/tmp/CACHE/chr20test20cutoffNone.result', '../data/wg20220316/chr20test/tmp/CACHE/chr20test21cutoffNone.result', '../data/wg20220316/chr20test/tmp/CACHE/chr20test22cutoffNone.result', '../data/wg20220316/chr20test/tmp/CACHE/chr20test23cutoffNone.result', '../data/wg20220316/chr20test/tmp/CACHE/chr20test24cutoffNone.result', '../data/wg20220316/chr20test/tmp/CACHE/chr20test25cutoffNone.result', '../data/wg20220316/chr20test/tmp/CACHE/chr20test26cutoffNone.result', '../data/wg20220316/chr20test/tmp/CACHE/chr20test27cutoffNone.result', '../data/wg20220316/chr20test/tmp/CACHE/chr20test28cutoffNone.result', '../data/wg20220316/chr20test/tmp/CACHE/chr20test29cutoffNone.result', '../data/wg20220316/chr20test/tmp/CACHE/chr20test30cutoffNone.result'] ../data/wg20220316/chr20_common_variants.pickle\n",
      "['../data/wg20220316/chr21test/tmp/CACHE/chr21test0cutoffNone.result', '../data/wg20220316/chr21test/tmp/CACHE/chr21test1cutoffNone.result', '../data/wg20220316/chr21test/tmp/CACHE/chr21test2cutoffNone.result', '../data/wg20220316/chr21test/tmp/CACHE/chr21test3cutoffNone.result', '../data/wg20220316/chr21test/tmp/CACHE/chr21test4cutoffNone.result', '../data/wg20220316/chr21test/tmp/CACHE/chr21test5cutoffNone.result', '../data/wg20220316/chr21test/tmp/CACHE/chr21test6cutoffNone.result', '../data/wg20220316/chr21test/tmp/CACHE/chr21test7cutoffNone.result', '../data/wg20220316/chr21test/tmp/CACHE/chr21test8cutoffNone.result', '../data/wg20220316/chr21test/tmp/CACHE/chr21test9cutoffNone.result', '../data/wg20220316/chr21test/tmp/CACHE/chr21test10cutoffNone.result', '../data/wg20220316/chr21test/tmp/CACHE/chr21test11cutoffNone.result', '../data/wg20220316/chr21test/tmp/CACHE/chr21test12cutoffNone.result', '../data/wg20220316/chr21test/tmp/CACHE/chr21test13cutoffNone.result', '../data/wg20220316/chr21test/tmp/CACHE/chr21test14cutoffNone.result'] ../data/wg20220316/chr21_common_variants.pickle\n",
      "['../data/wg20220316/chr22test/tmp/CACHE/chr22test0cutoffNone.result', '../data/wg20220316/chr22test/tmp/CACHE/chr22test1cutoffNone.result', '../data/wg20220316/chr22test/tmp/CACHE/chr22test2cutoffNone.result', '../data/wg20220316/chr22test/tmp/CACHE/chr22test3cutoffNone.result', '../data/wg20220316/chr22test/tmp/CACHE/chr22test4cutoffNone.result', '../data/wg20220316/chr22test/tmp/CACHE/chr22test5cutoffNone.result', '../data/wg20220316/chr22test/tmp/CACHE/chr22test6cutoffNone.result', '../data/wg20220316/chr22test/tmp/CACHE/chr22test7cutoffNone.result', '../data/wg20220316/chr22test/tmp/CACHE/chr22test8cutoffNone.result', '../data/wg20220316/chr22test/tmp/CACHE/chr22test9cutoffNone.result', '../data/wg20220316/chr22test/tmp/CACHE/chr22test10cutoffNone.result', '../data/wg20220316/chr22test/tmp/CACHE/chr22test11cutoffNone.result', '../data/wg20220316/chr22test/tmp/CACHE/chr22test12cutoffNone.result', '../data/wg20220316/chr22test/tmp/CACHE/chr22test13cutoffNone.result', '../data/wg20220316/chr22test/tmp/CACHE/chr22test14cutoffNone.result', '../data/wg20220316/chr22test/tmp/CACHE/chr22test15cutoffNone.result', '../data/wg20220316/chr22test/tmp/CACHE/chr22test16cutoffNone.result', '../data/wg20220316/chr22test/tmp/CACHE/chr22test17cutoffNone.result', '../data/wg20220316/chr22test/tmp/CACHE/chr22test18cutoffNone.result', '../data/wg20220316/chr22test/tmp/CACHE/chr22test19cutoffNone.result', '../data/wg20220316/chr22test/tmp/CACHE/chr22test20cutoffNone.result', '../data/wg20220316/chr22test/tmp/CACHE/chr22test21cutoffNone.result', '../data/wg20220316/chr22test/tmp/CACHE/chr22test22cutoffNone.result', '../data/wg20220316/chr22test/tmp/CACHE/chr22test23cutoffNone.result', '../data/wg20220316/chr22test/tmp/CACHE/chr22test24cutoffNone.result'] ../data/wg20220316/chr22_common_variants.pickle\n"
     ]
    }
   ],
   "source": [
    "smy_ress_lst=[]\n",
    "for i in range(11,23):\n",
    "    path_ress=glob.glob('../data/wg20220316/chr'+str(i)+'test/tmp/CACHE/chr'+str(i)+'test*cutoffNone.result')\n",
    "    path_com_vars='../data/wg20220316/chr'+str(i)+'_common_variants.pickle'\n",
    "    print(path_ress,path_com_vars)\n",
    "    smy_ress_lst.append(get_common_smyress(path_ress,path_com_vars))"
   ]
  },
  {
   "cell_type": "code",
   "execution_count": null,
   "id": "ca2c1a52-7a8c-4dc9-92f9-c14523940409",
   "metadata": {},
   "outputs": [
    {
     "name": "stdout",
     "output_type": "stream",
     "text": [
      "['../data/wg20220316/chr1test/tmp/CACHE/chr1test0cutoffNone.result', '../data/wg20220316/chr1test/tmp/CACHE/chr1test1cutoffNone.result', '../data/wg20220316/chr1test/tmp/CACHE/chr1test2cutoffNone.result', '../data/wg20220316/chr1test/tmp/CACHE/chr1test3cutoffNone.result', '../data/wg20220316/chr1test/tmp/CACHE/chr1test4cutoffNone.result', '../data/wg20220316/chr1test/tmp/CACHE/chr1test5cutoffNone.result', '../data/wg20220316/chr1test/tmp/CACHE/chr1test6cutoffNone.result', '../data/wg20220316/chr1test/tmp/CACHE/chr1test7cutoffNone.result', '../data/wg20220316/chr1test/tmp/CACHE/chr1test8cutoffNone.result', '../data/wg20220316/chr1test/tmp/CACHE/chr1test9cutoffNone.result', '../data/wg20220316/chr1test/tmp/CACHE/chr1test10cutoffNone.result', '../data/wg20220316/chr1test/tmp/CACHE/chr1test11cutoffNone.result', '../data/wg20220316/chr1test/tmp/CACHE/chr1test12cutoffNone.result', '../data/wg20220316/chr1test/tmp/CACHE/chr1test13cutoffNone.result', '../data/wg20220316/chr1test/tmp/CACHE/chr1test14cutoffNone.result', '../data/wg20220316/chr1test/tmp/CACHE/chr1test15cutoffNone.result', '../data/wg20220316/chr1test/tmp/CACHE/chr1test16cutoffNone.result', '../data/wg20220316/chr1test/tmp/CACHE/chr1test17cutoffNone.result', '../data/wg20220316/chr1test/tmp/CACHE/chr1test18cutoffNone.result', '../data/wg20220316/chr1test/tmp/CACHE/chr1test19cutoffNone.result', '../data/wg20220316/chr1test/tmp/CACHE/chr1test20cutoffNone.result', '../data/wg20220316/chr1test/tmp/CACHE/chr1test21cutoffNone.result', '../data/wg20220316/chr1test/tmp/CACHE/chr1test22cutoffNone.result', '../data/wg20220316/chr1test/tmp/CACHE/chr1test23cutoffNone.result', '../data/wg20220316/chr1test/tmp/CACHE/chr1test24cutoffNone.result', '../data/wg20220316/chr1test/tmp/CACHE/chr1test25cutoffNone.result', '../data/wg20220316/chr1test/tmp/CACHE/chr1test26cutoffNone.result', '../data/wg20220316/chr1test/tmp/CACHE/chr1test27cutoffNone.result', '../data/wg20220316/chr1test/tmp/CACHE/chr1test28cutoffNone.result', '../data/wg20220316/chr1test/tmp/CACHE/chr1test29cutoffNone.result', '../data/wg20220316/chr1test/tmp/CACHE/chr1test30cutoffNone.result', '../data/wg20220316/chr1test/tmp/CACHE/chr1test31cutoffNone.result', '../data/wg20220316/chr1test/tmp/CACHE/chr1test32cutoffNone.result', '../data/wg20220316/chr1test/tmp/CACHE/chr1test33cutoffNone.result', '../data/wg20220316/chr1test/tmp/CACHE/chr1test34cutoffNone.result', '../data/wg20220316/chr1test/tmp/CACHE/chr1test35cutoffNone.result', '../data/wg20220316/chr1test/tmp/CACHE/chr1test36cutoffNone.result', '../data/wg20220316/chr1test/tmp/CACHE/chr1test37cutoffNone.result', '../data/wg20220316/chr1test/tmp/CACHE/chr1test38cutoffNone.result', '../data/wg20220316/chr1test/tmp/CACHE/chr1test39cutoffNone.result', '../data/wg20220316/chr1test/tmp/CACHE/chr1test40cutoffNone.result', '../data/wg20220316/chr1test/tmp/CACHE/chr1test41cutoffNone.result', '../data/wg20220316/chr1test/tmp/CACHE/chr1test42cutoffNone.result', '../data/wg20220316/chr1test/tmp/CACHE/chr1test43cutoffNone.result', '../data/wg20220316/chr1test/tmp/CACHE/chr1test44cutoffNone.result', '../data/wg20220316/chr1test/tmp/CACHE/chr1test45cutoffNone.result', '../data/wg20220316/chr1test/tmp/CACHE/chr1test46cutoffNone.result', '../data/wg20220316/chr1test/tmp/CACHE/chr1test47cutoffNone.result', '../data/wg20220316/chr1test/tmp/CACHE/chr1test48cutoffNone.result', '../data/wg20220316/chr1test/tmp/CACHE/chr1test49cutoffNone.result', '../data/wg20220316/chr1test/tmp/CACHE/chr1test50cutoffNone.result', '../data/wg20220316/chr1test/tmp/CACHE/chr1test51cutoffNone.result', '../data/wg20220316/chr1test/tmp/CACHE/chr1test52cutoffNone.result', '../data/wg20220316/chr1test/tmp/CACHE/chr1test53cutoffNone.result', '../data/wg20220316/chr1test/tmp/CACHE/chr1test54cutoffNone.result', '../data/wg20220316/chr1test/tmp/CACHE/chr1test55cutoffNone.result', '../data/wg20220316/chr1test/tmp/CACHE/chr1test56cutoffNone.result', '../data/wg20220316/chr1test/tmp/CACHE/chr1test57cutoffNone.result', '../data/wg20220316/chr1test/tmp/CACHE/chr1test58cutoffNone.result', '../data/wg20220316/chr1test/tmp/CACHE/chr1test59cutoffNone.result', '../data/wg20220316/chr1test/tmp/CACHE/chr1test60cutoffNone.result', '../data/wg20220316/chr1test/tmp/CACHE/chr1test61cutoffNone.result', '../data/wg20220316/chr1test/tmp/CACHE/chr1test62cutoffNone.result', '../data/wg20220316/chr1test/tmp/CACHE/chr1test63cutoffNone.result', '../data/wg20220316/chr1test/tmp/CACHE/chr1test64cutoffNone.result', '../data/wg20220316/chr1test/tmp/CACHE/chr1test65cutoffNone.result', '../data/wg20220316/chr1test/tmp/CACHE/chr1test66cutoffNone.result', '../data/wg20220316/chr1test/tmp/CACHE/chr1test67cutoffNone.result', '../data/wg20220316/chr1test/tmp/CACHE/chr1test68cutoffNone.result', '../data/wg20220316/chr1test/tmp/CACHE/chr1test69cutoffNone.result', '../data/wg20220316/chr1test/tmp/CACHE/chr1test70cutoffNone.result', '../data/wg20220316/chr1test/tmp/CACHE/chr1test71cutoffNone.result', '../data/wg20220316/chr1test/tmp/CACHE/chr1test72cutoffNone.result', '../data/wg20220316/chr1test/tmp/CACHE/chr1test73cutoffNone.result', '../data/wg20220316/chr1test/tmp/CACHE/chr1test74cutoffNone.result', '../data/wg20220316/chr1test/tmp/CACHE/chr1test75cutoffNone.result', '../data/wg20220316/chr1test/tmp/CACHE/chr1test76cutoffNone.result', '../data/wg20220316/chr1test/tmp/CACHE/chr1test77cutoffNone.result', '../data/wg20220316/chr1test/tmp/CACHE/chr1test78cutoffNone.result', '../data/wg20220316/chr1test/tmp/CACHE/chr1test79cutoffNone.result', '../data/wg20220316/chr1test/tmp/CACHE/chr1test80cutoffNone.result', '../data/wg20220316/chr1test/tmp/CACHE/chr1test81cutoffNone.result', '../data/wg20220316/chr1test/tmp/CACHE/chr1test82cutoffNone.result', '../data/wg20220316/chr1test/tmp/CACHE/chr1test83cutoffNone.result', '../data/wg20220316/chr1test/tmp/CACHE/chr1test84cutoffNone.result', '../data/wg20220316/chr1test/tmp/CACHE/chr1test85cutoffNone.result', '../data/wg20220316/chr1test/tmp/CACHE/chr1test86cutoffNone.result', '../data/wg20220316/chr1test/tmp/CACHE/chr1test87cutoffNone.result', '../data/wg20220316/chr1test/tmp/CACHE/chr1test88cutoffNone.result', '../data/wg20220316/chr1test/tmp/CACHE/chr1test89cutoffNone.result', '../data/wg20220316/chr1test/tmp/CACHE/chr1test90cutoffNone.result', '../data/wg20220316/chr1test/tmp/CACHE/chr1test91cutoffNone.result', '../data/wg20220316/chr1test/tmp/CACHE/chr1test92cutoffNone.result', '../data/wg20220316/chr1test/tmp/CACHE/chr1test93cutoffNone.result', '../data/wg20220316/chr1test/tmp/CACHE/chr1test94cutoffNone.result', '../data/wg20220316/chr1test/tmp/CACHE/chr1test95cutoffNone.result', '../data/wg20220316/chr1test/tmp/CACHE/chr1test96cutoffNone.result', '../data/wg20220316/chr1test/tmp/CACHE/chr1test97cutoffNone.result', '../data/wg20220316/chr1test/tmp/CACHE/chr1test98cutoffNone.result', '../data/wg20220316/chr1test/tmp/CACHE/chr1test99cutoffNone.result', '../data/wg20220316/chr1test/tmp/CACHE/chr1test100cutoffNone.result', '../data/wg20220316/chr1test/tmp/CACHE/chr1test101cutoffNone.result', '../data/wg20220316/chr1test/tmp/CACHE/chr1test102cutoffNone.result', '../data/wg20220316/chr1test/tmp/CACHE/chr1test103cutoffNone.result', '../data/wg20220316/chr1test/tmp/CACHE/chr1test104cutoffNone.result', '../data/wg20220316/chr1test/tmp/CACHE/chr1test105cutoffNone.result', '../data/wg20220316/chr1test/tmp/CACHE/chr1test106cutoffNone.result', '../data/wg20220316/chr1test/tmp/CACHE/chr1test107cutoffNone.result', '../data/wg20220316/chr1test/tmp/CACHE/chr1test108cutoffNone.result'] ../data/wg20220316/chr1_common_variants.pickle\n",
      "['../data/wg20220316/chr2test/tmp/CACHE/chr2test0cutoffNone.result', '../data/wg20220316/chr2test/tmp/CACHE/chr2test1cutoffNone.result', '../data/wg20220316/chr2test/tmp/CACHE/chr2test2cutoffNone.result', '../data/wg20220316/chr2test/tmp/CACHE/chr2test3cutoffNone.result', '../data/wg20220316/chr2test/tmp/CACHE/chr2test4cutoffNone.result', '../data/wg20220316/chr2test/tmp/CACHE/chr2test5cutoffNone.result', '../data/wg20220316/chr2test/tmp/CACHE/chr2test6cutoffNone.result', '../data/wg20220316/chr2test/tmp/CACHE/chr2test7cutoffNone.result', '../data/wg20220316/chr2test/tmp/CACHE/chr2test8cutoffNone.result', '../data/wg20220316/chr2test/tmp/CACHE/chr2test9cutoffNone.result', '../data/wg20220316/chr2test/tmp/CACHE/chr2test10cutoffNone.result', '../data/wg20220316/chr2test/tmp/CACHE/chr2test11cutoffNone.result', '../data/wg20220316/chr2test/tmp/CACHE/chr2test12cutoffNone.result', '../data/wg20220316/chr2test/tmp/CACHE/chr2test13cutoffNone.result', '../data/wg20220316/chr2test/tmp/CACHE/chr2test14cutoffNone.result', '../data/wg20220316/chr2test/tmp/CACHE/chr2test15cutoffNone.result', '../data/wg20220316/chr2test/tmp/CACHE/chr2test16cutoffNone.result', '../data/wg20220316/chr2test/tmp/CACHE/chr2test17cutoffNone.result', '../data/wg20220316/chr2test/tmp/CACHE/chr2test18cutoffNone.result', '../data/wg20220316/chr2test/tmp/CACHE/chr2test19cutoffNone.result', '../data/wg20220316/chr2test/tmp/CACHE/chr2test20cutoffNone.result', '../data/wg20220316/chr2test/tmp/CACHE/chr2test21cutoffNone.result', '../data/wg20220316/chr2test/tmp/CACHE/chr2test22cutoffNone.result', '../data/wg20220316/chr2test/tmp/CACHE/chr2test23cutoffNone.result', '../data/wg20220316/chr2test/tmp/CACHE/chr2test24cutoffNone.result', '../data/wg20220316/chr2test/tmp/CACHE/chr2test25cutoffNone.result', '../data/wg20220316/chr2test/tmp/CACHE/chr2test26cutoffNone.result', '../data/wg20220316/chr2test/tmp/CACHE/chr2test27cutoffNone.result', '../data/wg20220316/chr2test/tmp/CACHE/chr2test28cutoffNone.result', '../data/wg20220316/chr2test/tmp/CACHE/chr2test29cutoffNone.result', '../data/wg20220316/chr2test/tmp/CACHE/chr2test30cutoffNone.result', '../data/wg20220316/chr2test/tmp/CACHE/chr2test31cutoffNone.result', '../data/wg20220316/chr2test/tmp/CACHE/chr2test32cutoffNone.result', '../data/wg20220316/chr2test/tmp/CACHE/chr2test33cutoffNone.result', '../data/wg20220316/chr2test/tmp/CACHE/chr2test34cutoffNone.result', '../data/wg20220316/chr2test/tmp/CACHE/chr2test35cutoffNone.result', '../data/wg20220316/chr2test/tmp/CACHE/chr2test36cutoffNone.result', '../data/wg20220316/chr2test/tmp/CACHE/chr2test37cutoffNone.result', '../data/wg20220316/chr2test/tmp/CACHE/chr2test38cutoffNone.result', '../data/wg20220316/chr2test/tmp/CACHE/chr2test39cutoffNone.result', '../data/wg20220316/chr2test/tmp/CACHE/chr2test40cutoffNone.result', '../data/wg20220316/chr2test/tmp/CACHE/chr2test41cutoffNone.result', '../data/wg20220316/chr2test/tmp/CACHE/chr2test42cutoffNone.result', '../data/wg20220316/chr2test/tmp/CACHE/chr2test43cutoffNone.result', '../data/wg20220316/chr2test/tmp/CACHE/chr2test44cutoffNone.result', '../data/wg20220316/chr2test/tmp/CACHE/chr2test45cutoffNone.result', '../data/wg20220316/chr2test/tmp/CACHE/chr2test46cutoffNone.result', '../data/wg20220316/chr2test/tmp/CACHE/chr2test47cutoffNone.result', '../data/wg20220316/chr2test/tmp/CACHE/chr2test48cutoffNone.result', '../data/wg20220316/chr2test/tmp/CACHE/chr2test49cutoffNone.result', '../data/wg20220316/chr2test/tmp/CACHE/chr2test50cutoffNone.result', '../data/wg20220316/chr2test/tmp/CACHE/chr2test51cutoffNone.result', '../data/wg20220316/chr2test/tmp/CACHE/chr2test52cutoffNone.result', '../data/wg20220316/chr2test/tmp/CACHE/chr2test53cutoffNone.result', '../data/wg20220316/chr2test/tmp/CACHE/chr2test54cutoffNone.result', '../data/wg20220316/chr2test/tmp/CACHE/chr2test55cutoffNone.result', '../data/wg20220316/chr2test/tmp/CACHE/chr2test56cutoffNone.result', '../data/wg20220316/chr2test/tmp/CACHE/chr2test57cutoffNone.result', '../data/wg20220316/chr2test/tmp/CACHE/chr2test58cutoffNone.result', '../data/wg20220316/chr2test/tmp/CACHE/chr2test59cutoffNone.result', '../data/wg20220316/chr2test/tmp/CACHE/chr2test60cutoffNone.result', '../data/wg20220316/chr2test/tmp/CACHE/chr2test61cutoffNone.result', '../data/wg20220316/chr2test/tmp/CACHE/chr2test62cutoffNone.result', '../data/wg20220316/chr2test/tmp/CACHE/chr2test63cutoffNone.result', '../data/wg20220316/chr2test/tmp/CACHE/chr2test64cutoffNone.result', '../data/wg20220316/chr2test/tmp/CACHE/chr2test65cutoffNone.result', '../data/wg20220316/chr2test/tmp/CACHE/chr2test66cutoffNone.result', '../data/wg20220316/chr2test/tmp/CACHE/chr2test67cutoffNone.result', '../data/wg20220316/chr2test/tmp/CACHE/chr2test68cutoffNone.result', '../data/wg20220316/chr2test/tmp/CACHE/chr2test69cutoffNone.result', '../data/wg20220316/chr2test/tmp/CACHE/chr2test70cutoffNone.result'] ../data/wg20220316/chr2_common_variants.pickle\n",
      "['../data/wg20220316/chr3test/tmp/CACHE/chr3test0cutoffNone.result', '../data/wg20220316/chr3test/tmp/CACHE/chr3test1cutoffNone.result', '../data/wg20220316/chr3test/tmp/CACHE/chr3test2cutoffNone.result', '../data/wg20220316/chr3test/tmp/CACHE/chr3test3cutoffNone.result', '../data/wg20220316/chr3test/tmp/CACHE/chr3test4cutoffNone.result', '../data/wg20220316/chr3test/tmp/CACHE/chr3test5cutoffNone.result', '../data/wg20220316/chr3test/tmp/CACHE/chr3test6cutoffNone.result', '../data/wg20220316/chr3test/tmp/CACHE/chr3test7cutoffNone.result', '../data/wg20220316/chr3test/tmp/CACHE/chr3test8cutoffNone.result', '../data/wg20220316/chr3test/tmp/CACHE/chr3test9cutoffNone.result', '../data/wg20220316/chr3test/tmp/CACHE/chr3test10cutoffNone.result', '../data/wg20220316/chr3test/tmp/CACHE/chr3test11cutoffNone.result', '../data/wg20220316/chr3test/tmp/CACHE/chr3test12cutoffNone.result', '../data/wg20220316/chr3test/tmp/CACHE/chr3test13cutoffNone.result', '../data/wg20220316/chr3test/tmp/CACHE/chr3test14cutoffNone.result', '../data/wg20220316/chr3test/tmp/CACHE/chr3test15cutoffNone.result', '../data/wg20220316/chr3test/tmp/CACHE/chr3test16cutoffNone.result', '../data/wg20220316/chr3test/tmp/CACHE/chr3test17cutoffNone.result', '../data/wg20220316/chr3test/tmp/CACHE/chr3test18cutoffNone.result', '../data/wg20220316/chr3test/tmp/CACHE/chr3test19cutoffNone.result', '../data/wg20220316/chr3test/tmp/CACHE/chr3test20cutoffNone.result', '../data/wg20220316/chr3test/tmp/CACHE/chr3test21cutoffNone.result', '../data/wg20220316/chr3test/tmp/CACHE/chr3test22cutoffNone.result', '../data/wg20220316/chr3test/tmp/CACHE/chr3test23cutoffNone.result', '../data/wg20220316/chr3test/tmp/CACHE/chr3test24cutoffNone.result', '../data/wg20220316/chr3test/tmp/CACHE/chr3test25cutoffNone.result', '../data/wg20220316/chr3test/tmp/CACHE/chr3test26cutoffNone.result', '../data/wg20220316/chr3test/tmp/CACHE/chr3test27cutoffNone.result', '../data/wg20220316/chr3test/tmp/CACHE/chr3test28cutoffNone.result', '../data/wg20220316/chr3test/tmp/CACHE/chr3test29cutoffNone.result', '../data/wg20220316/chr3test/tmp/CACHE/chr3test30cutoffNone.result', '../data/wg20220316/chr3test/tmp/CACHE/chr3test31cutoffNone.result', '../data/wg20220316/chr3test/tmp/CACHE/chr3test32cutoffNone.result', '../data/wg20220316/chr3test/tmp/CACHE/chr3test33cutoffNone.result', '../data/wg20220316/chr3test/tmp/CACHE/chr3test34cutoffNone.result', '../data/wg20220316/chr3test/tmp/CACHE/chr3test35cutoffNone.result', '../data/wg20220316/chr3test/tmp/CACHE/chr3test36cutoffNone.result', '../data/wg20220316/chr3test/tmp/CACHE/chr3test37cutoffNone.result', '../data/wg20220316/chr3test/tmp/CACHE/chr3test38cutoffNone.result', '../data/wg20220316/chr3test/tmp/CACHE/chr3test39cutoffNone.result', '../data/wg20220316/chr3test/tmp/CACHE/chr3test40cutoffNone.result', '../data/wg20220316/chr3test/tmp/CACHE/chr3test41cutoffNone.result', '../data/wg20220316/chr3test/tmp/CACHE/chr3test42cutoffNone.result', '../data/wg20220316/chr3test/tmp/CACHE/chr3test43cutoffNone.result', '../data/wg20220316/chr3test/tmp/CACHE/chr3test44cutoffNone.result', '../data/wg20220316/chr3test/tmp/CACHE/chr3test45cutoffNone.result', '../data/wg20220316/chr3test/tmp/CACHE/chr3test46cutoffNone.result', '../data/wg20220316/chr3test/tmp/CACHE/chr3test47cutoffNone.result', '../data/wg20220316/chr3test/tmp/CACHE/chr3test48cutoffNone.result', '../data/wg20220316/chr3test/tmp/CACHE/chr3test49cutoffNone.result', '../data/wg20220316/chr3test/tmp/CACHE/chr3test50cutoffNone.result', '../data/wg20220316/chr3test/tmp/CACHE/chr3test51cutoffNone.result', '../data/wg20220316/chr3test/tmp/CACHE/chr3test52cutoffNone.result', '../data/wg20220316/chr3test/tmp/CACHE/chr3test53cutoffNone.result', '../data/wg20220316/chr3test/tmp/CACHE/chr3test54cutoffNone.result', '../data/wg20220316/chr3test/tmp/CACHE/chr3test55cutoffNone.result', '../data/wg20220316/chr3test/tmp/CACHE/chr3test56cutoffNone.result', '../data/wg20220316/chr3test/tmp/CACHE/chr3test57cutoffNone.result', '../data/wg20220316/chr3test/tmp/CACHE/chr3test58cutoffNone.result', '../data/wg20220316/chr3test/tmp/CACHE/chr3test59cutoffNone.result', '../data/wg20220316/chr3test/tmp/CACHE/chr3test60cutoffNone.result'] ../data/wg20220316/chr3_common_variants.pickle\n",
      "['../data/wg20220316/chr4test/tmp/CACHE/chr4test0cutoffNone.result', '../data/wg20220316/chr4test/tmp/CACHE/chr4test1cutoffNone.result', '../data/wg20220316/chr4test/tmp/CACHE/chr4test2cutoffNone.result', '../data/wg20220316/chr4test/tmp/CACHE/chr4test3cutoffNone.result', '../data/wg20220316/chr4test/tmp/CACHE/chr4test4cutoffNone.result', '../data/wg20220316/chr4test/tmp/CACHE/chr4test5cutoffNone.result', '../data/wg20220316/chr4test/tmp/CACHE/chr4test6cutoffNone.result', '../data/wg20220316/chr4test/tmp/CACHE/chr4test7cutoffNone.result', '../data/wg20220316/chr4test/tmp/CACHE/chr4test8cutoffNone.result', '../data/wg20220316/chr4test/tmp/CACHE/chr4test9cutoffNone.result', '../data/wg20220316/chr4test/tmp/CACHE/chr4test10cutoffNone.result', '../data/wg20220316/chr4test/tmp/CACHE/chr4test11cutoffNone.result', '../data/wg20220316/chr4test/tmp/CACHE/chr4test12cutoffNone.result', '../data/wg20220316/chr4test/tmp/CACHE/chr4test13cutoffNone.result', '../data/wg20220316/chr4test/tmp/CACHE/chr4test14cutoffNone.result', '../data/wg20220316/chr4test/tmp/CACHE/chr4test15cutoffNone.result', '../data/wg20220316/chr4test/tmp/CACHE/chr4test16cutoffNone.result', '../data/wg20220316/chr4test/tmp/CACHE/chr4test17cutoffNone.result', '../data/wg20220316/chr4test/tmp/CACHE/chr4test18cutoffNone.result', '../data/wg20220316/chr4test/tmp/CACHE/chr4test19cutoffNone.result', '../data/wg20220316/chr4test/tmp/CACHE/chr4test20cutoffNone.result', '../data/wg20220316/chr4test/tmp/CACHE/chr4test21cutoffNone.result', '../data/wg20220316/chr4test/tmp/CACHE/chr4test22cutoffNone.result', '../data/wg20220316/chr4test/tmp/CACHE/chr4test23cutoffNone.result', '../data/wg20220316/chr4test/tmp/CACHE/chr4test24cutoffNone.result', '../data/wg20220316/chr4test/tmp/CACHE/chr4test25cutoffNone.result', '../data/wg20220316/chr4test/tmp/CACHE/chr4test26cutoffNone.result', '../data/wg20220316/chr4test/tmp/CACHE/chr4test27cutoffNone.result', '../data/wg20220316/chr4test/tmp/CACHE/chr4test28cutoffNone.result', '../data/wg20220316/chr4test/tmp/CACHE/chr4test29cutoffNone.result', '../data/wg20220316/chr4test/tmp/CACHE/chr4test30cutoffNone.result', '../data/wg20220316/chr4test/tmp/CACHE/chr4test31cutoffNone.result', '../data/wg20220316/chr4test/tmp/CACHE/chr4test32cutoffNone.result', '../data/wg20220316/chr4test/tmp/CACHE/chr4test33cutoffNone.result', '../data/wg20220316/chr4test/tmp/CACHE/chr4test34cutoffNone.result', '../data/wg20220316/chr4test/tmp/CACHE/chr4test35cutoffNone.result', '../data/wg20220316/chr4test/tmp/CACHE/chr4test36cutoffNone.result', '../data/wg20220316/chr4test/tmp/CACHE/chr4test37cutoffNone.result', '../data/wg20220316/chr4test/tmp/CACHE/chr4test38cutoffNone.result', '../data/wg20220316/chr4test/tmp/CACHE/chr4test39cutoffNone.result', '../data/wg20220316/chr4test/tmp/CACHE/chr4test40cutoffNone.result', '../data/wg20220316/chr4test/tmp/CACHE/chr4test41cutoffNone.result'] ../data/wg20220316/chr4_common_variants.pickle\n",
      "['../data/wg20220316/chr5test/tmp/CACHE/chr5test0cutoffNone.result', '../data/wg20220316/chr5test/tmp/CACHE/chr5test1cutoffNone.result', '../data/wg20220316/chr5test/tmp/CACHE/chr5test2cutoffNone.result', '../data/wg20220316/chr5test/tmp/CACHE/chr5test3cutoffNone.result', '../data/wg20220316/chr5test/tmp/CACHE/chr5test4cutoffNone.result', '../data/wg20220316/chr5test/tmp/CACHE/chr5test5cutoffNone.result', '../data/wg20220316/chr5test/tmp/CACHE/chr5test6cutoffNone.result', '../data/wg20220316/chr5test/tmp/CACHE/chr5test7cutoffNone.result', '../data/wg20220316/chr5test/tmp/CACHE/chr5test8cutoffNone.result', '../data/wg20220316/chr5test/tmp/CACHE/chr5test9cutoffNone.result', '../data/wg20220316/chr5test/tmp/CACHE/chr5test10cutoffNone.result', '../data/wg20220316/chr5test/tmp/CACHE/chr5test11cutoffNone.result', '../data/wg20220316/chr5test/tmp/CACHE/chr5test12cutoffNone.result', '../data/wg20220316/chr5test/tmp/CACHE/chr5test13cutoffNone.result', '../data/wg20220316/chr5test/tmp/CACHE/chr5test14cutoffNone.result', '../data/wg20220316/chr5test/tmp/CACHE/chr5test15cutoffNone.result', '../data/wg20220316/chr5test/tmp/CACHE/chr5test16cutoffNone.result', '../data/wg20220316/chr5test/tmp/CACHE/chr5test17cutoffNone.result', '../data/wg20220316/chr5test/tmp/CACHE/chr5test18cutoffNone.result', '../data/wg20220316/chr5test/tmp/CACHE/chr5test19cutoffNone.result', '../data/wg20220316/chr5test/tmp/CACHE/chr5test20cutoffNone.result', '../data/wg20220316/chr5test/tmp/CACHE/chr5test21cutoffNone.result', '../data/wg20220316/chr5test/tmp/CACHE/chr5test22cutoffNone.result', '../data/wg20220316/chr5test/tmp/CACHE/chr5test23cutoffNone.result', '../data/wg20220316/chr5test/tmp/CACHE/chr5test24cutoffNone.result', '../data/wg20220316/chr5test/tmp/CACHE/chr5test25cutoffNone.result', '../data/wg20220316/chr5test/tmp/CACHE/chr5test26cutoffNone.result', '../data/wg20220316/chr5test/tmp/CACHE/chr5test27cutoffNone.result', '../data/wg20220316/chr5test/tmp/CACHE/chr5test28cutoffNone.result', '../data/wg20220316/chr5test/tmp/CACHE/chr5test29cutoffNone.result', '../data/wg20220316/chr5test/tmp/CACHE/chr5test30cutoffNone.result', '../data/wg20220316/chr5test/tmp/CACHE/chr5test31cutoffNone.result', '../data/wg20220316/chr5test/tmp/CACHE/chr5test32cutoffNone.result', '../data/wg20220316/chr5test/tmp/CACHE/chr5test33cutoffNone.result', '../data/wg20220316/chr5test/tmp/CACHE/chr5test34cutoffNone.result', '../data/wg20220316/chr5test/tmp/CACHE/chr5test35cutoffNone.result', '../data/wg20220316/chr5test/tmp/CACHE/chr5test36cutoffNone.result', '../data/wg20220316/chr5test/tmp/CACHE/chr5test37cutoffNone.result', '../data/wg20220316/chr5test/tmp/CACHE/chr5test38cutoffNone.result', '../data/wg20220316/chr5test/tmp/CACHE/chr5test39cutoffNone.result', '../data/wg20220316/chr5test/tmp/CACHE/chr5test40cutoffNone.result', '../data/wg20220316/chr5test/tmp/CACHE/chr5test41cutoffNone.result', '../data/wg20220316/chr5test/tmp/CACHE/chr5test42cutoffNone.result', '../data/wg20220316/chr5test/tmp/CACHE/chr5test43cutoffNone.result', '../data/wg20220316/chr5test/tmp/CACHE/chr5test44cutoffNone.result', '../data/wg20220316/chr5test/tmp/CACHE/chr5test45cutoffNone.result', '../data/wg20220316/chr5test/tmp/CACHE/chr5test46cutoffNone.result', '../data/wg20220316/chr5test/tmp/CACHE/chr5test47cutoffNone.result', '../data/wg20220316/chr5test/tmp/CACHE/chr5test48cutoffNone.result', '../data/wg20220316/chr5test/tmp/CACHE/chr5test49cutoffNone.result', '../data/wg20220316/chr5test/tmp/CACHE/chr5test50cutoffNone.result'] ../data/wg20220316/chr5_common_variants.pickle\n",
      "['../data/wg20220316/chr6test/tmp/CACHE/chr6test33cutoffNone.result', '../data/wg20220316/chr6test/tmp/CACHE/chr6test34cutoffNone.result', '../data/wg20220316/chr6test/tmp/CACHE/chr6test35cutoffNone.result', '../data/wg20220316/chr6test/tmp/CACHE/chr6test36cutoffNone.result', '../data/wg20220316/chr6test/tmp/CACHE/chr6test37cutoffNone.result', '../data/wg20220316/chr6test/tmp/CACHE/chr6test38cutoffNone.result', '../data/wg20220316/chr6test/tmp/CACHE/chr6test39cutoffNone.result', '../data/wg20220316/chr6test/tmp/CACHE/chr6test40cutoffNone.result', '../data/wg20220316/chr6test/tmp/CACHE/chr6test41cutoffNone.result', '../data/wg20220316/chr6test/tmp/CACHE/chr6test42cutoffNone.result', '../data/wg20220316/chr6test/tmp/CACHE/chr6test43cutoffNone.result', '../data/wg20220316/chr6test/tmp/CACHE/chr6test44cutoffNone.result', '../data/wg20220316/chr6test/tmp/CACHE/chr6test45cutoffNone.result', '../data/wg20220316/chr6test/tmp/CACHE/chr6test46cutoffNone.result', '../data/wg20220316/chr6test/tmp/CACHE/chr6test47cutoffNone.result', '../data/wg20220316/chr6test/tmp/CACHE/chr6test48cutoffNone.result', '../data/wg20220316/chr6test/tmp/CACHE/chr6test49cutoffNone.result', '../data/wg20220316/chr6test/tmp/CACHE/chr6test50cutoffNone.result', '../data/wg20220316/chr6test/tmp/CACHE/chr6test51cutoffNone.result', '../data/wg20220316/chr6test/tmp/CACHE/chr6test52cutoffNone.result', '../data/wg20220316/chr6test/tmp/CACHE/chr6test53cutoffNone.result', '../data/wg20220316/chr6test/tmp/CACHE/chr6test54cutoffNone.result', '../data/wg20220316/chr6test/tmp/CACHE/chr6test55cutoffNone.result', '../data/wg20220316/chr6test/tmp/CACHE/chr6test56cutoffNone.result'] ../data/wg20220316/chr6_common_variants.pickle\n",
      "['../data/wg20220316/chr7test/tmp/CACHE/chr7test0cutoffNone.result', '../data/wg20220316/chr7test/tmp/CACHE/chr7test1cutoffNone.result', '../data/wg20220316/chr7test/tmp/CACHE/chr7test2cutoffNone.result', '../data/wg20220316/chr7test/tmp/CACHE/chr7test3cutoffNone.result', '../data/wg20220316/chr7test/tmp/CACHE/chr7test4cutoffNone.result', '../data/wg20220316/chr7test/tmp/CACHE/chr7test5cutoffNone.result', '../data/wg20220316/chr7test/tmp/CACHE/chr7test6cutoffNone.result', '../data/wg20220316/chr7test/tmp/CACHE/chr7test7cutoffNone.result', '../data/wg20220316/chr7test/tmp/CACHE/chr7test8cutoffNone.result', '../data/wg20220316/chr7test/tmp/CACHE/chr7test9cutoffNone.result', '../data/wg20220316/chr7test/tmp/CACHE/chr7test10cutoffNone.result', '../data/wg20220316/chr7test/tmp/CACHE/chr7test11cutoffNone.result', '../data/wg20220316/chr7test/tmp/CACHE/chr7test12cutoffNone.result', '../data/wg20220316/chr7test/tmp/CACHE/chr7test13cutoffNone.result', '../data/wg20220316/chr7test/tmp/CACHE/chr7test14cutoffNone.result', '../data/wg20220316/chr7test/tmp/CACHE/chr7test15cutoffNone.result', '../data/wg20220316/chr7test/tmp/CACHE/chr7test16cutoffNone.result', '../data/wg20220316/chr7test/tmp/CACHE/chr7test17cutoffNone.result', '../data/wg20220316/chr7test/tmp/CACHE/chr7test18cutoffNone.result', '../data/wg20220316/chr7test/tmp/CACHE/chr7test19cutoffNone.result', '../data/wg20220316/chr7test/tmp/CACHE/chr7test20cutoffNone.result', '../data/wg20220316/chr7test/tmp/CACHE/chr7test21cutoffNone.result', '../data/wg20220316/chr7test/tmp/CACHE/chr7test22cutoffNone.result', '../data/wg20220316/chr7test/tmp/CACHE/chr7test23cutoffNone.result', '../data/wg20220316/chr7test/tmp/CACHE/chr7test24cutoffNone.result', '../data/wg20220316/chr7test/tmp/CACHE/chr7test25cutoffNone.result', '../data/wg20220316/chr7test/tmp/CACHE/chr7test26cutoffNone.result', '../data/wg20220316/chr7test/tmp/CACHE/chr7test27cutoffNone.result', '../data/wg20220316/chr7test/tmp/CACHE/chr7test28cutoffNone.result', '../data/wg20220316/chr7test/tmp/CACHE/chr7test29cutoffNone.result', '../data/wg20220316/chr7test/tmp/CACHE/chr7test30cutoffNone.result', '../data/wg20220316/chr7test/tmp/CACHE/chr7test31cutoffNone.result', '../data/wg20220316/chr7test/tmp/CACHE/chr7test32cutoffNone.result', '../data/wg20220316/chr7test/tmp/CACHE/chr7test33cutoffNone.result', '../data/wg20220316/chr7test/tmp/CACHE/chr7test34cutoffNone.result', '../data/wg20220316/chr7test/tmp/CACHE/chr7test35cutoffNone.result', '../data/wg20220316/chr7test/tmp/CACHE/chr7test36cutoffNone.result', '../data/wg20220316/chr7test/tmp/CACHE/chr7test37cutoffNone.result', '../data/wg20220316/chr7test/tmp/CACHE/chr7test38cutoffNone.result', '../data/wg20220316/chr7test/tmp/CACHE/chr7test39cutoffNone.result', '../data/wg20220316/chr7test/tmp/CACHE/chr7test40cutoffNone.result', '../data/wg20220316/chr7test/tmp/CACHE/chr7test41cutoffNone.result', '../data/wg20220316/chr7test/tmp/CACHE/chr7test42cutoffNone.result', '../data/wg20220316/chr7test/tmp/CACHE/chr7test43cutoffNone.result', '../data/wg20220316/chr7test/tmp/CACHE/chr7test44cutoffNone.result', '../data/wg20220316/chr7test/tmp/CACHE/chr7test45cutoffNone.result', '../data/wg20220316/chr7test/tmp/CACHE/chr7test46cutoffNone.result', '../data/wg20220316/chr7test/tmp/CACHE/chr7test47cutoffNone.result', '../data/wg20220316/chr7test/tmp/CACHE/chr7test48cutoffNone.result', '../data/wg20220316/chr7test/tmp/CACHE/chr7test49cutoffNone.result', '../data/wg20220316/chr7test/tmp/CACHE/chr7test50cutoffNone.result', '../data/wg20220316/chr7test/tmp/CACHE/chr7test51cutoffNone.result', '../data/wg20220316/chr7test/tmp/CACHE/chr7test52cutoffNone.result'] ../data/wg20220316/chr7_common_variants.pickle\n",
      "['../data/wg20220316/chr8test/tmp/CACHE/chr8test7cutoffNone.result', '../data/wg20220316/chr8test/tmp/CACHE/chr8test8cutoffNone.result', '../data/wg20220316/chr8test/tmp/CACHE/chr8test9cutoffNone.result', '../data/wg20220316/chr8test/tmp/CACHE/chr8test10cutoffNone.result', '../data/wg20220316/chr8test/tmp/CACHE/chr8test11cutoffNone.result', '../data/wg20220316/chr8test/tmp/CACHE/chr8test12cutoffNone.result', '../data/wg20220316/chr8test/tmp/CACHE/chr8test13cutoffNone.result', '../data/wg20220316/chr8test/tmp/CACHE/chr8test14cutoffNone.result', '../data/wg20220316/chr8test/tmp/CACHE/chr8test15cutoffNone.result', '../data/wg20220316/chr8test/tmp/CACHE/chr8test16cutoffNone.result', '../data/wg20220316/chr8test/tmp/CACHE/chr8test17cutoffNone.result', '../data/wg20220316/chr8test/tmp/CACHE/chr8test18cutoffNone.result', '../data/wg20220316/chr8test/tmp/CACHE/chr8test19cutoffNone.result', '../data/wg20220316/chr8test/tmp/CACHE/chr8test20cutoffNone.result', '../data/wg20220316/chr8test/tmp/CACHE/chr8test21cutoffNone.result', '../data/wg20220316/chr8test/tmp/CACHE/chr8test22cutoffNone.result', '../data/wg20220316/chr8test/tmp/CACHE/chr8test23cutoffNone.result', '../data/wg20220316/chr8test/tmp/CACHE/chr8test24cutoffNone.result', '../data/wg20220316/chr8test/tmp/CACHE/chr8test25cutoffNone.result', '../data/wg20220316/chr8test/tmp/CACHE/chr8test26cutoffNone.result', '../data/wg20220316/chr8test/tmp/CACHE/chr8test27cutoffNone.result', '../data/wg20220316/chr8test/tmp/CACHE/chr8test28cutoffNone.result', '../data/wg20220316/chr8test/tmp/CACHE/chr8test29cutoffNone.result', '../data/wg20220316/chr8test/tmp/CACHE/chr8test30cutoffNone.result', '../data/wg20220316/chr8test/tmp/CACHE/chr8test31cutoffNone.result', '../data/wg20220316/chr8test/tmp/CACHE/chr8test32cutoffNone.result', '../data/wg20220316/chr8test/tmp/CACHE/chr8test33cutoffNone.result', '../data/wg20220316/chr8test/tmp/CACHE/chr8test34cutoffNone.result', '../data/wg20220316/chr8test/tmp/CACHE/chr8test35cutoffNone.result', '../data/wg20220316/chr8test/tmp/CACHE/chr8test36cutoffNone.result', '../data/wg20220316/chr8test/tmp/CACHE/chr8test37cutoffNone.result', '../data/wg20220316/chr8test/tmp/CACHE/chr8test38cutoffNone.result', '../data/wg20220316/chr8test/tmp/CACHE/chr8test39cutoffNone.result'] ../data/wg20220316/chr8_common_variants.pickle\n"
     ]
    }
   ],
   "source": [
    "smy_ress_lst1=[]\n",
    "for i in range(1,9):\n",
    "    path_ress=glob.glob('../data/wg20220316/chr'+str(i)+'test/tmp/CACHE/chr'+str(i)+'test*cutoffNone.result')\n",
    "    path_com_vars='../data/wg20220316/chr'+str(i)+'_common_variants.pickle'\n",
    "    print(path_ress,path_com_vars)\n",
    "    smy_ress_lst1.append(get_common_smyress(path_ress,path_com_vars))"
   ]
  },
  {
   "cell_type": "code",
   "execution_count": null,
   "id": "0d3fe570-3f00-409c-9752-ed126c9d854f",
   "metadata": {},
   "outputs": [
    {
     "name": "stdout",
     "output_type": "stream",
     "text": [
      "['../data/wg20220316/chr9test/tmp/CACHE/chr9test3cutoffNone_rho0.result', '../data/wg20220316/chr9test/tmp/CACHE/chr9test4cutoffNone_rho0.result', '../data/wg20220316/chr9test/tmp/CACHE/chr9test5cutoffNone_rho0.result', '../data/wg20220316/chr9test/tmp/CACHE/chr9test6cutoffNone_rho0.result', '../data/wg20220316/chr9test/tmp/CACHE/chr9test7cutoffNone_rho0.result', '../data/wg20220316/chr9test/tmp/CACHE/chr9test8cutoffNone_rho0.result', '../data/wg20220316/chr9test/tmp/CACHE/chr9test9cutoffNone_rho0.result', '../data/wg20220316/chr9test/tmp/CACHE/chr9test10cutoffNone_rho0.result', '../data/wg20220316/chr9test/tmp/CACHE/chr9test11cutoffNone_rho0.result', '../data/wg20220316/chr9test/tmp/CACHE/chr9test12cutoffNone_rho0.result', '../data/wg20220316/chr9test/tmp/CACHE/chr9test13cutoffNone_rho0.result', '../data/wg20220316/chr9test/tmp/CACHE/chr9test14cutoffNone_rho0.result', '../data/wg20220316/chr9test/tmp/CACHE/chr9test15cutoffNone_rho0.result', '../data/wg20220316/chr9test/tmp/CACHE/chr9test16cutoffNone_rho0.result', '../data/wg20220316/chr9test/tmp/CACHE/chr9test17cutoffNone_rho0.result', '../data/wg20220316/chr9test/tmp/CACHE/chr9test18cutoffNone_rho0.result', '../data/wg20220316/chr9test/tmp/CACHE/chr9test19cutoffNone_rho0.result', '../data/wg20220316/chr9test/tmp/CACHE/chr9test20cutoffNone_rho0.result', '../data/wg20220316/chr9test/tmp/CACHE/chr9test21cutoffNone_rho0.result', '../data/wg20220316/chr9test/tmp/CACHE/chr9test22cutoffNone_rho0.result', '../data/wg20220316/chr9test/tmp/CACHE/chr9test23cutoffNone_rho0.result', '../data/wg20220316/chr9test/tmp/CACHE/chr9test24cutoffNone_rho0.result', '../data/wg20220316/chr9test/tmp/CACHE/chr9test25cutoffNone_rho0.result', '../data/wg20220316/chr9test/tmp/CACHE/chr9test26cutoffNone_rho0.result', '../data/wg20220316/chr9test/tmp/CACHE/chr9test27cutoffNone_rho0.result', '../data/wg20220316/chr9test/tmp/CACHE/chr9test28cutoffNone_rho0.result', '../data/wg20220316/chr9test/tmp/CACHE/chr9test29cutoffNone_rho0.result', '../data/wg20220316/chr9test/tmp/CACHE/chr9test30cutoffNone_rho0.result', '../data/wg20220316/chr9test/tmp/CACHE/chr9test31cutoffNone_rho0.result', '../data/wg20220316/chr9test/tmp/CACHE/chr9test32cutoffNone_rho0.result', '../data/wg20220316/chr9test/tmp/CACHE/chr9test33cutoffNone_rho0.result', '../data/wg20220316/chr9test/tmp/CACHE/chr9test34cutoffNone_rho0.result', '../data/wg20220316/chr9test/tmp/CACHE/chr9test35cutoffNone_rho0.result', '../data/wg20220316/chr9test/tmp/CACHE/chr9test36cutoffNone_rho0.result', '../data/wg20220316/chr9test/tmp/CACHE/chr9test37cutoffNone_rho0.result', '../data/wg20220316/chr9test/tmp/CACHE/chr9test38cutoffNone_rho0.result', '../data/wg20220316/chr9test/tmp/CACHE/chr9test39cutoffNone_rho0.result', '../data/wg20220316/chr9test/tmp/CACHE/chr9test40cutoffNone_rho0.result', '../data/wg20220316/chr9test/tmp/CACHE/chr9test41cutoffNone_rho0.result', '../data/wg20220316/chr9test/tmp/CACHE/chr9test42cutoffNone_rho0.result', '../data/wg20220316/chr9test/tmp/CACHE/chr9test43cutoffNone_rho0.result'] ../data/wg20220316/chr9_common_variants.pickle\n",
      "['../data/wg20220316/chr10test/tmp/CACHE/chr10test0cutoffNone_rho0.result', '../data/wg20220316/chr10test/tmp/CACHE/chr10test1cutoffNone_rho0.result', '../data/wg20220316/chr10test/tmp/CACHE/chr10test2cutoffNone_rho0.result', '../data/wg20220316/chr10test/tmp/CACHE/chr10test3cutoffNone_rho0.result', '../data/wg20220316/chr10test/tmp/CACHE/chr10test4cutoffNone_rho0.result', '../data/wg20220316/chr10test/tmp/CACHE/chr10test5cutoffNone_rho0.result', '../data/wg20220316/chr10test/tmp/CACHE/chr10test6cutoffNone_rho0.result', '../data/wg20220316/chr10test/tmp/CACHE/chr10test7cutoffNone_rho0.result', '../data/wg20220316/chr10test/tmp/CACHE/chr10test8cutoffNone_rho0.result', '../data/wg20220316/chr10test/tmp/CACHE/chr10test9cutoffNone_rho0.result', '../data/wg20220316/chr10test/tmp/CACHE/chr10test10cutoffNone_rho0.result', '../data/wg20220316/chr10test/tmp/CACHE/chr10test11cutoffNone_rho0.result', '../data/wg20220316/chr10test/tmp/CACHE/chr10test12cutoffNone_rho0.result', '../data/wg20220316/chr10test/tmp/CACHE/chr10test13cutoffNone_rho0.result', '../data/wg20220316/chr10test/tmp/CACHE/chr10test14cutoffNone_rho0.result', '../data/wg20220316/chr10test/tmp/CACHE/chr10test15cutoffNone_rho0.result', '../data/wg20220316/chr10test/tmp/CACHE/chr10test16cutoffNone_rho0.result', '../data/wg20220316/chr10test/tmp/CACHE/chr10test17cutoffNone_rho0.result', '../data/wg20220316/chr10test/tmp/CACHE/chr10test18cutoffNone_rho0.result', '../data/wg20220316/chr10test/tmp/CACHE/chr10test19cutoffNone_rho0.result', '../data/wg20220316/chr10test/tmp/CACHE/chr10test20cutoffNone_rho0.result', '../data/wg20220316/chr10test/tmp/CACHE/chr10test21cutoffNone_rho0.result', '../data/wg20220316/chr10test/tmp/CACHE/chr10test22cutoffNone_rho0.result', '../data/wg20220316/chr10test/tmp/CACHE/chr10test23cutoffNone_rho0.result', '../data/wg20220316/chr10test/tmp/CACHE/chr10test24cutoffNone_rho0.result', '../data/wg20220316/chr10test/tmp/CACHE/chr10test25cutoffNone_rho0.result', '../data/wg20220316/chr10test/tmp/CACHE/chr10test26cutoffNone_rho0.result', '../data/wg20220316/chr10test/tmp/CACHE/chr10test27cutoffNone_rho0.result', '../data/wg20220316/chr10test/tmp/CACHE/chr10test28cutoffNone_rho0.result', '../data/wg20220316/chr10test/tmp/CACHE/chr10test29cutoffNone_rho0.result', '../data/wg20220316/chr10test/tmp/CACHE/chr10test30cutoffNone_rho0.result', '../data/wg20220316/chr10test/tmp/CACHE/chr10test31cutoffNone_rho0.result', '../data/wg20220316/chr10test/tmp/CACHE/chr10test32cutoffNone_rho0.result', '../data/wg20220316/chr10test/tmp/CACHE/chr10test33cutoffNone_rho0.result', '../data/wg20220316/chr10test/tmp/CACHE/chr10test34cutoffNone_rho0.result', '../data/wg20220316/chr10test/tmp/CACHE/chr10test35cutoffNone_rho0.result', '../data/wg20220316/chr10test/tmp/CACHE/chr10test36cutoffNone_rho0.result', '../data/wg20220316/chr10test/tmp/CACHE/chr10test37cutoffNone_rho0.result', '../data/wg20220316/chr10test/tmp/CACHE/chr10test38cutoffNone_rho0.result', '../data/wg20220316/chr10test/tmp/CACHE/chr10test39cutoffNone_rho0.result', '../data/wg20220316/chr10test/tmp/CACHE/chr10test40cutoffNone_rho0.result', '../data/wg20220316/chr10test/tmp/CACHE/chr10test41cutoffNone_rho0.result', '../data/wg20220316/chr10test/tmp/CACHE/chr10test42cutoffNone_rho0.result', '../data/wg20220316/chr10test/tmp/CACHE/chr10test43cutoffNone_rho0.result'] ../data/wg20220316/chr10_common_variants.pickle\n"
     ]
    }
   ],
   "source": [
    "smy_ress_lst2=[]\n",
    "for i in range(9,11):\n",
    "    path_ress=glob.glob('../data/wg20220316/chr'+str(i)+'test/tmp/CACHE/chr'+str(i)+'test*cutoffNone_rho0.result')\n",
    "    path_com_vars='../data/wg20220316/chr'+str(i)+'_common_variants.pickle'\n",
    "    print(path_ress,path_com_vars)\n",
    "    smy_ress_lst2.append(get_common_smyress(path_ress,path_com_vars))"
   ]
  },
  {
   "cell_type": "code",
   "execution_count": null,
   "id": "86601140-4463-4959-a474-979816618de7",
   "metadata": {},
   "outputs": [],
   "source": [
    "smy_ress = pd.concat(smy_ress_lst)"
   ]
  },
  {
   "cell_type": "code",
   "execution_count": null,
   "id": "b65e8484-7dd2-4ce4-8a4a-9bd66b61fbf4",
   "metadata": {},
   "outputs": [],
   "source": [
    "smy_ress1 = pd.concat(smy_ress_lst1)"
   ]
  },
  {
   "cell_type": "code",
   "execution_count": null,
   "id": "48f402fc-cc15-4021-a8c5-e9acc4747b13",
   "metadata": {},
   "outputs": [],
   "source": [
    "smy_ress2 = pd.concat(smy_ress_lst2)"
   ]
  },
  {
   "cell_type": "code",
   "execution_count": null,
   "id": "94e45293-6105-451a-be0c-e1990f1330c8",
   "metadata": {},
   "outputs": [],
   "source": [
    "smy_ress = smy_ress.reset_index(drop=True)"
   ]
  },
  {
   "cell_type": "code",
   "execution_count": null,
   "id": "17114084-a4e6-4e36-b96f-95c53b8f184d",
   "metadata": {},
   "outputs": [
    {
     "data": {
      "text/html": [
       "<div>\n",
       "<style scoped>\n",
       "    .dataframe tbody tr th:only-of-type {\n",
       "        vertical-align: middle;\n",
       "    }\n",
       "\n",
       "    .dataframe tbody tr th {\n",
       "        vertical-align: top;\n",
       "    }\n",
       "\n",
       "    .dataframe thead th {\n",
       "        text-align: right;\n",
       "    }\n",
       "</style>\n",
       "<table border=\"1\" class=\"dataframe\">\n",
       "  <thead>\n",
       "    <tr style=\"text-align: right;\">\n",
       "      <th></th>\n",
       "      <th>CHR</th>\n",
       "      <th>POS</th>\n",
       "      <th>A0</th>\n",
       "      <th>A1</th>\n",
       "      <th>SNP</th>\n",
       "      <th>LOD</th>\n",
       "    </tr>\n",
       "  </thead>\n",
       "  <tbody>\n",
       "    <tr>\n",
       "      <th>14227</th>\n",
       "      <td>chr1</td>\n",
       "      <td>1821925</td>\n",
       "      <td>T</td>\n",
       "      <td>C</td>\n",
       "      <td>chr1:1821925:T:C</td>\n",
       "      <td>0.471855</td>\n",
       "    </tr>\n",
       "    <tr>\n",
       "      <th>14228</th>\n",
       "      <td>chr1</td>\n",
       "      <td>1868261</td>\n",
       "      <td>T</td>\n",
       "      <td>C</td>\n",
       "      <td>chr1:1868261:T:C</td>\n",
       "      <td>0.650163</td>\n",
       "    </tr>\n",
       "    <tr>\n",
       "      <th>40477</th>\n",
       "      <td>chr1</td>\n",
       "      <td>2470211</td>\n",
       "      <td>T</td>\n",
       "      <td>C</td>\n",
       "      <td>chr1:2470211:T:C</td>\n",
       "      <td>0.191862</td>\n",
       "    </tr>\n",
       "    <tr>\n",
       "      <th>41751</th>\n",
       "      <td>chr1</td>\n",
       "      <td>3351538</td>\n",
       "      <td>CCCTCTCTGTCCCCCTCCCTCTCTCATCCCCTTCCTCCTTCTCTCC...</td>\n",
       "      <td>C</td>\n",
       "      <td>chr1:3351538:CCCTCTCTGTCCCCCTCCCTCTCTCATCCCCTT...</td>\n",
       "      <td>0.311457</td>\n",
       "    </tr>\n",
       "    <tr>\n",
       "      <th>50400</th>\n",
       "      <td>chr1</td>\n",
       "      <td>3739760</td>\n",
       "      <td>T</td>\n",
       "      <td>C</td>\n",
       "      <td>chr1:3739760:T:C</td>\n",
       "      <td>0.692991</td>\n",
       "    </tr>\n",
       "    <tr>\n",
       "      <th>...</th>\n",
       "      <td>...</td>\n",
       "      <td>...</td>\n",
       "      <td>...</td>\n",
       "      <td>...</td>\n",
       "      <td>...</td>\n",
       "      <td>...</td>\n",
       "    </tr>\n",
       "    <tr>\n",
       "      <th>1022710</th>\n",
       "      <td>chr8</td>\n",
       "      <td>144168596</td>\n",
       "      <td>G</td>\n",
       "      <td>A</td>\n",
       "      <td>chr8:144168596:G:A</td>\n",
       "      <td>0.507806</td>\n",
       "    </tr>\n",
       "    <tr>\n",
       "      <th>1025308</th>\n",
       "      <td>chr8</td>\n",
       "      <td>144558594</td>\n",
       "      <td>T</td>\n",
       "      <td>TG</td>\n",
       "      <td>chr8:144558594:T:TG</td>\n",
       "      <td>1.202374</td>\n",
       "    </tr>\n",
       "    <tr>\n",
       "      <th>1028302</th>\n",
       "      <td>chr8</td>\n",
       "      <td>144729400</td>\n",
       "      <td>A</td>\n",
       "      <td>G</td>\n",
       "      <td>chr8:144729400:A:G</td>\n",
       "      <td>0.976691</td>\n",
       "    </tr>\n",
       "    <tr>\n",
       "      <th>1028883</th>\n",
       "      <td>chr8</td>\n",
       "      <td>144730442</td>\n",
       "      <td>CCGGGGG</td>\n",
       "      <td>C</td>\n",
       "      <td>chr8:144730442:CCGGGGG:C</td>\n",
       "      <td>0.135883</td>\n",
       "    </tr>\n",
       "    <tr>\n",
       "      <th>1031518</th>\n",
       "      <td>chr8</td>\n",
       "      <td>144685646</td>\n",
       "      <td>T</td>\n",
       "      <td>C</td>\n",
       "      <td>chr8:144685646:T:C</td>\n",
       "      <td>0.311010</td>\n",
       "    </tr>\n",
       "  </tbody>\n",
       "</table>\n",
       "<p>1746 rows × 6 columns</p>\n",
       "</div>"
      ],
      "text/plain": [
       "          CHR        POS                                                 A0  \\\n",
       "14227    chr1    1821925                                                  T   \n",
       "14228    chr1    1868261                                                  T   \n",
       "40477    chr1    2470211                                                  T   \n",
       "41751    chr1    3351538  CCCTCTCTGTCCCCCTCCCTCTCTCATCCCCTTCCTCCTTCTCTCC...   \n",
       "50400    chr1    3739760                                                  T   \n",
       "...       ...        ...                                                ...   \n",
       "1022710  chr8  144168596                                                  G   \n",
       "1025308  chr8  144558594                                                  T   \n",
       "1028302  chr8  144729400                                                  A   \n",
       "1028883  chr8  144730442                                            CCGGGGG   \n",
       "1031518  chr8  144685646                                                  T   \n",
       "\n",
       "         A1                                                SNP       LOD  \n",
       "14227     C                                   chr1:1821925:T:C  0.471855  \n",
       "14228     C                                   chr1:1868261:T:C  0.650163  \n",
       "40477     C                                   chr1:2470211:T:C  0.191862  \n",
       "41751     C  chr1:3351538:CCCTCTCTGTCCCCCTCCCTCTCTCATCCCCTT...  0.311457  \n",
       "50400     C                                   chr1:3739760:T:C  0.692991  \n",
       "...      ..                                                ...       ...  \n",
       "1022710   A                                 chr8:144168596:G:A  0.507806  \n",
       "1025308  TG                                chr8:144558594:T:TG  1.202374  \n",
       "1028302   G                                 chr8:144729400:A:G  0.976691  \n",
       "1028883   C                           chr8:144730442:CCGGGGG:C  0.135883  \n",
       "1031518   C                                 chr8:144685646:T:C  0.311010  \n",
       "\n",
       "[1746 rows x 6 columns]"
      ]
     },
     "execution_count": null,
     "metadata": {},
     "output_type": "execute_result"
    }
   ],
   "source": [
    "smy_ress1[smy_ress1.LOD>0]"
   ]
  },
  {
   "cell_type": "code",
   "execution_count": null,
   "id": "ac328350-605c-4ab8-9f58-7c6ce45c3892",
   "metadata": {},
   "outputs": [
    {
     "data": {
      "text/html": [
       "<div>\n",
       "<style scoped>\n",
       "    .dataframe tbody tr th:only-of-type {\n",
       "        vertical-align: middle;\n",
       "    }\n",
       "\n",
       "    .dataframe tbody tr th {\n",
       "        vertical-align: top;\n",
       "    }\n",
       "\n",
       "    .dataframe thead th {\n",
       "        text-align: right;\n",
       "    }\n",
       "</style>\n",
       "<table border=\"1\" class=\"dataframe\">\n",
       "  <thead>\n",
       "    <tr style=\"text-align: right;\">\n",
       "      <th></th>\n",
       "      <th>CHR</th>\n",
       "      <th>POS</th>\n",
       "      <th>A0</th>\n",
       "      <th>A1</th>\n",
       "      <th>SNP</th>\n",
       "      <th>LOD</th>\n",
       "    </tr>\n",
       "  </thead>\n",
       "  <tbody>\n",
       "    <tr>\n",
       "      <th>25483</th>\n",
       "      <td>chr9</td>\n",
       "      <td>20960741</td>\n",
       "      <td>A</td>\n",
       "      <td>C</td>\n",
       "      <td>chr9:20960741:A:C</td>\n",
       "      <td>0.091975</td>\n",
       "    </tr>\n",
       "    <tr>\n",
       "      <th>67240</th>\n",
       "      <td>chr9</td>\n",
       "      <td>27493820</td>\n",
       "      <td>C</td>\n",
       "      <td>T</td>\n",
       "      <td>chr9:27493820:C:T</td>\n",
       "      <td>0.023589</td>\n",
       "    </tr>\n",
       "    <tr>\n",
       "      <th>67253</th>\n",
       "      <td>chr9</td>\n",
       "      <td>27503408</td>\n",
       "      <td>T</td>\n",
       "      <td>C</td>\n",
       "      <td>chr9:27503408:T:C</td>\n",
       "      <td>0.667036</td>\n",
       "    </tr>\n",
       "    <tr>\n",
       "      <th>67306</th>\n",
       "      <td>chr9</td>\n",
       "      <td>27525024</td>\n",
       "      <td>A</td>\n",
       "      <td>T</td>\n",
       "      <td>chr9:27525024:A:T</td>\n",
       "      <td>0.411155</td>\n",
       "    </tr>\n",
       "    <tr>\n",
       "      <th>67314</th>\n",
       "      <td>chr9</td>\n",
       "      <td>27528890</td>\n",
       "      <td>C</td>\n",
       "      <td>G</td>\n",
       "      <td>chr9:27528890:C:G</td>\n",
       "      <td>0.464645</td>\n",
       "    </tr>\n",
       "    <tr>\n",
       "      <th>...</th>\n",
       "      <td>...</td>\n",
       "      <td>...</td>\n",
       "      <td>...</td>\n",
       "      <td>...</td>\n",
       "      <td>...</td>\n",
       "      <td>...</td>\n",
       "    </tr>\n",
       "    <tr>\n",
       "      <th>1315464</th>\n",
       "      <td>chr10</td>\n",
       "      <td>131198823</td>\n",
       "      <td>CT</td>\n",
       "      <td>C</td>\n",
       "      <td>chr10:131198823:CT:C</td>\n",
       "      <td>0.057446</td>\n",
       "    </tr>\n",
       "    <tr>\n",
       "      <th>1325235</th>\n",
       "      <td>chr10</td>\n",
       "      <td>132512606</td>\n",
       "      <td>T</td>\n",
       "      <td>C</td>\n",
       "      <td>chr10:132512606:T:C</td>\n",
       "      <td>0.827410</td>\n",
       "    </tr>\n",
       "    <tr>\n",
       "      <th>1327536</th>\n",
       "      <td>chr10</td>\n",
       "      <td>132512582</td>\n",
       "      <td>G</td>\n",
       "      <td>A</td>\n",
       "      <td>chr10:132512582:G:A</td>\n",
       "      <td>0.409920</td>\n",
       "    </tr>\n",
       "    <tr>\n",
       "      <th>1327537</th>\n",
       "      <td>chr10</td>\n",
       "      <td>132512611</td>\n",
       "      <td>A</td>\n",
       "      <td>G</td>\n",
       "      <td>chr10:132512611:A:G</td>\n",
       "      <td>0.542016</td>\n",
       "    </tr>\n",
       "    <tr>\n",
       "      <th>1331860</th>\n",
       "      <td>chr10</td>\n",
       "      <td>132364714</td>\n",
       "      <td>T</td>\n",
       "      <td>G</td>\n",
       "      <td>chr10:132364714:T:G</td>\n",
       "      <td>0.022504</td>\n",
       "    </tr>\n",
       "  </tbody>\n",
       "</table>\n",
       "<p>391 rows × 6 columns</p>\n",
       "</div>"
      ],
      "text/plain": [
       "           CHR        POS  A0 A1                   SNP       LOD\n",
       "25483     chr9   20960741   A  C     chr9:20960741:A:C  0.091975\n",
       "67240     chr9   27493820   C  T     chr9:27493820:C:T  0.023589\n",
       "67253     chr9   27503408   T  C     chr9:27503408:T:C  0.667036\n",
       "67306     chr9   27525024   A  T     chr9:27525024:A:T  0.411155\n",
       "67314     chr9   27528890   C  G     chr9:27528890:C:G  0.464645\n",
       "...        ...        ...  .. ..                   ...       ...\n",
       "1315464  chr10  131198823  CT  C  chr10:131198823:CT:C  0.057446\n",
       "1325235  chr10  132512606   T  C   chr10:132512606:T:C  0.827410\n",
       "1327536  chr10  132512582   G  A   chr10:132512582:G:A  0.409920\n",
       "1327537  chr10  132512611   A  G   chr10:132512611:A:G  0.542016\n",
       "1331860  chr10  132364714   T  G   chr10:132364714:T:G  0.022504\n",
       "\n",
       "[391 rows x 6 columns]"
      ]
     },
     "execution_count": null,
     "metadata": {},
     "output_type": "execute_result"
    }
   ],
   "source": [
    "smy_ress2[smy_ress2.LOD>0]"
   ]
  },
  {
   "cell_type": "code",
   "execution_count": null,
   "id": "364e3315-8f6b-4fca-b600-e1b514494bab",
   "metadata": {},
   "outputs": [],
   "source": [
    "tmp=pd.concat([smy_ress1[smy_ress1.LOD>0],smy_ress2[smy_ress2.LOD>0],smy_ress[smy_ress.LOD>0]])"
   ]
  },
  {
   "cell_type": "code",
   "execution_count": null,
   "id": "8696df54-f73f-4efc-acb9-110f2e7692ff",
   "metadata": {},
   "outputs": [],
   "source": [
    "tmp=tmp.reset_index(drop=True)"
   ]
  },
  {
   "cell_type": "code",
   "execution_count": null,
   "id": "621f06ef-4dba-4719-bc88-4b2866802662",
   "metadata": {},
   "outputs": [],
   "source": [
    "tmp.to_csv('../data/wg20220316/common_variants_rho0.csv',header=True)"
   ]
  },
  {
   "cell_type": "code",
   "execution_count": null,
   "id": "86a5761f-ed60-402e-a807-2c8a2240a732",
   "metadata": {},
   "outputs": [],
   "source": [
    "from scipy import stats"
   ]
  },
  {
   "cell_type": "code",
   "execution_count": null,
   "id": "2b911169-110a-4aac-9924-697338e18175",
   "metadata": {},
   "outputs": [
    {
     "data": {
      "text/plain": [
       "0.0013498980316300933"
      ]
     },
     "execution_count": null,
     "metadata": {},
     "output_type": "execute_result"
    }
   ],
   "source": [
    "stats.norm.sf(3)"
   ]
  },
  {
   "cell_type": "code",
   "execution_count": null,
   "id": "c4a21998-f304-49bc-9585-f6de1d814ae1",
   "metadata": {},
   "outputs": [],
   "source": [
    "tmp = smy_ress.LOD"
   ]
  },
  {
   "cell_type": "code",
   "execution_count": null,
   "id": "ac39fbea-ba64-4cb7-9687-3d68c5604833",
   "metadata": {},
   "outputs": [
    {
     "data": {
      "text/plain": [
       "<AxesSubplot:>"
      ]
     },
     "execution_count": null,
     "metadata": {},
     "output_type": "execute_result"
    },
    {
     "data": {
      "image/png": "[encoded data removed]",
      "text/plain": [
       "<Figure size 432x288 with 1 Axes>"
      ]
     },
     "metadata": {
      "needs_background": "light"
     },
     "output_type": "display_data"
    }
   ],
   "source": [
    "tmp.plot()"
   ]
  },
  {
   "cell_type": "code",
   "execution_count": null,
   "id": "e5a5f4bf-7fcd-483a-a377-ebf973a2bb1f",
   "metadata": {},
   "outputs": [
    {
     "name": "stderr",
     "output_type": "stream",
     "text": [
      "/tmp/2296001.1.high_mem.q/ipykernel_38316/2345529312.py:1: SettingWithCopyWarning: \n",
      "A value is trying to be set on a copy of a slice from a DataFrame\n",
      "\n",
      "See the caveats in the documentation: https://pandas.pydata.org/pandas-docs/stable/user_guide/indexing.html#returning-a-view-versus-a-copy\n",
      "  tmp[tmp<0]=0\n"
     ]
    }
   ],
   "source": [
    "tmp[tmp<0]=0"
   ]
  },
  {
   "cell_type": "code",
   "execution_count": null,
   "id": "7a8299ed-0de1-4ac1-94a7-2c8421e8a50e",
   "metadata": {},
   "outputs": [
    {
     "data": {
      "text/plain": [
       "<AxesSubplot:>"
      ]
     },
     "execution_count": null,
     "metadata": {},
     "output_type": "execute_result"
    },
    {
     "data": {
      "image/png": "[encoded data removed]",
      "text/plain": [
       "<Figure size 432x288 with 1 Axes>"
      ]
     },
     "metadata": {
      "needs_background": "light"
     },
     "output_type": "display_data"
    }
   ],
   "source": [
    "tmp.plot()"
   ]
  },
  {
   "cell_type": "code",
   "execution_count": null,
   "id": "a3133c62-c363-48e4-8afe-0b55e47d444c",
   "metadata": {},
   "outputs": [],
   "source": []
  },
  {
   "cell_type": "code",
   "execution_count": null,
   "id": "399fb82c-59ae-4ca7-9ed3-d20c3bf96541",
   "metadata": {},
   "outputs": [],
   "source": [
    "path_ress=glob.glob('../data/wg20220316/chr22test/tmp/CACHE/chr22test*cutoff0.05_rho0.0.result')"
   ]
  },
  {
   "cell_type": "code",
   "execution_count": null,
   "id": "d5d0d126-6425-4ee4-b996-55852e4d7523",
   "metadata": {},
   "outputs": [
    {
     "data": {
      "text/plain": [
       "['../data/wg20220316/chr22test/tmp/CACHE/chr22test0cutoff0.05_rho0.0.result',\n",
       " '../data/wg20220316/chr22test/tmp/CACHE/chr22test1cutoff0.05_rho0.0.result',\n",
       " '../data/wg20220316/chr22test/tmp/CACHE/chr22test2cutoff0.05_rho0.0.result',\n",
       " '../data/wg20220316/chr22test/tmp/CACHE/chr22test3cutoff0.05_rho0.0.result',\n",
       " '../data/wg20220316/chr22test/tmp/CACHE/chr22test4cutoff0.05_rho0.0.result',\n",
       " '../data/wg20220316/chr22test/tmp/CACHE/chr22test5cutoff0.05_rho0.0.result',\n",
       " '../data/wg20220316/chr22test/tmp/CACHE/chr22test6cutoff0.05_rho0.0.result',\n",
       " '../data/wg20220316/chr22test/tmp/CACHE/chr22test7cutoff0.05_rho0.0.result',\n",
       " '../data/wg20220316/chr22test/tmp/CACHE/chr22test8cutoff0.05_rho0.0.result',\n",
       " '../data/wg20220316/chr22test/tmp/CACHE/chr22test9cutoff0.05_rho0.0.result',\n",
       " '../data/wg20220316/chr22test/tmp/CACHE/chr22test10cutoff0.05_rho0.0.result',\n",
       " '../data/wg20220316/chr22test/tmp/CACHE/chr22test11cutoff0.05_rho0.0.result',\n",
       " '../data/wg20220316/chr22test/tmp/CACHE/chr22test12cutoff0.05_rho0.0.result',\n",
       " '../data/wg20220316/chr22test/tmp/CACHE/chr22test13cutoff0.05_rho0.0.result',\n",
       " '../data/wg20220316/chr22test/tmp/CACHE/chr22test14cutoff0.05_rho0.0.result',\n",
       " '../data/wg20220316/chr22test/tmp/CACHE/chr22test15cutoff0.05_rho0.0.result',\n",
       " '../data/wg20220316/chr22test/tmp/CACHE/chr22test16cutoff0.05_rho0.0.result',\n",
       " '../data/wg20220316/chr22test/tmp/CACHE/chr22test17cutoff0.05_rho0.0.result',\n",
       " '../data/wg20220316/chr22test/tmp/CACHE/chr22test18cutoff0.05_rho0.0.result',\n",
       " '../data/wg20220316/chr22test/tmp/CACHE/chr22test19cutoff0.05_rho0.0.result',\n",
       " '../data/wg20220316/chr22test/tmp/CACHE/chr22test20cutoff0.05_rho0.0.result',\n",
       " '../data/wg20220316/chr22test/tmp/CACHE/chr22test21cutoff0.05_rho0.0.result',\n",
       " '../data/wg20220316/chr22test/tmp/CACHE/chr22test22cutoff0.05_rho0.0.result',\n",
       " '../data/wg20220316/chr22test/tmp/CACHE/chr22test23cutoff0.05_rho0.0.result',\n",
       " '../data/wg20220316/chr22test/tmp/CACHE/chr22test24cutoff0.05_rho0.0.result']"
      ]
     },
     "execution_count": null,
     "metadata": {},
     "output_type": "execute_result"
    }
   ],
   "source": [
    "path_ress"
   ]
  },
  {
   "cell_type": "code",
   "execution_count": null,
   "id": "7719c9ef-96a5-48c4-a87a-5265ba124527",
   "metadata": {},
   "outputs": [
    {
     "data": {
      "text/plain": [
       "'../data/wg20220316/chr22test/tmp/CACHE/chr22test0cutoff0.05_rho'"
      ]
     },
     "execution_count": null,
     "metadata": {},
     "output_type": "execute_result"
    }
   ],
   "source": [
    "path_ress[0][:-10]"
   ]
  },
  {
   "cell_type": "code",
   "execution_count": null,
   "id": "addcd37c-9714-489d-837a-9efdf13526df",
   "metadata": {},
   "outputs": [],
   "source": [
    "for i in path_ress:\n",
    "    for r in np.arange(0.0,0.5,0.05):\n",
    "        file = i[:-10]+str(r)+'.result'\n",
    "        if os.path.isfile(file):\n",
    "            print('exist! jump',file)\n",
    "        else:\n",
    "            res = parallel_lods(gene_fam_haps.values(),r)\n",
    "            smy_res = sum_variant_lods(res)\n",
    "            with open(file+'cutoff'+str(cutoff)+'_rho'+str(r)+'.result','wb') as handle:\n",
    "                pickle.dump(smy_res, handle, protocol=pickle.HIGHEST_PROTOCOL)"
   ]
  },
  {
   "cell_type": "code",
   "execution_count": null,
   "id": "cef88b42-f299-4884-af74-ab5a4e60cbda",
   "metadata": {},
   "outputs": [],
   "source": [
    "path_ress = [path_ress[0][:-10]+str(r)+'.result' for r in np.arange(0.0,0.5,0.05)]"
   ]
  },
  {
   "cell_type": "code",
   "execution_count": null,
   "id": "460103a8-d72d-44e0-8177-f6e083cc157d",
   "metadata": {},
   "outputs": [
    {
     "data": {
      "text/plain": [
       "['../data/wg20220316/chr22test/tmp/CACHE/chr22test0cutoff0.05_rho0.0.result',\n",
       " '../data/wg20220316/chr22test/tmp/CACHE/chr22test0cutoff0.05_rho0.05.result',\n",
       " '../data/wg20220316/chr22test/tmp/CACHE/chr22test0cutoff0.05_rho0.1.result',\n",
       " '../data/wg20220316/chr22test/tmp/CACHE/chr22test0cutoff0.05_rho0.15000000000000002.result',\n",
       " '../data/wg20220316/chr22test/tmp/CACHE/chr22test0cutoff0.05_rho0.2.result',\n",
       " '../data/wg20220316/chr22test/tmp/CACHE/chr22test0cutoff0.05_rho0.25.result',\n",
       " '../data/wg20220316/chr22test/tmp/CACHE/chr22test0cutoff0.05_rho0.30000000000000004.result',\n",
       " '../data/wg20220316/chr22test/tmp/CACHE/chr22test0cutoff0.05_rho0.35000000000000003.result',\n",
       " '../data/wg20220316/chr22test/tmp/CACHE/chr22test0cutoff0.05_rho0.4.result',\n",
       " '../data/wg20220316/chr22test/tmp/CACHE/chr22test0cutoff0.05_rho0.45.result']"
      ]
     },
     "execution_count": null,
     "metadata": {},
     "output_type": "execute_result"
    }
   ],
   "source": [
    "path_ress"
   ]
  },
  {
   "cell_type": "code",
   "execution_count": null,
   "id": "78c34f8d-4ed7-47ba-91e6-b1f37c5bb1c1",
   "metadata": {},
   "outputs": [],
   "source": [
    "def summary_grid_results_chrom(prefix):\n",
    "    ress = [summary_grid_results_batch(prefix+str(i)+'cutoff0.05_rho') for i in range(len(glob.glob(prefix+'*.pickle')))]\n",
    "    return pd.concat(ress)\n",
    "def summary_grid_results_batch(prefix):\n",
    "    smy_ress=None\n",
    "    smy_rho=[]\n",
    "    for r in np.arange(0.0,0.5,0.05):\n",
    "        path=prefix+str(r)+'.result'\n",
    "        with open(path, 'rb') as handle:\n",
    "            res=pickle.load(handle)\n",
    "        if smy_ress is None:\n",
    "            smy_ress=[0]*res.shape[0]\n",
    "            smy_rho=[r]*res.shape[0]\n",
    "        for i,lod in enumerate(res.LOD):\n",
    "            if lod>smy_ress[i]:\n",
    "                smy_ress[i]=lod\n",
    "                smy_rho[i]=round(r,2)\n",
    "    res.LOD=smy_ress\n",
    "    res['RHO']=smy_rho\n",
    "    return res"
   ]
  },
  {
   "cell_type": "code",
   "execution_count": null,
   "id": "88ac33c5-26fa-4599-b0d6-2dbb8a7dcfc2",
   "metadata": {},
   "outputs": [],
   "source": [
    "smy_ress = summary_grid_results_chrom('../data/wg20220316/chr18test/tmp/CACHE/chr18test')"
   ]
  },
  {
   "cell_type": "code",
   "execution_count": null,
   "id": "d6b59c14-cb85-4a90-9d22-cf52a18c964c",
   "metadata": {},
   "outputs": [
    {
     "data": {
      "text/html": [
       "<div>\n",
       "<style scoped>\n",
       "    .dataframe tbody tr th:only-of-type {\n",
       "        vertical-align: middle;\n",
       "    }\n",
       "\n",
       "    .dataframe tbody tr th {\n",
       "        vertical-align: top;\n",
       "    }\n",
       "\n",
       "    .dataframe thead th {\n",
       "        text-align: right;\n",
       "    }\n",
       "</style>\n",
       "<table border=\"1\" class=\"dataframe\">\n",
       "  <thead>\n",
       "    <tr style=\"text-align: right;\">\n",
       "      <th></th>\n",
       "      <th>CHR</th>\n",
       "      <th>POS</th>\n",
       "      <th>A0</th>\n",
       "      <th>A1</th>\n",
       "      <th>SNP</th>\n",
       "      <th>LOD</th>\n",
       "    </tr>\n",
       "  </thead>\n",
       "  <tbody>\n",
       "    <tr>\n",
       "      <th>0</th>\n",
       "      <td>chr22</td>\n",
       "      <td>15785153</td>\n",
       "      <td>G</td>\n",
       "      <td>A</td>\n",
       "      <td>chr22:15785153:G:A</td>\n",
       "      <td>3.480459</td>\n",
       "    </tr>\n",
       "    <tr>\n",
       "      <th>1</th>\n",
       "      <td>chr22</td>\n",
       "      <td>15785156</td>\n",
       "      <td>C</td>\n",
       "      <td>T</td>\n",
       "      <td>chr22:15785156:C:T</td>\n",
       "      <td>2.306576</td>\n",
       "    </tr>\n",
       "    <tr>\n",
       "      <th>2</th>\n",
       "      <td>chr22</td>\n",
       "      <td>15785233</td>\n",
       "      <td>T</td>\n",
       "      <td>A</td>\n",
       "      <td>chr22:15785233:T:A</td>\n",
       "      <td>1.921151</td>\n",
       "    </tr>\n",
       "    <tr>\n",
       "      <th>3</th>\n",
       "      <td>chr22</td>\n",
       "      <td>15785427</td>\n",
       "      <td>C</td>\n",
       "      <td>G</td>\n",
       "      <td>chr22:15785427:C:G</td>\n",
       "      <td>0.638914</td>\n",
       "    </tr>\n",
       "    <tr>\n",
       "      <th>4</th>\n",
       "      <td>chr22</td>\n",
       "      <td>15786741</td>\n",
       "      <td>C</td>\n",
       "      <td>G</td>\n",
       "      <td>chr22:15786741:C:G</td>\n",
       "      <td>0.711122</td>\n",
       "    </tr>\n",
       "    <tr>\n",
       "      <th>...</th>\n",
       "      <td>...</td>\n",
       "      <td>...</td>\n",
       "      <td>...</td>\n",
       "      <td>...</td>\n",
       "      <td>...</td>\n",
       "      <td>...</td>\n",
       "    </tr>\n",
       "    <tr>\n",
       "      <th>1731</th>\n",
       "      <td>chr22</td>\n",
       "      <td>50678226</td>\n",
       "      <td>C</td>\n",
       "      <td>T</td>\n",
       "      <td>chr22:50678226:C:T</td>\n",
       "      <td>0.000000</td>\n",
       "    </tr>\n",
       "    <tr>\n",
       "      <th>1732</th>\n",
       "      <td>chr22</td>\n",
       "      <td>50684518</td>\n",
       "      <td>C</td>\n",
       "      <td>T</td>\n",
       "      <td>chr22:50684518:C:T</td>\n",
       "      <td>0.000000</td>\n",
       "    </tr>\n",
       "    <tr>\n",
       "      <th>1733</th>\n",
       "      <td>chr22</td>\n",
       "      <td>50687241</td>\n",
       "      <td>C</td>\n",
       "      <td>T</td>\n",
       "      <td>chr22:50687241:C:T</td>\n",
       "      <td>0.000000</td>\n",
       "    </tr>\n",
       "    <tr>\n",
       "      <th>1734</th>\n",
       "      <td>chr22</td>\n",
       "      <td>50707973</td>\n",
       "      <td>T</td>\n",
       "      <td>G</td>\n",
       "      <td>chr22:50707973:T:G</td>\n",
       "      <td>0.000000</td>\n",
       "    </tr>\n",
       "    <tr>\n",
       "      <th>1735</th>\n",
       "      <td>chr22</td>\n",
       "      <td>50504145</td>\n",
       "      <td>A</td>\n",
       "      <td>AC</td>\n",
       "      <td>chr22:50504145:A:AC</td>\n",
       "      <td>0.000000</td>\n",
       "    </tr>\n",
       "  </tbody>\n",
       "</table>\n",
       "<p>99439 rows × 6 columns</p>\n",
       "</div>"
      ],
      "text/plain": [
       "        CHR       POS A0  A1                  SNP       LOD\n",
       "0     chr22  15785153  G   A   chr22:15785153:G:A  3.480459\n",
       "1     chr22  15785156  C   T   chr22:15785156:C:T  2.306576\n",
       "2     chr22  15785233  T   A   chr22:15785233:T:A  1.921151\n",
       "3     chr22  15785427  C   G   chr22:15785427:C:G  0.638914\n",
       "4     chr22  15786741  C   G   chr22:15786741:C:G  0.711122\n",
       "...     ...       ... ..  ..                  ...       ...\n",
       "1731  chr22  50678226  C   T   chr22:50678226:C:T  0.000000\n",
       "1732  chr22  50684518  C   T   chr22:50684518:C:T  0.000000\n",
       "1733  chr22  50687241  C   T   chr22:50687241:C:T  0.000000\n",
       "1734  chr22  50707973  T   G   chr22:50707973:T:G  0.000000\n",
       "1735  chr22  50504145  A  AC  chr22:50504145:A:AC  0.000000\n",
       "\n",
       "[99439 rows x 6 columns]"
      ]
     },
     "execution_count": null,
     "metadata": {},
     "output_type": "execute_result"
    }
   ],
   "source": [
    "pd.concat(smy_ress)"
   ]
  },
  {
   "cell_type": "code",
   "execution_count": null,
   "id": "37a58660-fe95-4cfe-8ac5-76c285e14933",
   "metadata": {},
   "outputs": [],
   "source": [
    "smy_ress = pd.concat([summary_grid_results_chrom('../data/wg20220316/chr'+str(c)+'test/tmp/CACHE/chr'+str(c)+'test') for c in range(18,23)])"
   ]
  },
  {
   "cell_type": "code",
   "execution_count": null,
   "id": "ccec36cc-328d-4331-86c9-f5931a9a1eb1",
   "metadata": {},
   "outputs": [],
   "source": [
    "smy_ress.to_csv('../data/wg20220316/common_variants_chr18-23_grid_opt.csv',header=True,index=False)"
   ]
  },
  {
   "cell_type": "code",
   "execution_count": null,
   "id": "791e7e13-c278-4bd1-a9d7-e9b542a2bc8e",
   "metadata": {},
   "outputs": [],
   "source": [
    "smy_ress=smy_ress.reset_index()"
   ]
  },
  {
   "cell_type": "code",
   "execution_count": null,
   "id": "5da91533-fcf1-4f97-818c-358f5e54960c",
   "metadata": {},
   "outputs": [
    {
     "data": {
      "text/html": [
       "<div>\n",
       "<style scoped>\n",
       "    .dataframe tbody tr th:only-of-type {\n",
       "        vertical-align: middle;\n",
       "    }\n",
       "\n",
       "    .dataframe tbody tr th {\n",
       "        vertical-align: top;\n",
       "    }\n",
       "\n",
       "    .dataframe thead th {\n",
       "        text-align: right;\n",
       "    }\n",
       "</style>\n",
       "<table border=\"1\" class=\"dataframe\">\n",
       "  <thead>\n",
       "    <tr style=\"text-align: right;\">\n",
       "      <th></th>\n",
       "      <th>CHR</th>\n",
       "      <th>POS</th>\n",
       "      <th>A0</th>\n",
       "      <th>A1</th>\n",
       "      <th>SNP</th>\n",
       "      <th>LOD</th>\n",
       "      <th>RHO</th>\n",
       "    </tr>\n",
       "  </thead>\n",
       "  <tbody>\n",
       "    <tr>\n",
       "      <th>2993</th>\n",
       "      <td>chr18</td>\n",
       "      <td>21826640</td>\n",
       "      <td>T</td>\n",
       "      <td>C</td>\n",
       "      <td>chr18:21826640:T:C</td>\n",
       "      <td>0.436928</td>\n",
       "      <td>0.40</td>\n",
       "    </tr>\n",
       "    <tr>\n",
       "      <th>0</th>\n",
       "      <td>chr18</td>\n",
       "      <td>21826640</td>\n",
       "      <td>T</td>\n",
       "      <td>C</td>\n",
       "      <td>chr18:21826640:T:C</td>\n",
       "      <td>0.532818</td>\n",
       "      <td>0.35</td>\n",
       "    </tr>\n",
       "  </tbody>\n",
       "</table>\n",
       "</div>"
      ],
      "text/plain": [
       "        CHR       POS A0 A1                 SNP       LOD   RHO\n",
       "2993  chr18  21826640  T  C  chr18:21826640:T:C  0.436928  0.40\n",
       "0     chr18  21826640  T  C  chr18:21826640:T:C  0.532818  0.35"
      ]
     },
     "execution_count": null,
     "metadata": {},
     "output_type": "execute_result"
    }
   ],
   "source": [
    "smy_ress[smy_ress.SNP=='chr18:21826640:T:C']"
   ]
  },
  {
   "cell_type": "code",
   "execution_count": null,
   "id": "1aa03112-aa73-4060-af15-30794762a738",
   "metadata": {},
   "outputs": [
    {
     "data": {
      "text/html": [
       "<div>\n",
       "<style scoped>\n",
       "    .dataframe tbody tr th:only-of-type {\n",
       "        vertical-align: middle;\n",
       "    }\n",
       "\n",
       "    .dataframe tbody tr th {\n",
       "        vertical-align: top;\n",
       "    }\n",
       "\n",
       "    .dataframe thead th {\n",
       "        text-align: right;\n",
       "    }\n",
       "</style>\n",
       "<table border=\"1\" class=\"dataframe\">\n",
       "  <thead>\n",
       "    <tr style=\"text-align: right;\">\n",
       "      <th></th>\n",
       "      <th>CHR</th>\n",
       "      <th>POS</th>\n",
       "      <th>A0</th>\n",
       "      <th>A1</th>\n",
       "      <th>SNP</th>\n",
       "      <th>LOD</th>\n",
       "      <th>RHO</th>\n",
       "    </tr>\n",
       "  </thead>\n",
       "  <tbody>\n",
       "    <tr>\n",
       "      <th>2993</th>\n",
       "      <td>chr18</td>\n",
       "      <td>21826640</td>\n",
       "      <td>T</td>\n",
       "      <td>C</td>\n",
       "      <td>chr18:21826640:T:C</td>\n",
       "      <td>0.436928</td>\n",
       "      <td>0.40</td>\n",
       "    </tr>\n",
       "    <tr>\n",
       "      <th>2994</th>\n",
       "      <td>chr18</td>\n",
       "      <td>21827440</td>\n",
       "      <td>G</td>\n",
       "      <td>A</td>\n",
       "      <td>chr18:21827440:G:A</td>\n",
       "      <td>0.315172</td>\n",
       "      <td>0.40</td>\n",
       "    </tr>\n",
       "    <tr>\n",
       "      <th>2995</th>\n",
       "      <td>chr18</td>\n",
       "      <td>21828568</td>\n",
       "      <td>G</td>\n",
       "      <td>A</td>\n",
       "      <td>chr18:21828568:G:A</td>\n",
       "      <td>0.000000</td>\n",
       "      <td>0.00</td>\n",
       "    </tr>\n",
       "    <tr>\n",
       "      <th>2996</th>\n",
       "      <td>chr18</td>\n",
       "      <td>21828930</td>\n",
       "      <td>A</td>\n",
       "      <td>G</td>\n",
       "      <td>chr18:21828930:A:G</td>\n",
       "      <td>0.000000</td>\n",
       "      <td>0.00</td>\n",
       "    </tr>\n",
       "    <tr>\n",
       "      <th>2997</th>\n",
       "      <td>chr18</td>\n",
       "      <td>21830172</td>\n",
       "      <td>TAGA</td>\n",
       "      <td>T</td>\n",
       "      <td>chr18:21830172:TAGA:T</td>\n",
       "      <td>0.495417</td>\n",
       "      <td>0.40</td>\n",
       "    </tr>\n",
       "    <tr>\n",
       "      <th>...</th>\n",
       "      <td>...</td>\n",
       "      <td>...</td>\n",
       "      <td>...</td>\n",
       "      <td>...</td>\n",
       "      <td>...</td>\n",
       "      <td>...</td>\n",
       "      <td>...</td>\n",
       "    </tr>\n",
       "    <tr>\n",
       "      <th>0</th>\n",
       "      <td>chr18</td>\n",
       "      <td>21826640</td>\n",
       "      <td>T</td>\n",
       "      <td>C</td>\n",
       "      <td>chr18:21826640:T:C</td>\n",
       "      <td>0.532818</td>\n",
       "      <td>0.35</td>\n",
       "    </tr>\n",
       "    <tr>\n",
       "      <th>1</th>\n",
       "      <td>chr18</td>\n",
       "      <td>21827440</td>\n",
       "      <td>G</td>\n",
       "      <td>A</td>\n",
       "      <td>chr18:21827440:G:A</td>\n",
       "      <td>0.185516</td>\n",
       "      <td>0.40</td>\n",
       "    </tr>\n",
       "    <tr>\n",
       "      <th>2</th>\n",
       "      <td>chr18</td>\n",
       "      <td>21828568</td>\n",
       "      <td>G</td>\n",
       "      <td>A</td>\n",
       "      <td>chr18:21828568:G:A</td>\n",
       "      <td>0.000000</td>\n",
       "      <td>0.00</td>\n",
       "    </tr>\n",
       "    <tr>\n",
       "      <th>3</th>\n",
       "      <td>chr18</td>\n",
       "      <td>21828930</td>\n",
       "      <td>A</td>\n",
       "      <td>G</td>\n",
       "      <td>chr18:21828930:A:G</td>\n",
       "      <td>1.376308</td>\n",
       "      <td>0.35</td>\n",
       "    </tr>\n",
       "    <tr>\n",
       "      <th>4</th>\n",
       "      <td>chr18</td>\n",
       "      <td>21830172</td>\n",
       "      <td>TAGA</td>\n",
       "      <td>T</td>\n",
       "      <td>chr18:21830172:TAGA:T</td>\n",
       "      <td>0.205890</td>\n",
       "      <td>0.40</td>\n",
       "    </tr>\n",
       "  </tbody>\n",
       "</table>\n",
       "<p>3190 rows × 7 columns</p>\n",
       "</div>"
      ],
      "text/plain": [
       "        CHR       POS    A0 A1                    SNP       LOD   RHO\n",
       "2993  chr18  21826640     T  C     chr18:21826640:T:C  0.436928  0.40\n",
       "2994  chr18  21827440     G  A     chr18:21827440:G:A  0.315172  0.40\n",
       "2995  chr18  21828568     G  A     chr18:21828568:G:A  0.000000  0.00\n",
       "2996  chr18  21828930     A  G     chr18:21828930:A:G  0.000000  0.00\n",
       "2997  chr18  21830172  TAGA  T  chr18:21830172:TAGA:T  0.495417  0.40\n",
       "...     ...       ...   ... ..                    ...       ...   ...\n",
       "0     chr18  21826640     T  C     chr18:21826640:T:C  0.532818  0.35\n",
       "1     chr18  21827440     G  A     chr18:21827440:G:A  0.185516  0.40\n",
       "2     chr18  21828568     G  A     chr18:21828568:G:A  0.000000  0.00\n",
       "3     chr18  21828930     A  G     chr18:21828930:A:G  1.376308  0.35\n",
       "4     chr18  21830172  TAGA  T  chr18:21830172:TAGA:T  0.205890  0.40\n",
       "\n",
       "[3190 rows x 7 columns]"
      ]
     },
     "execution_count": null,
     "metadata": {},
     "output_type": "execute_result"
    }
   ],
   "source": [
    "smy_ress.iloc[37363:40553,:]"
   ]
  },
  {
   "cell_type": "code",
   "execution_count": null,
   "id": "0fa228bf-e096-4666-a7c0-fe6ca155b2a4",
   "metadata": {},
   "outputs": [
    {
     "data": {
      "text/html": [
       "<div>\n",
       "<style scoped>\n",
       "    .dataframe tbody tr th:only-of-type {\n",
       "        vertical-align: middle;\n",
       "    }\n",
       "\n",
       "    .dataframe tbody tr th {\n",
       "        vertical-align: top;\n",
       "    }\n",
       "\n",
       "    .dataframe thead th {\n",
       "        text-align: right;\n",
       "    }\n",
       "</style>\n",
       "<table border=\"1\" class=\"dataframe\">\n",
       "  <thead>\n",
       "    <tr style=\"text-align: right;\">\n",
       "      <th></th>\n",
       "      <th>index</th>\n",
       "      <th>CHR</th>\n",
       "      <th>POS</th>\n",
       "      <th>A0</th>\n",
       "      <th>A1</th>\n",
       "      <th>SNP</th>\n",
       "      <th>LOD</th>\n",
       "      <th>RHO</th>\n",
       "    </tr>\n",
       "  </thead>\n",
       "  <tbody>\n",
       "    <tr>\n",
       "      <th>45325</th>\n",
       "      <td>4777</td>\n",
       "      <td>chr18</td>\n",
       "      <td>21826269</td>\n",
       "      <td>T</td>\n",
       "      <td>C</td>\n",
       "      <td>chr18:21826269:T:C</td>\n",
       "      <td>0.000000</td>\n",
       "      <td>0.00</td>\n",
       "    </tr>\n",
       "    <tr>\n",
       "      <th>38957</th>\n",
       "      <td>4587</td>\n",
       "      <td>chr18</td>\n",
       "      <td>21826269</td>\n",
       "      <td>T</td>\n",
       "      <td>C</td>\n",
       "      <td>chr18:21826269:T:C</td>\n",
       "      <td>0.000000</td>\n",
       "      <td>0.00</td>\n",
       "    </tr>\n",
       "    <tr>\n",
       "      <th>37363</th>\n",
       "      <td>2993</td>\n",
       "      <td>chr18</td>\n",
       "      <td>21826640</td>\n",
       "      <td>T</td>\n",
       "      <td>C</td>\n",
       "      <td>chr18:21826640:T:C</td>\n",
       "      <td>0.436928</td>\n",
       "      <td>0.40</td>\n",
       "    </tr>\n",
       "    <tr>\n",
       "      <th>40548</th>\n",
       "      <td>0</td>\n",
       "      <td>chr18</td>\n",
       "      <td>21826640</td>\n",
       "      <td>T</td>\n",
       "      <td>C</td>\n",
       "      <td>chr18:21826640:T:C</td>\n",
       "      <td>0.532818</td>\n",
       "      <td>0.35</td>\n",
       "    </tr>\n",
       "    <tr>\n",
       "      <th>45326</th>\n",
       "      <td>4778</td>\n",
       "      <td>chr18</td>\n",
       "      <td>21827040</td>\n",
       "      <td>T</td>\n",
       "      <td>C</td>\n",
       "      <td>chr18:21827040:T:C</td>\n",
       "      <td>0.000000</td>\n",
       "      <td>0.00</td>\n",
       "    </tr>\n",
       "    <tr>\n",
       "      <th>...</th>\n",
       "      <td>...</td>\n",
       "      <td>...</td>\n",
       "      <td>...</td>\n",
       "      <td>...</td>\n",
       "      <td>...</td>\n",
       "      <td>...</td>\n",
       "      <td>...</td>\n",
       "      <td>...</td>\n",
       "    </tr>\n",
       "    <tr>\n",
       "      <th>594952</th>\n",
       "      <td>3363</td>\n",
       "      <td>chr22</td>\n",
       "      <td>42512283</td>\n",
       "      <td>C</td>\n",
       "      <td>T</td>\n",
       "      <td>chr22:42512283:C:T</td>\n",
       "      <td>0.088713</td>\n",
       "      <td>0.40</td>\n",
       "    </tr>\n",
       "    <tr>\n",
       "      <th>594334</th>\n",
       "      <td>2745</td>\n",
       "      <td>chr22</td>\n",
       "      <td>42512291</td>\n",
       "      <td>C</td>\n",
       "      <td>CT</td>\n",
       "      <td>chr22:42512291:C:CT</td>\n",
       "      <td>0.677980</td>\n",
       "      <td>0.35</td>\n",
       "    </tr>\n",
       "    <tr>\n",
       "      <th>590483</th>\n",
       "      <td>1556</td>\n",
       "      <td>chr22</td>\n",
       "      <td>42512291</td>\n",
       "      <td>C</td>\n",
       "      <td>CT</td>\n",
       "      <td>chr22:42512291:C:CT</td>\n",
       "      <td>0.252430</td>\n",
       "      <td>0.40</td>\n",
       "    </tr>\n",
       "    <tr>\n",
       "      <th>601818</th>\n",
       "      <td>4571</td>\n",
       "      <td>chr22</td>\n",
       "      <td>45760566</td>\n",
       "      <td>G</td>\n",
       "      <td>A</td>\n",
       "      <td>chr22:45760566:G:A</td>\n",
       "      <td>0.890735</td>\n",
       "      <td>0.35</td>\n",
       "    </tr>\n",
       "    <tr>\n",
       "      <th>604346</th>\n",
       "      <td>0</td>\n",
       "      <td>chr22</td>\n",
       "      <td>45760566</td>\n",
       "      <td>G</td>\n",
       "      <td>A</td>\n",
       "      <td>chr22:45760566:G:A</td>\n",
       "      <td>3.292281</td>\n",
       "      <td>0.30</td>\n",
       "    </tr>\n",
       "  </tbody>\n",
       "</table>\n",
       "<p>2820 rows × 8 columns</p>\n",
       "</div>"
      ],
      "text/plain": [
       "        index    CHR       POS A0  A1                  SNP       LOD   RHO\n",
       "45325    4777  chr18  21826269  T   C   chr18:21826269:T:C  0.000000  0.00\n",
       "38957    4587  chr18  21826269  T   C   chr18:21826269:T:C  0.000000  0.00\n",
       "37363    2993  chr18  21826640  T   C   chr18:21826640:T:C  0.436928  0.40\n",
       "40548       0  chr18  21826640  T   C   chr18:21826640:T:C  0.532818  0.35\n",
       "45326    4778  chr18  21827040  T   C   chr18:21827040:T:C  0.000000  0.00\n",
       "...       ...    ...       ... ..  ..                  ...       ...   ...\n",
       "594952   3363  chr22  42512283  C   T   chr22:42512283:C:T  0.088713  0.40\n",
       "594334   2745  chr22  42512291  C  CT  chr22:42512291:C:CT  0.677980  0.35\n",
       "590483   1556  chr22  42512291  C  CT  chr22:42512291:C:CT  0.252430  0.40\n",
       "601818   4571  chr22  45760566  G   A   chr22:45760566:G:A  0.890735  0.35\n",
       "604346      0  chr22  45760566  G   A   chr22:45760566:G:A  3.292281  0.30\n",
       "\n",
       "[2820 rows x 8 columns]"
      ]
     },
     "execution_count": null,
     "metadata": {},
     "output_type": "execute_result"
    }
   ],
   "source": [
    "smy_ress[smy_ress.SNP.duplicated(keep=False)].sort_values('SNP')"
   ]
  },
  {
   "cell_type": "code",
   "execution_count": null,
   "id": "f58b4f57-5843-4f73-af1d-4a15f5eaf90b",
   "metadata": {},
   "outputs": [
    {
     "data": {
      "text/plain": [
       "<AxesSubplot:>"
      ]
     },
     "execution_count": null,
     "metadata": {},
     "output_type": "execute_result"
    },
    {
     "data": {
      "image/png": "[encoded data removed]",
      "text/plain": [
       "<Figure size 432x288 with 1 Axes>"
      ]
     },
     "metadata": {
      "needs_background": "light"
     },
     "output_type": "display_data"
    }
   ],
   "source": [
    "smy_ress.LOD.plot()"
   ]
  },
  {
   "cell_type": "code",
   "execution_count": null,
   "id": "b6cbaeca-2810-44fc-b2ea-7cea708cc23c",
   "metadata": {},
   "outputs": [
    {
     "data": {
      "image/png": "[encoded data removed]",
      "text/plain": [
       "<Figure size 432x288 with 1 Axes>"
      ]
     },
     "metadata": {
      "needs_background": "light"
     },
     "output_type": "display_data"
    }
   ],
   "source": [
    "import numpy as np \n",
    "import pylab \n",
    "import scipy.stats as stats\n",
    "\n",
    "stats.probplot(2*smy_ress.LOD, dist=stats.chi2(1), plot=pylab)\n",
    "pylab.show()"
   ]
  },
  {
   "cell_type": "code",
   "execution_count": null,
   "id": "83a7e3e7-0e1b-41a4-a047-9f9c5bc66013",
   "metadata": {},
   "outputs": [],
   "source": []
  },
  {
   "cell_type": "code",
   "execution_count": null,
   "id": "7474f341-7fa4-4c9b-bf41-d45ca6125357",
   "metadata": {},
   "outputs": [],
   "source": [
    "path_ress=glob.glob('../data/wg20220316/chr22test/tmp/CACHE/chr22test*cutoff0.05.besthlod')"
   ]
  },
  {
   "cell_type": "code",
   "execution_count": null,
   "id": "af139955-1f0d-4a83-ba54-379213ac232f",
   "metadata": {},
   "outputs": [
    {
     "data": {
      "text/plain": [
       "['../data/wg20220316/chr22test/tmp/CACHE/chr22test0cutoff0.05.besthlod',\n",
       " '../data/wg20220316/chr22test/tmp/CACHE/chr22test1cutoff0.05.besthlod',\n",
       " '../data/wg20220316/chr22test/tmp/CACHE/chr22test2cutoff0.05.besthlod',\n",
       " '../data/wg20220316/chr22test/tmp/CACHE/chr22test3cutoff0.05.besthlod',\n",
       " '../data/wg20220316/chr22test/tmp/CACHE/chr22test4cutoff0.05.besthlod',\n",
       " '../data/wg20220316/chr22test/tmp/CACHE/chr22test5cutoff0.05.besthlod',\n",
       " '../data/wg20220316/chr22test/tmp/CACHE/chr22test6cutoff0.05.besthlod',\n",
       " '../data/wg20220316/chr22test/tmp/CACHE/chr22test7cutoff0.05.besthlod',\n",
       " '../data/wg20220316/chr22test/tmp/CACHE/chr22test8cutoff0.05.besthlod',\n",
       " '../data/wg20220316/chr22test/tmp/CACHE/chr22test9cutoff0.05.besthlod',\n",
       " '../data/wg20220316/chr22test/tmp/CACHE/chr22test10cutoff0.05.besthlod',\n",
       " '../data/wg20220316/chr22test/tmp/CACHE/chr22test11cutoff0.05.besthlod',\n",
       " '../data/wg20220316/chr22test/tmp/CACHE/chr22test12cutoff0.05.besthlod',\n",
       " '../data/wg20220316/chr22test/tmp/CACHE/chr22test13cutoff0.05.besthlod',\n",
       " '../data/wg20220316/chr22test/tmp/CACHE/chr22test14cutoff0.05.besthlod',\n",
       " '../data/wg20220316/chr22test/tmp/CACHE/chr22test15cutoff0.05.besthlod',\n",
       " '../data/wg20220316/chr22test/tmp/CACHE/chr22test16cutoff0.05.besthlod',\n",
       " '../data/wg20220316/chr22test/tmp/CACHE/chr22test17cutoff0.05.besthlod',\n",
       " '../data/wg20220316/chr22test/tmp/CACHE/chr22test18cutoff0.05.besthlod',\n",
       " '../data/wg20220316/chr22test/tmp/CACHE/chr22test19cutoff0.05.besthlod',\n",
       " '../data/wg20220316/chr22test/tmp/CACHE/chr22test20cutoff0.05.besthlod',\n",
       " '../data/wg20220316/chr22test/tmp/CACHE/chr22test21cutoff0.05.besthlod',\n",
       " '../data/wg20220316/chr22test/tmp/CACHE/chr22test22cutoff0.05.besthlod',\n",
       " '../data/wg20220316/chr22test/tmp/CACHE/chr22test23cutoff0.05.besthlod',\n",
       " '../data/wg20220316/chr22test/tmp/CACHE/chr22test24cutoff0.05.besthlod']"
      ]
     },
     "execution_count": null,
     "metadata": {},
     "output_type": "execute_result"
    }
   ],
   "source": [
    "path_ress"
   ]
  },
  {
   "cell_type": "code",
   "execution_count": null,
   "id": "58cd6803-b8ee-41b8-9e54-c95ff5f2ea1c",
   "metadata": {},
   "outputs": [],
   "source": [
    "smy_ress=[]\n",
    "for path in path_ress:\n",
    "    with open(path, 'rb') as handle:\n",
    "        smy_ress.append(pickle.load(handle))"
   ]
  },
  {
   "cell_type": "code",
   "execution_count": null,
   "id": "6dee758a-66f0-4f68-8297-36bc85c6ff87",
   "metadata": {},
   "outputs": [],
   "source": [
    "smy_ress = pd.concat(smy_ress)"
   ]
  },
  {
   "cell_type": "code",
   "execution_count": null,
   "id": "673c3ffa-cbcf-4a07-adf8-d5bed03a9e02",
   "metadata": {},
   "outputs": [],
   "source": [
    "smy_ress=smy_ress.sort_values(0)"
   ]
  },
  {
   "cell_type": "code",
   "execution_count": null,
   "id": "f6802af8-4a82-41e0-b113-903a900f101f",
   "metadata": {},
   "outputs": [
    {
     "data": {
      "text/plain": [
       "<AxesSubplot:>"
      ]
     },
     "execution_count": null,
     "metadata": {},
     "output_type": "execute_result"
    },
    {
     "data": {
      "image/png": "[encoded data removed]",
      "text/plain": [
       "<Figure size 432x288 with 1 Axes>"
      ]
     },
     "metadata": {
      "needs_background": "light"
     },
     "output_type": "display_data"
    }
   ],
   "source": [
    "smy_ress[2].hist()"
   ]
  },
  {
   "cell_type": "code",
   "execution_count": null,
   "id": "b85679f3-97a4-416b-a65f-82e924c6f3f3",
   "metadata": {},
   "outputs": [
    {
     "data": {
      "text/plain": [
       "837"
      ]
     },
     "execution_count": null,
     "metadata": {},
     "output_type": "execute_result"
    }
   ],
   "source": [
    "sum(smy_ress[3]>3.3)"
   ]
  },
  {
   "cell_type": "code",
   "execution_count": null,
   "id": "65d1e6f0-2b1e-40fe-815b-641e257b9a83",
   "metadata": {},
   "outputs": [
    {
     "data": {
      "text/plain": [
       "<AxesSubplot:>"
      ]
     },
     "execution_count": null,
     "metadata": {},
     "output_type": "execute_result"
    },
    {
     "data": {
      "image/png": "[encoded data removed]",
      "text/plain": [
       "<Figure size 432x288 with 1 Axes>"
      ]
     },
     "metadata": {
      "needs_background": "light"
     },
     "output_type": "display_data"
    }
   ],
   "source": [
    "smy_ress[3].hist()"
   ]
  },
  {
   "cell_type": "code",
   "execution_count": null,
   "id": "40ebc1de-e109-4b4e-905d-8cb842d2eaec",
   "metadata": {},
   "outputs": [
    {
     "data": {
      "text/plain": [
       "<AxesSubplot:xlabel='0', ylabel='3'>"
      ]
     },
     "execution_count": null,
     "metadata": {},
     "output_type": "execute_result"
    },
    {
     "data": {
      "image/png": "[encoded data removed]",
      "text/plain": [
       "<Figure size 432x288 with 1 Axes>"
      ]
     },
     "metadata": {
      "needs_background": "light"
     },
     "output_type": "display_data"
    }
   ],
   "source": [
    "smy_ress.plot.scatter(x=0,y=3)"
   ]
  },
  {
   "cell_type": "code",
   "execution_count": null,
   "id": "b0428804-0c30-4f27-b0dd-f71ef14f35f8",
   "metadata": {},
   "outputs": [
    {
     "data": {
      "text/plain": [
       "1"
      ]
     },
     "execution_count": null,
     "metadata": {},
     "output_type": "execute_result"
    }
   ],
   "source": [
    "1"
   ]
  },
  {
   "cell_type": "code",
   "execution_count": null,
   "id": "9e7f0e4d-38be-4839-923c-8c9e2f198057",
   "metadata": {},
   "outputs": [],
   "source": [
    "style='.-'"
   ]
  },
  {
   "cell_type": "code",
   "execution_count": null,
   "id": "707ea086-3066-4d07-8b30-5974db900bc9",
   "metadata": {},
   "outputs": [],
   "source": [
    "smy_ress.plot.scatter(x=0,y=3)"
   ]
  },
  {
   "cell_type": "code",
   "execution_count": null,
   "id": "5f2ca0b5-c3ed-4690-8aed-c21fde99d8ce",
   "metadata": {},
   "outputs": [],
   "source": [
    "tmp=pd.read_csv('../data/wg20220316/common_variants_chr18-23_grid_opt.csv')"
   ]
  },
  {
   "cell_type": "code",
   "execution_count": null,
   "id": "f54057ac-58c3-45d0-9698-be46c495ef9e",
   "metadata": {},
   "outputs": [],
   "source": [
    "tmp=tmp[tmp.CHR=='chr22']"
   ]
  },
  {
   "cell_type": "code",
   "execution_count": null,
   "id": "69c15a4b-c35d-4a42-afe8-66940bac10b5",
   "metadata": {},
   "outputs": [
    {
     "data": {
      "text/plain": [
       "692"
      ]
     },
     "execution_count": null,
     "metadata": {},
     "output_type": "execute_result"
    }
   ],
   "source": [
    "sum(tmp.LOD>3.3)"
   ]
  },
  {
   "cell_type": "code",
   "execution_count": null,
   "id": "cb58f70a-4482-422d-8627-33ebbb3cce96",
   "metadata": {},
   "outputs": [],
   "source": []
  }
 ],
 "metadata": {
  "kernelspec": {
   "display_name": "Python 3 (ipykernel)",
   "language": "python",
   "name": "python3"
  }
 },
 "nbformat": 4,
 "nbformat_minor": 5
}
