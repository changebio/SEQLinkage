{
 "cells": [
  {
   "cell_type": "markdown",
   "id": "f5c2f6b2-19e8-4239-a33f-c7761ed8ad47",
   "metadata": {},
   "source": [
    "# Result summary of linkage analysis of all variants"
   ]
  },
  {
   "cell_type": "code",
   "execution_count": null,
   "id": "bf10d0f0-80f9-4f72-b67b-d596de84580d",
   "metadata": {},
   "outputs": [],
   "source": [
    "import pandas as pd\n",
    "import numpy as np\n",
    "import pickle\n",
    "from SEQLinkage.linkage import *"
   ]
  },
  {
   "cell_type": "code",
   "execution_count": null,
   "id": "482313d7-fbac-4709-9270-44d98e382217",
   "metadata": {},
   "outputs": [],
   "source": [
    "import glob"
   ]
  },
  {
   "cell_type": "code",
   "execution_count": null,
   "id": "3abb4ba2-8c27-4250-830f-42bd72fe7195",
   "metadata": {},
   "outputs": [],
   "source": [
    "path_ress=glob.glob('../data/wg20220316/chr22test/tmp/CACHE/chr22test*cutoff0.05_rho*.result')"
   ]
  },
  {
   "cell_type": "code",
   "execution_count": null,
   "id": "832d1d52-2a91-484c-b6e5-003d0edc1aac",
   "metadata": {},
   "outputs": [
    {
     "data": {
      "text/plain": [
       "['../data/wg20220316/chr22test/tmp/CACHE/chr22test0cutoff0.05_rho0.45.result',\n",
       " '../data/wg20220316/chr22test/tmp/CACHE/chr22test0cutoff0.05_rho0.4.result',\n",
       " '../data/wg20220316/chr22test/tmp/CACHE/chr22test0cutoff0.05_rho0.35000000000000003.result',\n",
       " '../data/wg20220316/chr22test/tmp/CACHE/chr22test0cutoff0.05_rho0.30000000000000004.result',\n",
       " '../data/wg20220316/chr22test/tmp/CACHE/chr22test0cutoff0.05_rho0.25.result',\n",
       " '../data/wg20220316/chr22test/tmp/CACHE/chr22test0cutoff0.05_rho0.2.result',\n",
       " '../data/wg20220316/chr22test/tmp/CACHE/chr22test0cutoff0.05_rho0.15000000000000002.result',\n",
       " '../data/wg20220316/chr22test/tmp/CACHE/chr22test0cutoff0.05_rho0.1.result',\n",
       " '../data/wg20220316/chr22test/tmp/CACHE/chr22test0cutoff0.05_rho0.05.result',\n",
       " '../data/wg20220316/chr22test/tmp/CACHE/chr22test0cutoff0.05_rho0.0.result',\n",
       " '../data/wg20220316/chr22test/tmp/CACHE/chr22test1cutoff0.05_rho0.45.result',\n",
       " '../data/wg20220316/chr22test/tmp/CACHE/chr22test1cutoff0.05_rho0.4.result',\n",
       " '../data/wg20220316/chr22test/tmp/CACHE/chr22test1cutoff0.05_rho0.35000000000000003.result',\n",
       " '../data/wg20220316/chr22test/tmp/CACHE/chr22test1cutoff0.05_rho0.30000000000000004.result',\n",
       " '../data/wg20220316/chr22test/tmp/CACHE/chr22test1cutoff0.05_rho0.25.result',\n",
       " '../data/wg20220316/chr22test/tmp/CACHE/chr22test1cutoff0.05_rho0.2.result',\n",
       " '../data/wg20220316/chr22test/tmp/CACHE/chr22test1cutoff0.05_rho0.15000000000000002.result',\n",
       " '../data/wg20220316/chr22test/tmp/CACHE/chr22test1cutoff0.05_rho0.1.result',\n",
       " '../data/wg20220316/chr22test/tmp/CACHE/chr22test1cutoff0.05_rho0.05.result',\n",
       " '../data/wg20220316/chr22test/tmp/CACHE/chr22test1cutoff0.05_rho0.0.result',\n",
       " '../data/wg20220316/chr22test/tmp/CACHE/chr22test2cutoff0.05_rho0.45.result',\n",
       " '../data/wg20220316/chr22test/tmp/CACHE/chr22test2cutoff0.05_rho0.4.result',\n",
       " '../data/wg20220316/chr22test/tmp/CACHE/chr22test2cutoff0.05_rho0.35000000000000003.result',\n",
       " '../data/wg20220316/chr22test/tmp/CACHE/chr22test2cutoff0.05_rho0.30000000000000004.result',\n",
       " '../data/wg20220316/chr22test/tmp/CACHE/chr22test2cutoff0.05_rho0.25.result',\n",
       " '../data/wg20220316/chr22test/tmp/CACHE/chr22test2cutoff0.05_rho0.2.result',\n",
       " '../data/wg20220316/chr22test/tmp/CACHE/chr22test2cutoff0.05_rho0.15000000000000002.result',\n",
       " '../data/wg20220316/chr22test/tmp/CACHE/chr22test2cutoff0.05_rho0.1.result',\n",
       " '../data/wg20220316/chr22test/tmp/CACHE/chr22test2cutoff0.05_rho0.05.result',\n",
       " '../data/wg20220316/chr22test/tmp/CACHE/chr22test2cutoff0.05_rho0.0.result',\n",
       " '../data/wg20220316/chr22test/tmp/CACHE/chr22test3cutoff0.05_rho0.45.result',\n",
       " '../data/wg20220316/chr22test/tmp/CACHE/chr22test3cutoff0.05_rho0.4.result',\n",
       " '../data/wg20220316/chr22test/tmp/CACHE/chr22test3cutoff0.05_rho0.35000000000000003.result',\n",
       " '../data/wg20220316/chr22test/tmp/CACHE/chr22test3cutoff0.05_rho0.30000000000000004.result',\n",
       " '../data/wg20220316/chr22test/tmp/CACHE/chr22test3cutoff0.05_rho0.25.result',\n",
       " '../data/wg20220316/chr22test/tmp/CACHE/chr22test3cutoff0.05_rho0.2.result',\n",
       " '../data/wg20220316/chr22test/tmp/CACHE/chr22test3cutoff0.05_rho0.15000000000000002.result',\n",
       " '../data/wg20220316/chr22test/tmp/CACHE/chr22test3cutoff0.05_rho0.1.result',\n",
       " '../data/wg20220316/chr22test/tmp/CACHE/chr22test3cutoff0.05_rho0.05.result',\n",
       " '../data/wg20220316/chr22test/tmp/CACHE/chr22test3cutoff0.05_rho0.0.result',\n",
       " '../data/wg20220316/chr22test/tmp/CACHE/chr22test4cutoff0.05_rho0.45.result',\n",
       " '../data/wg20220316/chr22test/tmp/CACHE/chr22test4cutoff0.05_rho0.4.result',\n",
       " '../data/wg20220316/chr22test/tmp/CACHE/chr22test4cutoff0.05_rho0.35000000000000003.result',\n",
       " '../data/wg20220316/chr22test/tmp/CACHE/chr22test4cutoff0.05_rho0.30000000000000004.result',\n",
       " '../data/wg20220316/chr22test/tmp/CACHE/chr22test4cutoff0.05_rho0.25.result',\n",
       " '../data/wg20220316/chr22test/tmp/CACHE/chr22test4cutoff0.05_rho0.2.result',\n",
       " '../data/wg20220316/chr22test/tmp/CACHE/chr22test4cutoff0.05_rho0.15000000000000002.result',\n",
       " '../data/wg20220316/chr22test/tmp/CACHE/chr22test4cutoff0.05_rho0.1.result',\n",
       " '../data/wg20220316/chr22test/tmp/CACHE/chr22test4cutoff0.05_rho0.05.result',\n",
       " '../data/wg20220316/chr22test/tmp/CACHE/chr22test4cutoff0.05_rho0.0.result',\n",
       " '../data/wg20220316/chr22test/tmp/CACHE/chr22test5cutoff0.05_rho0.45.result',\n",
       " '../data/wg20220316/chr22test/tmp/CACHE/chr22test5cutoff0.05_rho0.4.result',\n",
       " '../data/wg20220316/chr22test/tmp/CACHE/chr22test5cutoff0.05_rho0.35000000000000003.result',\n",
       " '../data/wg20220316/chr22test/tmp/CACHE/chr22test5cutoff0.05_rho0.30000000000000004.result',\n",
       " '../data/wg20220316/chr22test/tmp/CACHE/chr22test5cutoff0.05_rho0.25.result',\n",
       " '../data/wg20220316/chr22test/tmp/CACHE/chr22test5cutoff0.05_rho0.2.result',\n",
       " '../data/wg20220316/chr22test/tmp/CACHE/chr22test5cutoff0.05_rho0.15000000000000002.result',\n",
       " '../data/wg20220316/chr22test/tmp/CACHE/chr22test5cutoff0.05_rho0.1.result',\n",
       " '../data/wg20220316/chr22test/tmp/CACHE/chr22test5cutoff0.05_rho0.05.result',\n",
       " '../data/wg20220316/chr22test/tmp/CACHE/chr22test5cutoff0.05_rho0.0.result',\n",
       " '../data/wg20220316/chr22test/tmp/CACHE/chr22test6cutoff0.05_rho0.45.result',\n",
       " '../data/wg20220316/chr22test/tmp/CACHE/chr22test6cutoff0.05_rho0.4.result',\n",
       " '../data/wg20220316/chr22test/tmp/CACHE/chr22test6cutoff0.05_rho0.35000000000000003.result',\n",
       " '../data/wg20220316/chr22test/tmp/CACHE/chr22test6cutoff0.05_rho0.30000000000000004.result',\n",
       " '../data/wg20220316/chr22test/tmp/CACHE/chr22test6cutoff0.05_rho0.25.result',\n",
       " '../data/wg20220316/chr22test/tmp/CACHE/chr22test6cutoff0.05_rho0.2.result',\n",
       " '../data/wg20220316/chr22test/tmp/CACHE/chr22test6cutoff0.05_rho0.15000000000000002.result',\n",
       " '../data/wg20220316/chr22test/tmp/CACHE/chr22test6cutoff0.05_rho0.1.result',\n",
       " '../data/wg20220316/chr22test/tmp/CACHE/chr22test6cutoff0.05_rho0.05.result',\n",
       " '../data/wg20220316/chr22test/tmp/CACHE/chr22test6cutoff0.05_rho0.0.result',\n",
       " '../data/wg20220316/chr22test/tmp/CACHE/chr22test7cutoff0.05_rho0.45.result',\n",
       " '../data/wg20220316/chr22test/tmp/CACHE/chr22test7cutoff0.05_rho0.4.result',\n",
       " '../data/wg20220316/chr22test/tmp/CACHE/chr22test7cutoff0.05_rho0.35000000000000003.result',\n",
       " '../data/wg20220316/chr22test/tmp/CACHE/chr22test7cutoff0.05_rho0.30000000000000004.result',\n",
       " '../data/wg20220316/chr22test/tmp/CACHE/chr22test7cutoff0.05_rho0.25.result',\n",
       " '../data/wg20220316/chr22test/tmp/CACHE/chr22test7cutoff0.05_rho0.2.result',\n",
       " '../data/wg20220316/chr22test/tmp/CACHE/chr22test7cutoff0.05_rho0.15000000000000002.result',\n",
       " '../data/wg20220316/chr22test/tmp/CACHE/chr22test7cutoff0.05_rho0.1.result',\n",
       " '../data/wg20220316/chr22test/tmp/CACHE/chr22test7cutoff0.05_rho0.05.result',\n",
       " '../data/wg20220316/chr22test/tmp/CACHE/chr22test7cutoff0.05_rho0.0.result',\n",
       " '../data/wg20220316/chr22test/tmp/CACHE/chr22test8cutoff0.05_rho0.45.result',\n",
       " '../data/wg20220316/chr22test/tmp/CACHE/chr22test8cutoff0.05_rho0.4.result',\n",
       " '../data/wg20220316/chr22test/tmp/CACHE/chr22test8cutoff0.05_rho0.35000000000000003.result',\n",
       " '../data/wg20220316/chr22test/tmp/CACHE/chr22test8cutoff0.05_rho0.30000000000000004.result',\n",
       " '../data/wg20220316/chr22test/tmp/CACHE/chr22test8cutoff0.05_rho0.25.result',\n",
       " '../data/wg20220316/chr22test/tmp/CACHE/chr22test8cutoff0.05_rho0.2.result',\n",
       " '../data/wg20220316/chr22test/tmp/CACHE/chr22test8cutoff0.05_rho0.15000000000000002.result',\n",
       " '../data/wg20220316/chr22test/tmp/CACHE/chr22test8cutoff0.05_rho0.1.result',\n",
       " '../data/wg20220316/chr22test/tmp/CACHE/chr22test8cutoff0.05_rho0.05.result',\n",
       " '../data/wg20220316/chr22test/tmp/CACHE/chr22test8cutoff0.05_rho0.0.result',\n",
       " '../data/wg20220316/chr22test/tmp/CACHE/chr22test9cutoff0.05_rho0.45.result',\n",
       " '../data/wg20220316/chr22test/tmp/CACHE/chr22test9cutoff0.05_rho0.4.result',\n",
       " '../data/wg20220316/chr22test/tmp/CACHE/chr22test9cutoff0.05_rho0.35000000000000003.result',\n",
       " '../data/wg20220316/chr22test/tmp/CACHE/chr22test9cutoff0.05_rho0.30000000000000004.result',\n",
       " '../data/wg20220316/chr22test/tmp/CACHE/chr22test9cutoff0.05_rho0.25.result',\n",
       " '../data/wg20220316/chr22test/tmp/CACHE/chr22test9cutoff0.05_rho0.2.result',\n",
       " '../data/wg20220316/chr22test/tmp/CACHE/chr22test9cutoff0.05_rho0.15000000000000002.result',\n",
       " '../data/wg20220316/chr22test/tmp/CACHE/chr22test9cutoff0.05_rho0.1.result',\n",
       " '../data/wg20220316/chr22test/tmp/CACHE/chr22test9cutoff0.05_rho0.05.result',\n",
       " '../data/wg20220316/chr22test/tmp/CACHE/chr22test9cutoff0.05_rho0.0.result',\n",
       " '../data/wg20220316/chr22test/tmp/CACHE/chr22test10cutoff0.05_rho0.45.result',\n",
       " '../data/wg20220316/chr22test/tmp/CACHE/chr22test10cutoff0.05_rho0.4.result',\n",
       " '../data/wg20220316/chr22test/tmp/CACHE/chr22test10cutoff0.05_rho0.35000000000000003.result',\n",
       " '../data/wg20220316/chr22test/tmp/CACHE/chr22test10cutoff0.05_rho0.30000000000000004.result',\n",
       " '../data/wg20220316/chr22test/tmp/CACHE/chr22test10cutoff0.05_rho0.25.result',\n",
       " '../data/wg20220316/chr22test/tmp/CACHE/chr22test10cutoff0.05_rho0.2.result',\n",
       " '../data/wg20220316/chr22test/tmp/CACHE/chr22test10cutoff0.05_rho0.15000000000000002.result',\n",
       " '../data/wg20220316/chr22test/tmp/CACHE/chr22test10cutoff0.05_rho0.1.result',\n",
       " '../data/wg20220316/chr22test/tmp/CACHE/chr22test10cutoff0.05_rho0.05.result',\n",
       " '../data/wg20220316/chr22test/tmp/CACHE/chr22test10cutoff0.05_rho0.0.result',\n",
       " '../data/wg20220316/chr22test/tmp/CACHE/chr22test11cutoff0.05_rho0.45.result',\n",
       " '../data/wg20220316/chr22test/tmp/CACHE/chr22test11cutoff0.05_rho0.4.result',\n",
       " '../data/wg20220316/chr22test/tmp/CACHE/chr22test11cutoff0.05_rho0.35000000000000003.result',\n",
       " '../data/wg20220316/chr22test/tmp/CACHE/chr22test11cutoff0.05_rho0.30000000000000004.result',\n",
       " '../data/wg20220316/chr22test/tmp/CACHE/chr22test11cutoff0.05_rho0.25.result',\n",
       " '../data/wg20220316/chr22test/tmp/CACHE/chr22test11cutoff0.05_rho0.2.result',\n",
       " '../data/wg20220316/chr22test/tmp/CACHE/chr22test11cutoff0.05_rho0.15000000000000002.result',\n",
       " '../data/wg20220316/chr22test/tmp/CACHE/chr22test11cutoff0.05_rho0.1.result',\n",
       " '../data/wg20220316/chr22test/tmp/CACHE/chr22test11cutoff0.05_rho0.05.result',\n",
       " '../data/wg20220316/chr22test/tmp/CACHE/chr22test11cutoff0.05_rho0.0.result',\n",
       " '../data/wg20220316/chr22test/tmp/CACHE/chr22test12cutoff0.05_rho0.45.result',\n",
       " '../data/wg20220316/chr22test/tmp/CACHE/chr22test12cutoff0.05_rho0.4.result',\n",
       " '../data/wg20220316/chr22test/tmp/CACHE/chr22test12cutoff0.05_rho0.35000000000000003.result',\n",
       " '../data/wg20220316/chr22test/tmp/CACHE/chr22test12cutoff0.05_rho0.30000000000000004.result',\n",
       " '../data/wg20220316/chr22test/tmp/CACHE/chr22test12cutoff0.05_rho0.25.result',\n",
       " '../data/wg20220316/chr22test/tmp/CACHE/chr22test12cutoff0.05_rho0.2.result',\n",
       " '../data/wg20220316/chr22test/tmp/CACHE/chr22test12cutoff0.05_rho0.15000000000000002.result',\n",
       " '../data/wg20220316/chr22test/tmp/CACHE/chr22test12cutoff0.05_rho0.1.result',\n",
       " '../data/wg20220316/chr22test/tmp/CACHE/chr22test12cutoff0.05_rho0.05.result',\n",
       " '../data/wg20220316/chr22test/tmp/CACHE/chr22test12cutoff0.05_rho0.0.result',\n",
       " '../data/wg20220316/chr22test/tmp/CACHE/chr22test13cutoff0.05_rho0.45.result',\n",
       " '../data/wg20220316/chr22test/tmp/CACHE/chr22test13cutoff0.05_rho0.4.result',\n",
       " '../data/wg20220316/chr22test/tmp/CACHE/chr22test13cutoff0.05_rho0.35000000000000003.result',\n",
       " '../data/wg20220316/chr22test/tmp/CACHE/chr22test13cutoff0.05_rho0.30000000000000004.result',\n",
       " '../data/wg20220316/chr22test/tmp/CACHE/chr22test13cutoff0.05_rho0.25.result',\n",
       " '../data/wg20220316/chr22test/tmp/CACHE/chr22test13cutoff0.05_rho0.2.result',\n",
       " '../data/wg20220316/chr22test/tmp/CACHE/chr22test13cutoff0.05_rho0.15000000000000002.result',\n",
       " '../data/wg20220316/chr22test/tmp/CACHE/chr22test13cutoff0.05_rho0.1.result',\n",
       " '../data/wg20220316/chr22test/tmp/CACHE/chr22test13cutoff0.05_rho0.05.result',\n",
       " '../data/wg20220316/chr22test/tmp/CACHE/chr22test13cutoff0.05_rho0.0.result',\n",
       " '../data/wg20220316/chr22test/tmp/CACHE/chr22test14cutoff0.05_rho0.45.result',\n",
       " '../data/wg20220316/chr22test/tmp/CACHE/chr22test14cutoff0.05_rho0.4.result',\n",
       " '../data/wg20220316/chr22test/tmp/CACHE/chr22test14cutoff0.05_rho0.35000000000000003.result',\n",
       " '../data/wg20220316/chr22test/tmp/CACHE/chr22test14cutoff0.05_rho0.30000000000000004.result',\n",
       " '../data/wg20220316/chr22test/tmp/CACHE/chr22test14cutoff0.05_rho0.25.result',\n",
       " '../data/wg20220316/chr22test/tmp/CACHE/chr22test14cutoff0.05_rho0.2.result',\n",
       " '../data/wg20220316/chr22test/tmp/CACHE/chr22test14cutoff0.05_rho0.15000000000000002.result',\n",
       " '../data/wg20220316/chr22test/tmp/CACHE/chr22test14cutoff0.05_rho0.1.result',\n",
       " '../data/wg20220316/chr22test/tmp/CACHE/chr22test14cutoff0.05_rho0.05.result',\n",
       " '../data/wg20220316/chr22test/tmp/CACHE/chr22test14cutoff0.05_rho0.0.result',\n",
       " '../data/wg20220316/chr22test/tmp/CACHE/chr22test15cutoff0.05_rho0.45.result',\n",
       " '../data/wg20220316/chr22test/tmp/CACHE/chr22test15cutoff0.05_rho0.4.result',\n",
       " '../data/wg20220316/chr22test/tmp/CACHE/chr22test15cutoff0.05_rho0.35000000000000003.result',\n",
       " '../data/wg20220316/chr22test/tmp/CACHE/chr22test15cutoff0.05_rho0.30000000000000004.result',\n",
       " '../data/wg20220316/chr22test/tmp/CACHE/chr22test15cutoff0.05_rho0.25.result',\n",
       " '../data/wg20220316/chr22test/tmp/CACHE/chr22test15cutoff0.05_rho0.2.result',\n",
       " '../data/wg20220316/chr22test/tmp/CACHE/chr22test15cutoff0.05_rho0.15000000000000002.result',\n",
       " '../data/wg20220316/chr22test/tmp/CACHE/chr22test15cutoff0.05_rho0.1.result',\n",
       " '../data/wg20220316/chr22test/tmp/CACHE/chr22test15cutoff0.05_rho0.05.result',\n",
       " '../data/wg20220316/chr22test/tmp/CACHE/chr22test15cutoff0.05_rho0.0.result',\n",
       " '../data/wg20220316/chr22test/tmp/CACHE/chr22test16cutoff0.05_rho0.45.result',\n",
       " '../data/wg20220316/chr22test/tmp/CACHE/chr22test16cutoff0.05_rho0.4.result',\n",
       " '../data/wg20220316/chr22test/tmp/CACHE/chr22test16cutoff0.05_rho0.35000000000000003.result',\n",
       " '../data/wg20220316/chr22test/tmp/CACHE/chr22test16cutoff0.05_rho0.30000000000000004.result',\n",
       " '../data/wg20220316/chr22test/tmp/CACHE/chr22test16cutoff0.05_rho0.25.result',\n",
       " '../data/wg20220316/chr22test/tmp/CACHE/chr22test16cutoff0.05_rho0.2.result',\n",
       " '../data/wg20220316/chr22test/tmp/CACHE/chr22test16cutoff0.05_rho0.15000000000000002.result',\n",
       " '../data/wg20220316/chr22test/tmp/CACHE/chr22test16cutoff0.05_rho0.1.result',\n",
       " '../data/wg20220316/chr22test/tmp/CACHE/chr22test16cutoff0.05_rho0.05.result',\n",
       " '../data/wg20220316/chr22test/tmp/CACHE/chr22test16cutoff0.05_rho0.0.result',\n",
       " '../data/wg20220316/chr22test/tmp/CACHE/chr22test17cutoff0.05_rho0.45.result',\n",
       " '../data/wg20220316/chr22test/tmp/CACHE/chr22test17cutoff0.05_rho0.4.result',\n",
       " '../data/wg20220316/chr22test/tmp/CACHE/chr22test17cutoff0.05_rho0.35000000000000003.result',\n",
       " '../data/wg20220316/chr22test/tmp/CACHE/chr22test17cutoff0.05_rho0.30000000000000004.result',\n",
       " '../data/wg20220316/chr22test/tmp/CACHE/chr22test17cutoff0.05_rho0.25.result',\n",
       " '../data/wg20220316/chr22test/tmp/CACHE/chr22test17cutoff0.05_rho0.2.result',\n",
       " '../data/wg20220316/chr22test/tmp/CACHE/chr22test17cutoff0.05_rho0.15000000000000002.result',\n",
       " '../data/wg20220316/chr22test/tmp/CACHE/chr22test17cutoff0.05_rho0.1.result',\n",
       " '../data/wg20220316/chr22test/tmp/CACHE/chr22test17cutoff0.05_rho0.05.result',\n",
       " '../data/wg20220316/chr22test/tmp/CACHE/chr22test17cutoff0.05_rho0.0.result',\n",
       " '../data/wg20220316/chr22test/tmp/CACHE/chr22test18cutoff0.05_rho0.45.result',\n",
       " '../data/wg20220316/chr22test/tmp/CACHE/chr22test18cutoff0.05_rho0.4.result',\n",
       " '../data/wg20220316/chr22test/tmp/CACHE/chr22test18cutoff0.05_rho0.35000000000000003.result',\n",
       " '../data/wg20220316/chr22test/tmp/CACHE/chr22test18cutoff0.05_rho0.30000000000000004.result',\n",
       " '../data/wg20220316/chr22test/tmp/CACHE/chr22test18cutoff0.05_rho0.25.result',\n",
       " '../data/wg20220316/chr22test/tmp/CACHE/chr22test18cutoff0.05_rho0.2.result',\n",
       " '../data/wg20220316/chr22test/tmp/CACHE/chr22test18cutoff0.05_rho0.15000000000000002.result',\n",
       " '../data/wg20220316/chr22test/tmp/CACHE/chr22test18cutoff0.05_rho0.1.result',\n",
       " '../data/wg20220316/chr22test/tmp/CACHE/chr22test18cutoff0.05_rho0.05.result',\n",
       " '../data/wg20220316/chr22test/tmp/CACHE/chr22test18cutoff0.05_rho0.0.result',\n",
       " '../data/wg20220316/chr22test/tmp/CACHE/chr22test19cutoff0.05_rho0.45.result',\n",
       " '../data/wg20220316/chr22test/tmp/CACHE/chr22test19cutoff0.05_rho0.4.result',\n",
       " '../data/wg20220316/chr22test/tmp/CACHE/chr22test19cutoff0.05_rho0.35000000000000003.result',\n",
       " '../data/wg20220316/chr22test/tmp/CACHE/chr22test19cutoff0.05_rho0.30000000000000004.result',\n",
       " '../data/wg20220316/chr22test/tmp/CACHE/chr22test19cutoff0.05_rho0.25.result',\n",
       " '../data/wg20220316/chr22test/tmp/CACHE/chr22test19cutoff0.05_rho0.2.result',\n",
       " '../data/wg20220316/chr22test/tmp/CACHE/chr22test19cutoff0.05_rho0.15000000000000002.result',\n",
       " '../data/wg20220316/chr22test/tmp/CACHE/chr22test19cutoff0.05_rho0.1.result',\n",
       " '../data/wg20220316/chr22test/tmp/CACHE/chr22test19cutoff0.05_rho0.05.result',\n",
       " '../data/wg20220316/chr22test/tmp/CACHE/chr22test19cutoff0.05_rho0.0.result',\n",
       " '../data/wg20220316/chr22test/tmp/CACHE/chr22test20cutoff0.05_rho0.45.result',\n",
       " '../data/wg20220316/chr22test/tmp/CACHE/chr22test20cutoff0.05_rho0.4.result',\n",
       " '../data/wg20220316/chr22test/tmp/CACHE/chr22test20cutoff0.05_rho0.35000000000000003.result',\n",
       " '../data/wg20220316/chr22test/tmp/CACHE/chr22test20cutoff0.05_rho0.30000000000000004.result',\n",
       " '../data/wg20220316/chr22test/tmp/CACHE/chr22test20cutoff0.05_rho0.25.result',\n",
       " '../data/wg20220316/chr22test/tmp/CACHE/chr22test20cutoff0.05_rho0.2.result',\n",
       " '../data/wg20220316/chr22test/tmp/CACHE/chr22test20cutoff0.05_rho0.15000000000000002.result',\n",
       " '../data/wg20220316/chr22test/tmp/CACHE/chr22test20cutoff0.05_rho0.1.result',\n",
       " '../data/wg20220316/chr22test/tmp/CACHE/chr22test20cutoff0.05_rho0.05.result',\n",
       " '../data/wg20220316/chr22test/tmp/CACHE/chr22test20cutoff0.05_rho0.0.result',\n",
       " '../data/wg20220316/chr22test/tmp/CACHE/chr22test21cutoff0.05_rho0.45.result',\n",
       " '../data/wg20220316/chr22test/tmp/CACHE/chr22test21cutoff0.05_rho0.4.result',\n",
       " '../data/wg20220316/chr22test/tmp/CACHE/chr22test21cutoff0.05_rho0.35000000000000003.result',\n",
       " '../data/wg20220316/chr22test/tmp/CACHE/chr22test21cutoff0.05_rho0.30000000000000004.result',\n",
       " '../data/wg20220316/chr22test/tmp/CACHE/chr22test21cutoff0.05_rho0.25.result',\n",
       " '../data/wg20220316/chr22test/tmp/CACHE/chr22test21cutoff0.05_rho0.2.result',\n",
       " '../data/wg20220316/chr22test/tmp/CACHE/chr22test21cutoff0.05_rho0.15000000000000002.result',\n",
       " '../data/wg20220316/chr22test/tmp/CACHE/chr22test21cutoff0.05_rho0.1.result',\n",
       " '../data/wg20220316/chr22test/tmp/CACHE/chr22test21cutoff0.05_rho0.05.result',\n",
       " '../data/wg20220316/chr22test/tmp/CACHE/chr22test21cutoff0.05_rho0.0.result',\n",
       " '../data/wg20220316/chr22test/tmp/CACHE/chr22test22cutoff0.05_rho0.45.result',\n",
       " '../data/wg20220316/chr22test/tmp/CACHE/chr22test22cutoff0.05_rho0.4.result',\n",
       " '../data/wg20220316/chr22test/tmp/CACHE/chr22test22cutoff0.05_rho0.35000000000000003.result',\n",
       " '../data/wg20220316/chr22test/tmp/CACHE/chr22test22cutoff0.05_rho0.30000000000000004.result',\n",
       " '../data/wg20220316/chr22test/tmp/CACHE/chr22test22cutoff0.05_rho0.25.result',\n",
       " '../data/wg20220316/chr22test/tmp/CACHE/chr22test22cutoff0.05_rho0.2.result',\n",
       " '../data/wg20220316/chr22test/tmp/CACHE/chr22test22cutoff0.05_rho0.15000000000000002.result',\n",
       " '../data/wg20220316/chr22test/tmp/CACHE/chr22test22cutoff0.05_rho0.1.result',\n",
       " '../data/wg20220316/chr22test/tmp/CACHE/chr22test22cutoff0.05_rho0.05.result',\n",
       " '../data/wg20220316/chr22test/tmp/CACHE/chr22test22cutoff0.05_rho0.0.result',\n",
       " '../data/wg20220316/chr22test/tmp/CACHE/chr22test23cutoff0.05_rho0.45.result',\n",
       " '../data/wg20220316/chr22test/tmp/CACHE/chr22test23cutoff0.05_rho0.4.result',\n",
       " '../data/wg20220316/chr22test/tmp/CACHE/chr22test23cutoff0.05_rho0.35000000000000003.result',\n",
       " '../data/wg20220316/chr22test/tmp/CACHE/chr22test23cutoff0.05_rho0.30000000000000004.result',\n",
       " '../data/wg20220316/chr22test/tmp/CACHE/chr22test23cutoff0.05_rho0.25.result',\n",
       " '../data/wg20220316/chr22test/tmp/CACHE/chr22test23cutoff0.05_rho0.2.result',\n",
       " '../data/wg20220316/chr22test/tmp/CACHE/chr22test23cutoff0.05_rho0.15000000000000002.result',\n",
       " '../data/wg20220316/chr22test/tmp/CACHE/chr22test23cutoff0.05_rho0.1.result',\n",
       " '../data/wg20220316/chr22test/tmp/CACHE/chr22test23cutoff0.05_rho0.05.result',\n",
       " '../data/wg20220316/chr22test/tmp/CACHE/chr22test23cutoff0.05_rho0.0.result',\n",
       " '../data/wg20220316/chr22test/tmp/CACHE/chr22test24cutoff0.05_rho0.45.result',\n",
       " '../data/wg20220316/chr22test/tmp/CACHE/chr22test24cutoff0.05_rho0.4.result',\n",
       " '../data/wg20220316/chr22test/tmp/CACHE/chr22test24cutoff0.05_rho0.35000000000000003.result',\n",
       " '../data/wg20220316/chr22test/tmp/CACHE/chr22test24cutoff0.05_rho0.30000000000000004.result',\n",
       " '../data/wg20220316/chr22test/tmp/CACHE/chr22test24cutoff0.05_rho0.25.result',\n",
       " '../data/wg20220316/chr22test/tmp/CACHE/chr22test24cutoff0.05_rho0.2.result',\n",
       " '../data/wg20220316/chr22test/tmp/CACHE/chr22test24cutoff0.05_rho0.15000000000000002.result',\n",
       " '../data/wg20220316/chr22test/tmp/CACHE/chr22test24cutoff0.05_rho0.1.result',\n",
       " '../data/wg20220316/chr22test/tmp/CACHE/chr22test24cutoff0.05_rho0.05.result',\n",
       " '../data/wg20220316/chr22test/tmp/CACHE/chr22test24cutoff0.05_rho0.0.result']"
      ]
     },
     "execution_count": null,
     "metadata": {},
     "output_type": "execute_result"
    }
   ],
   "source": [
    "path_ress"
   ]
  },
  {
   "cell_type": "code",
   "execution_count": null,
   "id": "33aa6150-21a5-4fd9-96fb-dea89180cac3",
   "metadata": {},
   "outputs": [],
   "source": [
    "smy_ress=[]\n",
    "for path in path_ress:\n",
    "    with open(path, 'rb') as handle:\n",
    "        smy_ress.append(pickle.load(handle))"
   ]
  },
  {
   "cell_type": "code",
   "execution_count": null,
   "id": "a05e475c-bb7f-4ede-a13b-81d8a1621e0e",
   "metadata": {},
   "outputs": [
    {
     "ename": "NameError",
     "evalue": "name 'smy_ress' is not defined",
     "output_type": "error",
     "traceback": [
      "\u001b[0;31m---------------------------------------------------------------------------\u001b[0m",
      "\u001b[0;31mNameError\u001b[0m                                 Traceback (most recent call last)",
      "Input \u001b[0;32mIn [5]\u001b[0m, in \u001b[0;36m<cell line: 1>\u001b[0;34m()\u001b[0m\n\u001b[0;32m----> 1\u001b[0m smy_ress \u001b[38;5;241m=\u001b[39m pd\u001b[38;5;241m.\u001b[39mconcat(\u001b[43msmy_ress\u001b[49m)\n",
      "\u001b[0;31mNameError\u001b[0m: name 'smy_ress' is not defined"
     ]
    }
   ],
   "source": [
    "smy_ress = pd.concat(smy_ress)"
   ]
  },
  {
   "cell_type": "code",
   "execution_count": null,
   "id": "c6fb8f11-0be4-4fea-b6d6-67e94c40c7cd",
   "metadata": {},
   "outputs": [],
   "source": [
    "smy_ress = smy_ress.reset_index(drop=True)"
   ]
  },
  {
   "cell_type": "code",
   "execution_count": null,
   "id": "79800560-d54f-4147-9f9c-800ebc01abf2",
   "metadata": {},
   "outputs": [
    {
     "data": {
      "text/html": [
       "<div>\n",
       "<style scoped>\n",
       "    .dataframe tbody tr th:only-of-type {\n",
       "        vertical-align: middle;\n",
       "    }\n",
       "\n",
       "    .dataframe tbody tr th {\n",
       "        vertical-align: top;\n",
       "    }\n",
       "\n",
       "    .dataframe thead th {\n",
       "        text-align: right;\n",
       "    }\n",
       "</style>\n",
       "<table border=\"1\" class=\"dataframe\">\n",
       "  <thead>\n",
       "    <tr style=\"text-align: right;\">\n",
       "      <th></th>\n",
       "      <th>CHR</th>\n",
       "      <th>POS</th>\n",
       "      <th>A0</th>\n",
       "      <th>A1</th>\n",
       "      <th>SNP</th>\n",
       "      <th>LOD</th>\n",
       "    </tr>\n",
       "  </thead>\n",
       "  <tbody>\n",
       "    <tr>\n",
       "      <th>0</th>\n",
       "      <td>chr1</td>\n",
       "      <td>13273</td>\n",
       "      <td>G</td>\n",
       "      <td>C</td>\n",
       "      <td>chr1:13273:G:C</td>\n",
       "      <td>-74.514730</td>\n",
       "    </tr>\n",
       "    <tr>\n",
       "      <th>1</th>\n",
       "      <td>chr1</td>\n",
       "      <td>13417</td>\n",
       "      <td>C</td>\n",
       "      <td>CGAGA</td>\n",
       "      <td>chr1:13417:C:CGAGA</td>\n",
       "      <td>-45.422910</td>\n",
       "    </tr>\n",
       "    <tr>\n",
       "      <th>2</th>\n",
       "      <td>chr1</td>\n",
       "      <td>14464</td>\n",
       "      <td>A</td>\n",
       "      <td>T</td>\n",
       "      <td>chr1:14464:A:T</td>\n",
       "      <td>-73.298011</td>\n",
       "    </tr>\n",
       "    <tr>\n",
       "      <th>3</th>\n",
       "      <td>chr1</td>\n",
       "      <td>14470</td>\n",
       "      <td>G</td>\n",
       "      <td>A</td>\n",
       "      <td>chr1:14470:G:A</td>\n",
       "      <td>-23.480194</td>\n",
       "    </tr>\n",
       "    <tr>\n",
       "      <th>4</th>\n",
       "      <td>chr1</td>\n",
       "      <td>14653</td>\n",
       "      <td>C</td>\n",
       "      <td>T</td>\n",
       "      <td>chr1:14653:C:T</td>\n",
       "      <td>-75.901918</td>\n",
       "    </tr>\n",
       "    <tr>\n",
       "      <th>...</th>\n",
       "      <td>...</td>\n",
       "      <td>...</td>\n",
       "      <td>...</td>\n",
       "      <td>...</td>\n",
       "      <td>...</td>\n",
       "      <td>...</td>\n",
       "    </tr>\n",
       "    <tr>\n",
       "      <th>2151550</th>\n",
       "      <td>chr1</td>\n",
       "      <td>248917571</td>\n",
       "      <td>T</td>\n",
       "      <td>C</td>\n",
       "      <td>chr1:248917571:T:C</td>\n",
       "      <td>0.000000</td>\n",
       "    </tr>\n",
       "    <tr>\n",
       "      <th>2151551</th>\n",
       "      <td>chr1</td>\n",
       "      <td>248841866</td>\n",
       "      <td>C</td>\n",
       "      <td>T</td>\n",
       "      <td>chr1:248841866:C:T</td>\n",
       "      <td>-0.278979</td>\n",
       "    </tr>\n",
       "    <tr>\n",
       "      <th>2151552</th>\n",
       "      <td>chr1</td>\n",
       "      <td>248913782</td>\n",
       "      <td>A</td>\n",
       "      <td>AT</td>\n",
       "      <td>chr1:248913782:A:AT</td>\n",
       "      <td>-0.278979</td>\n",
       "    </tr>\n",
       "    <tr>\n",
       "      <th>2151553</th>\n",
       "      <td>chr1</td>\n",
       "      <td>248918955</td>\n",
       "      <td>T</td>\n",
       "      <td>C</td>\n",
       "      <td>chr1:248918955:T:C</td>\n",
       "      <td>-0.278979</td>\n",
       "    </tr>\n",
       "    <tr>\n",
       "      <th>2151554</th>\n",
       "      <td>chr1</td>\n",
       "      <td>248909615</td>\n",
       "      <td>G</td>\n",
       "      <td>C</td>\n",
       "      <td>chr1:248909615:G:C</td>\n",
       "      <td>-0.424501</td>\n",
       "    </tr>\n",
       "  </tbody>\n",
       "</table>\n",
       "<p>2151555 rows × 6 columns</p>\n",
       "</div>"
      ],
      "text/plain": [
       "          CHR        POS A0     A1                  SNP        LOD\n",
       "0        chr1      13273  G      C       chr1:13273:G:C -74.514730\n",
       "1        chr1      13417  C  CGAGA   chr1:13417:C:CGAGA -45.422910\n",
       "2        chr1      14464  A      T       chr1:14464:A:T -73.298011\n",
       "3        chr1      14470  G      A       chr1:14470:G:A -23.480194\n",
       "4        chr1      14653  C      T       chr1:14653:C:T -75.901918\n",
       "...       ...        ... ..    ...                  ...        ...\n",
       "2151550  chr1  248917571  T      C   chr1:248917571:T:C   0.000000\n",
       "2151551  chr1  248841866  C      T   chr1:248841866:C:T  -0.278979\n",
       "2151552  chr1  248913782  A     AT  chr1:248913782:A:AT  -0.278979\n",
       "2151553  chr1  248918955  T      C   chr1:248918955:T:C  -0.278979\n",
       "2151554  chr1  248909615  G      C   chr1:248909615:G:C  -0.424501\n",
       "\n",
       "[2151555 rows x 6 columns]"
      ]
     },
     "execution_count": null,
     "metadata": {},
     "output_type": "execute_result"
    }
   ],
   "source": [
    "smy_ress"
   ]
  },
  {
   "cell_type": "code",
   "execution_count": null,
   "id": "5b1224ad-1002-42b6-a195-5fa649870980",
   "metadata": {},
   "outputs": [],
   "source": [
    "with open('../data/wg20220316/chr1_common_variants.pickle','rb') as handle:\n",
    "    com_vars = pickle.load(handle)"
   ]
  },
  {
   "cell_type": "code",
   "execution_count": null,
   "id": "077688d0-6371-42e3-9578-5476cf50a0fd",
   "metadata": {},
   "outputs": [
    {
     "data": {
      "text/plain": [
       "1                 chr1:10146:AC:A\n",
       "5              chr1:10178:CCTAA:C\n",
       "11         chr1:10247:TAAACCCTA:T\n",
       "13                 chr1:10250:A:C\n",
       "43                chr1:10439:AC:A\n",
       "                    ...          \n",
       "6803126       chr1:248945750:G:GT\n",
       "6803162      chr1:248945852:T:TAG\n",
       "6803168      chr1:248946252:GGT:G\n",
       "6803170    chr1:248946254:T:TTAGG\n",
       "6803173        chr1:248946255:G:T\n",
       "Name: Otherinfo1, Length: 743228, dtype: object"
      ]
     },
     "execution_count": null,
     "metadata": {},
     "output_type": "execute_result"
    }
   ],
   "source": [
    "com_vars"
   ]
  },
  {
   "cell_type": "code",
   "execution_count": null,
   "id": "416b5777-ec23-497e-b845-f61f7a2235f9",
   "metadata": {},
   "outputs": [],
   "source": [
    "smy_ress_com = smy_ress[smy_ress.SNP.isin(com_vars)]"
   ]
  },
  {
   "cell_type": "code",
   "execution_count": null,
   "id": "0b299cae-b200-46e3-8077-18510fc62f93",
   "metadata": {},
   "outputs": [
    {
     "data": {
      "text/html": [
       "<div>\n",
       "<style scoped>\n",
       "    .dataframe tbody tr th:only-of-type {\n",
       "        vertical-align: middle;\n",
       "    }\n",
       "\n",
       "    .dataframe tbody tr th {\n",
       "        vertical-align: top;\n",
       "    }\n",
       "\n",
       "    .dataframe thead th {\n",
       "        text-align: right;\n",
       "    }\n",
       "</style>\n",
       "<table border=\"1\" class=\"dataframe\">\n",
       "  <thead>\n",
       "    <tr style=\"text-align: right;\">\n",
       "      <th></th>\n",
       "      <th>CHR</th>\n",
       "      <th>POS</th>\n",
       "      <th>A0</th>\n",
       "      <th>A1</th>\n",
       "      <th>SNP</th>\n",
       "      <th>LOD</th>\n",
       "    </tr>\n",
       "  </thead>\n",
       "  <tbody>\n",
       "    <tr>\n",
       "      <th>0</th>\n",
       "      <td>chr1</td>\n",
       "      <td>13273</td>\n",
       "      <td>G</td>\n",
       "      <td>C</td>\n",
       "      <td>chr1:13273:G:C</td>\n",
       "      <td>-74.514730</td>\n",
       "    </tr>\n",
       "    <tr>\n",
       "      <th>1</th>\n",
       "      <td>chr1</td>\n",
       "      <td>13417</td>\n",
       "      <td>C</td>\n",
       "      <td>CGAGA</td>\n",
       "      <td>chr1:13417:C:CGAGA</td>\n",
       "      <td>-45.422910</td>\n",
       "    </tr>\n",
       "    <tr>\n",
       "      <th>2</th>\n",
       "      <td>chr1</td>\n",
       "      <td>14464</td>\n",
       "      <td>A</td>\n",
       "      <td>T</td>\n",
       "      <td>chr1:14464:A:T</td>\n",
       "      <td>-73.298011</td>\n",
       "    </tr>\n",
       "    <tr>\n",
       "      <th>4</th>\n",
       "      <td>chr1</td>\n",
       "      <td>14653</td>\n",
       "      <td>C</td>\n",
       "      <td>T</td>\n",
       "      <td>chr1:14653:C:T</td>\n",
       "      <td>-75.901918</td>\n",
       "    </tr>\n",
       "    <tr>\n",
       "      <th>7</th>\n",
       "      <td>chr1</td>\n",
       "      <td>14907</td>\n",
       "      <td>A</td>\n",
       "      <td>G</td>\n",
       "      <td>chr1:14907:A:G</td>\n",
       "      <td>-73.862812</td>\n",
       "    </tr>\n",
       "    <tr>\n",
       "      <th>...</th>\n",
       "      <td>...</td>\n",
       "      <td>...</td>\n",
       "      <td>...</td>\n",
       "      <td>...</td>\n",
       "      <td>...</td>\n",
       "      <td>...</td>\n",
       "    </tr>\n",
       "    <tr>\n",
       "      <th>2150962</th>\n",
       "      <td>chr1</td>\n",
       "      <td>248855548</td>\n",
       "      <td>T</td>\n",
       "      <td>C</td>\n",
       "      <td>chr1:248855548:T:C</td>\n",
       "      <td>-68.558368</td>\n",
       "    </tr>\n",
       "    <tr>\n",
       "      <th>2150963</th>\n",
       "      <td>chr1</td>\n",
       "      <td>248855917</td>\n",
       "      <td>G</td>\n",
       "      <td>C</td>\n",
       "      <td>chr1:248855917:G:C</td>\n",
       "      <td>-64.218025</td>\n",
       "    </tr>\n",
       "    <tr>\n",
       "      <th>2150964</th>\n",
       "      <td>chr1</td>\n",
       "      <td>248856006</td>\n",
       "      <td>C</td>\n",
       "      <td>T</td>\n",
       "      <td>chr1:248856006:C:T</td>\n",
       "      <td>-64.218025</td>\n",
       "    </tr>\n",
       "    <tr>\n",
       "      <th>2150965</th>\n",
       "      <td>chr1</td>\n",
       "      <td>248856131</td>\n",
       "      <td>C</td>\n",
       "      <td>T</td>\n",
       "      <td>chr1:248856131:C:T</td>\n",
       "      <td>-64.218025</td>\n",
       "    </tr>\n",
       "    <tr>\n",
       "      <th>2151212</th>\n",
       "      <td>chr1</td>\n",
       "      <td>248914941</td>\n",
       "      <td>A</td>\n",
       "      <td>G</td>\n",
       "      <td>chr1:248914941:A:G</td>\n",
       "      <td>-8.968550</td>\n",
       "    </tr>\n",
       "  </tbody>\n",
       "</table>\n",
       "<p>352919 rows × 6 columns</p>\n",
       "</div>"
      ],
      "text/plain": [
       "          CHR        POS A0     A1                 SNP        LOD\n",
       "0        chr1      13273  G      C      chr1:13273:G:C -74.514730\n",
       "1        chr1      13417  C  CGAGA  chr1:13417:C:CGAGA -45.422910\n",
       "2        chr1      14464  A      T      chr1:14464:A:T -73.298011\n",
       "4        chr1      14653  C      T      chr1:14653:C:T -75.901918\n",
       "7        chr1      14907  A      G      chr1:14907:A:G -73.862812\n",
       "...       ...        ... ..    ...                 ...        ...\n",
       "2150962  chr1  248855548  T      C  chr1:248855548:T:C -68.558368\n",
       "2150963  chr1  248855917  G      C  chr1:248855917:G:C -64.218025\n",
       "2150964  chr1  248856006  C      T  chr1:248856006:C:T -64.218025\n",
       "2150965  chr1  248856131  C      T  chr1:248856131:C:T -64.218025\n",
       "2151212  chr1  248914941  A      G  chr1:248914941:A:G  -8.968550\n",
       "\n",
       "[352919 rows x 6 columns]"
      ]
     },
     "execution_count": null,
     "metadata": {},
     "output_type": "execute_result"
    }
   ],
   "source": [
    "smy_ress_com"
   ]
  },
  {
   "cell_type": "markdown",
   "id": "fcb630b7-3332-47b4-92b7-36dc9b2408b0",
   "metadata": {},
   "source": [
    "## The results of all common variants (0/0.5)"
   ]
  },
  {
   "cell_type": "code",
   "execution_count": null,
   "id": "3f9ddc27-99cd-4ca5-a7ee-e612d382fc6f",
   "metadata": {},
   "outputs": [],
   "source": [
    "def get_common_smyress(path_ress,path_com_vars):\n",
    "    smy_ress=[]\n",
    "    for path in path_ress:\n",
    "        with open(path, 'rb') as handle:\n",
    "            smy_ress.append(pickle.load(handle))\n",
    "    smy_ress = pd.concat(smy_ress)\n",
    "    smy_ress = smy_ress.reset_index(drop=True)\n",
    "    with open(path_com_vars,'rb') as handle:\n",
    "        com_vars = pickle.load(handle)\n",
    "    smy_ress_com = smy_ress[smy_ress.SNP.isin(com_vars)]\n",
    "    return smy_ress_com"
   ]
  },
  {
   "cell_type": "code",
   "execution_count": null,
   "id": "27d8fac0-faf0-405a-810f-076215d689d0",
   "metadata": {},
   "outputs": [],
   "source": [
    "smy_ress_lst=[]\n",
    "for i in range(11,23):\n",
    "    path_ress=glob.glob('../data/wg20220316/chr'+str(i)+'test/tmp/CACHE/chr'+str(i)+'test*cutoffNone.result')\n",
    "    path_com_vars='../data/wg20220316/chr'+str(i)+'_common_variants.pickle'\n",
    "    print(path_ress,path_com_vars)\n",
    "    smy_ress_lst.append(get_common_smyress(path_ress,path_com_vars))"
   ]
  },
  {
   "cell_type": "code",
   "execution_count": null,
   "id": "4383df3f-37ec-40d1-b111-160e1abeba50",
   "metadata": {},
   "outputs": [],
   "source": [
    "smy_ress_lst1=[]\n",
    "for i in range(1,9):\n",
    "    path_ress=glob.glob('../data/wg20220316/chr'+str(i)+'test/tmp/CACHE/chr'+str(i)+'test*cutoffNone.result')\n",
    "    path_com_vars='../data/wg20220316/chr'+str(i)+'_common_variants.pickle'\n",
    "    print(path_ress,path_com_vars)\n",
    "    smy_ress_lst1.append(get_common_smyress(path_ress,path_com_vars))"
   ]
  },
  {
   "cell_type": "code",
   "execution_count": null,
   "id": "6d8fe1be-84f1-4f46-9709-b4873ced9fe0",
   "metadata": {},
   "outputs": [],
   "source": [
    "smy_ress_lst2=[]\n",
    "for i in range(9,11):\n",
    "    path_ress=glob.glob('../data/wg20220316/chr'+str(i)+'test/tmp/CACHE/chr'+str(i)+'test*cutoffNone_rho0.result')\n",
    "    path_com_vars='../data/wg20220316/chr'+str(i)+'_common_variants.pickle'\n",
    "    print(path_ress,path_com_vars)\n",
    "    smy_ress_lst2.append(get_common_smyress(path_ress,path_com_vars))"
   ]
  },
  {
   "cell_type": "code",
   "execution_count": null,
   "id": "86601140-4463-4959-a474-979816618de7",
   "metadata": {},
   "outputs": [],
   "source": [
    "smy_ress = pd.concat(smy_ress_lst)"
   ]
  },
  {
   "cell_type": "code",
   "execution_count": null,
   "id": "b65e8484-7dd2-4ce4-8a4a-9bd66b61fbf4",
   "metadata": {},
   "outputs": [],
   "source": [
    "smy_ress1 = pd.concat(smy_ress_lst1)"
   ]
  },
  {
   "cell_type": "code",
   "execution_count": null,
   "id": "48f402fc-cc15-4021-a8c5-e9acc4747b13",
   "metadata": {},
   "outputs": [],
   "source": [
    "smy_ress2 = pd.concat(smy_ress_lst2)"
   ]
  },
  {
   "cell_type": "code",
   "execution_count": null,
   "id": "94e45293-6105-451a-be0c-e1990f1330c8",
   "metadata": {},
   "outputs": [],
   "source": [
    "smy_ress = smy_ress.reset_index(drop=True)"
   ]
  },
  {
   "cell_type": "code",
   "execution_count": null,
   "id": "17114084-a4e6-4e36-b96f-95c53b8f184d",
   "metadata": {},
   "outputs": [
    {
     "data": {
      "text/html": [
       "<div>\n",
       "<style scoped>\n",
       "    .dataframe tbody tr th:only-of-type {\n",
       "        vertical-align: middle;\n",
       "    }\n",
       "\n",
       "    .dataframe tbody tr th {\n",
       "        vertical-align: top;\n",
       "    }\n",
       "\n",
       "    .dataframe thead th {\n",
       "        text-align: right;\n",
       "    }\n",
       "</style>\n",
       "<table border=\"1\" class=\"dataframe\">\n",
       "  <thead>\n",
       "    <tr style=\"text-align: right;\">\n",
       "      <th></th>\n",
       "      <th>CHR</th>\n",
       "      <th>POS</th>\n",
       "      <th>A0</th>\n",
       "      <th>A1</th>\n",
       "      <th>SNP</th>\n",
       "      <th>LOD</th>\n",
       "    </tr>\n",
       "  </thead>\n",
       "  <tbody>\n",
       "    <tr>\n",
       "      <th>14227</th>\n",
       "      <td>chr1</td>\n",
       "      <td>1821925</td>\n",
       "      <td>T</td>\n",
       "      <td>C</td>\n",
       "      <td>chr1:1821925:T:C</td>\n",
       "      <td>0.471855</td>\n",
       "    </tr>\n",
       "    <tr>\n",
       "      <th>14228</th>\n",
       "      <td>chr1</td>\n",
       "      <td>1868261</td>\n",
       "      <td>T</td>\n",
       "      <td>C</td>\n",
       "      <td>chr1:1868261:T:C</td>\n",
       "      <td>0.650163</td>\n",
       "    </tr>\n",
       "    <tr>\n",
       "      <th>40477</th>\n",
       "      <td>chr1</td>\n",
       "      <td>2470211</td>\n",
       "      <td>T</td>\n",
       "      <td>C</td>\n",
       "      <td>chr1:2470211:T:C</td>\n",
       "      <td>0.191862</td>\n",
       "    </tr>\n",
       "    <tr>\n",
       "      <th>41751</th>\n",
       "      <td>chr1</td>\n",
       "      <td>3351538</td>\n",
       "      <td>CCCTCTCTGTCCCCCTCCCTCTCTCATCCCCTTCCTCCTTCTCTCC...</td>\n",
       "      <td>C</td>\n",
       "      <td>chr1:3351538:CCCTCTCTGTCCCCCTCCCTCTCTCATCCCCTT...</td>\n",
       "      <td>0.311457</td>\n",
       "    </tr>\n",
       "    <tr>\n",
       "      <th>50400</th>\n",
       "      <td>chr1</td>\n",
       "      <td>3739760</td>\n",
       "      <td>T</td>\n",
       "      <td>C</td>\n",
       "      <td>chr1:3739760:T:C</td>\n",
       "      <td>0.692991</td>\n",
       "    </tr>\n",
       "    <tr>\n",
       "      <th>...</th>\n",
       "      <td>...</td>\n",
       "      <td>...</td>\n",
       "      <td>...</td>\n",
       "      <td>...</td>\n",
       "      <td>...</td>\n",
       "      <td>...</td>\n",
       "    </tr>\n",
       "    <tr>\n",
       "      <th>1022710</th>\n",
       "      <td>chr8</td>\n",
       "      <td>144168596</td>\n",
       "      <td>G</td>\n",
       "      <td>A</td>\n",
       "      <td>chr8:144168596:G:A</td>\n",
       "      <td>0.507806</td>\n",
       "    </tr>\n",
       "    <tr>\n",
       "      <th>1025308</th>\n",
       "      <td>chr8</td>\n",
       "      <td>144558594</td>\n",
       "      <td>T</td>\n",
       "      <td>TG</td>\n",
       "      <td>chr8:144558594:T:TG</td>\n",
       "      <td>1.202374</td>\n",
       "    </tr>\n",
       "    <tr>\n",
       "      <th>1028302</th>\n",
       "      <td>chr8</td>\n",
       "      <td>144729400</td>\n",
       "      <td>A</td>\n",
       "      <td>G</td>\n",
       "      <td>chr8:144729400:A:G</td>\n",
       "      <td>0.976691</td>\n",
       "    </tr>\n",
       "    <tr>\n",
       "      <th>1028883</th>\n",
       "      <td>chr8</td>\n",
       "      <td>144730442</td>\n",
       "      <td>CCGGGGG</td>\n",
       "      <td>C</td>\n",
       "      <td>chr8:144730442:CCGGGGG:C</td>\n",
       "      <td>0.135883</td>\n",
       "    </tr>\n",
       "    <tr>\n",
       "      <th>1031518</th>\n",
       "      <td>chr8</td>\n",
       "      <td>144685646</td>\n",
       "      <td>T</td>\n",
       "      <td>C</td>\n",
       "      <td>chr8:144685646:T:C</td>\n",
       "      <td>0.311010</td>\n",
       "    </tr>\n",
       "  </tbody>\n",
       "</table>\n",
       "<p>1746 rows × 6 columns</p>\n",
       "</div>"
      ],
      "text/plain": [
       "          CHR        POS                                                 A0  \\\n",
       "14227    chr1    1821925                                                  T   \n",
       "14228    chr1    1868261                                                  T   \n",
       "40477    chr1    2470211                                                  T   \n",
       "41751    chr1    3351538  CCCTCTCTGTCCCCCTCCCTCTCTCATCCCCTTCCTCCTTCTCTCC...   \n",
       "50400    chr1    3739760                                                  T   \n",
       "...       ...        ...                                                ...   \n",
       "1022710  chr8  144168596                                                  G   \n",
       "1025308  chr8  144558594                                                  T   \n",
       "1028302  chr8  144729400                                                  A   \n",
       "1028883  chr8  144730442                                            CCGGGGG   \n",
       "1031518  chr8  144685646                                                  T   \n",
       "\n",
       "         A1                                                SNP       LOD  \n",
       "14227     C                                   chr1:1821925:T:C  0.471855  \n",
       "14228     C                                   chr1:1868261:T:C  0.650163  \n",
       "40477     C                                   chr1:2470211:T:C  0.191862  \n",
       "41751     C  chr1:3351538:CCCTCTCTGTCCCCCTCCCTCTCTCATCCCCTT...  0.311457  \n",
       "50400     C                                   chr1:3739760:T:C  0.692991  \n",
       "...      ..                                                ...       ...  \n",
       "1022710   A                                 chr8:144168596:G:A  0.507806  \n",
       "1025308  TG                                chr8:144558594:T:TG  1.202374  \n",
       "1028302   G                                 chr8:144729400:A:G  0.976691  \n",
       "1028883   C                           chr8:144730442:CCGGGGG:C  0.135883  \n",
       "1031518   C                                 chr8:144685646:T:C  0.311010  \n",
       "\n",
       "[1746 rows x 6 columns]"
      ]
     },
     "execution_count": null,
     "metadata": {},
     "output_type": "execute_result"
    }
   ],
   "source": [
    "smy_ress1[smy_ress1.LOD>0]"
   ]
  },
  {
   "cell_type": "code",
   "execution_count": null,
   "id": "ac328350-605c-4ab8-9f58-7c6ce45c3892",
   "metadata": {},
   "outputs": [
    {
     "data": {
      "text/html": [
       "<div>\n",
       "<style scoped>\n",
       "    .dataframe tbody tr th:only-of-type {\n",
       "        vertical-align: middle;\n",
       "    }\n",
       "\n",
       "    .dataframe tbody tr th {\n",
       "        vertical-align: top;\n",
       "    }\n",
       "\n",
       "    .dataframe thead th {\n",
       "        text-align: right;\n",
       "    }\n",
       "</style>\n",
       "<table border=\"1\" class=\"dataframe\">\n",
       "  <thead>\n",
       "    <tr style=\"text-align: right;\">\n",
       "      <th></th>\n",
       "      <th>CHR</th>\n",
       "      <th>POS</th>\n",
       "      <th>A0</th>\n",
       "      <th>A1</th>\n",
       "      <th>SNP</th>\n",
       "      <th>LOD</th>\n",
       "    </tr>\n",
       "  </thead>\n",
       "  <tbody>\n",
       "    <tr>\n",
       "      <th>25483</th>\n",
       "      <td>chr9</td>\n",
       "      <td>20960741</td>\n",
       "      <td>A</td>\n",
       "      <td>C</td>\n",
       "      <td>chr9:20960741:A:C</td>\n",
       "      <td>0.091975</td>\n",
       "    </tr>\n",
       "    <tr>\n",
       "      <th>67240</th>\n",
       "      <td>chr9</td>\n",
       "      <td>27493820</td>\n",
       "      <td>C</td>\n",
       "      <td>T</td>\n",
       "      <td>chr9:27493820:C:T</td>\n",
       "      <td>0.023589</td>\n",
       "    </tr>\n",
       "    <tr>\n",
       "      <th>67253</th>\n",
       "      <td>chr9</td>\n",
       "      <td>27503408</td>\n",
       "      <td>T</td>\n",
       "      <td>C</td>\n",
       "      <td>chr9:27503408:T:C</td>\n",
       "      <td>0.667036</td>\n",
       "    </tr>\n",
       "    <tr>\n",
       "      <th>67306</th>\n",
       "      <td>chr9</td>\n",
       "      <td>27525024</td>\n",
       "      <td>A</td>\n",
       "      <td>T</td>\n",
       "      <td>chr9:27525024:A:T</td>\n",
       "      <td>0.411155</td>\n",
       "    </tr>\n",
       "    <tr>\n",
       "      <th>67314</th>\n",
       "      <td>chr9</td>\n",
       "      <td>27528890</td>\n",
       "      <td>C</td>\n",
       "      <td>G</td>\n",
       "      <td>chr9:27528890:C:G</td>\n",
       "      <td>0.464645</td>\n",
       "    </tr>\n",
       "    <tr>\n",
       "      <th>...</th>\n",
       "      <td>...</td>\n",
       "      <td>...</td>\n",
       "      <td>...</td>\n",
       "      <td>...</td>\n",
       "      <td>...</td>\n",
       "      <td>...</td>\n",
       "    </tr>\n",
       "    <tr>\n",
       "      <th>1315464</th>\n",
       "      <td>chr10</td>\n",
       "      <td>131198823</td>\n",
       "      <td>CT</td>\n",
       "      <td>C</td>\n",
       "      <td>chr10:131198823:CT:C</td>\n",
       "      <td>0.057446</td>\n",
       "    </tr>\n",
       "    <tr>\n",
       "      <th>1325235</th>\n",
       "      <td>chr10</td>\n",
       "      <td>132512606</td>\n",
       "      <td>T</td>\n",
       "      <td>C</td>\n",
       "      <td>chr10:132512606:T:C</td>\n",
       "      <td>0.827410</td>\n",
       "    </tr>\n",
       "    <tr>\n",
       "      <th>1327536</th>\n",
       "      <td>chr10</td>\n",
       "      <td>132512582</td>\n",
       "      <td>G</td>\n",
       "      <td>A</td>\n",
       "      <td>chr10:132512582:G:A</td>\n",
       "      <td>0.409920</td>\n",
       "    </tr>\n",
       "    <tr>\n",
       "      <th>1327537</th>\n",
       "      <td>chr10</td>\n",
       "      <td>132512611</td>\n",
       "      <td>A</td>\n",
       "      <td>G</td>\n",
       "      <td>chr10:132512611:A:G</td>\n",
       "      <td>0.542016</td>\n",
       "    </tr>\n",
       "    <tr>\n",
       "      <th>1331860</th>\n",
       "      <td>chr10</td>\n",
       "      <td>132364714</td>\n",
       "      <td>T</td>\n",
       "      <td>G</td>\n",
       "      <td>chr10:132364714:T:G</td>\n",
       "      <td>0.022504</td>\n",
       "    </tr>\n",
       "  </tbody>\n",
       "</table>\n",
       "<p>391 rows × 6 columns</p>\n",
       "</div>"
      ],
      "text/plain": [
       "           CHR        POS  A0 A1                   SNP       LOD\n",
       "25483     chr9   20960741   A  C     chr9:20960741:A:C  0.091975\n",
       "67240     chr9   27493820   C  T     chr9:27493820:C:T  0.023589\n",
       "67253     chr9   27503408   T  C     chr9:27503408:T:C  0.667036\n",
       "67306     chr9   27525024   A  T     chr9:27525024:A:T  0.411155\n",
       "67314     chr9   27528890   C  G     chr9:27528890:C:G  0.464645\n",
       "...        ...        ...  .. ..                   ...       ...\n",
       "1315464  chr10  131198823  CT  C  chr10:131198823:CT:C  0.057446\n",
       "1325235  chr10  132512606   T  C   chr10:132512606:T:C  0.827410\n",
       "1327536  chr10  132512582   G  A   chr10:132512582:G:A  0.409920\n",
       "1327537  chr10  132512611   A  G   chr10:132512611:A:G  0.542016\n",
       "1331860  chr10  132364714   T  G   chr10:132364714:T:G  0.022504\n",
       "\n",
       "[391 rows x 6 columns]"
      ]
     },
     "execution_count": null,
     "metadata": {},
     "output_type": "execute_result"
    }
   ],
   "source": [
    "smy_ress2[smy_ress2.LOD>0]"
   ]
  },
  {
   "cell_type": "code",
   "execution_count": null,
   "id": "364e3315-8f6b-4fca-b600-e1b514494bab",
   "metadata": {},
   "outputs": [],
   "source": [
    "tmp=pd.concat([smy_ress1[smy_ress1.LOD>0],smy_ress2[smy_ress2.LOD>0],smy_ress[smy_ress.LOD>0]])"
   ]
  },
  {
   "cell_type": "code",
   "execution_count": null,
   "id": "8696df54-f73f-4efc-acb9-110f2e7692ff",
   "metadata": {},
   "outputs": [],
   "source": [
    "tmp=tmp.reset_index(drop=True)"
   ]
  },
  {
   "cell_type": "code",
   "execution_count": null,
   "id": "621f06ef-4dba-4719-bc88-4b2866802662",
   "metadata": {},
   "outputs": [],
   "source": [
    "tmp.to_csv('../data/wg20220316/common_variants_rho0.csv',header=True)"
   ]
  },
  {
   "cell_type": "markdown",
   "id": "8c0372cd-c124-4d51-95d2-0a5bd3190c88",
   "metadata": {},
   "source": [
    "### The results of lods score under grid opt"
   ]
  },
  {
   "cell_type": "code",
   "execution_count": null,
   "id": "78c34f8d-4ed7-47ba-91e6-b1f37c5bb1c1",
   "metadata": {},
   "outputs": [],
   "source": [
    "def summary_grid_results_chrom(prefix):\n",
    "    ress = [summary_grid_results_batch(prefix+str(i)+'cutoff0.05_rho') for i in range(len(glob.glob(prefix+'*.pickle')))]\n",
    "    return pd.concat(ress)\n",
    "def summary_grid_results_batch(prefix):\n",
    "    smy_ress=None\n",
    "    smy_rho=[]\n",
    "    for r in np.arange(0.0,0.5,0.05):\n",
    "        path=prefix+str(r)+'.result'\n",
    "        with open(path, 'rb') as handle:\n",
    "            res=pickle.load(handle)\n",
    "        if smy_ress is None:\n",
    "            smy_ress=[0]*res.shape[0]\n",
    "            smy_rho=[r]*res.shape[0]\n",
    "        for i,lod in enumerate(res.LOD):\n",
    "            if lod>smy_ress[i]:\n",
    "                smy_ress[i]=lod\n",
    "                smy_rho[i]=round(r,2)\n",
    "    res.LOD=smy_ress\n",
    "    res['RHO']=smy_rho\n",
    "    return res"
   ]
  },
  {
   "cell_type": "code",
   "execution_count": null,
   "id": "37a58660-fe95-4cfe-8ac5-76c285e14933",
   "metadata": {},
   "outputs": [],
   "source": [
    "smy_ress = pd.concat([summary_grid_results_chrom('../data/wg20220316/chr'+str(c)+'test/tmp/CACHE/chr'+str(c)+'test') for c in range(18,23)])"
   ]
  },
  {
   "cell_type": "code",
   "execution_count": null,
   "id": "ccec36cc-328d-4331-86c9-f5931a9a1eb1",
   "metadata": {},
   "outputs": [],
   "source": [
    "smy_ress.to_csv('../data/wg20220316/common_variants_chr18-23_grid_opt.csv',header=True,index=False)"
   ]
  },
  {
   "cell_type": "code",
   "execution_count": null,
   "id": "791e7e13-c278-4bd1-a9d7-e9b542a2bc8e",
   "metadata": {},
   "outputs": [],
   "source": [
    "smy_ress=smy_ress.reset_index()"
   ]
  },
  {
   "cell_type": "markdown",
   "id": "8ca84bc5-b4e8-4c72-aa7d-7cb8181d5438",
   "metadata": {},
   "source": [
    "### The evidence of errors in imputation haplotypes"
   ]
  },
  {
   "cell_type": "code",
   "execution_count": null,
   "id": "5da91533-fcf1-4f97-818c-358f5e54960c",
   "metadata": {},
   "outputs": [
    {
     "data": {
      "text/html": [
       "<div>\n",
       "<style scoped>\n",
       "    .dataframe tbody tr th:only-of-type {\n",
       "        vertical-align: middle;\n",
       "    }\n",
       "\n",
       "    .dataframe tbody tr th {\n",
       "        vertical-align: top;\n",
       "    }\n",
       "\n",
       "    .dataframe thead th {\n",
       "        text-align: right;\n",
       "    }\n",
       "</style>\n",
       "<table border=\"1\" class=\"dataframe\">\n",
       "  <thead>\n",
       "    <tr style=\"text-align: right;\">\n",
       "      <th></th>\n",
       "      <th>CHR</th>\n",
       "      <th>POS</th>\n",
       "      <th>A0</th>\n",
       "      <th>A1</th>\n",
       "      <th>SNP</th>\n",
       "      <th>LOD</th>\n",
       "      <th>RHO</th>\n",
       "    </tr>\n",
       "  </thead>\n",
       "  <tbody>\n",
       "    <tr>\n",
       "      <th>2993</th>\n",
       "      <td>chr18</td>\n",
       "      <td>21826640</td>\n",
       "      <td>T</td>\n",
       "      <td>C</td>\n",
       "      <td>chr18:21826640:T:C</td>\n",
       "      <td>0.436928</td>\n",
       "      <td>0.40</td>\n",
       "    </tr>\n",
       "    <tr>\n",
       "      <th>0</th>\n",
       "      <td>chr18</td>\n",
       "      <td>21826640</td>\n",
       "      <td>T</td>\n",
       "      <td>C</td>\n",
       "      <td>chr18:21826640:T:C</td>\n",
       "      <td>0.532818</td>\n",
       "      <td>0.35</td>\n",
       "    </tr>\n",
       "  </tbody>\n",
       "</table>\n",
       "</div>"
      ],
      "text/plain": [
       "        CHR       POS A0 A1                 SNP       LOD   RHO\n",
       "2993  chr18  21826640  T  C  chr18:21826640:T:C  0.436928  0.40\n",
       "0     chr18  21826640  T  C  chr18:21826640:T:C  0.532818  0.35"
      ]
     },
     "execution_count": null,
     "metadata": {},
     "output_type": "execute_result"
    }
   ],
   "source": [
    "smy_ress[smy_ress.SNP=='chr18:21826640:T:C']"
   ]
  },
  {
   "cell_type": "code",
   "execution_count": null,
   "id": "1aa03112-aa73-4060-af15-30794762a738",
   "metadata": {},
   "outputs": [
    {
     "data": {
      "text/html": [
       "<div>\n",
       "<style scoped>\n",
       "    .dataframe tbody tr th:only-of-type {\n",
       "        vertical-align: middle;\n",
       "    }\n",
       "\n",
       "    .dataframe tbody tr th {\n",
       "        vertical-align: top;\n",
       "    }\n",
       "\n",
       "    .dataframe thead th {\n",
       "        text-align: right;\n",
       "    }\n",
       "</style>\n",
       "<table border=\"1\" class=\"dataframe\">\n",
       "  <thead>\n",
       "    <tr style=\"text-align: right;\">\n",
       "      <th></th>\n",
       "      <th>CHR</th>\n",
       "      <th>POS</th>\n",
       "      <th>A0</th>\n",
       "      <th>A1</th>\n",
       "      <th>SNP</th>\n",
       "      <th>LOD</th>\n",
       "      <th>RHO</th>\n",
       "    </tr>\n",
       "  </thead>\n",
       "  <tbody>\n",
       "    <tr>\n",
       "      <th>2993</th>\n",
       "      <td>chr18</td>\n",
       "      <td>21826640</td>\n",
       "      <td>T</td>\n",
       "      <td>C</td>\n",
       "      <td>chr18:21826640:T:C</td>\n",
       "      <td>0.436928</td>\n",
       "      <td>0.40</td>\n",
       "    </tr>\n",
       "    <tr>\n",
       "      <th>2994</th>\n",
       "      <td>chr18</td>\n",
       "      <td>21827440</td>\n",
       "      <td>G</td>\n",
       "      <td>A</td>\n",
       "      <td>chr18:21827440:G:A</td>\n",
       "      <td>0.315172</td>\n",
       "      <td>0.40</td>\n",
       "    </tr>\n",
       "    <tr>\n",
       "      <th>2995</th>\n",
       "      <td>chr18</td>\n",
       "      <td>21828568</td>\n",
       "      <td>G</td>\n",
       "      <td>A</td>\n",
       "      <td>chr18:21828568:G:A</td>\n",
       "      <td>0.000000</td>\n",
       "      <td>0.00</td>\n",
       "    </tr>\n",
       "    <tr>\n",
       "      <th>2996</th>\n",
       "      <td>chr18</td>\n",
       "      <td>21828930</td>\n",
       "      <td>A</td>\n",
       "      <td>G</td>\n",
       "      <td>chr18:21828930:A:G</td>\n",
       "      <td>0.000000</td>\n",
       "      <td>0.00</td>\n",
       "    </tr>\n",
       "    <tr>\n",
       "      <th>2997</th>\n",
       "      <td>chr18</td>\n",
       "      <td>21830172</td>\n",
       "      <td>TAGA</td>\n",
       "      <td>T</td>\n",
       "      <td>chr18:21830172:TAGA:T</td>\n",
       "      <td>0.495417</td>\n",
       "      <td>0.40</td>\n",
       "    </tr>\n",
       "    <tr>\n",
       "      <th>...</th>\n",
       "      <td>...</td>\n",
       "      <td>...</td>\n",
       "      <td>...</td>\n",
       "      <td>...</td>\n",
       "      <td>...</td>\n",
       "      <td>...</td>\n",
       "      <td>...</td>\n",
       "    </tr>\n",
       "    <tr>\n",
       "      <th>0</th>\n",
       "      <td>chr18</td>\n",
       "      <td>21826640</td>\n",
       "      <td>T</td>\n",
       "      <td>C</td>\n",
       "      <td>chr18:21826640:T:C</td>\n",
       "      <td>0.532818</td>\n",
       "      <td>0.35</td>\n",
       "    </tr>\n",
       "    <tr>\n",
       "      <th>1</th>\n",
       "      <td>chr18</td>\n",
       "      <td>21827440</td>\n",
       "      <td>G</td>\n",
       "      <td>A</td>\n",
       "      <td>chr18:21827440:G:A</td>\n",
       "      <td>0.185516</td>\n",
       "      <td>0.40</td>\n",
       "    </tr>\n",
       "    <tr>\n",
       "      <th>2</th>\n",
       "      <td>chr18</td>\n",
       "      <td>21828568</td>\n",
       "      <td>G</td>\n",
       "      <td>A</td>\n",
       "      <td>chr18:21828568:G:A</td>\n",
       "      <td>0.000000</td>\n",
       "      <td>0.00</td>\n",
       "    </tr>\n",
       "    <tr>\n",
       "      <th>3</th>\n",
       "      <td>chr18</td>\n",
       "      <td>21828930</td>\n",
       "      <td>A</td>\n",
       "      <td>G</td>\n",
       "      <td>chr18:21828930:A:G</td>\n",
       "      <td>1.376308</td>\n",
       "      <td>0.35</td>\n",
       "    </tr>\n",
       "    <tr>\n",
       "      <th>4</th>\n",
       "      <td>chr18</td>\n",
       "      <td>21830172</td>\n",
       "      <td>TAGA</td>\n",
       "      <td>T</td>\n",
       "      <td>chr18:21830172:TAGA:T</td>\n",
       "      <td>0.205890</td>\n",
       "      <td>0.40</td>\n",
       "    </tr>\n",
       "  </tbody>\n",
       "</table>\n",
       "<p>3190 rows × 7 columns</p>\n",
       "</div>"
      ],
      "text/plain": [
       "        CHR       POS    A0 A1                    SNP       LOD   RHO\n",
       "2993  chr18  21826640     T  C     chr18:21826640:T:C  0.436928  0.40\n",
       "2994  chr18  21827440     G  A     chr18:21827440:G:A  0.315172  0.40\n",
       "2995  chr18  21828568     G  A     chr18:21828568:G:A  0.000000  0.00\n",
       "2996  chr18  21828930     A  G     chr18:21828930:A:G  0.000000  0.00\n",
       "2997  chr18  21830172  TAGA  T  chr18:21830172:TAGA:T  0.495417  0.40\n",
       "...     ...       ...   ... ..                    ...       ...   ...\n",
       "0     chr18  21826640     T  C     chr18:21826640:T:C  0.532818  0.35\n",
       "1     chr18  21827440     G  A     chr18:21827440:G:A  0.185516  0.40\n",
       "2     chr18  21828568     G  A     chr18:21828568:G:A  0.000000  0.00\n",
       "3     chr18  21828930     A  G     chr18:21828930:A:G  1.376308  0.35\n",
       "4     chr18  21830172  TAGA  T  chr18:21830172:TAGA:T  0.205890  0.40\n",
       "\n",
       "[3190 rows x 7 columns]"
      ]
     },
     "execution_count": null,
     "metadata": {},
     "output_type": "execute_result"
    }
   ],
   "source": [
    "smy_ress.iloc[37363:40553,:]"
   ]
  },
  {
   "cell_type": "code",
   "execution_count": null,
   "id": "0fa228bf-e096-4666-a7c0-fe6ca155b2a4",
   "metadata": {},
   "outputs": [
    {
     "data": {
      "text/html": [
       "<div>\n",
       "<style scoped>\n",
       "    .dataframe tbody tr th:only-of-type {\n",
       "        vertical-align: middle;\n",
       "    }\n",
       "\n",
       "    .dataframe tbody tr th {\n",
       "        vertical-align: top;\n",
       "    }\n",
       "\n",
       "    .dataframe thead th {\n",
       "        text-align: right;\n",
       "    }\n",
       "</style>\n",
       "<table border=\"1\" class=\"dataframe\">\n",
       "  <thead>\n",
       "    <tr style=\"text-align: right;\">\n",
       "      <th></th>\n",
       "      <th>index</th>\n",
       "      <th>CHR</th>\n",
       "      <th>POS</th>\n",
       "      <th>A0</th>\n",
       "      <th>A1</th>\n",
       "      <th>SNP</th>\n",
       "      <th>LOD</th>\n",
       "      <th>RHO</th>\n",
       "    </tr>\n",
       "  </thead>\n",
       "  <tbody>\n",
       "    <tr>\n",
       "      <th>45325</th>\n",
       "      <td>4777</td>\n",
       "      <td>chr18</td>\n",
       "      <td>21826269</td>\n",
       "      <td>T</td>\n",
       "      <td>C</td>\n",
       "      <td>chr18:21826269:T:C</td>\n",
       "      <td>0.000000</td>\n",
       "      <td>0.00</td>\n",
       "    </tr>\n",
       "    <tr>\n",
       "      <th>38957</th>\n",
       "      <td>4587</td>\n",
       "      <td>chr18</td>\n",
       "      <td>21826269</td>\n",
       "      <td>T</td>\n",
       "      <td>C</td>\n",
       "      <td>chr18:21826269:T:C</td>\n",
       "      <td>0.000000</td>\n",
       "      <td>0.00</td>\n",
       "    </tr>\n",
       "    <tr>\n",
       "      <th>37363</th>\n",
       "      <td>2993</td>\n",
       "      <td>chr18</td>\n",
       "      <td>21826640</td>\n",
       "      <td>T</td>\n",
       "      <td>C</td>\n",
       "      <td>chr18:21826640:T:C</td>\n",
       "      <td>0.436928</td>\n",
       "      <td>0.40</td>\n",
       "    </tr>\n",
       "    <tr>\n",
       "      <th>40548</th>\n",
       "      <td>0</td>\n",
       "      <td>chr18</td>\n",
       "      <td>21826640</td>\n",
       "      <td>T</td>\n",
       "      <td>C</td>\n",
       "      <td>chr18:21826640:T:C</td>\n",
       "      <td>0.532818</td>\n",
       "      <td>0.35</td>\n",
       "    </tr>\n",
       "    <tr>\n",
       "      <th>45326</th>\n",
       "      <td>4778</td>\n",
       "      <td>chr18</td>\n",
       "      <td>21827040</td>\n",
       "      <td>T</td>\n",
       "      <td>C</td>\n",
       "      <td>chr18:21827040:T:C</td>\n",
       "      <td>0.000000</td>\n",
       "      <td>0.00</td>\n",
       "    </tr>\n",
       "    <tr>\n",
       "      <th>...</th>\n",
       "      <td>...</td>\n",
       "      <td>...</td>\n",
       "      <td>...</td>\n",
       "      <td>...</td>\n",
       "      <td>...</td>\n",
       "      <td>...</td>\n",
       "      <td>...</td>\n",
       "      <td>...</td>\n",
       "    </tr>\n",
       "    <tr>\n",
       "      <th>594952</th>\n",
       "      <td>3363</td>\n",
       "      <td>chr22</td>\n",
       "      <td>42512283</td>\n",
       "      <td>C</td>\n",
       "      <td>T</td>\n",
       "      <td>chr22:42512283:C:T</td>\n",
       "      <td>0.088713</td>\n",
       "      <td>0.40</td>\n",
       "    </tr>\n",
       "    <tr>\n",
       "      <th>594334</th>\n",
       "      <td>2745</td>\n",
       "      <td>chr22</td>\n",
       "      <td>42512291</td>\n",
       "      <td>C</td>\n",
       "      <td>CT</td>\n",
       "      <td>chr22:42512291:C:CT</td>\n",
       "      <td>0.677980</td>\n",
       "      <td>0.35</td>\n",
       "    </tr>\n",
       "    <tr>\n",
       "      <th>590483</th>\n",
       "      <td>1556</td>\n",
       "      <td>chr22</td>\n",
       "      <td>42512291</td>\n",
       "      <td>C</td>\n",
       "      <td>CT</td>\n",
       "      <td>chr22:42512291:C:CT</td>\n",
       "      <td>0.252430</td>\n",
       "      <td>0.40</td>\n",
       "    </tr>\n",
       "    <tr>\n",
       "      <th>601818</th>\n",
       "      <td>4571</td>\n",
       "      <td>chr22</td>\n",
       "      <td>45760566</td>\n",
       "      <td>G</td>\n",
       "      <td>A</td>\n",
       "      <td>chr22:45760566:G:A</td>\n",
       "      <td>0.890735</td>\n",
       "      <td>0.35</td>\n",
       "    </tr>\n",
       "    <tr>\n",
       "      <th>604346</th>\n",
       "      <td>0</td>\n",
       "      <td>chr22</td>\n",
       "      <td>45760566</td>\n",
       "      <td>G</td>\n",
       "      <td>A</td>\n",
       "      <td>chr22:45760566:G:A</td>\n",
       "      <td>3.292281</td>\n",
       "      <td>0.30</td>\n",
       "    </tr>\n",
       "  </tbody>\n",
       "</table>\n",
       "<p>2820 rows × 8 columns</p>\n",
       "</div>"
      ],
      "text/plain": [
       "        index    CHR       POS A0  A1                  SNP       LOD   RHO\n",
       "45325    4777  chr18  21826269  T   C   chr18:21826269:T:C  0.000000  0.00\n",
       "38957    4587  chr18  21826269  T   C   chr18:21826269:T:C  0.000000  0.00\n",
       "37363    2993  chr18  21826640  T   C   chr18:21826640:T:C  0.436928  0.40\n",
       "40548       0  chr18  21826640  T   C   chr18:21826640:T:C  0.532818  0.35\n",
       "45326    4778  chr18  21827040  T   C   chr18:21827040:T:C  0.000000  0.00\n",
       "...       ...    ...       ... ..  ..                  ...       ...   ...\n",
       "594952   3363  chr22  42512283  C   T   chr22:42512283:C:T  0.088713  0.40\n",
       "594334   2745  chr22  42512291  C  CT  chr22:42512291:C:CT  0.677980  0.35\n",
       "590483   1556  chr22  42512291  C  CT  chr22:42512291:C:CT  0.252430  0.40\n",
       "601818   4571  chr22  45760566  G   A   chr22:45760566:G:A  0.890735  0.35\n",
       "604346      0  chr22  45760566  G   A   chr22:45760566:G:A  3.292281  0.30\n",
       "\n",
       "[2820 rows x 8 columns]"
      ]
     },
     "execution_count": null,
     "metadata": {},
     "output_type": "execute_result"
    }
   ],
   "source": [
    "smy_ress[smy_ress.SNP.duplicated(keep=False)].sort_values('SNP')"
   ]
  },
  {
   "cell_type": "code",
   "execution_count": null,
   "id": "f58b4f57-5843-4f73-af1d-4a15f5eaf90b",
   "metadata": {},
   "outputs": [
    {
     "data": {
      "text/plain": [
       "<AxesSubplot:>"
      ]
     },
     "execution_count": null,
     "metadata": {},
     "output_type": "execute_result"
    },
    {
     "data": {
      "image/png": "[encoded data removed]",
      "text/plain": [
       "<Figure size 432x288 with 1 Axes>"
      ]
     },
     "metadata": {
      "needs_background": "light"
     },
     "output_type": "display_data"
    }
   ],
   "source": [
    "smy_ress.LOD.plot()"
   ]
  },
  {
   "cell_type": "code",
   "execution_count": null,
   "id": "cb5de533-eec3-4a83-9445-0cdd4d5101bc",
   "metadata": {},
   "outputs": [
    {
     "data": {
      "text/plain": [
       "<AxesSubplot:>"
      ]
     },
     "execution_count": null,
     "metadata": {},
     "output_type": "execute_result"
    },
    {
     "data": {
      "image/png": "[encoded data removed]",
      "text/plain": [
       "<Figure size 432x288 with 1 Axes>"
      ]
     },
     "metadata": {
      "needs_background": "light"
     },
     "output_type": "display_data"
    }
   ],
   "source": [
    "smy_ress.LOD.hist()"
   ]
  },
  {
   "cell_type": "code",
   "execution_count": null,
   "id": "91172454-40f1-4e1a-bdf2-13e2943fc5fc",
   "metadata": {},
   "outputs": [
    {
     "data": {
      "text/plain": [
       "0.3563068081956983"
      ]
     },
     "execution_count": null,
     "metadata": {},
     "output_type": "execute_result"
    }
   ],
   "source": [
    "sum(smy_ress.LOD==0)/len(smy_ress)"
   ]
  },
  {
   "cell_type": "code",
   "execution_count": null,
   "id": "31fef708-ce18-423a-b8ca-e6dd113dd008",
   "metadata": {},
   "outputs": [
    {
     "data": {
      "text/plain": [
       "238976    0.186079\n",
       "202402    0.186087\n",
       "372607    0.186088\n",
       "117820    0.186089\n",
       "276794    0.186090\n",
       "            ...   \n",
       "286835    7.298402\n",
       "614147    7.620271\n",
       "229286    7.633120\n",
       "261750    7.968009\n",
       "526012    8.052230\n",
       "Name: LOD, Length: 310089, dtype: float64"
      ]
     },
     "execution_count": null,
     "metadata": {},
     "output_type": "execute_result"
    }
   ],
   "source": [
    "smy_ress.LOD.sort_values()[310090:]"
   ]
  },
  {
   "cell_type": "code",
   "execution_count": null,
   "id": "b6cbaeca-2810-44fc-b2ea-7cea708cc23c",
   "metadata": {},
   "outputs": [
    {
     "data": {
      "image/png": "[encoded data removed]",
      "text/plain": [
       "<Figure size 432x288 with 1 Axes>"
      ]
     },
     "metadata": {
      "needs_background": "light"
     },
     "output_type": "display_data"
    }
   ],
   "source": [
    "import numpy as np \n",
    "import pylab \n",
    "import scipy.stats as stats\n",
    "\n",
    "stats.probplot(smy_ress.LOD.sort_values()[310090:], dist=stats.chi2(1), plot=pylab)\n",
    "pylab.show()"
   ]
  },
  {
   "cell_type": "markdown",
   "id": "e2817886-36ba-4777-bfda-aef1da66cd7e",
   "metadata": {},
   "source": [
    "### The results of linkage heterogeneity"
   ]
  },
  {
   "cell_type": "code",
   "execution_count": null,
   "id": "7474f341-7fa4-4c9b-bf41-d45ca6125357",
   "metadata": {},
   "outputs": [],
   "source": [
    "path_ress=glob.glob('../data/wg20220316/chr22test/tmp/CACHE/chr22test*cutoff0.05.besthlod')"
   ]
  },
  {
   "cell_type": "code",
   "execution_count": null,
   "id": "af139955-1f0d-4a83-ba54-379213ac232f",
   "metadata": {},
   "outputs": [
    {
     "data": {
      "text/plain": [
       "['../data/wg20220316/chr22test/tmp/CACHE/chr22test0cutoff0.05.besthlod',\n",
       " '../data/wg20220316/chr22test/tmp/CACHE/chr22test1cutoff0.05.besthlod',\n",
       " '../data/wg20220316/chr22test/tmp/CACHE/chr22test2cutoff0.05.besthlod',\n",
       " '../data/wg20220316/chr22test/tmp/CACHE/chr22test3cutoff0.05.besthlod',\n",
       " '../data/wg20220316/chr22test/tmp/CACHE/chr22test4cutoff0.05.besthlod',\n",
       " '../data/wg20220316/chr22test/tmp/CACHE/chr22test5cutoff0.05.besthlod',\n",
       " '../data/wg20220316/chr22test/tmp/CACHE/chr22test6cutoff0.05.besthlod',\n",
       " '../data/wg20220316/chr22test/tmp/CACHE/chr22test7cutoff0.05.besthlod',\n",
       " '../data/wg20220316/chr22test/tmp/CACHE/chr22test8cutoff0.05.besthlod',\n",
       " '../data/wg20220316/chr22test/tmp/CACHE/chr22test9cutoff0.05.besthlod',\n",
       " '../data/wg20220316/chr22test/tmp/CACHE/chr22test10cutoff0.05.besthlod',\n",
       " '../data/wg20220316/chr22test/tmp/CACHE/chr22test11cutoff0.05.besthlod',\n",
       " '../data/wg20220316/chr22test/tmp/CACHE/chr22test12cutoff0.05.besthlod',\n",
       " '../data/wg20220316/chr22test/tmp/CACHE/chr22test13cutoff0.05.besthlod',\n",
       " '../data/wg20220316/chr22test/tmp/CACHE/chr22test14cutoff0.05.besthlod',\n",
       " '../data/wg20220316/chr22test/tmp/CACHE/chr22test15cutoff0.05.besthlod',\n",
       " '../data/wg20220316/chr22test/tmp/CACHE/chr22test16cutoff0.05.besthlod',\n",
       " '../data/wg20220316/chr22test/tmp/CACHE/chr22test17cutoff0.05.besthlod',\n",
       " '../data/wg20220316/chr22test/tmp/CACHE/chr22test18cutoff0.05.besthlod',\n",
       " '../data/wg20220316/chr22test/tmp/CACHE/chr22test19cutoff0.05.besthlod',\n",
       " '../data/wg20220316/chr22test/tmp/CACHE/chr22test20cutoff0.05.besthlod',\n",
       " '../data/wg20220316/chr22test/tmp/CACHE/chr22test21cutoff0.05.besthlod',\n",
       " '../data/wg20220316/chr22test/tmp/CACHE/chr22test22cutoff0.05.besthlod',\n",
       " '../data/wg20220316/chr22test/tmp/CACHE/chr22test23cutoff0.05.besthlod',\n",
       " '../data/wg20220316/chr22test/tmp/CACHE/chr22test24cutoff0.05.besthlod']"
      ]
     },
     "execution_count": null,
     "metadata": {},
     "output_type": "execute_result"
    }
   ],
   "source": [
    "path_ress"
   ]
  },
  {
   "cell_type": "code",
   "execution_count": null,
   "id": "58cd6803-b8ee-41b8-9e54-c95ff5f2ea1c",
   "metadata": {},
   "outputs": [],
   "source": [
    "smy_ress=[]\n",
    "for path in path_ress:\n",
    "    with open(path, 'rb') as handle:\n",
    "        smy_ress.append(pickle.load(handle))"
   ]
  },
  {
   "cell_type": "code",
   "execution_count": null,
   "id": "6dee758a-66f0-4f68-8297-36bc85c6ff87",
   "metadata": {},
   "outputs": [],
   "source": [
    "smy_ress = pd.concat(smy_ress)"
   ]
  },
  {
   "cell_type": "code",
   "execution_count": null,
   "id": "673c3ffa-cbcf-4a07-adf8-d5bed03a9e02",
   "metadata": {},
   "outputs": [],
   "source": [
    "smy_ress=smy_ress.sort_values(0)"
   ]
  },
  {
   "cell_type": "code",
   "execution_count": null,
   "id": "f6802af8-4a82-41e0-b113-903a900f101f",
   "metadata": {},
   "outputs": [
    {
     "data": {
      "text/plain": [
       "<AxesSubplot:>"
      ]
     },
     "execution_count": null,
     "metadata": {},
     "output_type": "execute_result"
    },
    {
     "data": {
      "image/png": "[encoded data removed]",
      "text/plain": [
       "<Figure size 432x288 with 1 Axes>"
      ]
     },
     "metadata": {
      "needs_background": "light"
     },
     "output_type": "display_data"
    }
   ],
   "source": [
    "smy_ress[2].hist()"
   ]
  },
  {
   "cell_type": "code",
   "execution_count": null,
   "id": "b85679f3-97a4-416b-a65f-82e924c6f3f3",
   "metadata": {},
   "outputs": [
    {
     "data": {
      "text/plain": [
       "837"
      ]
     },
     "execution_count": null,
     "metadata": {},
     "output_type": "execute_result"
    }
   ],
   "source": [
    "sum(smy_ress[3]>3.3)"
   ]
  },
  {
   "cell_type": "code",
   "execution_count": null,
   "id": "65d1e6f0-2b1e-40fe-815b-641e257b9a83",
   "metadata": {},
   "outputs": [
    {
     "data": {
      "text/plain": [
       "<AxesSubplot:>"
      ]
     },
     "execution_count": null,
     "metadata": {},
     "output_type": "execute_result"
    },
    {
     "data": {
      "image/png": "[encoded data removed]",
      "text/plain": [
       "<Figure size 432x288 with 1 Axes>"
      ]
     },
     "metadata": {
      "needs_background": "light"
     },
     "output_type": "display_data"
    }
   ],
   "source": [
    "smy_ress[3].hist()"
   ]
  },
  {
   "cell_type": "code",
   "execution_count": null,
   "id": "40ebc1de-e109-4b4e-905d-8cb842d2eaec",
   "metadata": {},
   "outputs": [
    {
     "data": {
      "text/plain": [
       "<AxesSubplot:xlabel='0', ylabel='3'>"
      ]
     },
     "execution_count": null,
     "metadata": {},
     "output_type": "execute_result"
    },
    {
     "data": {
      "image/png": "[encoded data removed]",
      "text/plain": [
       "<Figure size 432x288 with 1 Axes>"
      ]
     },
     "metadata": {
      "needs_background": "light"
     },
     "output_type": "display_data"
    }
   ],
   "source": [
    "smy_ress.plot.scatter(x=0,y=3)"
   ]
  },
  {
   "cell_type": "code",
   "execution_count": null,
   "id": "fa00e6c9-2da4-43db-9ca4-58e2cf125e2b",
   "metadata": {},
   "outputs": [],
   "source": [
    "smy_ress[~smy_ress[0].duplicated(keep=False)].sort_values(0).to_csv('../data/wg20220316/common_variants_chr22_besthlod.csv',header=False,index=False)"
   ]
  },
  {
   "cell_type": "markdown",
   "id": "e31f4861-8517-4b1d-8237-35b5025cf761",
   "metadata": {},
   "source": [
    "### HLOD without imputation haplotypes"
   ]
  },
  {
   "cell_type": "code",
   "execution_count": null,
   "id": "5f791d6d-b7e1-4f93-a9e9-a9b1f854e8d5",
   "metadata": {},
   "outputs": [],
   "source": [
    "path_ress=glob.glob('../data/wg20220316/chr22test/tmp/CACHE/chr22test*cutoff0.05unimputed.besthlod')"
   ]
  },
  {
   "cell_type": "code",
   "execution_count": null,
   "id": "4d9c27e8-5250-4701-b9f2-3e430f07993e",
   "metadata": {},
   "outputs": [
    {
     "data": {
      "text/plain": [
       "['../data/wg20220316/chr22test/tmp/CACHE/chr22test0cutoff0.05unimputed.besthlod',\n",
       " '../data/wg20220316/chr22test/tmp/CACHE/chr22test1cutoff0.05unimputed.besthlod',\n",
       " '../data/wg20220316/chr22test/tmp/CACHE/chr22test2cutoff0.05unimputed.besthlod',\n",
       " '../data/wg20220316/chr22test/tmp/CACHE/chr22test3cutoff0.05unimputed.besthlod',\n",
       " '../data/wg20220316/chr22test/tmp/CACHE/chr22test4cutoff0.05unimputed.besthlod',\n",
       " '../data/wg20220316/chr22test/tmp/CACHE/chr22test5cutoff0.05unimputed.besthlod',\n",
       " '../data/wg20220316/chr22test/tmp/CACHE/chr22test6cutoff0.05unimputed.besthlod',\n",
       " '../data/wg20220316/chr22test/tmp/CACHE/chr22test7cutoff0.05unimputed.besthlod',\n",
       " '../data/wg20220316/chr22test/tmp/CACHE/chr22test8cutoff0.05unimputed.besthlod',\n",
       " '../data/wg20220316/chr22test/tmp/CACHE/chr22test9cutoff0.05unimputed.besthlod',\n",
       " '../data/wg20220316/chr22test/tmp/CACHE/chr22test10cutoff0.05unimputed.besthlod',\n",
       " '../data/wg20220316/chr22test/tmp/CACHE/chr22test11cutoff0.05unimputed.besthlod',\n",
       " '../data/wg20220316/chr22test/tmp/CACHE/chr22test12cutoff0.05unimputed.besthlod',\n",
       " '../data/wg20220316/chr22test/tmp/CACHE/chr22test13cutoff0.05unimputed.besthlod',\n",
       " '../data/wg20220316/chr22test/tmp/CACHE/chr22test14cutoff0.05unimputed.besthlod',\n",
       " '../data/wg20220316/chr22test/tmp/CACHE/chr22test15cutoff0.05unimputed.besthlod',\n",
       " '../data/wg20220316/chr22test/tmp/CACHE/chr22test16cutoff0.05unimputed.besthlod',\n",
       " '../data/wg20220316/chr22test/tmp/CACHE/chr22test17cutoff0.05unimputed.besthlod',\n",
       " '../data/wg20220316/chr22test/tmp/CACHE/chr22test18cutoff0.05unimputed.besthlod',\n",
       " '../data/wg20220316/chr22test/tmp/CACHE/chr22test19cutoff0.05unimputed.besthlod',\n",
       " '../data/wg20220316/chr22test/tmp/CACHE/chr22test20cutoff0.05unimputed.besthlod',\n",
       " '../data/wg20220316/chr22test/tmp/CACHE/chr22test21cutoff0.05unimputed.besthlod',\n",
       " '../data/wg20220316/chr22test/tmp/CACHE/chr22test22cutoff0.05unimputed.besthlod',\n",
       " '../data/wg20220316/chr22test/tmp/CACHE/chr22test23cutoff0.05unimputed.besthlod',\n",
       " '../data/wg20220316/chr22test/tmp/CACHE/chr22test24cutoff0.05unimputed.besthlod']"
      ]
     },
     "execution_count": null,
     "metadata": {},
     "output_type": "execute_result"
    }
   ],
   "source": [
    "path_ress"
   ]
  },
  {
   "cell_type": "code",
   "execution_count": null,
   "id": "45d994ad-6f90-4908-b639-3594285cde17",
   "metadata": {},
   "outputs": [],
   "source": [
    "smy_ress=[]\n",
    "for path in path_ress:\n",
    "    with open(path, 'rb') as handle:\n",
    "        smy_ress.append(pickle.load(handle))"
   ]
  },
  {
   "cell_type": "code",
   "execution_count": null,
   "id": "2018f90b-e7b2-4817-b59f-05ca542279c8",
   "metadata": {},
   "outputs": [],
   "source": [
    "smy_ress = pd.concat(smy_ress)"
   ]
  },
  {
   "cell_type": "code",
   "execution_count": null,
   "id": "ae01c747-b6ba-41cf-9c5d-60c5c86089a8",
   "metadata": {},
   "outputs": [],
   "source": [
    "smy_ress=smy_ress.sort_values(0)"
   ]
  },
  {
   "cell_type": "code",
   "execution_count": null,
   "id": "113f050b-eb83-4441-b89b-77580dc7cca9",
   "metadata": {},
   "outputs": [
    {
     "data": {
      "text/plain": [
       "<AxesSubplot:>"
      ]
     },
     "execution_count": null,
     "metadata": {},
     "output_type": "execute_result"
    },
    {
     "data": {
      "image/png": "[encoded data removed]",
      "text/plain": [
       "<Figure size 432x288 with 1 Axes>"
      ]
     },
     "metadata": {
      "needs_background": "light"
     },
     "output_type": "display_data"
    }
   ],
   "source": [
    "smy_ress[2].hist()"
   ]
  },
  {
   "cell_type": "code",
   "execution_count": null,
   "id": "fecf2d14-ce0c-4c91-867a-995254066475",
   "metadata": {},
   "outputs": [
    {
     "data": {
      "text/plain": [
       "28"
      ]
     },
     "execution_count": null,
     "metadata": {},
     "output_type": "execute_result"
    }
   ],
   "source": [
    "sum(smy_ress[3]>3.3)"
   ]
  },
  {
   "cell_type": "code",
   "execution_count": null,
   "id": "70421e68-6b4e-45e7-b013-9119a9c9654f",
   "metadata": {},
   "outputs": [
    {
     "data": {
      "text/plain": [
       "<AxesSubplot:>"
      ]
     },
     "execution_count": null,
     "metadata": {},
     "output_type": "execute_result"
    },
    {
     "data": {
      "image/png": "[encoded data removed]",
      "text/plain": [
       "<Figure size 432x288 with 1 Axes>"
      ]
     },
     "metadata": {
      "needs_background": "light"
     },
     "output_type": "display_data"
    }
   ],
   "source": [
    "smy_ress[3].hist()"
   ]
  },
  {
   "cell_type": "code",
   "execution_count": null,
   "id": "a5fe9c59-4af6-4af3-9929-6423d4f4bc07",
   "metadata": {},
   "outputs": [],
   "source": [
    "smy_ress[~smy_ress[0].duplicated(keep=False)].sort_values(0).to_csv('../data/wg20220316/common_variants_chr22_unimp_besthlod.csv',header=False,index=False)"
   ]
  },
  {
   "cell_type": "code",
   "execution_count": null,
   "id": "796b604a-7092-4450-95ae-319abfa63964",
   "metadata": {},
   "outputs": [
    {
     "data": {
      "text/html": [
       "<div>\n",
       "<style scoped>\n",
       "    .dataframe tbody tr th:only-of-type {\n",
       "        vertical-align: middle;\n",
       "    }\n",
       "\n",
       "    .dataframe tbody tr th {\n",
       "        vertical-align: top;\n",
       "    }\n",
       "\n",
       "    .dataframe thead th {\n",
       "        text-align: right;\n",
       "    }\n",
       "</style>\n",
       "<table border=\"1\" class=\"dataframe\">\n",
       "  <thead>\n",
       "    <tr style=\"text-align: right;\">\n",
       "      <th></th>\n",
       "      <th>0</th>\n",
       "      <th>1</th>\n",
       "      <th>2</th>\n",
       "      <th>3</th>\n",
       "    </tr>\n",
       "  </thead>\n",
       "  <tbody>\n",
       "    <tr>\n",
       "      <th>2325</th>\n",
       "      <td>chr22:15528179:G:T_A0</td>\n",
       "      <td>LOD0.35</td>\n",
       "      <td>0.063809</td>\n",
       "      <td>0.001123</td>\n",
       "    </tr>\n",
       "    <tr>\n",
       "      <th>468</th>\n",
       "      <td>chr22:15528424:T:C_A0</td>\n",
       "      <td>LOD0.5</td>\n",
       "      <td>0.000000</td>\n",
       "      <td>0.000000</td>\n",
       "    </tr>\n",
       "    <tr>\n",
       "      <th>2302</th>\n",
       "      <td>chr22:15528913:C:T_A0</td>\n",
       "      <td>LOD0.35</td>\n",
       "      <td>1.000000</td>\n",
       "      <td>0.706557</td>\n",
       "    </tr>\n",
       "    <tr>\n",
       "      <th>2071</th>\n",
       "      <td>chr22:15690112:C:T_A0</td>\n",
       "      <td>LOD0.5</td>\n",
       "      <td>0.000000</td>\n",
       "      <td>0.000000</td>\n",
       "    </tr>\n",
       "    <tr>\n",
       "      <th>2348</th>\n",
       "      <td>chr22:15690174:G:C_A0</td>\n",
       "      <td>LOD0.5</td>\n",
       "      <td>0.000000</td>\n",
       "      <td>0.000000</td>\n",
       "    </tr>\n",
       "    <tr>\n",
       "      <th>...</th>\n",
       "      <td>...</td>\n",
       "      <td>...</td>\n",
       "      <td>...</td>\n",
       "      <td>...</td>\n",
       "    </tr>\n",
       "    <tr>\n",
       "      <th>512</th>\n",
       "      <td>chr22:50796715:AACACAC:A_A0</td>\n",
       "      <td>LOD0.5</td>\n",
       "      <td>0.000000</td>\n",
       "      <td>0.000000</td>\n",
       "    </tr>\n",
       "    <tr>\n",
       "      <th>1000</th>\n",
       "      <td>chr22:50797531:T:C_A0</td>\n",
       "      <td>LOD0.45</td>\n",
       "      <td>0.818388</td>\n",
       "      <td>0.003556</td>\n",
       "    </tr>\n",
       "    <tr>\n",
       "      <th>584</th>\n",
       "      <td>chr22:50797551:G:A_A0</td>\n",
       "      <td>LOD0.5</td>\n",
       "      <td>0.000000</td>\n",
       "      <td>0.000000</td>\n",
       "    </tr>\n",
       "    <tr>\n",
       "      <th>652</th>\n",
       "      <td>chr22:50797585:A:AT_A0</td>\n",
       "      <td>LOD0.5</td>\n",
       "      <td>0.000000</td>\n",
       "      <td>0.000000</td>\n",
       "    </tr>\n",
       "    <tr>\n",
       "      <th>561</th>\n",
       "      <td>chr22:50798635:T:C_A0</td>\n",
       "      <td>LOD0.5</td>\n",
       "      <td>0.000000</td>\n",
       "      <td>0.000000</td>\n",
       "    </tr>\n",
       "  </tbody>\n",
       "</table>\n",
       "<p>67829 rows × 4 columns</p>\n",
       "</div>"
      ],
      "text/plain": [
       "                                0        1         2         3\n",
       "2325        chr22:15528179:G:T_A0  LOD0.35  0.063809  0.001123\n",
       "468         chr22:15528424:T:C_A0   LOD0.5  0.000000  0.000000\n",
       "2302        chr22:15528913:C:T_A0  LOD0.35  1.000000  0.706557\n",
       "2071        chr22:15690112:C:T_A0   LOD0.5  0.000000  0.000000\n",
       "2348        chr22:15690174:G:C_A0   LOD0.5  0.000000  0.000000\n",
       "...                           ...      ...       ...       ...\n",
       "512   chr22:50796715:AACACAC:A_A0   LOD0.5  0.000000  0.000000\n",
       "1000        chr22:50797531:T:C_A0  LOD0.45  0.818388  0.003556\n",
       "584         chr22:50797551:G:A_A0   LOD0.5  0.000000  0.000000\n",
       "652        chr22:50797585:A:AT_A0   LOD0.5  0.000000  0.000000\n",
       "561         chr22:50798635:T:C_A0   LOD0.5  0.000000  0.000000\n",
       "\n",
       "[67829 rows x 4 columns]"
      ]
     },
     "execution_count": null,
     "metadata": {},
     "output_type": "execute_result"
    }
   ],
   "source": [
    "smy_ress"
   ]
  },
  {
   "cell_type": "markdown",
   "id": "b573b1c6-acb0-4c57-9c6e-c164e874ffd3",
   "metadata": {},
   "source": [
    "### The results of linkage analysis without haplotype imputation"
   ]
  },
  {
   "cell_type": "code",
   "execution_count": null,
   "id": "f4e70c4f-e351-4bee-bd6f-a41950266aff",
   "metadata": {},
   "outputs": [],
   "source": [
    "def format_fam_lods(res,cutoff=0):\n",
    "    new_res,variants=[],[]\n",
    "    for i in res:\n",
    "        new_res.append(i)\n",
    "        variants.append(i.index)\n",
    "    variants = list(set().union(*variants))\n",
    "    cutoff = len(new_res)//10\n",
    "    var_res={}\n",
    "    for v in variants:\n",
    "        varlods = [r.loc[v] for r in res if v in r.index]\n",
    "        if len(varlods)>cutoff:\n",
    "            var_res[v]=pd.concat(varlods,axis=1)\n",
    "    return var_res"
   ]
  },
  {
   "cell_type": "code",
   "execution_count": null,
   "id": "7871e8a3-b4d9-48bd-92c8-46a2ef839f46",
   "metadata": {},
   "outputs": [],
   "source": [
    "def get_lods_chrom(prefix,population=None,fam_pop=None):\n",
    "    path_ress=glob.glob(prefix)\n",
    "    ress = [get_lods_batch(x,population,fam_pop) for x in path_ress]\n",
    "    return pd.concat(ress)"
   ]
  },
  {
   "cell_type": "code",
   "execution_count": null,
   "id": "80ab3a73-807e-41af-9a25-133bea49a80b",
   "metadata": {},
   "outputs": [],
   "source": [
    "def get_lods_batch(path,population=None,fam_pop=None):\n",
    "    with open(path, 'rb') as handle:\n",
    "        res=pickle.load(handle)\n",
    "        if population and fam_pop:\n",
    "            with open(path[:-4]+'input', 'rb') as handle:\n",
    "                gene_variants,gene_fam_haps=pickle.load(handle)\n",
    "            res={k:r for k,r in zip(gene_fam_haps.keys(),res)}\n",
    "            res=[r for k,r in res.items() if fam_pop[k]==population]\n",
    "    res_d=format_fam_lods(res)\n",
    "    #sum lods among families\n",
    "    lods=pd.concat([x.sum(axis=1) for x in res_d.values()],axis=1).T\n",
    "    lods.index=list(res_d.keys())\n",
    "    return lods"
   ]
  },
  {
   "cell_type": "code",
   "execution_count": null,
   "id": "6fd51fec-b435-4e93-883c-90e25caa76cc",
   "metadata": {},
   "outputs": [],
   "source": [
    "unimp_lods = get_lods_chrom('../data/wg20220419/chr22test/tmp/CACHE/chr22test*cutoff0.05unimputed.lods')"
   ]
  },
  {
   "cell_type": "code",
   "execution_count": null,
   "id": "922cc789-23fb-43fa-9a27-736fa02f261d",
   "metadata": {},
   "outputs": [],
   "source": [
    "unimp_lods[~unimp_lods.index.duplicated(keep=False)].sort_index().to_csv('../data/wg20220419/common_variants_chr22_unimputed_lods_afreq.csv',header=True,index=True)"
   ]
  },
  {
   "cell_type": "code",
   "execution_count": null,
   "id": "63586642-7b76-464c-a9cd-589d82d5006b",
   "metadata": {},
   "outputs": [],
   "source": [
    "imp_lods = get_lods_chrom('../data/wg20220316/chr22test/tmp/CACHE/chr22test*cutoff0.05.lods')"
   ]
  },
  {
   "cell_type": "code",
   "execution_count": null,
   "id": "93005f46-5c7e-4c7f-b491-933ee8448e7b",
   "metadata": {},
   "outputs": [],
   "source": [
    "imp_lods[~imp_lods.index.duplicated(keep=False)].sort_index().to_csv('../data/wg20220316/common_variants_chr22_imputed_lods.csv',header=True,index=True)"
   ]
  },
  {
   "cell_type": "code",
   "execution_count": null,
   "id": "6a63f13d-0570-4d74-b6dc-6f5ae043adf6",
   "metadata": {},
   "outputs": [
    {
     "data": {
      "text/html": [
       "<div>\n",
       "<style scoped>\n",
       "    .dataframe tbody tr th:only-of-type {\n",
       "        vertical-align: middle;\n",
       "    }\n",
       "\n",
       "    .dataframe tbody tr th {\n",
       "        vertical-align: top;\n",
       "    }\n",
       "\n",
       "    .dataframe thead th {\n",
       "        text-align: right;\n",
       "    }\n",
       "</style>\n",
       "<table border=\"1\" class=\"dataframe\">\n",
       "  <thead>\n",
       "    <tr style=\"text-align: right;\">\n",
       "      <th></th>\n",
       "      <th>LOD0.0</th>\n",
       "      <th>LOD0.05</th>\n",
       "      <th>LOD0.1</th>\n",
       "      <th>LOD0.15</th>\n",
       "      <th>LOD0.2</th>\n",
       "      <th>LOD0.25</th>\n",
       "      <th>LOD0.3</th>\n",
       "      <th>LOD0.35</th>\n",
       "      <th>LOD0.4</th>\n",
       "      <th>LOD0.45</th>\n",
       "    </tr>\n",
       "  </thead>\n",
       "  <tbody>\n",
       "    <tr>\n",
       "      <th>chr22:15528179:G:T_A0</th>\n",
       "      <td>-32.865314</td>\n",
       "      <td>-20.718655</td>\n",
       "      <td>-13.477560</td>\n",
       "      <td>-8.518814</td>\n",
       "      <td>-5.084669</td>\n",
       "      <td>-2.789123</td>\n",
       "      <td>-1.361750</td>\n",
       "      <td>-0.570686</td>\n",
       "      <td>-0.200910</td>\n",
       "      <td>-0.059362</td>\n",
       "    </tr>\n",
       "    <tr>\n",
       "      <th>chr22:15528424:T:C_A0</th>\n",
       "      <td>-56.326220</td>\n",
       "      <td>-38.997829</td>\n",
       "      <td>-27.216269</td>\n",
       "      <td>-18.580362</td>\n",
       "      <td>-12.211651</td>\n",
       "      <td>-7.594933</td>\n",
       "      <td>-4.364218</td>\n",
       "      <td>-2.221629</td>\n",
       "      <td>-0.909897</td>\n",
       "      <td>-0.216678</td>\n",
       "    </tr>\n",
       "    <tr>\n",
       "      <th>chr22:15528913:C:T_A0</th>\n",
       "      <td>-57.170882</td>\n",
       "      <td>-30.158719</td>\n",
       "      <td>-17.918604</td>\n",
       "      <td>-10.315593</td>\n",
       "      <td>-5.431766</td>\n",
       "      <td>-2.412424</td>\n",
       "      <td>-0.733310</td>\n",
       "      <td>0.007738</td>\n",
       "      <td>0.167133</td>\n",
       "      <td>0.073884</td>\n",
       "    </tr>\n",
       "    <tr>\n",
       "      <th>chr22:15690112:C:T_A0</th>\n",
       "      <td>-43.944252</td>\n",
       "      <td>-25.223905</td>\n",
       "      <td>-16.318353</td>\n",
       "      <td>-10.576501</td>\n",
       "      <td>-6.649572</td>\n",
       "      <td>-3.963524</td>\n",
       "      <td>-2.186338</td>\n",
       "      <td>-1.079456</td>\n",
       "      <td>-0.447337</td>\n",
       "      <td>-0.126851</td>\n",
       "    </tr>\n",
       "    <tr>\n",
       "      <th>chr22:15690174:G:C_A0</th>\n",
       "      <td>-57.817879</td>\n",
       "      <td>-33.486745</td>\n",
       "      <td>-22.004742</td>\n",
       "      <td>-14.586083</td>\n",
       "      <td>-9.470016</td>\n",
       "      <td>-5.899936</td>\n",
       "      <td>-3.443841</td>\n",
       "      <td>-1.810807</td>\n",
       "      <td>-0.787299</td>\n",
       "      <td>-0.216964</td>\n",
       "    </tr>\n",
       "    <tr>\n",
       "      <th>...</th>\n",
       "      <td>...</td>\n",
       "      <td>...</td>\n",
       "      <td>...</td>\n",
       "      <td>...</td>\n",
       "      <td>...</td>\n",
       "      <td>...</td>\n",
       "      <td>...</td>\n",
       "      <td>...</td>\n",
       "      <td>...</td>\n",
       "      <td>...</td>\n",
       "    </tr>\n",
       "    <tr>\n",
       "      <th>chr22:50796715:AACACAC:A_A0</th>\n",
       "      <td>-19.347216</td>\n",
       "      <td>-9.852300</td>\n",
       "      <td>-5.905783</td>\n",
       "      <td>-3.545598</td>\n",
       "      <td>-2.036089</td>\n",
       "      <td>-1.074975</td>\n",
       "      <td>-0.493489</td>\n",
       "      <td>-0.176677</td>\n",
       "      <td>-0.034652</td>\n",
       "      <td>0.006403</td>\n",
       "    </tr>\n",
       "    <tr>\n",
       "      <th>chr22:50797531:T:C_A0</th>\n",
       "      <td>-50.922334</td>\n",
       "      <td>-30.718667</td>\n",
       "      <td>-20.252772</td>\n",
       "      <td>-13.290784</td>\n",
       "      <td>-8.402162</td>\n",
       "      <td>-4.980386</td>\n",
       "      <td>-2.679220</td>\n",
       "      <td>-1.244790</td>\n",
       "      <td>-0.453382</td>\n",
       "      <td>-0.095518</td>\n",
       "    </tr>\n",
       "    <tr>\n",
       "      <th>chr22:50797551:G:A_A0</th>\n",
       "      <td>-77.786887</td>\n",
       "      <td>-41.880958</td>\n",
       "      <td>-26.309041</td>\n",
       "      <td>-16.698828</td>\n",
       "      <td>-10.301307</td>\n",
       "      <td>-6.011128</td>\n",
       "      <td>-3.221507</td>\n",
       "      <td>-1.516207</td>\n",
       "      <td>-0.569070</td>\n",
       "      <td>-0.121991</td>\n",
       "    </tr>\n",
       "    <tr>\n",
       "      <th>chr22:50797585:A:AT_A0</th>\n",
       "      <td>-72.418858</td>\n",
       "      <td>-40.112799</td>\n",
       "      <td>-25.085471</td>\n",
       "      <td>-15.638527</td>\n",
       "      <td>-9.374012</td>\n",
       "      <td>-5.250639</td>\n",
       "      <td>-2.658615</td>\n",
       "      <td>-1.160853</td>\n",
       "      <td>-0.401553</td>\n",
       "      <td>-0.085141</td>\n",
       "    </tr>\n",
       "    <tr>\n",
       "      <th>chr22:50798635:T:C_A0</th>\n",
       "      <td>-75.478965</td>\n",
       "      <td>-42.675241</td>\n",
       "      <td>-27.114852</td>\n",
       "      <td>-17.162762</td>\n",
       "      <td>-10.444911</td>\n",
       "      <td>-5.941014</td>\n",
       "      <td>-3.054574</td>\n",
       "      <td>-1.351647</td>\n",
       "      <td>-0.467956</td>\n",
       "      <td>-0.091274</td>\n",
       "    </tr>\n",
       "  </tbody>\n",
       "</table>\n",
       "<p>67330 rows × 10 columns</p>\n",
       "</div>"
      ],
      "text/plain": [
       "                                LOD0.0    LOD0.05     LOD0.1    LOD0.15  \\\n",
       "chr22:15528179:G:T_A0       -32.865314 -20.718655 -13.477560  -8.518814   \n",
       "chr22:15528424:T:C_A0       -56.326220 -38.997829 -27.216269 -18.580362   \n",
       "chr22:15528913:C:T_A0       -57.170882 -30.158719 -17.918604 -10.315593   \n",
       "chr22:15690112:C:T_A0       -43.944252 -25.223905 -16.318353 -10.576501   \n",
       "chr22:15690174:G:C_A0       -57.817879 -33.486745 -22.004742 -14.586083   \n",
       "...                                ...        ...        ...        ...   \n",
       "chr22:50796715:AACACAC:A_A0 -19.347216  -9.852300  -5.905783  -3.545598   \n",
       "chr22:50797531:T:C_A0       -50.922334 -30.718667 -20.252772 -13.290784   \n",
       "chr22:50797551:G:A_A0       -77.786887 -41.880958 -26.309041 -16.698828   \n",
       "chr22:50797585:A:AT_A0      -72.418858 -40.112799 -25.085471 -15.638527   \n",
       "chr22:50798635:T:C_A0       -75.478965 -42.675241 -27.114852 -17.162762   \n",
       "\n",
       "                                LOD0.2   LOD0.25    LOD0.3   LOD0.35  \\\n",
       "chr22:15528179:G:T_A0        -5.084669 -2.789123 -1.361750 -0.570686   \n",
       "chr22:15528424:T:C_A0       -12.211651 -7.594933 -4.364218 -2.221629   \n",
       "chr22:15528913:C:T_A0        -5.431766 -2.412424 -0.733310  0.007738   \n",
       "chr22:15690112:C:T_A0        -6.649572 -3.963524 -2.186338 -1.079456   \n",
       "chr22:15690174:G:C_A0        -9.470016 -5.899936 -3.443841 -1.810807   \n",
       "...                                ...       ...       ...       ...   \n",
       "chr22:50796715:AACACAC:A_A0  -2.036089 -1.074975 -0.493489 -0.176677   \n",
       "chr22:50797531:T:C_A0        -8.402162 -4.980386 -2.679220 -1.244790   \n",
       "chr22:50797551:G:A_A0       -10.301307 -6.011128 -3.221507 -1.516207   \n",
       "chr22:50797585:A:AT_A0       -9.374012 -5.250639 -2.658615 -1.160853   \n",
       "chr22:50798635:T:C_A0       -10.444911 -5.941014 -3.054574 -1.351647   \n",
       "\n",
       "                               LOD0.4   LOD0.45  \n",
       "chr22:15528179:G:T_A0       -0.200910 -0.059362  \n",
       "chr22:15528424:T:C_A0       -0.909897 -0.216678  \n",
       "chr22:15528913:C:T_A0        0.167133  0.073884  \n",
       "chr22:15690112:C:T_A0       -0.447337 -0.126851  \n",
       "chr22:15690174:G:C_A0       -0.787299 -0.216964  \n",
       "...                               ...       ...  \n",
       "chr22:50796715:AACACAC:A_A0 -0.034652  0.006403  \n",
       "chr22:50797531:T:C_A0       -0.453382 -0.095518  \n",
       "chr22:50797551:G:A_A0       -0.569070 -0.121991  \n",
       "chr22:50797585:A:AT_A0      -0.401553 -0.085141  \n",
       "chr22:50798635:T:C_A0       -0.467956 -0.091274  \n",
       "\n",
       "[67330 rows x 10 columns]"
      ]
     },
     "execution_count": null,
     "metadata": {},
     "output_type": "execute_result"
    }
   ],
   "source": [
    "unimp_lods[~unimp_lods.index.duplicated(keep=False)].sort_index()"
   ]
  },
  {
   "cell_type": "code",
   "execution_count": null,
   "id": "440d10c9-6baf-4dd0-9d92-086b1e354190",
   "metadata": {},
   "outputs": [
    {
     "data": {
      "text/html": [
       "<div>\n",
       "<style scoped>\n",
       "    .dataframe tbody tr th:only-of-type {\n",
       "        vertical-align: middle;\n",
       "    }\n",
       "\n",
       "    .dataframe tbody tr th {\n",
       "        vertical-align: top;\n",
       "    }\n",
       "\n",
       "    .dataframe thead th {\n",
       "        text-align: right;\n",
       "    }\n",
       "</style>\n",
       "<table border=\"1\" class=\"dataframe\">\n",
       "  <thead>\n",
       "    <tr style=\"text-align: right;\">\n",
       "      <th></th>\n",
       "      <th>LOD0.0</th>\n",
       "      <th>LOD0.05</th>\n",
       "      <th>LOD0.1</th>\n",
       "      <th>LOD0.15</th>\n",
       "      <th>LOD0.2</th>\n",
       "      <th>LOD0.25</th>\n",
       "      <th>LOD0.3</th>\n",
       "      <th>LOD0.35</th>\n",
       "      <th>LOD0.4</th>\n",
       "      <th>LOD0.45</th>\n",
       "    </tr>\n",
       "  </thead>\n",
       "  <tbody>\n",
       "    <tr>\n",
       "      <th>chr22:15528179:G:T_A0</th>\n",
       "      <td>-61.249079</td>\n",
       "      <td>-32.229255</td>\n",
       "      <td>-18.088675</td>\n",
       "      <td>-9.388691</td>\n",
       "      <td>-3.960690</td>\n",
       "      <td>-0.836448</td>\n",
       "      <td>0.599598</td>\n",
       "      <td>0.864353</td>\n",
       "      <td>0.481489</td>\n",
       "      <td>0.017087</td>\n",
       "    </tr>\n",
       "    <tr>\n",
       "      <th>chr22:15528424:T:C_A0</th>\n",
       "      <td>-71.677497</td>\n",
       "      <td>-39.900844</td>\n",
       "      <td>-23.657333</td>\n",
       "      <td>-13.340945</td>\n",
       "      <td>-6.663076</td>\n",
       "      <td>-2.553687</td>\n",
       "      <td>-0.344478</td>\n",
       "      <td>0.499070</td>\n",
       "      <td>0.495211</td>\n",
       "      <td>0.175396</td>\n",
       "    </tr>\n",
       "    <tr>\n",
       "      <th>chr22:15528913:C:T_A0</th>\n",
       "      <td>-95.158234</td>\n",
       "      <td>-37.685229</td>\n",
       "      <td>-15.639878</td>\n",
       "      <td>-3.731533</td>\n",
       "      <td>2.642066</td>\n",
       "      <td>5.425318</td>\n",
       "      <td>5.754261</td>\n",
       "      <td>4.503841</td>\n",
       "      <td>2.524479</td>\n",
       "      <td>0.732946</td>\n",
       "    </tr>\n",
       "    <tr>\n",
       "      <th>chr22:15690112:C:T_A0</th>\n",
       "      <td>-65.670729</td>\n",
       "      <td>-35.213355</td>\n",
       "      <td>-21.612927</td>\n",
       "      <td>-13.125850</td>\n",
       "      <td>-7.548071</td>\n",
       "      <td>-3.953691</td>\n",
       "      <td>-1.804542</td>\n",
       "      <td>-0.693949</td>\n",
       "      <td>-0.252285</td>\n",
       "      <td>-0.121961</td>\n",
       "    </tr>\n",
       "    <tr>\n",
       "      <th>chr22:15690174:G:C_A0</th>\n",
       "      <td>-82.863069</td>\n",
       "      <td>-44.241637</td>\n",
       "      <td>-26.805311</td>\n",
       "      <td>-16.205588</td>\n",
       "      <td>-9.378065</td>\n",
       "      <td>-5.024949</td>\n",
       "      <td>-2.405265</td>\n",
       "      <td>-0.995681</td>\n",
       "      <td>-0.364821</td>\n",
       "      <td>-0.133111</td>\n",
       "    </tr>\n",
       "    <tr>\n",
       "      <th>...</th>\n",
       "      <td>...</td>\n",
       "      <td>...</td>\n",
       "      <td>...</td>\n",
       "      <td>...</td>\n",
       "      <td>...</td>\n",
       "      <td>...</td>\n",
       "      <td>...</td>\n",
       "      <td>...</td>\n",
       "      <td>...</td>\n",
       "      <td>...</td>\n",
       "    </tr>\n",
       "    <tr>\n",
       "      <th>chr22:50796715:AACACAC:A_A0</th>\n",
       "      <td>-26.006914</td>\n",
       "      <td>-10.226386</td>\n",
       "      <td>-4.527577</td>\n",
       "      <td>-1.561666</td>\n",
       "      <td>0.003868</td>\n",
       "      <td>0.709640</td>\n",
       "      <td>0.862430</td>\n",
       "      <td>0.684735</td>\n",
       "      <td>0.369691</td>\n",
       "      <td>0.094783</td>\n",
       "    </tr>\n",
       "    <tr>\n",
       "      <th>chr22:50797531:T:C_A0</th>\n",
       "      <td>-68.228174</td>\n",
       "      <td>-35.682482</td>\n",
       "      <td>-20.256133</td>\n",
       "      <td>-10.813819</td>\n",
       "      <td>-4.853337</td>\n",
       "      <td>-1.292188</td>\n",
       "      <td>0.504773</td>\n",
       "      <td>1.031303</td>\n",
       "      <td>0.771346</td>\n",
       "      <td>0.254898</td>\n",
       "    </tr>\n",
       "    <tr>\n",
       "      <th>chr22:50797551:G:A_A0</th>\n",
       "      <td>-124.310014</td>\n",
       "      <td>-62.962144</td>\n",
       "      <td>-36.859359</td>\n",
       "      <td>-21.223897</td>\n",
       "      <td>-11.312071</td>\n",
       "      <td>-5.186372</td>\n",
       "      <td>-1.746536</td>\n",
       "      <td>-0.187279</td>\n",
       "      <td>0.199784</td>\n",
       "      <td>0.080329</td>\n",
       "    </tr>\n",
       "    <tr>\n",
       "      <th>chr22:50797585:A:AT_A0</th>\n",
       "      <td>-101.865564</td>\n",
       "      <td>-52.402966</td>\n",
       "      <td>-29.858844</td>\n",
       "      <td>-16.227734</td>\n",
       "      <td>-7.713405</td>\n",
       "      <td>-2.666377</td>\n",
       "      <td>-0.098603</td>\n",
       "      <td>0.755082</td>\n",
       "      <td>0.607304</td>\n",
       "      <td>0.159375</td>\n",
       "    </tr>\n",
       "    <tr>\n",
       "      <th>chr22:50798635:T:C_A0</th>\n",
       "      <td>-113.064527</td>\n",
       "      <td>-56.995014</td>\n",
       "      <td>-32.864333</td>\n",
       "      <td>-18.528900</td>\n",
       "      <td>-9.541660</td>\n",
       "      <td>-4.075862</td>\n",
       "      <td>-1.112626</td>\n",
       "      <td>0.096932</td>\n",
       "      <td>0.239370</td>\n",
       "      <td>0.003351</td>\n",
       "    </tr>\n",
       "  </tbody>\n",
       "</table>\n",
       "<p>67185 rows × 10 columns</p>\n",
       "</div>"
      ],
      "text/plain": [
       "                                 LOD0.0    LOD0.05     LOD0.1    LOD0.15  \\\n",
       "chr22:15528179:G:T_A0        -61.249079 -32.229255 -18.088675  -9.388691   \n",
       "chr22:15528424:T:C_A0        -71.677497 -39.900844 -23.657333 -13.340945   \n",
       "chr22:15528913:C:T_A0        -95.158234 -37.685229 -15.639878  -3.731533   \n",
       "chr22:15690112:C:T_A0        -65.670729 -35.213355 -21.612927 -13.125850   \n",
       "chr22:15690174:G:C_A0        -82.863069 -44.241637 -26.805311 -16.205588   \n",
       "...                                 ...        ...        ...        ...   \n",
       "chr22:50796715:AACACAC:A_A0  -26.006914 -10.226386  -4.527577  -1.561666   \n",
       "chr22:50797531:T:C_A0        -68.228174 -35.682482 -20.256133 -10.813819   \n",
       "chr22:50797551:G:A_A0       -124.310014 -62.962144 -36.859359 -21.223897   \n",
       "chr22:50797585:A:AT_A0      -101.865564 -52.402966 -29.858844 -16.227734   \n",
       "chr22:50798635:T:C_A0       -113.064527 -56.995014 -32.864333 -18.528900   \n",
       "\n",
       "                                LOD0.2   LOD0.25    LOD0.3   LOD0.35  \\\n",
       "chr22:15528179:G:T_A0        -3.960690 -0.836448  0.599598  0.864353   \n",
       "chr22:15528424:T:C_A0        -6.663076 -2.553687 -0.344478  0.499070   \n",
       "chr22:15528913:C:T_A0         2.642066  5.425318  5.754261  4.503841   \n",
       "chr22:15690112:C:T_A0        -7.548071 -3.953691 -1.804542 -0.693949   \n",
       "chr22:15690174:G:C_A0        -9.378065 -5.024949 -2.405265 -0.995681   \n",
       "...                                ...       ...       ...       ...   \n",
       "chr22:50796715:AACACAC:A_A0   0.003868  0.709640  0.862430  0.684735   \n",
       "chr22:50797531:T:C_A0        -4.853337 -1.292188  0.504773  1.031303   \n",
       "chr22:50797551:G:A_A0       -11.312071 -5.186372 -1.746536 -0.187279   \n",
       "chr22:50797585:A:AT_A0       -7.713405 -2.666377 -0.098603  0.755082   \n",
       "chr22:50798635:T:C_A0        -9.541660 -4.075862 -1.112626  0.096932   \n",
       "\n",
       "                               LOD0.4   LOD0.45  \n",
       "chr22:15528179:G:T_A0        0.481489  0.017087  \n",
       "chr22:15528424:T:C_A0        0.495211  0.175396  \n",
       "chr22:15528913:C:T_A0        2.524479  0.732946  \n",
       "chr22:15690112:C:T_A0       -0.252285 -0.121961  \n",
       "chr22:15690174:G:C_A0       -0.364821 -0.133111  \n",
       "...                               ...       ...  \n",
       "chr22:50796715:AACACAC:A_A0  0.369691  0.094783  \n",
       "chr22:50797531:T:C_A0        0.771346  0.254898  \n",
       "chr22:50797551:G:A_A0        0.199784  0.080329  \n",
       "chr22:50797585:A:AT_A0       0.607304  0.159375  \n",
       "chr22:50798635:T:C_A0        0.239370  0.003351  \n",
       "\n",
       "[67185 rows x 10 columns]"
      ]
     },
     "execution_count": null,
     "metadata": {},
     "output_type": "execute_result"
    }
   ],
   "source": [
    "imp_lods[~imp_lods.index.duplicated(keep=False)].sort_index()"
   ]
  },
  {
   "cell_type": "code",
   "execution_count": null,
   "id": "0918014d-8bd0-4734-a5be-987051b03e11",
   "metadata": {},
   "outputs": [
    {
     "data": {
      "text/plain": [
       "1196"
      ]
     },
     "execution_count": null,
     "metadata": {},
     "output_type": "execute_result"
    }
   ],
   "source": [
    "sum(unimp_lods.max(axis=1)>3.3)"
   ]
  },
  {
   "cell_type": "code",
   "execution_count": null,
   "id": "80627da2-132c-4c4b-8cca-b41f47b63aa4",
   "metadata": {},
   "outputs": [],
   "source": [
    "unimp_lods_nfe = get_lods_chrom('../data/wg20220419/chr22test/tmp/CACHE/chr22test*cutoff0.05unimputed.lods','AF_nfe',fam_pop)"
   ]
  },
  {
   "cell_type": "code",
   "execution_count": null,
   "id": "34371a7a-bca7-45bc-a330-1fe5ffe0f4c5",
   "metadata": {},
   "outputs": [],
   "source": [
    "unimp_lods_nfe[~unimp_lods_nfe.index.duplicated(keep=False)].sort_index().to_csv('../data/wg20220419/common_variants_chr22_unimputed_lods_afreq_nfe.csv',header=True,index=True)"
   ]
  },
  {
   "cell_type": "code",
   "execution_count": null,
   "id": "9ff7fdc4-87c6-4e4c-8341-cf64e0eda8d0",
   "metadata": {},
   "outputs": [
    {
     "data": {
      "text/plain": [
       "2"
      ]
     },
     "execution_count": null,
     "metadata": {},
     "output_type": "execute_result"
    }
   ],
   "source": [
    "sum(unimp_lods_nfe.max(axis=1)>3.3)"
   ]
  },
  {
   "cell_type": "code",
   "execution_count": null,
   "id": "a06c35d5-9a26-4461-86b8-03aebddf80b7",
   "metadata": {},
   "outputs": [
    {
     "data": {
      "text/html": [
       "<div>\n",
       "<style scoped>\n",
       "    .dataframe tbody tr th:only-of-type {\n",
       "        vertical-align: middle;\n",
       "    }\n",
       "\n",
       "    .dataframe tbody tr th {\n",
       "        vertical-align: top;\n",
       "    }\n",
       "\n",
       "    .dataframe thead th {\n",
       "        text-align: right;\n",
       "    }\n",
       "</style>\n",
       "<table border=\"1\" class=\"dataframe\">\n",
       "  <thead>\n",
       "    <tr style=\"text-align: right;\">\n",
       "      <th></th>\n",
       "      <th>LOD0.0</th>\n",
       "      <th>LOD0.05</th>\n",
       "      <th>LOD0.1</th>\n",
       "      <th>LOD0.15</th>\n",
       "      <th>LOD0.2</th>\n",
       "      <th>LOD0.25</th>\n",
       "      <th>LOD0.3</th>\n",
       "      <th>LOD0.35</th>\n",
       "      <th>LOD0.4</th>\n",
       "      <th>LOD0.45</th>\n",
       "    </tr>\n",
       "  </thead>\n",
       "  <tbody>\n",
       "    <tr>\n",
       "      <th>chr22:15775793:G:A_A0</th>\n",
       "      <td>4.884759</td>\n",
       "      <td>4.280524</td>\n",
       "      <td>3.614180</td>\n",
       "      <td>2.932717</td>\n",
       "      <td>2.268181</td>\n",
       "      <td>1.64729</td>\n",
       "      <td>1.094996</td>\n",
       "      <td>0.634980</td>\n",
       "      <td>0.288598</td>\n",
       "      <td>0.073147</td>\n",
       "    </tr>\n",
       "    <tr>\n",
       "      <th>chr22:18876007:T:G_A0</th>\n",
       "      <td>3.715338</td>\n",
       "      <td>3.556326</td>\n",
       "      <td>3.191606</td>\n",
       "      <td>2.713049</td>\n",
       "      <td>2.177897</td>\n",
       "      <td>1.63118</td>\n",
       "      <td>1.112659</td>\n",
       "      <td>0.659147</td>\n",
       "      <td>0.304561</td>\n",
       "      <td>0.078016</td>\n",
       "    </tr>\n",
       "  </tbody>\n",
       "</table>\n",
       "</div>"
      ],
      "text/plain": [
       "                         LOD0.0   LOD0.05    LOD0.1   LOD0.15    LOD0.2  \\\n",
       "chr22:15775793:G:A_A0  4.884759  4.280524  3.614180  2.932717  2.268181   \n",
       "chr22:18876007:T:G_A0  3.715338  3.556326  3.191606  2.713049  2.177897   \n",
       "\n",
       "                       LOD0.25    LOD0.3   LOD0.35    LOD0.4   LOD0.45  \n",
       "chr22:15775793:G:A_A0  1.64729  1.094996  0.634980  0.288598  0.073147  \n",
       "chr22:18876007:T:G_A0  1.63118  1.112659  0.659147  0.304561  0.078016  "
      ]
     },
     "execution_count": null,
     "metadata": {},
     "output_type": "execute_result"
    }
   ],
   "source": [
    "unimp_lods_nfe.loc[unimp_lods_nfe.max(axis=1)>3.3,]"
   ]
  },
  {
   "cell_type": "code",
   "execution_count": null,
   "id": "6c12e6e6-013b-4af9-a8a3-071816232bb5",
   "metadata": {},
   "outputs": [],
   "source": [
    "unimp_lods_amr = get_lods_chrom('../data/wg20220419/chr22test/tmp/CACHE/chr22test*cutoff0.05unimputed.lods','AF_amr',fam_pop)"
   ]
  },
  {
   "cell_type": "code",
   "execution_count": null,
   "id": "aa1fe73d-b293-4f92-8be2-927a4e32182a",
   "metadata": {},
   "outputs": [],
   "source": [
    "unimp_lods_amr[~unimp_lods_amr.index.duplicated(keep=False)].sort_index().to_csv('../data/wg20220419/common_variants_chr22_unimputed_lods_afreq_amr.csv',header=True,index=True)"
   ]
  },
  {
   "cell_type": "code",
   "execution_count": null,
   "id": "3a64a2af-7462-4cfe-909e-6b54afd9ad35",
   "metadata": {},
   "outputs": [
    {
     "data": {
      "text/plain": [
       "1203"
      ]
     },
     "execution_count": null,
     "metadata": {},
     "output_type": "execute_result"
    }
   ],
   "source": [
    "sum(unimp_lods_amr.max(axis=1)>3.3)"
   ]
  },
  {
   "cell_type": "code",
   "execution_count": null,
   "id": "5428583e-9c1e-4a96-9ed6-087b23f3b792",
   "metadata": {},
   "outputs": [
    {
     "data": {
      "text/html": [
       "<div>\n",
       "<style scoped>\n",
       "    .dataframe tbody tr th:only-of-type {\n",
       "        vertical-align: middle;\n",
       "    }\n",
       "\n",
       "    .dataframe tbody tr th {\n",
       "        vertical-align: top;\n",
       "    }\n",
       "\n",
       "    .dataframe thead th {\n",
       "        text-align: right;\n",
       "    }\n",
       "</style>\n",
       "<table border=\"1\" class=\"dataframe\">\n",
       "  <thead>\n",
       "    <tr style=\"text-align: right;\">\n",
       "      <th></th>\n",
       "      <th>LOD0.0</th>\n",
       "      <th>LOD0.05</th>\n",
       "      <th>LOD0.1</th>\n",
       "      <th>LOD0.15</th>\n",
       "      <th>LOD0.2</th>\n",
       "      <th>LOD0.25</th>\n",
       "      <th>LOD0.3</th>\n",
       "      <th>LOD0.35</th>\n",
       "      <th>LOD0.4</th>\n",
       "      <th>LOD0.45</th>\n",
       "    </tr>\n",
       "  </thead>\n",
       "  <tbody>\n",
       "    <tr>\n",
       "      <th>chr22:17507312:G:A_A0</th>\n",
       "      <td>-16.529143</td>\n",
       "      <td>-9.553067</td>\n",
       "      <td>-6.046959</td>\n",
       "      <td>-3.773623</td>\n",
       "      <td>-2.251671</td>\n",
       "      <td>-1.254748</td>\n",
       "      <td>-0.636130</td>\n",
       "      <td>-0.282669</td>\n",
       "      <td>-0.101850</td>\n",
       "      <td>-0.022264</td>\n",
       "    </tr>\n",
       "    <tr>\n",
       "      <th>chr22:17427614:A:G_A0</th>\n",
       "      <td>-34.350142</td>\n",
       "      <td>-18.566414</td>\n",
       "      <td>-11.784474</td>\n",
       "      <td>-7.649739</td>\n",
       "      <td>-4.890476</td>\n",
       "      <td>-2.999084</td>\n",
       "      <td>-1.710838</td>\n",
       "      <td>-0.864326</td>\n",
       "      <td>-0.349042</td>\n",
       "      <td>-0.081379</td>\n",
       "    </tr>\n",
       "    <tr>\n",
       "      <th>chr22:16646120:GACAGA:G_A0</th>\n",
       "      <td>-8.019956</td>\n",
       "      <td>-5.983271</td>\n",
       "      <td>-4.320847</td>\n",
       "      <td>-3.021901</td>\n",
       "      <td>-2.027171</td>\n",
       "      <td>-1.284990</td>\n",
       "      <td>-0.752147</td>\n",
       "      <td>-0.389951</td>\n",
       "      <td>-0.162634</td>\n",
       "      <td>-0.039336</td>\n",
       "    </tr>\n",
       "    <tr>\n",
       "      <th>chr22:15699861:A:G_A0</th>\n",
       "      <td>-13.380781</td>\n",
       "      <td>-8.698831</td>\n",
       "      <td>-5.649941</td>\n",
       "      <td>-3.524944</td>\n",
       "      <td>-2.054965</td>\n",
       "      <td>-1.079814</td>\n",
       "      <td>-0.481645</td>\n",
       "      <td>-0.161528</td>\n",
       "      <td>-0.029101</td>\n",
       "      <td>0.000767</td>\n",
       "    </tr>\n",
       "    <tr>\n",
       "      <th>chr22:17593780:C:A_A0</th>\n",
       "      <td>-27.481414</td>\n",
       "      <td>-15.034815</td>\n",
       "      <td>-9.365490</td>\n",
       "      <td>-5.846103</td>\n",
       "      <td>-3.528068</td>\n",
       "      <td>-2.004810</td>\n",
       "      <td>-1.041123</td>\n",
       "      <td>-0.472738</td>\n",
       "      <td>-0.171583</td>\n",
       "      <td>-0.036766</td>\n",
       "    </tr>\n",
       "    <tr>\n",
       "      <th>...</th>\n",
       "      <td>...</td>\n",
       "      <td>...</td>\n",
       "      <td>...</td>\n",
       "      <td>...</td>\n",
       "      <td>...</td>\n",
       "      <td>...</td>\n",
       "      <td>...</td>\n",
       "      <td>...</td>\n",
       "      <td>...</td>\n",
       "      <td>...</td>\n",
       "    </tr>\n",
       "    <tr>\n",
       "      <th>chr22:50742506:C:T_A0</th>\n",
       "      <td>-15.913810</td>\n",
       "      <td>-8.918723</td>\n",
       "      <td>-5.550346</td>\n",
       "      <td>-3.407540</td>\n",
       "      <td>-1.993619</td>\n",
       "      <td>-1.080114</td>\n",
       "      <td>-0.524049</td>\n",
       "      <td>-0.217669</td>\n",
       "      <td>-0.071844</td>\n",
       "      <td>-0.014700</td>\n",
       "    </tr>\n",
       "    <tr>\n",
       "      <th>chr22:50791970:G:A_A0</th>\n",
       "      <td>-8.036006</td>\n",
       "      <td>-5.050914</td>\n",
       "      <td>-3.330463</td>\n",
       "      <td>-2.169817</td>\n",
       "      <td>-1.364544</td>\n",
       "      <td>-0.811215</td>\n",
       "      <td>-0.443740</td>\n",
       "      <td>-0.213442</td>\n",
       "      <td>-0.081722</td>\n",
       "      <td>-0.017953</td>\n",
       "    </tr>\n",
       "    <tr>\n",
       "      <th>chr22:50791171:T:TCTC_A0</th>\n",
       "      <td>-21.972510</td>\n",
       "      <td>-12.645061</td>\n",
       "      <td>-8.292003</td>\n",
       "      <td>-5.480442</td>\n",
       "      <td>-3.535216</td>\n",
       "      <td>-2.174490</td>\n",
       "      <td>-1.240858</td>\n",
       "      <td>-0.628002</td>\n",
       "      <td>-0.255175</td>\n",
       "      <td>-0.059895</td>\n",
       "    </tr>\n",
       "    <tr>\n",
       "      <th>chr22:50774447:A:C_A0</th>\n",
       "      <td>-22.948647</td>\n",
       "      <td>-12.700678</td>\n",
       "      <td>-7.993088</td>\n",
       "      <td>-5.030870</td>\n",
       "      <td>-3.060415</td>\n",
       "      <td>-1.751081</td>\n",
       "      <td>-0.911402</td>\n",
       "      <td>-0.409971</td>\n",
       "      <td>-0.144660</td>\n",
       "      <td>-0.029873</td>\n",
       "    </tr>\n",
       "    <tr>\n",
       "      <th>chr22:50713256:G:A_A0</th>\n",
       "      <td>-10.516162</td>\n",
       "      <td>-7.104173</td>\n",
       "      <td>-4.982640</td>\n",
       "      <td>-3.443790</td>\n",
       "      <td>-2.302347</td>\n",
       "      <td>-1.464039</td>\n",
       "      <td>-0.864813</td>\n",
       "      <td>-0.454337</td>\n",
       "      <td>-0.191810</td>\n",
       "      <td>-0.046535</td>\n",
       "    </tr>\n",
       "  </tbody>\n",
       "</table>\n",
       "<p>63309 rows × 10 columns</p>\n",
       "</div>"
      ],
      "text/plain": [
       "                               LOD0.0    LOD0.05     LOD0.1   LOD0.15  \\\n",
       "chr22:17507312:G:A_A0      -16.529143  -9.553067  -6.046959 -3.773623   \n",
       "chr22:17427614:A:G_A0      -34.350142 -18.566414 -11.784474 -7.649739   \n",
       "chr22:16646120:GACAGA:G_A0  -8.019956  -5.983271  -4.320847 -3.021901   \n",
       "chr22:15699861:A:G_A0      -13.380781  -8.698831  -5.649941 -3.524944   \n",
       "chr22:17593780:C:A_A0      -27.481414 -15.034815  -9.365490 -5.846103   \n",
       "...                               ...        ...        ...       ...   \n",
       "chr22:50742506:C:T_A0      -15.913810  -8.918723  -5.550346 -3.407540   \n",
       "chr22:50791970:G:A_A0       -8.036006  -5.050914  -3.330463 -2.169817   \n",
       "chr22:50791171:T:TCTC_A0   -21.972510 -12.645061  -8.292003 -5.480442   \n",
       "chr22:50774447:A:C_A0      -22.948647 -12.700678  -7.993088 -5.030870   \n",
       "chr22:50713256:G:A_A0      -10.516162  -7.104173  -4.982640 -3.443790   \n",
       "\n",
       "                              LOD0.2   LOD0.25    LOD0.3   LOD0.35    LOD0.4  \\\n",
       "chr22:17507312:G:A_A0      -2.251671 -1.254748 -0.636130 -0.282669 -0.101850   \n",
       "chr22:17427614:A:G_A0      -4.890476 -2.999084 -1.710838 -0.864326 -0.349042   \n",
       "chr22:16646120:GACAGA:G_A0 -2.027171 -1.284990 -0.752147 -0.389951 -0.162634   \n",
       "chr22:15699861:A:G_A0      -2.054965 -1.079814 -0.481645 -0.161528 -0.029101   \n",
       "chr22:17593780:C:A_A0      -3.528068 -2.004810 -1.041123 -0.472738 -0.171583   \n",
       "...                              ...       ...       ...       ...       ...   \n",
       "chr22:50742506:C:T_A0      -1.993619 -1.080114 -0.524049 -0.217669 -0.071844   \n",
       "chr22:50791970:G:A_A0      -1.364544 -0.811215 -0.443740 -0.213442 -0.081722   \n",
       "chr22:50791171:T:TCTC_A0   -3.535216 -2.174490 -1.240858 -0.628002 -0.255175   \n",
       "chr22:50774447:A:C_A0      -3.060415 -1.751081 -0.911402 -0.409971 -0.144660   \n",
       "chr22:50713256:G:A_A0      -2.302347 -1.464039 -0.864813 -0.454337 -0.191810   \n",
       "\n",
       "                             LOD0.45  \n",
       "chr22:17507312:G:A_A0      -0.022264  \n",
       "chr22:17427614:A:G_A0      -0.081379  \n",
       "chr22:16646120:GACAGA:G_A0 -0.039336  \n",
       "chr22:15699861:A:G_A0       0.000767  \n",
       "chr22:17593780:C:A_A0      -0.036766  \n",
       "...                              ...  \n",
       "chr22:50742506:C:T_A0      -0.014700  \n",
       "chr22:50791970:G:A_A0      -0.017953  \n",
       "chr22:50791171:T:TCTC_A0   -0.059895  \n",
       "chr22:50774447:A:C_A0      -0.029873  \n",
       "chr22:50713256:G:A_A0      -0.046535  \n",
       "\n",
       "[63309 rows x 10 columns]"
      ]
     },
     "execution_count": null,
     "metadata": {},
     "output_type": "execute_result"
    }
   ],
   "source": [
    "unimp_lods_nfe"
   ]
  },
  {
   "cell_type": "code",
   "execution_count": null,
   "id": "d2ba90e4-b7f6-4985-95d0-441d6a9bb243",
   "metadata": {},
   "outputs": [],
   "source": [
    "with open('../data/fam_pop.pickle', 'rb') as handle:\n",
    "    fam_pop=pickle.load(handle)"
   ]
  },
  {
   "cell_type": "code",
   "execution_count": null,
   "id": "a2b0d947-511a-4b51-8c3f-adb31c235234",
   "metadata": {},
   "outputs": [],
   "source": [
    "#lods\n",
    "path='../data/wg20220316/chr22test/tmp/CACHE/chr22test0cutoff0.05unimputed.lods'\n",
    "with open(path, 'rb') as handle:\n",
    "    res=pickle.load(handle)"
   ]
  },
  {
   "cell_type": "code",
   "execution_count": null,
   "id": "c793afa6-1447-44e6-a638-0bd0002bd2cd",
   "metadata": {},
   "outputs": [],
   "source": [
    "#fam\n",
    "path='../data/wg20220316/chr22test/tmp/CACHE/chr22test0cutoff0.05unimputed.input'\n",
    "with open(path, 'rb') as handle:\n",
    "    gene_variants,gene_fam_haps=pickle.load(handle)"
   ]
  },
  {
   "cell_type": "code",
   "execution_count": null,
   "id": "ef14c744-abc2-49ac-84bb-edde605fca7f",
   "metadata": {},
   "outputs": [],
   "source": [
    "path='../data/wg20220316/chr22test/tmp/CACHE/chr22test0cutoff0.05unimputed.lods'\n",
    "tmp=get_lods_batch(path,'AF_amr',fam_pop)"
   ]
  },
  {
   "cell_type": "code",
   "execution_count": null,
   "id": "054af319-5b78-4e4b-b2b7-ab517e92f3ff",
   "metadata": {},
   "outputs": [
    {
     "data": {
      "text/plain": [
       "69"
      ]
     },
     "execution_count": null,
     "metadata": {},
     "output_type": "execute_result"
    }
   ],
   "source": [
    "sum(tmp.max(axis=1)>3.3)"
   ]
  },
  {
   "cell_type": "code",
   "execution_count": null,
   "id": "13c1d390-df10-4aaa-8802-f97cb69e8711",
   "metadata": {},
   "outputs": [],
   "source": [
    "res={k:r for k,r in zip(gene_fam_haps.keys(),res)}"
   ]
  },
  {
   "cell_type": "code",
   "execution_count": null,
   "id": "af84f296-ff11-4b83-aa85-7b4e90d5fa07",
   "metadata": {},
   "outputs": [],
   "source": [
    "res_amr=[r for k,r in res.items() if fam_pop[k]=='AF_amr']"
   ]
  },
  {
   "cell_type": "code",
   "execution_count": null,
   "id": "1bbae6e0-6f05-4645-9ade-6e42bbc47d1c",
   "metadata": {},
   "outputs": [],
   "source": [
    "res_nfe=[r for k,r in res.items() if fam_pop[k]=='AF_nfe']"
   ]
  },
  {
   "cell_type": "code",
   "execution_count": null,
   "id": "ea6c066e-ef4f-4b1f-97f6-99f66af85143",
   "metadata": {},
   "outputs": [],
   "source": [
    "res_d=format_fam_lods(res_nfe)\n",
    "lods=pd.concat([x.sum(axis=1) for x in res_d.values()],axis=1).T\n",
    "lods.index=list(res_d.keys())"
   ]
  },
  {
   "cell_type": "code",
   "execution_count": null,
   "id": "7bc68b30-743f-4e2e-8a25-95d89f3db988",
   "metadata": {},
   "outputs": [],
   "source": [
    "lods_nfe=lods"
   ]
  },
  {
   "cell_type": "code",
   "execution_count": null,
   "id": "cba08635-66d0-4b5b-9752-2c075feafdb4",
   "metadata": {},
   "outputs": [],
   "source": [
    "lods_amr=lods"
   ]
  },
  {
   "cell_type": "code",
   "execution_count": null,
   "id": "e8ce118a-edac-4748-a4b4-8e84d5cd3e38",
   "metadata": {},
   "outputs": [],
   "source": [
    "lods_all=lods"
   ]
  },
  {
   "cell_type": "code",
   "execution_count": null,
   "id": "d3b69a59-dec9-4c3a-98a8-0560e52bbd4a",
   "metadata": {},
   "outputs": [
    {
     "data": {
      "text/plain": [
       "47"
      ]
     },
     "execution_count": null,
     "metadata": {},
     "output_type": "execute_result"
    }
   ],
   "source": [
    "sum(lods_all.max(axis=1)>3.3)"
   ]
  },
  {
   "cell_type": "code",
   "execution_count": null,
   "id": "d44bed84-fc5a-4478-a8d6-1e98588d03a5",
   "metadata": {},
   "outputs": [
    {
     "data": {
      "text/plain": [
       "69"
      ]
     },
     "execution_count": null,
     "metadata": {},
     "output_type": "execute_result"
    }
   ],
   "source": [
    "sum(lods_amr.max(axis=1)>3.3)"
   ]
  },
  {
   "cell_type": "code",
   "execution_count": null,
   "id": "b2142540-251a-4880-8936-7389d28fff52",
   "metadata": {},
   "outputs": [
    {
     "data": {
      "text/plain": [
       "1"
      ]
     },
     "execution_count": null,
     "metadata": {},
     "output_type": "execute_result"
    }
   ],
   "source": [
    "sum(lods_nfe.max(axis=1)>3.3)"
   ]
  },
  {
   "cell_type": "code",
   "execution_count": null,
   "id": "f9d0fd7d-9280-4454-ad42-289740658f8c",
   "metadata": {},
   "outputs": [],
   "source": []
  },
  {
   "cell_type": "code",
   "execution_count": null,
   "id": "094d65a6-d20c-4d79-91ed-452d3807f8d4",
   "metadata": {},
   "outputs": [],
   "source": []
  },
  {
   "cell_type": "code",
   "execution_count": null,
   "id": "fe4a9338-8b4a-40c5-99fb-9060bbb8a02f",
   "metadata": {},
   "outputs": [
    {
     "data": {
      "text/plain": [
       "191"
      ]
     },
     "execution_count": null,
     "metadata": {},
     "output_type": "execute_result"
    }
   ],
   "source": [
    "len(res_nfe)"
   ]
  },
  {
   "cell_type": "code",
   "execution_count": null,
   "id": "cb2240dc-b607-4d7c-9124-cb08d178c186",
   "metadata": {},
   "outputs": [
    {
     "data": {
      "text/plain": [
       "AF_amr    260\n",
       "AF_nfe    191\n",
       "AF_afr     25\n",
       "AF          3\n",
       "dtype: int64"
      ]
     },
     "execution_count": null,
     "metadata": {},
     "output_type": "execute_result"
    }
   ],
   "source": [
    "pd.Series([fam_pop[k] for k in res.keys()]).value_counts()"
   ]
  },
  {
   "cell_type": "code",
   "execution_count": null,
   "id": "13fe7b12-ee4d-4ea4-9444-a56ec7c31b1b",
   "metadata": {},
   "outputs": [],
   "source": []
  }
 ],
 "metadata": {
  "kernelspec": {
   "display_name": "Python 3 (ipykernel)",
   "language": "python",
   "name": "python3"
  }
 },
 "nbformat": 4,
 "nbformat_minor": 5
}
