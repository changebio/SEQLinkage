{
 "cells": [
  {
   "cell_type": "code",
   "execution_count": null,
   "metadata": {},
   "outputs": [],
   "source": [
    "#hide\n",
    "from SEQlinkage.Core import *"
   ]
  },
  {
   "cell_type": "code",
   "execution_count": null,
   "metadata": {},
   "outputs": [],
   "source": [
    "#hide\n",
    "%load_ext autoreload\n",
    "%autoreload 2"
   ]
  },
  {
   "cell_type": "markdown",
   "metadata": {},
   "source": [
    "# SEQLinkage\n",
    "\n",
    "> Collapsed Haplotype Pattern Method for Linkage Analysis of Next-Generation Sequencing Data"
   ]
  },
  {
   "cell_type": "markdown",
   "metadata": {},
   "source": [
    "### Features\n",
    "-\n",
    "-\n",
    "-\n",
    "-"
   ]
  },
  {
   "cell_type": "markdown",
   "metadata": {
    "tags": []
   },
   "source": [
    "## Pre-requisites\n",
    "\n",
    "Make sure you install the pre-requisited before running seqlink:\n",
    "\n",
    "\n",
    "```\n",
    "#install cstatgen\n",
    "conda install -c conda-forge xeus-cling\n",
    "conda install -c anaconda swig \n",
    "conda install -c conda-forge gsl\n",
    "pip install egglib\n",
    "git clone https://github.com/statgenetics/cstatgen.git\n",
    "cd cstatgen\n",
    "python setup.py install\n",
    "\n",
    "#install paramlink2\n",
    "R\n",
    "install.packages(\"paramlink2\")\n",
    "```"
   ]
  },
  {
   "cell_type": "markdown",
   "metadata": {},
   "source": [
    "## Install"
   ]
  },
  {
   "cell_type": "markdown",
   "metadata": {},
   "source": [
    "`pip install SEQLinkage`"
   ]
  },
  {
   "cell_type": "markdown",
   "metadata": {},
   "source": [
    "## How to use"
   ]
  },
  {
   "cell_type": "code",
   "execution_count": null,
   "metadata": {},
   "outputs": [
    {
     "name": "stdout",
     "output_type": "stream",
     "text": [
      "Traceback (most recent call last):\n",
      "  File \"/home/yh3455/miniconda3/envs/rpy2/bin/seqlink\", line 33, in <module>\n",
      "    sys.exit(load_entry_point('SEQLinkage', 'console_scripts', 'seqlink')())\n",
      "  File \"/mnt/vast/hpc/csg/yin/Github/linkage/SEQpy3/SEQLinkage/Main.py\", line 135, in main\n",
      "    args = Args().get()\n",
      "  File \"/mnt/vast/hpc/csg/yin/Github/linkage/SEQpy3/SEQLinkage/Main.py\", line 33, in __init__\n",
      "    self.getRuntimeArguments(self.parser)\n",
      "  File \"/mnt/vast/hpc/csg/yin/Github/linkage/SEQpy3/SEQLinkage/Main.py\", line 72, in getRuntimeArguments\n",
      "    vargs.add_argument(\"-h\", \"--help\", action=\"help\", help=\"Show help message and exit.\")\n",
      "  File \"/home/yh3455/miniconda3/envs/rpy2/lib/python3.10/argparse.py\", line 1440, in add_argument\n",
      "    return self._add_action(action)\n",
      "  File \"/home/yh3455/miniconda3/envs/rpy2/lib/python3.10/argparse.py\", line 1642, in _add_action\n",
      "    action = super(_ArgumentGroup, self)._add_action(action)\n",
      "  File \"/home/yh3455/miniconda3/envs/rpy2/lib/python3.10/argparse.py\", line 1454, in _add_action\n",
      "    self._check_conflict(action)\n",
      "  File \"/home/yh3455/miniconda3/envs/rpy2/lib/python3.10/argparse.py\", line 1591, in _check_conflict\n",
      "    conflict_handler(action, confl_optionals)\n",
      "  File \"/home/yh3455/miniconda3/envs/rpy2/lib/python3.10/argparse.py\", line 1600, in _handle_conflict_error\n",
      "    raise ArgumentError(action, message % conflict_string)\n",
      "argparse.ArgumentError: argument -h/--help: conflicting option strings: -h, --help\n"
     ]
    }
   ],
   "source": [
    "!seqlink --help"
   ]
  },
  {
   "cell_type": "code",
   "execution_count": null,
   "metadata": {},
   "outputs": [],
   "source": []
  },
  {
   "cell_type": "markdown",
   "metadata": {},
   "source": [
    "#### 1.run seqlink on CHP marker"
   ]
  },
  {
   "cell_type": "markdown",
   "metadata": {},
   "source": [
    "#### 2.run seqlink on variants"
   ]
  }
 ],
 "metadata": {
  "kernelspec": {
   "display_name": "Python 3 (ipykernel)",
   "language": "python",
   "name": "python3"
  }
 },
 "nbformat": 4,
 "nbformat_minor": 4
}
