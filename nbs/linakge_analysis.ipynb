{
 "cells": [
  {
   "cell_type": "code",
   "execution_count": null,
   "id": "f4c539b1-53ee-4928-8764-7943f4ecc072",
   "metadata": {},
   "outputs": [],
   "source": [
    "import numpy as np\n",
    "import pandas as pd\n",
    "import pickle"
   ]
  },
  {
   "cell_type": "code",
   "execution_count": null,
   "id": "74b1e16d-8223-47a3-bb26-9b731022f5ce",
   "metadata": {},
   "outputs": [],
   "source": [
    "#Import necessary packages\n",
    "import rpy2.robjects as robjects\n",
    "from rpy2.robjects.packages import importr\n",
    "from rpy2.robjects import pandas2ri\n",
    "#Must be activated\n",
    "pandas2ri.activate()\n",
    "paramlink2=importr('paramlink2')\n",
    "pedprobr=importr('pedprobr')\n",
    "pedtools = importr('pedtools')"
   ]
  },
  {
   "cell_type": "code",
   "execution_count": null,
   "id": "a4966438-4d1e-46a3-b99e-e4ab943981e4",
   "metadata": {},
   "outputs": [],
   "source": [
    "import time\n",
    "from concurrent.futures import ProcessPoolExecutor"
   ]
  },
  {
   "cell_type": "markdown",
   "id": "6ddf95fc-ccd9-40c3-8507-b898b976ddd8",
   "metadata": {},
   "source": [
    "## Functions to deal with haplotypes"
   ]
  },
  {
   "cell_type": "code",
   "execution_count": null,
   "id": "ed5e42f9-3580-4c8a-b4bb-8472cc03c4a3",
   "metadata": {},
   "outputs": [],
   "source": [
    "def get_allele(s):\n",
    "    a = s[1] if s[0].isupper() else s[0]\n",
    "    return 0 if a=='?' else int(a)"
   ]
  },
  {
   "cell_type": "code",
   "execution_count": null,
   "id": "94378956-acf5-4e37-b154-392dde944e3f",
   "metadata": {},
   "outputs": [],
   "source": [
    "def name_haps(snps):\n",
    "    name = []\n",
    "    for i in snps:\n",
    "        name += [i+'_A0',i+'_A1']\n",
    "    return name"
   ]
  },
  {
   "cell_type": "code",
   "execution_count": null,
   "id": "e067a2cf-9efc-4de2-8776-7db5ebdfc4b5",
   "metadata": {},
   "outputs": [],
   "source": [
    "def get_fam_hap(haps,name=None):\n",
    "    new_haps,new_iid = [],[]\n",
    "    iid = haps[:,1]\n",
    "    haps = haps[:,2:]\n",
    "    for i in range(0,haps.shape[0],2):\n",
    "        new_iid.append(iid[i])\n",
    "        hap_a01 = []\n",
    "        for a0,a1 in zip(haps[i],haps[i+1]):\n",
    "            hap_a01 += [get_allele(a0),get_allele(a1)]\n",
    "        new_haps.append(hap_a01)\n",
    "    new_haps = pd.DataFrame(new_haps)\n",
    "    new_haps.index = new_iid\n",
    "    if name is not None:\n",
    "        new_haps.columns = name\n",
    "    return new_haps"
   ]
  },
  {
   "cell_type": "markdown",
   "id": "5c28433b-0f20-488e-8eb0-67f1bc397eae",
   "metadata": {},
   "source": [
    "## All genes from haps to peds"
   ]
  },
  {
   "cell_type": "code",
   "execution_count": null,
   "id": "43426442-fbda-4587-84b3-8d8936542d52",
   "metadata": {},
   "outputs": [],
   "source": [
    "def format_haps_bunch(dhaps,fam):\n",
    "    gene_variants = {}\n",
    "    gene_haps = {}\n",
    "    for g in dhaps.keys():\n",
    "        haps = dhaps[g]['predata']\n",
    "        for f in haps.keys():\n",
    "            if f not in gene_variants.keys():\n",
    "                gene_variants[f] = {'genes':[],'variants':[],'freqs':[],'uniq':[]}\n",
    "                gene_haps[f] = get_fam_hap(haps[f][2],name_haps(haps[f][0]))\n",
    "            else:\n",
    "                gene_haps[f] = pd.concat([gene_haps[f],get_fam_hap(haps[f][2],name_haps(haps[f][0]))],axis=1)\n",
    "            gene_variants[f]['genes'] += [g]*len(haps[f][0])\n",
    "            gene_variants[f]['variants'] += list(haps[f][0])\n",
    "            gene_variants[f]['freqs'] += list(haps[f][1])\n",
    "    for i,j in gene_variants.items():\n",
    "        redup_idx = ~gene_haps[i].columns.duplicated()\n",
    "        gene_haps[i] = pd.concat([fam[i],gene_haps[i].iloc[:,redup_idx]],axis=1)\n",
    "        j['uniq'] = list(redup_idx[range(0,len(redup_idx),2)])\n",
    "        gene_variants[i] = pd.DataFrame(j)\n",
    "    return gene_variants,gene_haps"
   ]
  },
  {
   "cell_type": "code",
   "execution_count": null,
   "id": "8ea33292-8a52-418d-9b0b-a8f18cd870d8",
   "metadata": {},
   "outputs": [],
   "source": [
    "def calculate_ped_lod(ped,rho=0,model = \"AD\",chrom = \"AUTOSOMAL\",penetrances = [0.01,0.9,0.9],dfreq=0.001):\n",
    "    aff=ped.iloc[:,5]\n",
    "    mped = pedtools.as_ped(ped.drop(ped.columns[5], axis=1),famid_col = 1,id_col = 2,fid_col = 3,mid_col = 4,sex_col = 5)\n",
    "    modAD = paramlink2.diseaseModel(model,chrom,pd.Series(penetrances),dfreq)\n",
    "    res = paramlink2.lod(mped, aff = aff, model = modAD,rho=rho)\n",
    "    try:\n",
    "        res = pd.DataFrame(res)[['MARKER','LOD']]\n",
    "    except:\n",
    "        res = pd.DataFrame([[ped.columns[6],res[0]]],columns=['MARKER','LOD'])\n",
    "    return res"
   ]
  },
  {
   "cell_type": "code",
   "execution_count": null,
   "id": "b308f4a1-9150-4f7e-9bb3-9ce2b1c2f46b",
   "metadata": {},
   "outputs": [],
   "source": [
    "def sum_variant_lods(lods):\n",
    "    variants = {}\n",
    "    for lod in lods:\n",
    "        for m,l in zip(lod['MARKER'],lod['LOD']):\n",
    "            if m in variants.keys():\n",
    "                variants[m] += l\n",
    "            else:\n",
    "                variants[m] = l\n",
    "    var_lst = []\n",
    "    for var,lod in variants.items():\n",
    "        snp = var[:-3]\n",
    "        var_lst.append(snp.split(':')+[snp,lod])\n",
    "    variants=pd.DataFrame(var_lst,columns=['CHR','POS','A0','A1','SNP','LOD'])\n",
    "    variants.POS = variants.POS.astype(int)\n",
    "    variants.sort_values('POS')\n",
    "    return variants"
   ]
  },
  {
   "cell_type": "code",
   "execution_count": null,
   "id": "13c7e8b7-d8f8-487c-8f4e-40a0793c9849",
   "metadata": {},
   "outputs": [],
   "source": [
    "def parallel_lods(haps):\n",
    "    start = time.perf_counter()\n",
    "    with ProcessPoolExecutor(max_workers = 10) as executor:\n",
    "        results = executor.map(calculate_ped_lod,haps)\n",
    "    print(time.perf_counter()-start)\n",
    "    return results"
   ]
  },
  {
   "cell_type": "markdown",
   "id": "35317582-67b8-4ff3-9568-d013346abe1f",
   "metadata": {},
   "source": [
    "### Read fam"
   ]
  },
  {
   "cell_type": "code",
   "execution_count": null,
   "id": "6ab75057-c937-46a0-ac7a-9b687f2618ef",
   "metadata": {},
   "outputs": [],
   "source": [
    "fam17 = pd.read_csv('../data/new_trim_ped_famless17_no:xx.fam',delim_whitespace=True,header=None,names=['fid','iid','fathid','mothid','sex','ad'])"
   ]
  },
  {
   "cell_type": "code",
   "execution_count": null,
   "id": "cd42725c-fc99-47aa-99db-6edf32fe55e7",
   "metadata": {},
   "outputs": [
    {
     "name": "stderr",
     "output_type": "stream",
     "text": [
      "/tmp/2293088.1.high_mem.q/ipykernel_15496/1308232463.py:1: SettingWithCopyWarning: \n",
      "A value is trying to be set on a copy of a slice from a DataFrame\n",
      "\n",
      "See the caveats in the documentation: https://pandas.pydata.org/pandas-docs/stable/user_guide/indexing.html#returning-a-view-versus-a-copy\n",
      "  fam17.ad[fam17.ad==-9]=0\n"
     ]
    }
   ],
   "source": [
    "fam17.ad[fam17.ad==-9]=0"
   ]
  },
  {
   "cell_type": "code",
   "execution_count": null,
   "id": "814abe66-4739-44c4-86a2-39c40aae5039",
   "metadata": {},
   "outputs": [],
   "source": [
    "fam17.index = list(fam17.iid)"
   ]
  },
  {
   "cell_type": "code",
   "execution_count": null,
   "id": "c9538e49-6457-42d8-af98-aa5b64894e4d",
   "metadata": {},
   "outputs": [
    {
     "data": {
      "text/plain": [
       "2    1900\n",
       "0    1042\n",
       "1     957\n",
       "Name: ad, dtype: int64"
      ]
     },
     "execution_count": null,
     "metadata": {},
     "output_type": "execute_result"
    }
   ],
   "source": [
    "fam17.ad.value_counts()"
   ]
  },
  {
   "cell_type": "code",
   "execution_count": null,
   "id": "334a6f3e-10cb-43be-bdb7-3f12dc3435db",
   "metadata": {},
   "outputs": [],
   "source": [
    "fam17_d = {}\n",
    "for i in fam17.fid.unique():\n",
    "    fam17_d[i] = fam17[fam17.fid==i]"
   ]
  },
  {
   "cell_type": "markdown",
   "id": "c427d61e-8900-461a-b20d-a755800f5c6e",
   "metadata": {},
   "source": [
    "## Read haplotypes"
   ]
  },
  {
   "cell_type": "code",
   "execution_count": null,
   "id": "89467375-a4cd-41cd-9742-fbbecb3f161b",
   "metadata": {},
   "outputs": [
    {
     "name": "stdout",
     "output_type": "stream",
     "text": [
      "../data/wg20220311/chr19test/CACHE/chr19test0\n",
      "246.69868233427405\n",
      "../data/wg20220311/chr19test/CACHE/chr19test1\n",
      "226.53525406122208\n",
      "../data/wg20220311/chr19test/CACHE/chr19test2\n",
      "127.57361337170005\n",
      "../data/wg20220311/chr19test/CACHE/chr19test3\n",
      "165.55025619268417\n",
      "../data/wg20220311/chr19test/CACHE/chr19test4\n",
      "734.3437443822622\n",
      "../data/wg20220311/chr19test/CACHE/chr19test5\n",
      "371.68568187206984\n",
      "../data/wg20220311/chr19test/CACHE/chr19test6\n",
      "382.52671583741903\n",
      "../data/wg20220311/chr19test/CACHE/chr19test7\n",
      "295.4932692013681\n",
      "../data/wg20220311/chr19test/CACHE/chr19test8\n",
      "176.93624715134501\n",
      "../data/wg20220311/chr19test/CACHE/chr19test9\n",
      "449.8376136906445\n",
      "../data/wg20220311/chr19test/CACHE/chr19test10\n",
      "179.24991587921977\n",
      "../data/wg20220311/chr19test/CACHE/chr19test11\n",
      "250.4802982583642\n",
      "../data/wg20220311/chr19test/CACHE/chr19test12\n",
      "209.12226210907102\n",
      "../data/wg20220311/chr19test/CACHE/chr19test13\n",
      "167.27087911218405\n",
      "../data/wg20220311/chr19test/CACHE/chr19test14\n",
      "341.3407261483371\n",
      "../data/wg20220311/chr19test/CACHE/chr19test15\n",
      "183.8684455230832\n",
      "../data/wg20220311/chr19test/CACHE/chr19test16\n",
      "234.65992789715528\n",
      "../data/wg20220311/chr19test/CACHE/chr19test17\n",
      "116.44310833141208\n",
      "../data/wg20220311/chr19test/CACHE/chr19test18\n",
      "465.181110329926\n",
      "../data/wg20220311/chr19test/CACHE/chr19test19\n",
      "314.93221286684275\n",
      "../data/wg20220311/chr19test/CACHE/chr19test20\n",
      "199.13353139162064\n",
      "../data/wg20220311/chr19test/CACHE/chr19test21\n",
      "360.8895874246955\n",
      "../data/wg20220311/chr19test/CACHE/chr19test22\n",
      "249.38048945367336\n",
      "../data/wg20220311/chr19test/CACHE/chr19test23\n",
      "397.32389249280095\n",
      "../data/wg20220311/chr19test/CACHE/chr19test24\n",
      "438.0916141346097\n",
      "../data/wg20220311/chr19test/CACHE/chr19test25\n",
      "418.747190926224\n",
      "../data/wg20220311/chr19test/CACHE/chr19test26\n",
      "450.91320311650634\n",
      "../data/wg20220311/chr19test/CACHE/chr19test27\n",
      "298.2035148665309\n",
      "../data/wg20220311/chr19test/CACHE/chr19test28\n",
      "769.1800200268626\n",
      "../data/wg20220311/chr19test/CACHE/chr19test29\n",
      "522.1791560016572\n",
      "../data/wg20220311/chr19test/CACHE/chr19test30\n",
      "175.69585215300322\n",
      "../data/wg20220311/chr19test/CACHE/chr19test31\n",
      "63.96902146190405\n",
      "../data/wg20220311/chr19test/CACHE/chr19test32\n",
      "83.07708686590195\n",
      "../data/wg20220311/chr19test/CACHE/chr19test33\n",
      "188.53726841509342\n",
      "../data/wg20220311/chr19test/CACHE/chr19test34\n",
      "266.4996408224106\n",
      "../data/wg20220311/chr19test/CACHE/chr19test35\n",
      "301.0497994609177\n",
      "../data/wg20220311/chr19test/CACHE/chr19test36\n",
      "108.01342226564884\n",
      "../data/wg20220311/chr19test/CACHE/chr19test37\n",
      "91.79380647093058\n",
      "../data/wg20220311/chr19test/CACHE/chr19test38\n",
      "158.83478625118732\n",
      "../data/wg20220311/chr19test/CACHE/chr19test39\n",
      "174.07426458597183\n",
      "../data/wg20220311/chr19test/CACHE/chr19test40\n",
      "59.75528388470411\n",
      "../data/wg20220311/chr19test/CACHE/chr19test41\n",
      "242.3184074163437\n",
      "../data/wg20220311/chr19test/CACHE/chr19test42\n",
      "141.62040482833982\n",
      "../data/wg20220311/chr19test/CACHE/chr19test43\n",
      "193.38333348929882\n",
      "../data/wg20220311/chr19test/CACHE/chr19test44\n",
      "155.29518107697368\n",
      "../data/wg20220311/chr19test/CACHE/chr19test45\n",
      "170.0294560343027\n",
      "../data/wg20220311/chr19test/CACHE/chr19test46\n",
      "192.5172960087657\n",
      "../data/wg20220311/chr19test/CACHE/chr19test47\n",
      "221.55996245518327\n",
      "../data/wg20220311/chr19test/CACHE/chr19test48\n",
      "334.3543447367847\n",
      "../data/wg20220311/chr19test/CACHE/chr19test49\n",
      "125.72965789213777\n",
      "../data/wg20220311/chr19test/CACHE/chr19test50\n",
      "94.75110011175275\n",
      "../data/wg20220311/chr19test/CACHE/chr19test51\n",
      "94.10236028209329\n",
      "../data/wg20220311/chr19test/CACHE/chr19test52\n",
      "96.21254800632596\n",
      "../data/wg20220311/chr19test/CACHE/chr19test53\n",
      "196.25384896993637\n",
      "../data/wg20220311/chr19test/CACHE/chr19test54\n",
      "97.54503375664353\n",
      "../data/wg20220311/chr19test/CACHE/chr19test55\n",
      "121.13910657539964\n",
      "../data/wg20220311/chr19test/CACHE/chr19test56\n",
      "320.52897127717733\n",
      "../data/wg20220311/chr19test/CACHE/chr19test57\n",
      "320.17894577234983\n",
      "../data/wg20220311/chr19test/CACHE/chr19test58\n",
      "141.90905804559588\n",
      "../data/wg20220311/chr19test/CACHE/chr19test59\n",
      "115.4900889582932\n",
      "../data/wg20220311/chr19test/CACHE/chr19test60\n",
      "204.84395757690072\n",
      "../data/wg20220311/chr19test/CACHE/chr19test61\n",
      "357.9523642733693\n",
      "../data/wg20220311/chr19test/CACHE/chr19test62\n",
      "104.94768258184195\n",
      "../data/wg20220311/chr19test/CACHE/chr19test63\n",
      "351.9426471143961\n",
      "../data/wg20220311/chr19test/CACHE/chr19test64\n",
      "165.09387378394604\n",
      "../data/wg20220311/chr19test/CACHE/chr19test65\n",
      "94.64297311753035\n",
      "../data/wg20220311/chr19test/CACHE/chr19test66\n",
      "165.06054260209203\n",
      "../data/wg20220311/chr19test/CACHE/chr19test67\n",
      "63.35985392332077\n"
     ]
    }
   ],
   "source": [
    "for i in range(0,68):\n",
    "    print('../data/wg20220311/chr19test/CACHE/chr19test'+str(i))\n",
    "    run_gene_lods('../data/wg20220311/chr19test/CACHE/chr19test'+str(i),fam17_d)"
   ]
  },
  {
   "cell_type": "code",
   "execution_count": null,
   "id": "e99a0d2b-45eb-4726-985d-277457c6f436",
   "metadata": {},
   "outputs": [],
   "source": [
    "def run_gene_lods(file,fam,cutoff=None):\n",
    "    with open(file+'.pickle', 'rb') as handle:\n",
    "        genes = pickle.load(handle)\n",
    "    gene_variants,gene_fam_haps = format_haps_bunch(genes,fam)\n",
    "    if cutoff is not None:\n",
    "        for f,variants in gene_variants.items():\n",
    "            gene_fam_haps[f]=gene_fam_haps[f].loc[:,[True]*6+list(np.repeat((variants.freqs>cutoff)[variants.uniq],2))]\n",
    "    res = parallel_lods(gene_fam_haps.values())\n",
    "    smy_res = sum_variant_lods(res)\n",
    "    with open(file+'cutoff'+str(cutoff)+'.result','wb') as handle:\n",
    "        pickle.dump(smy_res, handle, protocol=pickle.HIGHEST_PROTOCOL)"
   ]
  },
  {
   "cell_type": "code",
   "execution_count": null,
   "id": "1d678d11-9ff3-445b-9718-0f97ca987e06",
   "metadata": {},
   "outputs": [
    {
     "name": "stdout",
     "output_type": "stream",
     "text": [
      "134.5462392270565\n"
     ]
    }
   ],
   "source": [
    "run_gene_lods('../data/wg20220311/chr19test/CACHE/chr19test43',fam17_d,cutoff=0.05)"
   ]
  },
  {
   "cell_type": "code",
   "execution_count": null,
   "id": "65d63416-551e-4777-bdf3-7715fe81e45a",
   "metadata": {},
   "outputs": [],
   "source": [
    "with open('../data/wg20220311/chr19test/CACHE/chr19test43.pickle', 'rb') as handle:\n",
    "    genes = pickle.load(handle)\n",
    "gene_variants,gene_fam_haps = format_haps_bunch(genes,fam17_d)"
   ]
  },
  {
   "cell_type": "code",
   "execution_count": null,
   "id": "76c8fd39-d3e6-49bf-bc20-45ae1fc7d3c9",
   "metadata": {},
   "outputs": [
    {
     "data": {
      "text/html": [
       "<div>\n",
       "<style scoped>\n",
       "    .dataframe tbody tr th:only-of-type {\n",
       "        vertical-align: middle;\n",
       "    }\n",
       "\n",
       "    .dataframe tbody tr th {\n",
       "        vertical-align: top;\n",
       "    }\n",
       "\n",
       "    .dataframe thead th {\n",
       "        text-align: right;\n",
       "    }\n",
       "</style>\n",
       "<table border=\"1\" class=\"dataframe\">\n",
       "  <thead>\n",
       "    <tr style=\"text-align: right;\">\n",
       "      <th></th>\n",
       "      <th>genes</th>\n",
       "      <th>variants</th>\n",
       "      <th>freqs</th>\n",
       "      <th>uniq</th>\n",
       "    </tr>\n",
       "  </thead>\n",
       "  <tbody>\n",
       "    <tr>\n",
       "      <th>0</th>\n",
       "      <td>LOC100379224</td>\n",
       "      <td>chr19:44105534:T:TTTTTA</td>\n",
       "      <td>0.2291</td>\n",
       "      <td>True</td>\n",
       "    </tr>\n",
       "    <tr>\n",
       "      <th>1</th>\n",
       "      <td>LOC100379224</td>\n",
       "      <td>chr19:44105571:T:A</td>\n",
       "      <td>0.2283</td>\n",
       "      <td>True</td>\n",
       "    </tr>\n",
       "    <tr>\n",
       "      <th>2</th>\n",
       "      <td>LOC100379224</td>\n",
       "      <td>chr19:44105679:C:T</td>\n",
       "      <td>0.0131</td>\n",
       "      <td>True</td>\n",
       "    </tr>\n",
       "    <tr>\n",
       "      <th>3</th>\n",
       "      <td>LOC100379224</td>\n",
       "      <td>chr19:44105693:C:G</td>\n",
       "      <td>0.4481</td>\n",
       "      <td>True</td>\n",
       "    </tr>\n",
       "    <tr>\n",
       "      <th>4</th>\n",
       "      <td>LOC100379224</td>\n",
       "      <td>chr19:44105746:C:G</td>\n",
       "      <td>0.0010</td>\n",
       "      <td>True</td>\n",
       "    </tr>\n",
       "    <tr>\n",
       "      <th>...</th>\n",
       "      <td>...</td>\n",
       "      <td>...</td>\n",
       "      <td>...</td>\n",
       "      <td>...</td>\n",
       "    </tr>\n",
       "    <tr>\n",
       "      <th>1745</th>\n",
       "      <td>APOC1</td>\n",
       "      <td>chr19:44918393:G:A</td>\n",
       "      <td>0.0228</td>\n",
       "      <td>True</td>\n",
       "    </tr>\n",
       "    <tr>\n",
       "      <th>1746</th>\n",
       "      <td>APOC1</td>\n",
       "      <td>chr19:44918487:G:T</td>\n",
       "      <td>0.3027</td>\n",
       "      <td>True</td>\n",
       "    </tr>\n",
       "    <tr>\n",
       "      <th>1747</th>\n",
       "      <td>APOC1</td>\n",
       "      <td>chr19:44918620:A:G</td>\n",
       "      <td>0.4856</td>\n",
       "      <td>True</td>\n",
       "    </tr>\n",
       "    <tr>\n",
       "      <th>1748</th>\n",
       "      <td>APOC1</td>\n",
       "      <td>chr19:44918715:AG:A</td>\n",
       "      <td>0.2989</td>\n",
       "      <td>True</td>\n",
       "    </tr>\n",
       "    <tr>\n",
       "      <th>1749</th>\n",
       "      <td>APOC1</td>\n",
       "      <td>chr19:44918903:C:G</td>\n",
       "      <td>0.0986</td>\n",
       "      <td>True</td>\n",
       "    </tr>\n",
       "  </tbody>\n",
       "</table>\n",
       "<p>1750 rows × 4 columns</p>\n",
       "</div>"
      ],
      "text/plain": [
       "             genes                 variants   freqs  uniq\n",
       "0     LOC100379224  chr19:44105534:T:TTTTTA  0.2291  True\n",
       "1     LOC100379224       chr19:44105571:T:A  0.2283  True\n",
       "2     LOC100379224       chr19:44105679:C:T  0.0131  True\n",
       "3     LOC100379224       chr19:44105693:C:G  0.4481  True\n",
       "4     LOC100379224       chr19:44105746:C:G  0.0010  True\n",
       "...            ...                      ...     ...   ...\n",
       "1745         APOC1       chr19:44918393:G:A  0.0228  True\n",
       "1746         APOC1       chr19:44918487:G:T  0.3027  True\n",
       "1747         APOC1       chr19:44918620:A:G  0.4856  True\n",
       "1748         APOC1      chr19:44918715:AG:A  0.2989  True\n",
       "1749         APOC1       chr19:44918903:C:G  0.0986  True\n",
       "\n",
       "[1750 rows x 4 columns]"
      ]
     },
     "execution_count": null,
     "metadata": {},
     "output_type": "execute_result"
    }
   ],
   "source": [
    "gene_variants['1007']"
   ]
  },
  {
   "cell_type": "code",
   "execution_count": null,
   "id": "ae9f1f50-da22-469b-97fe-11c60681a104",
   "metadata": {},
   "outputs": [
    {
     "data": {
      "text/html": [
       "<div>\n",
       "<style scoped>\n",
       "    .dataframe tbody tr th:only-of-type {\n",
       "        vertical-align: middle;\n",
       "    }\n",
       "\n",
       "    .dataframe tbody tr th {\n",
       "        vertical-align: top;\n",
       "    }\n",
       "\n",
       "    .dataframe thead th {\n",
       "        text-align: right;\n",
       "    }\n",
       "</style>\n",
       "<table border=\"1\" class=\"dataframe\">\n",
       "  <thead>\n",
       "    <tr style=\"text-align: right;\">\n",
       "      <th></th>\n",
       "      <th>fid</th>\n",
       "      <th>iid</th>\n",
       "      <th>fathid</th>\n",
       "      <th>mothid</th>\n",
       "      <th>sex</th>\n",
       "      <th>ad</th>\n",
       "      <th>chr19:44105534:T:TTTTTA_A0</th>\n",
       "      <th>chr19:44105534:T:TTTTTA_A1</th>\n",
       "      <th>chr19:44105571:T:A_A0</th>\n",
       "      <th>chr19:44105571:T:A_A1</th>\n",
       "      <th>...</th>\n",
       "      <th>chr19:44917997:G:A_A0</th>\n",
       "      <th>chr19:44917997:G:A_A1</th>\n",
       "      <th>chr19:44918487:G:T_A0</th>\n",
       "      <th>chr19:44918487:G:T_A1</th>\n",
       "      <th>chr19:44918620:A:G_A0</th>\n",
       "      <th>chr19:44918620:A:G_A1</th>\n",
       "      <th>chr19:44918715:AG:A_A0</th>\n",
       "      <th>chr19:44918715:AG:A_A1</th>\n",
       "      <th>chr19:44918903:C:G_A0</th>\n",
       "      <th>chr19:44918903:C:G_A1</th>\n",
       "    </tr>\n",
       "  </thead>\n",
       "  <tbody>\n",
       "    <tr>\n",
       "      <th>1007_39</th>\n",
       "      <td>1007</td>\n",
       "      <td>1007_39</td>\n",
       "      <td>1007_40</td>\n",
       "      <td>1007_4</td>\n",
       "      <td>1</td>\n",
       "      <td>1</td>\n",
       "      <td>1</td>\n",
       "      <td>1</td>\n",
       "      <td>1</td>\n",
       "      <td>1</td>\n",
       "      <td>...</td>\n",
       "      <td>1</td>\n",
       "      <td>1</td>\n",
       "      <td>1</td>\n",
       "      <td>2</td>\n",
       "      <td>2</td>\n",
       "      <td>1</td>\n",
       "      <td>1</td>\n",
       "      <td>2</td>\n",
       "      <td>1</td>\n",
       "      <td>1</td>\n",
       "    </tr>\n",
       "    <tr>\n",
       "      <th>1007_99</th>\n",
       "      <td>1007</td>\n",
       "      <td>1007_99</td>\n",
       "      <td>1007_1</td>\n",
       "      <td>1007_2</td>\n",
       "      <td>2</td>\n",
       "      <td>2</td>\n",
       "      <td>2</td>\n",
       "      <td>2</td>\n",
       "      <td>2</td>\n",
       "      <td>2</td>\n",
       "      <td>...</td>\n",
       "      <td>1</td>\n",
       "      <td>1</td>\n",
       "      <td>1</td>\n",
       "      <td>2</td>\n",
       "      <td>1</td>\n",
       "      <td>1</td>\n",
       "      <td>1</td>\n",
       "      <td>2</td>\n",
       "      <td>2</td>\n",
       "      <td>1</td>\n",
       "    </tr>\n",
       "    <tr>\n",
       "      <th>1007_3</th>\n",
       "      <td>1007</td>\n",
       "      <td>1007_3</td>\n",
       "      <td>1007_1</td>\n",
       "      <td>1007_2</td>\n",
       "      <td>1</td>\n",
       "      <td>2</td>\n",
       "      <td>1</td>\n",
       "      <td>2</td>\n",
       "      <td>1</td>\n",
       "      <td>2</td>\n",
       "      <td>...</td>\n",
       "      <td>1</td>\n",
       "      <td>1</td>\n",
       "      <td>1</td>\n",
       "      <td>2</td>\n",
       "      <td>2</td>\n",
       "      <td>1</td>\n",
       "      <td>1</td>\n",
       "      <td>2</td>\n",
       "      <td>1</td>\n",
       "      <td>1</td>\n",
       "    </tr>\n",
       "    <tr>\n",
       "      <th>1007_5</th>\n",
       "      <td>1007</td>\n",
       "      <td>1007_5</td>\n",
       "      <td>1007_1</td>\n",
       "      <td>1007_2</td>\n",
       "      <td>2</td>\n",
       "      <td>2</td>\n",
       "      <td>1</td>\n",
       "      <td>2</td>\n",
       "      <td>1</td>\n",
       "      <td>2</td>\n",
       "      <td>...</td>\n",
       "      <td>1</td>\n",
       "      <td>2</td>\n",
       "      <td>1</td>\n",
       "      <td>1</td>\n",
       "      <td>2</td>\n",
       "      <td>1</td>\n",
       "      <td>1</td>\n",
       "      <td>1</td>\n",
       "      <td>1</td>\n",
       "      <td>2</td>\n",
       "    </tr>\n",
       "    <tr>\n",
       "      <th>1007_40</th>\n",
       "      <td>1007</td>\n",
       "      <td>1007_40</td>\n",
       "      <td>0</td>\n",
       "      <td>0</td>\n",
       "      <td>1</td>\n",
       "      <td>0</td>\n",
       "      <td>1</td>\n",
       "      <td>0</td>\n",
       "      <td>1</td>\n",
       "      <td>0</td>\n",
       "      <td>...</td>\n",
       "      <td>1</td>\n",
       "      <td>0</td>\n",
       "      <td>2</td>\n",
       "      <td>0</td>\n",
       "      <td>1</td>\n",
       "      <td>0</td>\n",
       "      <td>2</td>\n",
       "      <td>0</td>\n",
       "      <td>1</td>\n",
       "      <td>0</td>\n",
       "    </tr>\n",
       "    <tr>\n",
       "      <th>1007_6</th>\n",
       "      <td>1007</td>\n",
       "      <td>1007_6</td>\n",
       "      <td>1007_1</td>\n",
       "      <td>1007_2</td>\n",
       "      <td>2</td>\n",
       "      <td>2</td>\n",
       "      <td>1</td>\n",
       "      <td>2</td>\n",
       "      <td>1</td>\n",
       "      <td>2</td>\n",
       "      <td>...</td>\n",
       "      <td>1</td>\n",
       "      <td>2</td>\n",
       "      <td>1</td>\n",
       "      <td>1</td>\n",
       "      <td>2</td>\n",
       "      <td>1</td>\n",
       "      <td>1</td>\n",
       "      <td>1</td>\n",
       "      <td>1</td>\n",
       "      <td>2</td>\n",
       "    </tr>\n",
       "    <tr>\n",
       "      <th>1007_1</th>\n",
       "      <td>1007</td>\n",
       "      <td>1007_1</td>\n",
       "      <td>0</td>\n",
       "      <td>0</td>\n",
       "      <td>1</td>\n",
       "      <td>0</td>\n",
       "      <td>2</td>\n",
       "      <td>2</td>\n",
       "      <td>2</td>\n",
       "      <td>2</td>\n",
       "      <td>...</td>\n",
       "      <td>2</td>\n",
       "      <td>1</td>\n",
       "      <td>1</td>\n",
       "      <td>2</td>\n",
       "      <td>1</td>\n",
       "      <td>1</td>\n",
       "      <td>1</td>\n",
       "      <td>2</td>\n",
       "      <td>2</td>\n",
       "      <td>1</td>\n",
       "    </tr>\n",
       "    <tr>\n",
       "      <th>1007_2</th>\n",
       "      <td>1007</td>\n",
       "      <td>1007_2</td>\n",
       "      <td>0</td>\n",
       "      <td>0</td>\n",
       "      <td>2</td>\n",
       "      <td>0</td>\n",
       "      <td>1</td>\n",
       "      <td>2</td>\n",
       "      <td>1</td>\n",
       "      <td>2</td>\n",
       "      <td>...</td>\n",
       "      <td>1</td>\n",
       "      <td>1</td>\n",
       "      <td>1</td>\n",
       "      <td>1</td>\n",
       "      <td>2</td>\n",
       "      <td>1</td>\n",
       "      <td>1</td>\n",
       "      <td>1</td>\n",
       "      <td>1</td>\n",
       "      <td>2</td>\n",
       "    </tr>\n",
       "    <tr>\n",
       "      <th>1007_4</th>\n",
       "      <td>1007</td>\n",
       "      <td>1007_4</td>\n",
       "      <td>1007_1</td>\n",
       "      <td>1007_2</td>\n",
       "      <td>2</td>\n",
       "      <td>0</td>\n",
       "      <td>1</td>\n",
       "      <td>2</td>\n",
       "      <td>1</td>\n",
       "      <td>2</td>\n",
       "      <td>...</td>\n",
       "      <td>1</td>\n",
       "      <td>2</td>\n",
       "      <td>1</td>\n",
       "      <td>1</td>\n",
       "      <td>2</td>\n",
       "      <td>1</td>\n",
       "      <td>1</td>\n",
       "      <td>1</td>\n",
       "      <td>1</td>\n",
       "      <td>2</td>\n",
       "    </tr>\n",
       "  </tbody>\n",
       "</table>\n",
       "<p>9 rows × 2470 columns</p>\n",
       "</div>"
      ],
      "text/plain": [
       "          fid      iid   fathid  mothid  sex  ad  chr19:44105534:T:TTTTTA_A0  \\\n",
       "1007_39  1007  1007_39  1007_40  1007_4    1   1                           1   \n",
       "1007_99  1007  1007_99   1007_1  1007_2    2   2                           2   \n",
       "1007_3   1007   1007_3   1007_1  1007_2    1   2                           1   \n",
       "1007_5   1007   1007_5   1007_1  1007_2    2   2                           1   \n",
       "1007_40  1007  1007_40        0       0    1   0                           1   \n",
       "1007_6   1007   1007_6   1007_1  1007_2    2   2                           1   \n",
       "1007_1   1007   1007_1        0       0    1   0                           2   \n",
       "1007_2   1007   1007_2        0       0    2   0                           1   \n",
       "1007_4   1007   1007_4   1007_1  1007_2    2   0                           1   \n",
       "\n",
       "         chr19:44105534:T:TTTTTA_A1  chr19:44105571:T:A_A0  \\\n",
       "1007_39                           1                      1   \n",
       "1007_99                           2                      2   \n",
       "1007_3                            2                      1   \n",
       "1007_5                            2                      1   \n",
       "1007_40                           0                      1   \n",
       "1007_6                            2                      1   \n",
       "1007_1                            2                      2   \n",
       "1007_2                            2                      1   \n",
       "1007_4                            2                      1   \n",
       "\n",
       "         chr19:44105571:T:A_A1  ...  chr19:44917997:G:A_A0  \\\n",
       "1007_39                      1  ...                      1   \n",
       "1007_99                      2  ...                      1   \n",
       "1007_3                       2  ...                      1   \n",
       "1007_5                       2  ...                      1   \n",
       "1007_40                      0  ...                      1   \n",
       "1007_6                       2  ...                      1   \n",
       "1007_1                       2  ...                      2   \n",
       "1007_2                       2  ...                      1   \n",
       "1007_4                       2  ...                      1   \n",
       "\n",
       "         chr19:44917997:G:A_A1  chr19:44918487:G:T_A0  chr19:44918487:G:T_A1  \\\n",
       "1007_39                      1                      1                      2   \n",
       "1007_99                      1                      1                      2   \n",
       "1007_3                       1                      1                      2   \n",
       "1007_5                       2                      1                      1   \n",
       "1007_40                      0                      2                      0   \n",
       "1007_6                       2                      1                      1   \n",
       "1007_1                       1                      1                      2   \n",
       "1007_2                       1                      1                      1   \n",
       "1007_4                       2                      1                      1   \n",
       "\n",
       "         chr19:44918620:A:G_A0  chr19:44918620:A:G_A1  chr19:44918715:AG:A_A0  \\\n",
       "1007_39                      2                      1                       1   \n",
       "1007_99                      1                      1                       1   \n",
       "1007_3                       2                      1                       1   \n",
       "1007_5                       2                      1                       1   \n",
       "1007_40                      1                      0                       2   \n",
       "1007_6                       2                      1                       1   \n",
       "1007_1                       1                      1                       1   \n",
       "1007_2                       2                      1                       1   \n",
       "1007_4                       2                      1                       1   \n",
       "\n",
       "         chr19:44918715:AG:A_A1  chr19:44918903:C:G_A0  chr19:44918903:C:G_A1  \n",
       "1007_39                       2                      1                      1  \n",
       "1007_99                       2                      2                      1  \n",
       "1007_3                        2                      1                      1  \n",
       "1007_5                        1                      1                      2  \n",
       "1007_40                       0                      1                      0  \n",
       "1007_6                        1                      1                      2  \n",
       "1007_1                        2                      2                      1  \n",
       "1007_2                        1                      1                      2  \n",
       "1007_4                        1                      1                      2  \n",
       "\n",
       "[9 rows x 2470 columns]"
      ]
     },
     "execution_count": null,
     "metadata": {},
     "output_type": "execute_result"
    }
   ],
   "source": [
    "gene_fam_haps['1007'].loc[:,[True]*6+list(np.repeat(gene_variants['1007']['freqs']>0.05,2))]"
   ]
  },
  {
   "cell_type": "code",
   "execution_count": null,
   "id": "cfd911b2-1c9d-4669-8084-eab790bf71a1",
   "metadata": {},
   "outputs": [],
   "source": [
    "smy_ress=[]\n",
    "for i in range(0,68):\n",
    "    with open('../data/wg20220311/chr19test/CACHE/chr19test'+str(i)+'.result', 'rb') as handle:\n",
    "        smy_ress.append(pickle.load(handle))"
   ]
  },
  {
   "cell_type": "code",
   "execution_count": null,
   "id": "0596fff8-de29-45bd-84c4-2f7088e8396e",
   "metadata": {},
   "outputs": [],
   "source": [
    "smy_ress = pd.concat(smy_ress)"
   ]
  },
  {
   "cell_type": "code",
   "execution_count": null,
   "id": "8f88cf45-19a2-43dd-803e-ba658f773bc4",
   "metadata": {},
   "outputs": [],
   "source": [
    "smy_ress = smy_ress.reset_index(drop=True)"
   ]
  },
  {
   "cell_type": "code",
   "execution_count": null,
   "id": "4d679ea9-10e9-4684-847a-10d918a42e45",
   "metadata": {},
   "outputs": [],
   "source": [
    "import matplotlib.pyplot as plt"
   ]
  },
  {
   "cell_type": "code",
   "execution_count": null,
   "id": "8c2ad347-054f-422f-809b-23a0aaf5ff9c",
   "metadata": {},
   "outputs": [
    {
     "data": {
      "text/plain": [
       "-245.93826248735394"
      ]
     },
     "execution_count": null,
     "metadata": {},
     "output_type": "execute_result"
    }
   ],
   "source": [
    "min(smy_ress.LOD)"
   ]
  },
  {
   "cell_type": "code",
   "execution_count": null,
   "id": "837b7797-6ba6-4414-9fb0-3a9c1f96cd53",
   "metadata": {},
   "outputs": [
    {
     "data": {
      "text/plain": [
       "0"
      ]
     },
     "execution_count": null,
     "metadata": {},
     "output_type": "execute_result"
    }
   ],
   "source": [
    "sum(smy_ress.LOD.isna())"
   ]
  },
  {
   "cell_type": "code",
   "execution_count": null,
   "id": "57554615-f393-4d14-9648-e32ee73760c8",
   "metadata": {},
   "outputs": [],
   "source": [
    "tmp = smy_ress.LOD"
   ]
  },
  {
   "cell_type": "code",
   "execution_count": null,
   "id": "13a2879f-c50c-4bff-a533-2fb4175ba1fd",
   "metadata": {},
   "outputs": [
    {
     "data": {
      "text/plain": [
       "<AxesSubplot:>"
      ]
     },
     "execution_count": null,
     "metadata": {},
     "output_type": "execute_result"
    },
    {
     "data": {
      "image/png": "[encoded data removed]",
      "text/plain": [
       "<Figure size 432x288 with 1 Axes>"
      ]
     },
     "metadata": {
      "needs_background": "light"
     },
     "output_type": "display_data"
    }
   ],
   "source": [
    "tmp.plot()"
   ]
  },
  {
   "cell_type": "code",
   "execution_count": null,
   "id": "f409e21d-12e4-479c-ae83-88330042094c",
   "metadata": {},
   "outputs": [
    {
     "name": "stderr",
     "output_type": "stream",
     "text": [
      "/tmp/2293088.1.high_mem.q/ipykernel_15496/2345529312.py:1: SettingWithCopyWarning: \n",
      "A value is trying to be set on a copy of a slice from a DataFrame\n",
      "\n",
      "See the caveats in the documentation: https://pandas.pydata.org/pandas-docs/stable/user_guide/indexing.html#returning-a-view-versus-a-copy\n",
      "  tmp[tmp<0]=0\n"
     ]
    }
   ],
   "source": [
    "tmp[tmp<0]=0"
   ]
  },
  {
   "cell_type": "code",
   "execution_count": null,
   "id": "9eebd1b2-793e-4ad3-8f95-c5149424dc54",
   "metadata": {},
   "outputs": [
    {
     "data": {
      "text/plain": [
       "<AxesSubplot:>"
      ]
     },
     "execution_count": null,
     "metadata": {},
     "output_type": "execute_result"
    },
    {
     "data": {
      "image/png": "[encoded data removed]",
      "text/plain": [
       "<Figure size 432x288 with 1 Axes>"
      ]
     },
     "metadata": {
      "needs_background": "light"
     },
     "output_type": "display_data"
    }
   ],
   "source": [
    "tmp.plot()"
   ]
  },
  {
   "cell_type": "code",
   "execution_count": null,
   "id": "f91728d2-b063-4d40-87b7-5c5e9623d8ec",
   "metadata": {},
   "outputs": [],
   "source": [
    "with open('../data/wg20220311/chr19test/CACHE/common_variants.pickle','rb') as handle:\n",
    "    com_vars = pickle.load(handle)"
   ]
  },
  {
   "cell_type": "code",
   "execution_count": null,
   "id": "62d59382-6a1d-4ca6-8a64-5884b3a4fdff",
   "metadata": {},
   "outputs": [],
   "source": [
    "smy_ress_com = smy_ress[smy_ress.SNP.isin(com_vars)]"
   ]
  },
  {
   "cell_type": "code",
   "execution_count": null,
   "id": "5fc6eb91-25d4-4b0f-a9f2-b326cff9a47c",
   "metadata": {},
   "outputs": [
    {
     "data": {
      "text/plain": [
       "<AxesSubplot:>"
      ]
     },
     "execution_count": null,
     "metadata": {},
     "output_type": "execute_result"
    },
    {
     "data": {
      "image/png": "[encoded data removed]",
      "text/plain": [
       "<Figure size 432x288 with 1 Axes>"
      ]
     },
     "metadata": {
      "needs_background": "light"
     },
     "output_type": "display_data"
    }
   ],
   "source": [
    "smy_ress.LOD.hist()"
   ]
  },
  {
   "cell_type": "code",
   "execution_count": null,
   "id": "415d48cd-ef0a-44a4-a76e-17cf26b574f9",
   "metadata": {},
   "outputs": [
    {
     "data": {
      "text/plain": [
       "<AxesSubplot:>"
      ]
     },
     "execution_count": null,
     "metadata": {},
     "output_type": "execute_result"
    },
    {
     "data": {
      "image/png": "[encoded data removed]",
      "text/plain": [
       "<Figure size 432x288 with 1 Axes>"
      ]
     },
     "metadata": {
      "needs_background": "light"
     },
     "output_type": "display_data"
    }
   ],
   "source": [
    "smy_ress.LOD.plot()"
   ]
  },
  {
   "cell_type": "code",
   "execution_count": null,
   "id": "bfb0ab1e-6c70-4ec6-9f25-5d7cab85aa10",
   "metadata": {},
   "outputs": [
    {
     "data": {
      "text/plain": [
       "<AxesSubplot:>"
      ]
     },
     "execution_count": null,
     "metadata": {},
     "output_type": "execute_result"
    },
    {
     "data": {
      "image/png": "[encoded data removed]",
      "text/plain": [
       "<Figure size 432x288 with 1 Axes>"
      ]
     },
     "metadata": {
      "needs_background": "light"
     },
     "output_type": "display_data"
    }
   ],
   "source": [
    "smy_ress_com.LOD.plot()"
   ]
  },
  {
   "cell_type": "code",
   "execution_count": null,
   "id": "fe3523c9-6279-45ba-b4e7-4dcf14f3d9b2",
   "metadata": {},
   "outputs": [
    {
     "data": {
      "text/plain": [
       "0         False\n",
       "2         False\n",
       "3         False\n",
       "4         False\n",
       "6         False\n",
       "          ...  \n",
       "747080    False\n",
       "747081    False\n",
       "747094    False\n",
       "747096    False\n",
       "747166    False\n",
       "Name: POS, Length: 126370, dtype: bool"
      ]
     },
     "execution_count": null,
     "metadata": {},
     "output_type": "execute_result"
    }
   ],
   "source": [
    "(smy_ress_com.POS>44905795) & (smy_ress_com.POS<44909395)"
   ]
  },
  {
   "cell_type": "code",
   "execution_count": null,
   "id": "8ed12e86-c3f1-46fe-8647-b392875aa6af",
   "metadata": {},
   "outputs": [
    {
     "data": {
      "text/plain": [
       "0         False\n",
       "2         False\n",
       "3         False\n",
       "4         False\n",
       "6         False\n",
       "          ...  \n",
       "747080    False\n",
       "747081    False\n",
       "747094    False\n",
       "747096    False\n",
       "747166    False\n",
       "Name: POS, Length: 126370, dtype: bool"
      ]
     },
     "execution_count": null,
     "metadata": {},
     "output_type": "execute_result"
    }
   ],
   "source": [
    "(smy_ress_com.POS>44905795) & (smy_ress_com.POS<44909395)"
   ]
  },
  {
   "cell_type": "code",
   "execution_count": null,
   "id": "7c54117f-0d48-49ad-aa7b-b8a39984de55",
   "metadata": {},
   "outputs": [],
   "source": [
    "col = pd.Series(['blue']*len(smy_ress_com.LOD))\n",
    "col[list((smy_ress_com.POS>4905795) & (smy_ress_com.POS<44909395))]='red'"
   ]
  },
  {
   "cell_type": "code",
   "execution_count": null,
   "id": "333d39bd-e87f-4fd9-9fec-766c700c6b80",
   "metadata": {},
   "outputs": [
    {
     "data": {
      "text/plain": [
       "5"
      ]
     },
     "execution_count": null,
     "metadata": {},
     "output_type": "execute_result"
    }
   ],
   "source": [
    "sum((smy_ress_com.POS>44905795) & (smy_ress_com.POS<44909395))"
   ]
  },
  {
   "cell_type": "code",
   "execution_count": null,
   "id": "46239df6-a9c2-4239-879c-e4e42ed6abe7",
   "metadata": {},
   "outputs": [
    {
     "data": {
      "text/plain": [
       "<AxesSubplot:>"
      ]
     },
     "execution_count": null,
     "metadata": {},
     "output_type": "execute_result"
    },
    {
     "data": {
      "image/png": "[encoded data removed]",
      "text/plain": [
       "<Figure size 432x288 with 1 Axes>"
      ]
     },
     "metadata": {
      "needs_background": "light"
     },
     "output_type": "display_data"
    }
   ],
   "source": [
    "#smy_ress_com.LOD.plot(color=list(col))\n",
    "smy_ress_com[(smy_ress_com.POS>44905795) & (smy_ress_com.POS<44909395)].LOD.plot(color='red')"
   ]
  },
  {
   "cell_type": "code",
   "execution_count": null,
   "id": "a206e36d-9ade-45ab-afe9-60987d22ef1c",
   "metadata": {},
   "outputs": [
    {
     "data": {
      "text/plain": [
       "<AxesSubplot:>"
      ]
     },
     "execution_count": null,
     "metadata": {},
     "output_type": "execute_result"
    },
    {
     "data": {
      "image/png": "[encoded data removed]",
      "text/plain": [
       "<Figure size 432x288 with 1 Axes>"
      ]
     },
     "metadata": {
      "needs_background": "light"
     },
     "output_type": "display_data"
    }
   ],
   "source": [
    "#smy_ress_com.LOD.plot(color=list(col))\n",
    "smy_ress[(smy_ress.POS>44905795) & (smy_ress.POS<44909395)].LOD.plot(color='red')"
   ]
  },
  {
   "cell_type": "code",
   "execution_count": null,
   "id": "1cdf7374-c2b3-455b-be47-5d625cf9b212",
   "metadata": {},
   "outputs": [],
   "source": [
    "tmp = apoe_haps[166]"
   ]
  },
  {
   "cell_type": "code",
   "execution_count": null,
   "id": "b0c0b38a-13a5-4009-854a-4d32dce134d4",
   "metadata": {},
   "outputs": [],
   "source": [
    "tmpped = pedtools.as_ped(tmp.loc[:,tmp.columns!='ad'],famid_col = 1,id_col = 2,fid_col = 3,mid_col = 4,sex_col = 5)"
   ]
  },
  {
   "cell_type": "code",
   "execution_count": null,
   "id": "0961f084-332d-4e5f-80a4-246c17956386",
   "metadata": {},
   "outputs": [],
   "source": [
    "modAD = paramlink2.diseaseModel(model = \"AD\",chrom = \"AUTOSOMAL\",penetrances = pd.Series([0.01,0.9,0.9]),dfreq=0.001)"
   ]
  },
  {
   "cell_type": "code",
   "execution_count": null,
   "id": "f3fa69c8-1438-4c9c-867b-30da03a3c329",
   "metadata": {},
   "outputs": [],
   "source": [
    "res = paramlink2.lod(tmpped, aff = tmp.ad, model = modAD,rho=0)"
   ]
  },
  {
   "cell_type": "code",
   "execution_count": null,
   "id": "5b68121a-f5c2-40b3-93c1-d38752f5055e",
   "metadata": {},
   "outputs": [],
   "source": [
    "a = pd.Series(res)"
   ]
  },
  {
   "cell_type": "code",
   "execution_count": null,
   "id": "6269387b-9b02-4bec-a842-bb47b0325544",
   "metadata": {},
   "outputs": [],
   "source": [
    "a.index = list(res.MARKER)"
   ]
  },
  {
   "cell_type": "code",
   "execution_count": null,
   "id": "35fa5e6b-656b-412c-8fd3-9d9b3a15d1ef",
   "metadata": {},
   "outputs": [
    {
     "data": {
      "text/plain": [
       "V1-44905910_A0     0.394206\n",
       "V18-44906745_A0    1.209667\n",
       "V25-44907187_A0   -0.018740\n",
       "V49-44908684_A0    1.382766\n",
       "V52-44908822_A0    0.000000\n",
       "Name: LOD, dtype: float64"
      ]
     },
     "execution_count": null,
     "metadata": {},
     "output_type": "execute_result"
    }
   ],
   "source": [
    "a"
   ]
  },
  {
   "cell_type": "code",
   "execution_count": null,
   "id": "7dab2b15-965b-4ed3-9cd0-f34ad197be47",
   "metadata": {},
   "outputs": [
    {
     "ename": "TypeError",
     "evalue": "'RTYPES' object is not callable",
     "output_type": "error",
     "traceback": [
      "\u001b[0;31m---------------------------------------------------------------------------\u001b[0m",
      "\u001b[0;31mTypeError\u001b[0m                                 Traceback (most recent call last)",
      "Input \u001b[0;32mIn [108]\u001b[0m, in \u001b[0;36m<cell line: 1>\u001b[0;34m()\u001b[0m\n\u001b[0;32m----> 1\u001b[0m \u001b[43mtmpped\u001b[49m\u001b[38;5;241;43m.\u001b[39;49m\u001b[43mtypeof\u001b[49m\u001b[43m(\u001b[49m\u001b[43m)\u001b[49m\n",
      "\u001b[0;31mTypeError\u001b[0m: 'RTYPES' object is not callable"
     ]
    }
   ],
   "source": [
    "tmpped.typeof()"
   ]
  },
  {
   "cell_type": "code",
   "execution_count": null,
   "id": "d8851224-4c8e-4be0-b351-d2ba80634fb0",
   "metadata": {},
   "outputs": [
    {
     "data": {
      "text/html": [
       "<div>\n",
       "<style scoped>\n",
       "    .dataframe tbody tr th:only-of-type {\n",
       "        vertical-align: middle;\n",
       "    }\n",
       "\n",
       "    .dataframe tbody tr th {\n",
       "        vertical-align: top;\n",
       "    }\n",
       "\n",
       "    .dataframe thead th {\n",
       "        text-align: right;\n",
       "    }\n",
       "</style>\n",
       "<table border=\"1\" class=\"dataframe\">\n",
       "  <thead>\n",
       "    <tr style=\"text-align: right;\">\n",
       "      <th></th>\n",
       "      <th>MARKER</th>\n",
       "      <th>LOD</th>\n",
       "    </tr>\n",
       "  </thead>\n",
       "  <tbody>\n",
       "    <tr>\n",
       "      <th>1</th>\n",
       "      <td>V1-44905910_A0</td>\n",
       "      <td>0.394206</td>\n",
       "    </tr>\n",
       "    <tr>\n",
       "      <th>2</th>\n",
       "      <td>V18-44906745_A0</td>\n",
       "      <td>1.209667</td>\n",
       "    </tr>\n",
       "    <tr>\n",
       "      <th>3</th>\n",
       "      <td>V25-44907187_A0</td>\n",
       "      <td>-0.018740</td>\n",
       "    </tr>\n",
       "    <tr>\n",
       "      <th>4</th>\n",
       "      <td>V49-44908684_A0</td>\n",
       "      <td>1.382766</td>\n",
       "    </tr>\n",
       "    <tr>\n",
       "      <th>5</th>\n",
       "      <td>V52-44908822_A0</td>\n",
       "      <td>0.000000</td>\n",
       "    </tr>\n",
       "  </tbody>\n",
       "</table>\n",
       "</div>"
      ],
      "text/plain": [
       "            MARKER       LOD\n",
       "1   V1-44905910_A0  0.394206\n",
       "2  V18-44906745_A0  1.209667\n",
       "3  V25-44907187_A0 -0.018740\n",
       "4  V49-44908684_A0  1.382766\n",
       "5  V52-44908822_A0  0.000000"
      ]
     },
     "execution_count": null,
     "metadata": {},
     "output_type": "execute_result"
    }
   ],
   "source": [
    "pd.DataFrame(res)[['MARKER','LOD']]"
   ]
  },
  {
   "cell_type": "code",
   "execution_count": null,
   "id": "cdc55d7d-cf80-4be3-8739-47ca7b2332c6",
   "metadata": {},
   "outputs": [
    {
     "data": {
      "text/html": [
       "\n",
       "        <span>ListVector with 3 elements.</span>\n",
       "        <table>\n",
       "        <tbody>\n",
       "        \n",
       "          <tr>\n",
       "            <th>\n",
       "            chrom\n",
       "            </th>\n",
       "            <td>\n",
       "            <rpy2.rinterface_lib.sexp.StrSexpVector object at 0x2b7e37cd6540> [RTYPES.STRSXP]\n",
       "            </td>\n",
       "          </tr>\n",
       "        \n",
       "          <tr>\n",
       "            <th>\n",
       "            penetrances\n",
       "            </th>\n",
       "            <td>\n",
       "            <rpy2.rinterface.FloatSexpVector object at 0x2b7e37cd6580> [RTYPES.REALSXP]\n",
       "            </td>\n",
       "          </tr>\n",
       "        \n",
       "          <tr>\n",
       "            <th>\n",
       "            dfreq\n",
       "            </th>\n",
       "            <td>\n",
       "            <rpy2.rinterface.FloatSexpVector object at 0x2b7e37cd5f40> [RTYPES.REALSXP]\n",
       "            </td>\n",
       "          </tr>\n",
       "        \n",
       "        </tbody>\n",
       "        </table>\n",
       "        "
      ],
      "text/plain": [
       "<rpy2.robjects.vectors.ListVector object at 0x2b7e37cc3900> [RTYPES.VECSXP]\n",
       "R classes: ('disModel',)\n",
       "[StrSexpVector, FloatSexpVector, FloatSexpVector]\n",
       "  chrom: <class 'rpy2.rinterface_lib.sexp.StrSexpVector'>\n",
       "  <rpy2.rinterface_lib.sexp.StrSexpVector object at 0x2b7e37cd7c80> [RTYPES.STRSXP]\n",
       "  penetrances: <class 'rpy2.rinterface.FloatSexpVector'>\n",
       "  <rpy2.rinterface.FloatSexpVector object at 0x2b7e37cd6580> [RTYPES.REALSXP]\n",
       "  dfreq: <class 'rpy2.rinterface.FloatSexpVector'>\n",
       "  <rpy2.rinterface.FloatSexpVector object at 0x2b7e37cd7c80> [RTYPES.REALSXP]"
      ]
     },
     "execution_count": null,
     "metadata": {},
     "output_type": "execute_result"
    }
   ],
   "source": [
    "modAD"
   ]
  },
  {
   "cell_type": "code",
   "execution_count": null,
   "id": "0b1397bd-0691-4ddf-af9a-96def237d167",
   "metadata": {},
   "outputs": [
    {
     "data": {
      "text/plain": [
       "\u001b[0;31mSignature:\u001b[0m   \u001b[0mtime_series\u001b[0m\u001b[0;34m(\u001b[0m\u001b[0;34m*\u001b[0m\u001b[0margs\u001b[0m\u001b[0;34m,\u001b[0m \u001b[0;34m**\u001b[0m\u001b[0mkwargs\u001b[0m\u001b[0;34m)\u001b[0m\u001b[0;34m\u001b[0m\u001b[0;34m\u001b[0m\u001b[0m\n",
       "\u001b[0;31mType:\u001b[0m        SignatureTranslatedFunction\n",
       "\u001b[0;31mString form:\u001b[0m\n",
       "function (data = NA, start = 1, end = numeric(), frequency = 1,\n",
       "           deltat = 1, ts.eps = getOpti <...> ttr(data, \"class\") <- class\n",
       "           data\n",
       "           }\n",
       "           <bytecode: 0x55899c43bdd0>\n",
       "           <environment: namespace:stats>\n",
       "           \n",
       "\u001b[0;31mFile:\u001b[0m        ~/miniconda3/envs/rpy2/lib/python3.10/site-packages/rpy2/robjects/functions.py\n",
       "\u001b[0;31mDocstring:\u001b[0m  \n",
       "Python representation of an R function, where\n",
       "the names in named argument are translated to valid\n",
       "argument names in Python. \n"
      ]
     },
     "metadata": {},
     "output_type": "display_data"
    }
   ],
   "source": [
    "?time_series"
   ]
  },
  {
   "cell_type": "code",
   "execution_count": null,
   "id": "069b61d6-4226-4ddb-93d3-0acce5be6125",
   "metadata": {},
   "outputs": [],
   "source": [
    "import pandas as pd"
   ]
  },
  {
   "cell_type": "code",
   "execution_count": null,
   "id": "cd5039e7-d73b-447a-938e-85636452da38",
   "metadata": {},
   "outputs": [
    {
     "ename": "NameError",
     "evalue": "name 'df' is not defined",
     "output_type": "error",
     "traceback": [
      "\u001b[0;31m---------------------------------------------------------------------------\u001b[0m",
      "\u001b[0;31mNameError\u001b[0m                                 Traceback (most recent call last)",
      "Input \u001b[0;32mIn [8]\u001b[0m, in \u001b[0;36m<cell line: 2>\u001b[0;34m()\u001b[0m\n\u001b[1;32m      1\u001b[0m \u001b[38;5;66;03m#converting the training data into an R time series object\u001b[39;00m\n\u001b[0;32m----> 2\u001b[0m r_times_series_data\u001b[38;5;241m=\u001b[39mtime_series(\u001b[43mdf\u001b[49m[\u001b[38;5;124m\"\u001b[39m\u001b[38;5;124mActuals\u001b[39m\u001b[38;5;124m\"\u001b[39m]\u001b[38;5;241m.\u001b[39mvalues,frequency\u001b[38;5;241m=\u001b[39m\u001b[38;5;241m12\u001b[39m)\n",
      "\u001b[0;31mNameError\u001b[0m: name 'df' is not defined"
     ]
    }
   ],
   "source": [
    "#converting the training data into an R time series object\n",
    "r_times_series_data=time_series(df[\"Actuals\"].values,frequency=12)"
   ]
  },
  {
   "cell_type": "code",
   "execution_count": null,
   "id": "db09b971-abb2-45ea-8086-d186f8e4556c",
   "metadata": {},
   "outputs": [],
   "source": [
    "#Import the SignatureTranslatedAnonymousPackage \n",
    "from rpy2.robjects.packages import STAP\n",
    "#Read the file with the R code snippet\n",
    "with open('mlink.r', 'r') as f:\n",
    "    string = f.read()\n",
    "#Parse using STAP\n",
    "mlink_in_python= STAP(string, \"mlink\")"
   ]
  },
  {
   "cell_type": "code",
   "execution_count": null,
   "id": "ecddd953-0677-459c-ba85-0e3cf6c2efe5",
   "metadata": {},
   "outputs": [
    {
     "data": {
      "text/plain": [
       "\u001b[0;31mType:\u001b[0m            SignatureTranslatedAnonymousPackage\n",
       "\u001b[0;31mString form:\u001b[0m     rpy2.robjects.packages.Package as a <module 'mlink'>\n",
       "\u001b[0;31mFile:\u001b[0m            ~/miniconda3/envs/rpy2/lib/python3.10/site-packages/rpy2/robjects/packages.py\n",
       "\u001b[0;31mDocstring:\u001b[0m       <no docstring>\n",
       "\u001b[0;31mClass docstring:\u001b[0m\n",
       "R package in which the R functions had their signatures\n",
       "'translated' (that this the named parameters were made to\n",
       "to conform Python's rules for vaiable names).\n",
       "\u001b[0;31mInit docstring:\u001b[0m \n",
       "Create a Python module-like object from an R environment,\n",
       "using the specified translation if defined.\n",
       "\n",
       "- env: R environment\n",
       "- name: package name\n",
       "- translation: `dict` with R names as keys and corresponding Python\n",
       "               names as values\n",
       "- exported_names: `set` of names/symbols to expose to instance users\n",
       "- on_conflict: 'fail' or 'warn' (default: 'fail')\n",
       "- version: version string for the package\n",
       "- symbol_r2python: function to convert R symbols into Python symbols.\n",
       "                   The default translate `.` into `_`.\n",
       "- symbol_resolve: function to check the Python symbols obtained\n",
       "                  from `symbol_r2python`.\n"
      ]
     },
     "metadata": {},
     "output_type": "display_data"
    }
   ],
   "source": [
    "?mlink_in_python"
   ]
  },
  {
   "cell_type": "code",
   "execution_count": null,
   "id": "6e8859c8-bf19-49ce-83b2-7581092f2928",
   "metadata": {},
   "outputs": [],
   "source": []
  }
 ],
 "metadata": {
  "kernelspec": {
   "display_name": "Python 3 (ipykernel)",
   "language": "python",
   "name": "python3"
  }
 },
 "nbformat": 4,
 "nbformat_minor": 5
}
