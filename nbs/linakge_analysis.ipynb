{
 "cells": [
  {
   "cell_type": "code",
   "execution_count": null,
   "id": "f4c539b1-53ee-4928-8764-7943f4ecc072",
   "metadata": {},
   "outputs": [],
   "source": [
    "import numpy as np\n",
    "import pandas as pd\n",
    "import pickle"
   ]
  },
  {
   "cell_type": "code",
   "execution_count": null,
   "id": "74b1e16d-8223-47a3-bb26-9b731022f5ce",
   "metadata": {},
   "outputs": [],
   "source": [
    "#Import necessary packages\n",
    "import rpy2.robjects as robjects\n",
    "from rpy2.robjects.packages import importr\n",
    "from rpy2.robjects import pandas2ri\n",
    "#Must be activated\n",
    "pandas2ri.activate()\n",
    "paramlink2=importr('paramlink2')\n",
    "pedprobr=importr('pedprobr')\n",
    "pedtools = importr('pedtools')"
   ]
  },
  {
   "cell_type": "code",
   "execution_count": null,
   "id": "a4966438-4d1e-46a3-b99e-e4ab943981e4",
   "metadata": {},
   "outputs": [],
   "source": [
    "import time\n",
    "from concurrent.futures import ProcessPoolExecutor"
   ]
  },
  {
   "cell_type": "markdown",
   "id": "6ddf95fc-ccd9-40c3-8507-b898b976ddd8",
   "metadata": {},
   "source": [
    "## Functions to deal with haplotypes"
   ]
  },
  {
   "cell_type": "code",
   "execution_count": null,
   "id": "ed5e42f9-3580-4c8a-b4bb-8472cc03c4a3",
   "metadata": {},
   "outputs": [],
   "source": [
    "def get_allele(s):\n",
    "    a = s[1] if s[0].isupper() else s[0]\n",
    "    return 0 if a=='?' else int(a)"
   ]
  },
  {
   "cell_type": "code",
   "execution_count": null,
   "id": "94378956-acf5-4e37-b154-392dde944e3f",
   "metadata": {},
   "outputs": [],
   "source": [
    "def name_haps(snps):\n",
    "    name = []\n",
    "    for i in snps:\n",
    "        name += [i+'_A0',i+'_A1']\n",
    "    return name"
   ]
  },
  {
   "cell_type": "code",
   "execution_count": null,
   "id": "e067a2cf-9efc-4de2-8776-7db5ebdfc4b5",
   "metadata": {},
   "outputs": [],
   "source": [
    "def get_fam_hap(haps,name=None):\n",
    "    new_haps,new_iid = [],[]\n",
    "    iid = haps[:,1]\n",
    "    haps = haps[:,2:]\n",
    "    for i in range(0,haps.shape[0],2):\n",
    "        new_iid.append(iid[i])\n",
    "        hap_a01 = []\n",
    "        for a0,a1 in zip(haps[i],haps[i+1]):\n",
    "            hap_a01 += [get_allele(a0),get_allele(a1)]\n",
    "        new_haps.append(hap_a01)\n",
    "    new_haps = pd.DataFrame(new_haps)\n",
    "    new_haps.index = new_iid\n",
    "    if name is not None:\n",
    "        new_haps.columns = name\n",
    "    return new_haps"
   ]
  },
  {
   "cell_type": "markdown",
   "id": "5c28433b-0f20-488e-8eb0-67f1bc397eae",
   "metadata": {},
   "source": [
    "## All genes from haps to peds"
   ]
  },
  {
   "cell_type": "code",
   "execution_count": null,
   "id": "43426442-fbda-4587-84b3-8d8936542d52",
   "metadata": {},
   "outputs": [],
   "source": [
    "def format_haps_bunch(dhaps,fam):\n",
    "    gene_variants = {}\n",
    "    gene_haps = {}\n",
    "    for g in dhaps.keys():\n",
    "        haps = dhaps[g]['predata']\n",
    "        for f in haps.keys():\n",
    "            if f not in gene_variants.keys():\n",
    "                gene_variants[f] = {'genes':[],'variants':[],'freqs':[],'uniq':[]}\n",
    "                gene_haps[f] = get_fam_hap(haps[f][2],name_haps(haps[f][0]))\n",
    "            else:\n",
    "                gene_haps[f] = pd.concat([gene_haps[f],get_fam_hap(haps[f][2],name_haps(haps[f][0]))],axis=1)\n",
    "            gene_variants[f]['genes'] += [g]*len(haps[f][0])\n",
    "            gene_variants[f]['variants'] += list(haps[f][0])\n",
    "            gene_variants[f]['freqs'] += list(haps[f][1])\n",
    "    for i,j in gene_variants.items():\n",
    "        redup_idx = ~gene_haps[i].columns.duplicated()\n",
    "        gene_haps[i] = pd.concat([fam[i],gene_haps[i].iloc[:,redup_idx]],axis=1)\n",
    "        j['uniq'] = list(redup_idx[range(0,len(redup_idx),2)])\n",
    "        gene_variants[i] = pd.DataFrame(j)\n",
    "    return gene_variants,gene_haps"
   ]
  },
  {
   "cell_type": "code",
   "execution_count": null,
   "id": "8ea33292-8a52-418d-9b0b-a8f18cd870d8",
   "metadata": {},
   "outputs": [],
   "source": [
    "def calculate_ped_lod(ped,rho=0,model = \"AD\",chrom = \"AUTOSOMAL\",penetrances = [0.01,0.9,0.9],dfreq=0.001):\n",
    "    aff=ped.iloc[:,5]\n",
    "    mped = pedtools.as_ped(ped.drop(ped.columns[5], axis=1),famid_col = 1,id_col = 2,fid_col = 3,mid_col = 4,sex_col = 5)\n",
    "    modAD = paramlink2.diseaseModel(model,chrom,pd.Series(penetrances),dfreq)\n",
    "    res = paramlink2.lod(mped, aff = aff, model = modAD,rho=rho)\n",
    "    try:\n",
    "        res = pd.DataFrame(res)[['MARKER','LOD']]\n",
    "    except:\n",
    "        res = pd.DataFrame([[ped.columns[6],res[0]]],columns=['MARKER','LOD'])\n",
    "    return res"
   ]
  },
  {
   "cell_type": "code",
   "execution_count": null,
   "id": "b308f4a1-9150-4f7e-9bb3-9ce2b1c2f46b",
   "metadata": {},
   "outputs": [],
   "source": [
    "def sum_variant_lods(lods):\n",
    "    variants = {}\n",
    "    for lod in lods:\n",
    "        for m,l in zip(lod['MARKER'],lod['LOD']):\n",
    "            if m in variants.keys():\n",
    "                variants[m] += l\n",
    "            else:\n",
    "                variants[m] = l\n",
    "    var_lst = []\n",
    "    for var,lod in variants.items():\n",
    "        snp = var[:-3]\n",
    "        var_lst.append(snp.split(':')+[snp,lod])\n",
    "    variants=pd.DataFrame(var_lst,columns=['CHR','POS','A0','A1','LOD'])\n",
    "    variants.POS = variants.POS.astype(int)\n",
    "    variants.sort_values('POS')\n",
    "    return variants"
   ]
  },
  {
   "cell_type": "code",
   "execution_count": null,
   "id": "13c7e8b7-d8f8-487c-8f4e-40a0793c9849",
   "metadata": {},
   "outputs": [],
   "source": [
    "def parallel_lods(haps):\n",
    "    start = time.perf_counter()\n",
    "    with ProcessPoolExecutor(max_workers = 10) as executor:\n",
    "        results = executor.map(calculate_ped_lod,haps)\n",
    "    print(time.perf_counter()-start)\n",
    "    return results"
   ]
  },
  {
   "cell_type": "markdown",
   "id": "35317582-67b8-4ff3-9568-d013346abe1f",
   "metadata": {},
   "source": [
    "### Read fam"
   ]
  },
  {
   "cell_type": "code",
   "execution_count": null,
   "id": "6ab75057-c937-46a0-ac7a-9b687f2618ef",
   "metadata": {},
   "outputs": [],
   "source": [
    "fam17 = pd.read_csv('../data/new_trim_ped_famless17_no:xx.fam',delim_whitespace=True,header=None,names=['fid','iid','fathid','mothid','sex','ad'])"
   ]
  },
  {
   "cell_type": "code",
   "execution_count": null,
   "id": "cd42725c-fc99-47aa-99db-6edf32fe55e7",
   "metadata": {},
   "outputs": [
    {
     "name": "stderr",
     "output_type": "stream",
     "text": [
      "/tmp/2293088.1.high_mem.q/ipykernel_6262/1308232463.py:1: SettingWithCopyWarning: \n",
      "A value is trying to be set on a copy of a slice from a DataFrame\n",
      "\n",
      "See the caveats in the documentation: https://pandas.pydata.org/pandas-docs/stable/user_guide/indexing.html#returning-a-view-versus-a-copy\n",
      "  fam17.ad[fam17.ad==-9]=0\n"
     ]
    }
   ],
   "source": [
    "fam17.ad[fam17.ad==-9]=0"
   ]
  },
  {
   "cell_type": "code",
   "execution_count": null,
   "id": "814abe66-4739-44c4-86a2-39c40aae5039",
   "metadata": {},
   "outputs": [],
   "source": [
    "fam17.index = list(fam17.iid)"
   ]
  },
  {
   "cell_type": "code",
   "execution_count": null,
   "id": "c9538e49-6457-42d8-af98-aa5b64894e4d",
   "metadata": {},
   "outputs": [
    {
     "data": {
      "text/plain": [
       "2    1900\n",
       "0    1042\n",
       "1     957\n",
       "Name: ad, dtype: int64"
      ]
     },
     "execution_count": null,
     "metadata": {},
     "output_type": "execute_result"
    }
   ],
   "source": [
    "fam17.ad.value_counts()"
   ]
  },
  {
   "cell_type": "code",
   "execution_count": null,
   "id": "334a6f3e-10cb-43be-bdb7-3f12dc3435db",
   "metadata": {},
   "outputs": [],
   "source": [
    "fam17_d = {}\n",
    "for i in fam17.fid.unique():\n",
    "    fam17_d[i] = fam17[fam17.fid==i]"
   ]
  },
  {
   "cell_type": "markdown",
   "id": "c427d61e-8900-461a-b20d-a755800f5c6e",
   "metadata": {},
   "source": [
    "## Read haplotypes"
   ]
  },
  {
   "cell_type": "code",
   "execution_count": null,
   "id": "89467375-a4cd-41cd-9742-fbbecb3f161b",
   "metadata": {},
   "outputs": [
    {
     "name": "stdout",
     "output_type": "stream",
     "text": [
      "../data/wg20220311/chr19test1/tmp/CACHE/chr19test1\n",
      "1310.7416044138372\n",
      "../data/wg20220311/chr19test1/tmp/CACHE/chr19test2\n",
      "1238.9563352540135\n",
      "../data/wg20220311/chr19test1/tmp/CACHE/chr19test3\n"
     ]
    }
   ],
   "source": [
    "for i in range(1,68):\n",
    "    print('../data/wg20220311/chr19test1/tmp/CACHE/chr19test'+str(i))\n",
    "    run_gene_lods('../data/wg20220311/chr19test1/tmp/CACHE/chr19test'+str(i),fam17_d)"
   ]
  },
  {
   "cell_type": "code",
   "execution_count": null,
   "id": "7b0199af-7978-4a7f-8d8f-d911ad452dac",
   "metadata": {},
   "outputs": [
    {
     "name": "stdout",
     "output_type": "stream",
     "text": [
      "711.1073768734932\n"
     ]
    }
   ],
   "source": [
    "run_gene_lods('../data/wg20220311/chr19test1/tmp/CACHE/chr19test0',fam17_d)"
   ]
  },
  {
   "cell_type": "code",
   "execution_count": null,
   "id": "e99a0d2b-45eb-4726-985d-277457c6f436",
   "metadata": {},
   "outputs": [],
   "source": [
    "def run_gene_lods(file,fam):\n",
    "    with open(file+'.pickle', 'rb') as handle:\n",
    "        genes = pickle.load(handle)\n",
    "    gene_variants,gene_fam_haps = format_haps_bunch(genes,fam)\n",
    "    res = parallel_lods(gene_fam_haps.values())\n",
    "    smy_res = sum_variant_lods(res)\n",
    "    with open(file+'.result','wb') as handle:\n",
    "        pickle.dump(smy_res, handle, protocol=pickle.HIGHEST_PROTOCOL)"
   ]
  },
  {
   "cell_type": "code",
   "execution_count": null,
   "id": "cfd911b2-1c9d-4669-8084-eab790bf71a1",
   "metadata": {},
   "outputs": [],
   "source": [
    "with open('../data/wg20220311/chr19test1/tmp/CACHE/chr19test0.result', 'rb') as handle:\n",
    "    tmp = pickle.load(handle)"
   ]
  },
  {
   "cell_type": "code",
   "execution_count": null,
   "id": "57554615-f393-4d14-9648-e32ee73760c8",
   "metadata": {},
   "outputs": [
    {
     "data": {
      "text/plain": [
       "<AxesSubplot:>"
      ]
     },
     "execution_count": null,
     "metadata": {},
     "output_type": "execute_result"
    },
    {
     "data": {
      "image/png": "[encoded data removed]",
      "text/plain": [
       "<Figure size 432x288 with 1 Axes>"
      ]
     },
     "metadata": {
      "needs_background": "light"
     },
     "output_type": "display_data"
    }
   ],
   "source": [
    "tmp.LOD.plot()"
   ]
  },
  {
   "cell_type": "code",
   "execution_count": null,
   "id": "f91728d2-b063-4d40-87b7-5c5e9623d8ec",
   "metadata": {},
   "outputs": [],
   "source": []
  },
  {
   "cell_type": "code",
   "execution_count": null,
   "id": "62d59382-6a1d-4ca6-8a64-5884b3a4fdff",
   "metadata": {},
   "outputs": [],
   "source": []
  },
  {
   "cell_type": "code",
   "execution_count": null,
   "id": "1cdf7374-c2b3-455b-be47-5d625cf9b212",
   "metadata": {},
   "outputs": [],
   "source": [
    "tmp = apoe_haps[166]"
   ]
  },
  {
   "cell_type": "code",
   "execution_count": null,
   "id": "b0c0b38a-13a5-4009-854a-4d32dce134d4",
   "metadata": {},
   "outputs": [],
   "source": [
    "tmpped = pedtools.as_ped(tmp.loc[:,tmp.columns!='ad'],famid_col = 1,id_col = 2,fid_col = 3,mid_col = 4,sex_col = 5)"
   ]
  },
  {
   "cell_type": "code",
   "execution_count": null,
   "id": "0961f084-332d-4e5f-80a4-246c17956386",
   "metadata": {},
   "outputs": [],
   "source": [
    "modAD = paramlink2.diseaseModel(model = \"AD\",chrom = \"AUTOSOMAL\",penetrances = pd.Series([0.01,0.9,0.9]),dfreq=0.001)"
   ]
  },
  {
   "cell_type": "code",
   "execution_count": null,
   "id": "f3fa69c8-1438-4c9c-867b-30da03a3c329",
   "metadata": {},
   "outputs": [],
   "source": [
    "res = paramlink2.lod(tmpped, aff = tmp.ad, model = modAD,rho=0)"
   ]
  },
  {
   "cell_type": "code",
   "execution_count": null,
   "id": "5b68121a-f5c2-40b3-93c1-d38752f5055e",
   "metadata": {},
   "outputs": [],
   "source": [
    "a = pd.Series(res)"
   ]
  },
  {
   "cell_type": "code",
   "execution_count": null,
   "id": "6269387b-9b02-4bec-a842-bb47b0325544",
   "metadata": {},
   "outputs": [],
   "source": [
    "a.index = list(res.MARKER)"
   ]
  },
  {
   "cell_type": "code",
   "execution_count": null,
   "id": "35fa5e6b-656b-412c-8fd3-9d9b3a15d1ef",
   "metadata": {},
   "outputs": [
    {
     "data": {
      "text/plain": [
       "V1-44905910_A0     0.394206\n",
       "V18-44906745_A0    1.209667\n",
       "V25-44907187_A0   -0.018740\n",
       "V49-44908684_A0    1.382766\n",
       "V52-44908822_A0    0.000000\n",
       "Name: LOD, dtype: float64"
      ]
     },
     "execution_count": null,
     "metadata": {},
     "output_type": "execute_result"
    }
   ],
   "source": [
    "a"
   ]
  },
  {
   "cell_type": "code",
   "execution_count": null,
   "id": "7dab2b15-965b-4ed3-9cd0-f34ad197be47",
   "metadata": {},
   "outputs": [
    {
     "ename": "TypeError",
     "evalue": "'RTYPES' object is not callable",
     "output_type": "error",
     "traceback": [
      "\u001b[0;31m---------------------------------------------------------------------------\u001b[0m",
      "\u001b[0;31mTypeError\u001b[0m                                 Traceback (most recent call last)",
      "Input \u001b[0;32mIn [108]\u001b[0m, in \u001b[0;36m<cell line: 1>\u001b[0;34m()\u001b[0m\n\u001b[0;32m----> 1\u001b[0m \u001b[43mtmpped\u001b[49m\u001b[38;5;241;43m.\u001b[39;49m\u001b[43mtypeof\u001b[49m\u001b[43m(\u001b[49m\u001b[43m)\u001b[49m\n",
      "\u001b[0;31mTypeError\u001b[0m: 'RTYPES' object is not callable"
     ]
    }
   ],
   "source": [
    "tmpped.typeof()"
   ]
  },
  {
   "cell_type": "code",
   "execution_count": null,
   "id": "d8851224-4c8e-4be0-b351-d2ba80634fb0",
   "metadata": {},
   "outputs": [
    {
     "data": {
      "text/html": [
       "<div>\n",
       "<style scoped>\n",
       "    .dataframe tbody tr th:only-of-type {\n",
       "        vertical-align: middle;\n",
       "    }\n",
       "\n",
       "    .dataframe tbody tr th {\n",
       "        vertical-align: top;\n",
       "    }\n",
       "\n",
       "    .dataframe thead th {\n",
       "        text-align: right;\n",
       "    }\n",
       "</style>\n",
       "<table border=\"1\" class=\"dataframe\">\n",
       "  <thead>\n",
       "    <tr style=\"text-align: right;\">\n",
       "      <th></th>\n",
       "      <th>MARKER</th>\n",
       "      <th>LOD</th>\n",
       "    </tr>\n",
       "  </thead>\n",
       "  <tbody>\n",
       "    <tr>\n",
       "      <th>1</th>\n",
       "      <td>V1-44905910_A0</td>\n",
       "      <td>0.394206</td>\n",
       "    </tr>\n",
       "    <tr>\n",
       "      <th>2</th>\n",
       "      <td>V18-44906745_A0</td>\n",
       "      <td>1.209667</td>\n",
       "    </tr>\n",
       "    <tr>\n",
       "      <th>3</th>\n",
       "      <td>V25-44907187_A0</td>\n",
       "      <td>-0.018740</td>\n",
       "    </tr>\n",
       "    <tr>\n",
       "      <th>4</th>\n",
       "      <td>V49-44908684_A0</td>\n",
       "      <td>1.382766</td>\n",
       "    </tr>\n",
       "    <tr>\n",
       "      <th>5</th>\n",
       "      <td>V52-44908822_A0</td>\n",
       "      <td>0.000000</td>\n",
       "    </tr>\n",
       "  </tbody>\n",
       "</table>\n",
       "</div>"
      ],
      "text/plain": [
       "            MARKER       LOD\n",
       "1   V1-44905910_A0  0.394206\n",
       "2  V18-44906745_A0  1.209667\n",
       "3  V25-44907187_A0 -0.018740\n",
       "4  V49-44908684_A0  1.382766\n",
       "5  V52-44908822_A0  0.000000"
      ]
     },
     "execution_count": null,
     "metadata": {},
     "output_type": "execute_result"
    }
   ],
   "source": [
    "pd.DataFrame(res)[['MARKER','LOD']]"
   ]
  },
  {
   "cell_type": "code",
   "execution_count": null,
   "id": "cdc55d7d-cf80-4be3-8739-47ca7b2332c6",
   "metadata": {},
   "outputs": [
    {
     "data": {
      "text/html": [
       "\n",
       "        <span>ListVector with 3 elements.</span>\n",
       "        <table>\n",
       "        <tbody>\n",
       "        \n",
       "          <tr>\n",
       "            <th>\n",
       "            chrom\n",
       "            </th>\n",
       "            <td>\n",
       "            <rpy2.rinterface_lib.sexp.StrSexpVector object at 0x2b7e37cd6540> [RTYPES.STRSXP]\n",
       "            </td>\n",
       "          </tr>\n",
       "        \n",
       "          <tr>\n",
       "            <th>\n",
       "            penetrances\n",
       "            </th>\n",
       "            <td>\n",
       "            <rpy2.rinterface.FloatSexpVector object at 0x2b7e37cd6580> [RTYPES.REALSXP]\n",
       "            </td>\n",
       "          </tr>\n",
       "        \n",
       "          <tr>\n",
       "            <th>\n",
       "            dfreq\n",
       "            </th>\n",
       "            <td>\n",
       "            <rpy2.rinterface.FloatSexpVector object at 0x2b7e37cd5f40> [RTYPES.REALSXP]\n",
       "            </td>\n",
       "          </tr>\n",
       "        \n",
       "        </tbody>\n",
       "        </table>\n",
       "        "
      ],
      "text/plain": [
       "<rpy2.robjects.vectors.ListVector object at 0x2b7e37cc3900> [RTYPES.VECSXP]\n",
       "R classes: ('disModel',)\n",
       "[StrSexpVector, FloatSexpVector, FloatSexpVector]\n",
       "  chrom: <class 'rpy2.rinterface_lib.sexp.StrSexpVector'>\n",
       "  <rpy2.rinterface_lib.sexp.StrSexpVector object at 0x2b7e37cd7c80> [RTYPES.STRSXP]\n",
       "  penetrances: <class 'rpy2.rinterface.FloatSexpVector'>\n",
       "  <rpy2.rinterface.FloatSexpVector object at 0x2b7e37cd6580> [RTYPES.REALSXP]\n",
       "  dfreq: <class 'rpy2.rinterface.FloatSexpVector'>\n",
       "  <rpy2.rinterface.FloatSexpVector object at 0x2b7e37cd7c80> [RTYPES.REALSXP]"
      ]
     },
     "execution_count": null,
     "metadata": {},
     "output_type": "execute_result"
    }
   ],
   "source": [
    "modAD"
   ]
  },
  {
   "cell_type": "code",
   "execution_count": null,
   "id": "0b1397bd-0691-4ddf-af9a-96def237d167",
   "metadata": {},
   "outputs": [
    {
     "data": {
      "text/plain": [
       "\u001b[0;31mSignature:\u001b[0m   \u001b[0mtime_series\u001b[0m\u001b[0;34m(\u001b[0m\u001b[0;34m*\u001b[0m\u001b[0margs\u001b[0m\u001b[0;34m,\u001b[0m \u001b[0;34m**\u001b[0m\u001b[0mkwargs\u001b[0m\u001b[0;34m)\u001b[0m\u001b[0;34m\u001b[0m\u001b[0;34m\u001b[0m\u001b[0m\n",
       "\u001b[0;31mType:\u001b[0m        SignatureTranslatedFunction\n",
       "\u001b[0;31mString form:\u001b[0m\n",
       "function (data = NA, start = 1, end = numeric(), frequency = 1,\n",
       "           deltat = 1, ts.eps = getOpti <...> ttr(data, \"class\") <- class\n",
       "           data\n",
       "           }\n",
       "           <bytecode: 0x55899c43bdd0>\n",
       "           <environment: namespace:stats>\n",
       "           \n",
       "\u001b[0;31mFile:\u001b[0m        ~/miniconda3/envs/rpy2/lib/python3.10/site-packages/rpy2/robjects/functions.py\n",
       "\u001b[0;31mDocstring:\u001b[0m  \n",
       "Python representation of an R function, where\n",
       "the names in named argument are translated to valid\n",
       "argument names in Python. \n"
      ]
     },
     "metadata": {},
     "output_type": "display_data"
    }
   ],
   "source": [
    "?time_series"
   ]
  },
  {
   "cell_type": "code",
   "execution_count": null,
   "id": "069b61d6-4226-4ddb-93d3-0acce5be6125",
   "metadata": {},
   "outputs": [],
   "source": [
    "import pandas as pd"
   ]
  },
  {
   "cell_type": "code",
   "execution_count": null,
   "id": "cd5039e7-d73b-447a-938e-85636452da38",
   "metadata": {},
   "outputs": [
    {
     "ename": "NameError",
     "evalue": "name 'df' is not defined",
     "output_type": "error",
     "traceback": [
      "\u001b[0;31m---------------------------------------------------------------------------\u001b[0m",
      "\u001b[0;31mNameError\u001b[0m                                 Traceback (most recent call last)",
      "Input \u001b[0;32mIn [8]\u001b[0m, in \u001b[0;36m<cell line: 2>\u001b[0;34m()\u001b[0m\n\u001b[1;32m      1\u001b[0m \u001b[38;5;66;03m#converting the training data into an R time series object\u001b[39;00m\n\u001b[0;32m----> 2\u001b[0m r_times_series_data\u001b[38;5;241m=\u001b[39mtime_series(\u001b[43mdf\u001b[49m[\u001b[38;5;124m\"\u001b[39m\u001b[38;5;124mActuals\u001b[39m\u001b[38;5;124m\"\u001b[39m]\u001b[38;5;241m.\u001b[39mvalues,frequency\u001b[38;5;241m=\u001b[39m\u001b[38;5;241m12\u001b[39m)\n",
      "\u001b[0;31mNameError\u001b[0m: name 'df' is not defined"
     ]
    }
   ],
   "source": [
    "#converting the training data into an R time series object\n",
    "r_times_series_data=time_series(df[\"Actuals\"].values,frequency=12)"
   ]
  },
  {
   "cell_type": "code",
   "execution_count": null,
   "id": "db09b971-abb2-45ea-8086-d186f8e4556c",
   "metadata": {},
   "outputs": [],
   "source": [
    "#Import the SignatureTranslatedAnonymousPackage \n",
    "from rpy2.robjects.packages import STAP\n",
    "#Read the file with the R code snippet\n",
    "with open('mlink.r', 'r') as f:\n",
    "    string = f.read()\n",
    "#Parse using STAP\n",
    "mlink_in_python= STAP(string, \"mlink\")"
   ]
  },
  {
   "cell_type": "code",
   "execution_count": null,
   "id": "ecddd953-0677-459c-ba85-0e3cf6c2efe5",
   "metadata": {},
   "outputs": [
    {
     "data": {
      "text/plain": [
       "\u001b[0;31mType:\u001b[0m            SignatureTranslatedAnonymousPackage\n",
       "\u001b[0;31mString form:\u001b[0m     rpy2.robjects.packages.Package as a <module 'mlink'>\n",
       "\u001b[0;31mFile:\u001b[0m            ~/miniconda3/envs/rpy2/lib/python3.10/site-packages/rpy2/robjects/packages.py\n",
       "\u001b[0;31mDocstring:\u001b[0m       <no docstring>\n",
       "\u001b[0;31mClass docstring:\u001b[0m\n",
       "R package in which the R functions had their signatures\n",
       "'translated' (that this the named parameters were made to\n",
       "to conform Python's rules for vaiable names).\n",
       "\u001b[0;31mInit docstring:\u001b[0m \n",
       "Create a Python module-like object from an R environment,\n",
       "using the specified translation if defined.\n",
       "\n",
       "- env: R environment\n",
       "- name: package name\n",
       "- translation: `dict` with R names as keys and corresponding Python\n",
       "               names as values\n",
       "- exported_names: `set` of names/symbols to expose to instance users\n",
       "- on_conflict: 'fail' or 'warn' (default: 'fail')\n",
       "- version: version string for the package\n",
       "- symbol_r2python: function to convert R symbols into Python symbols.\n",
       "                   The default translate `.` into `_`.\n",
       "- symbol_resolve: function to check the Python symbols obtained\n",
       "                  from `symbol_r2python`.\n"
      ]
     },
     "metadata": {},
     "output_type": "display_data"
    }
   ],
   "source": [
    "?mlink_in_python"
   ]
  },
  {
   "cell_type": "code",
   "execution_count": null,
   "id": "6e8859c8-bf19-49ce-83b2-7581092f2928",
   "metadata": {},
   "outputs": [],
   "source": []
  }
 ],
 "metadata": {
  "kernelspec": {
   "display_name": "Python 3 (ipykernel)",
   "language": "python",
   "name": "python3"
  }
 },
 "nbformat": 4,
 "nbformat_minor": 5
}
