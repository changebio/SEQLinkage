{
 "cells": [
  {
   "cell_type": "markdown",
   "id": "17278a99-5980-4371-a117-78d2114b1bd5",
   "metadata": {},
   "source": [
    "## Compare the results between paramlink2 and mlink"
   ]
  },
  {
   "cell_type": "markdown",
   "id": "079aeb84-02ba-430a-849f-5ebd0f4bbb0a",
   "metadata": {},
   "source": [
    "## the results of paramlink2 and the results of mlink are consistent"
   ]
  },
  {
   "cell_type": "raw",
   "id": "fc0df57d-be8d-4db2-888a-39c87949f3c1",
   "metadata": {},
   "source": [
    "==> 1.LOC <==\n",
    "2 0 0 5\n",
    "0 0.0 0.0 0\n",
    "1 2\n",
    "1 2\n",
    " 0.999 0.001\n",
    " 1\n",
    " 0.0 1.0 1.0\n",
    "3 3\n",
    " 0.9747260058305554 0.000999093037024998 0.02427490113241956\n",
    "0 0\n",
    "0.0\n",
    "1 0.05 0.5\n",
    "\n",
    "==> 1.PRE <==\n",
    "1036 1036_2 0 0 2 -9 0 0\n",
    "1036 1036_1 0 0 1 -9 0 0\n",
    "1036 1036_99 1036_1 1036_2 2 2 3 1\n",
    "1036 1036_6 0 0 1 2 2 1\n",
    "1036 1036_3 1036_6 1036_99 2 1 1 1\n",
    "1036 1036_4 1036_6 1036_99 2 1 1 2\n",
    "1036 1036_5 1036_6 1036_99 1 1 3 2"
   ]
  },
  {
   "cell_type": "code",
   "execution_count": null,
   "id": "fd5cfe9b-2032-48a4-b8b1-0f925f5365d7",
   "metadata": {},
   "outputs": [],
   "source": [
    "import sys\n",
    "import os.path\n",
    "import glob\n",
    "import pandas as pd\n",
    "import numpy as np\n",
    "import pickle\n",
    "from SEQLinkage.linkage import *"
   ]
  },
  {
   "cell_type": "code",
   "execution_count": null,
   "id": "845e0dc7-b4c0-49c8-8a6a-7a28b45d7573",
   "metadata": {},
   "outputs": [],
   "source": [
    "from SEQLinkage.Utils import *"
   ]
  },
  {
   "cell_type": "code",
   "execution_count": null,
   "id": "b457b2e1-8713-4c5b-b712-a56d4f2346bb",
   "metadata": {},
   "outputs": [],
   "source": [
    "from SEQLinkage.Runner import *"
   ]
  },
  {
   "cell_type": "code",
   "execution_count": null,
   "id": "e26be106-85e7-4a30-b9b5-050c10ccdbce",
   "metadata": {},
   "outputs": [
    {
     "name": "stderr",
     "output_type": "stream",
     "text": [
      "/tmp/2485903.1.high_mem.q/ipykernel_20176/2986720832.py:8: SettingWithCopyWarning: \n",
      "A value is trying to be set on a copy of a slice from a DataFrame\n",
      "\n",
      "See the caveats in the documentation: https://pandas.pydata.org/pandas-docs/stable/user_guide/indexing.html#returning-a-view-versus-a-copy\n",
      "  fam17.ad[fam17.ad==-9]=0\n"
     ]
    }
   ],
   "source": [
    "fam_vcf='../data/wg20220316/fam17_vcf.pickle'\n",
    "fam_path='../data/new_trim_ped_famless17_no:xx.fam'\n",
    "if os.path.isfile(fam_vcf):\n",
    "    with open(fam_vcf, 'rb') as handle:\n",
    "        fam17_vcf = pickle.load(handle)\n",
    "fam17 = pd.read_csv(fam_path,delim_whitespace=True,header=None,names=['fid','iid','fathid','mothid','sex','ad'])\n",
    "fam17.index = list(fam17.iid)\n",
    "fam17.ad[fam17.ad==-9]=0\n",
    "fam17_d = {}\n",
    "cutoff=0.05\n",
    "for i in fam17.fid.unique():\n",
    "    fam17_d[i] = fam17[fam17.fid==i]"
   ]
  },
  {
   "cell_type": "markdown",
   "id": "554f45f6-1c53-4486-8ab0-14de6c550efd",
   "metadata": {},
   "source": [
    "### generate mlink input"
   ]
  },
  {
   "cell_type": "code",
   "execution_count": null,
   "id": "4e66764a-7fa4-455d-a5a5-7437d0ebf8a4",
   "metadata": {},
   "outputs": [],
   "source": [
    "#linkage format, .pre and .loc\n",
    "#per locus, per family based\n",
    "def format_linkage(out_base, haps, variants, prev=0.001, wild_pen=0.01, muta_pen=0.9, inherit_mode='AD', theta_max=0.5, theta_inc=0.05):\n",
    "        #disease model\n",
    "        heter_pen = wild_pen\n",
    "        if inherit_mode == 'AD':\n",
    "            heter_pen = muta_pen\n",
    "            \n",
    "        for fid in variants.keys():\n",
    "            for i,v in variants[fid].iterrows():\n",
    "                if not v.uniq:\n",
    "                    continue\n",
    "                workdir = '{}/{}/{}'.format(out_base, v.variants, fid)\n",
    "                mkpath(workdir)\n",
    "                \n",
    "                gs_num=2\n",
    "                fam_af = [str(1-round(v.freqs,3)),str(round(v.freqs,3))]\n",
    "                \n",
    "                #write to .PRE\n",
    "                pre=haps[fid].loc[:,['fid','iid','fathid','mothid','sex','ad',v.variants+'_A0',v.variants+'_A1']]\n",
    "                pre.to_csv('{}/{}.PRE'.format(workdir, '1'),header=False,index=False,sep=' ')\n",
    "               \n",
    "                #write to .LOC\n",
    "                with open('{}/{}.LOC'.format(workdir, '1'), 'w') as loc:\n",
    "                    loc.write(\"2 0 0 5\\n\")\n",
    "                    loc.write(\"0 0.0 0.0 0\\n\")\n",
    "                    loc.write(\"1 2\\n\")\n",
    "                    loc.write(\"1 2\\n\")\n",
    "                    loc.write(\" {} {}\\n\".format(1 - prev, prev))\n",
    "                    loc.write(\" 1\\n\")\n",
    "                    loc.write(\" {} {} {}\\n\".format(wild_pen, heter_pen, muta_pen))\n",
    "                    loc.write(\"3 {}\\n\".format(gs_num))  #the number of allele types, int\n",
    "                    loc.write(' ' + ' '.join(fam_af) + \"\\n\") #[a0_freq,a1_freq]\n",
    "                    loc.write(\"0 0\\n\")\n",
    "                    loc.write(\"0.0\\n\")\n",
    "                    loc.write(\"1 {} {}\\n\".format(theta_inc, theta_max))"
   ]
  },
  {
   "cell_type": "code",
   "execution_count": null,
   "id": "a2367ce0-bbc5-40cf-aade-90d9287a7ed8",
   "metadata": {},
   "outputs": [],
   "source": [
    "with open('../data/wg20220425genes/chr22test/tmp/CACHE/chr22test25cutoff0.05unimputed.input', 'rb') as handle:\n",
    "    gene_variants,gene_fam_haps = pickle.load(handle) "
   ]
  },
  {
   "cell_type": "code",
   "execution_count": null,
   "id": "79dc8b65-f320-48e6-ad01-163ee475f3d8",
   "metadata": {},
   "outputs": [],
   "source": [
    "format_linkage('../data/wg20220425genes/LINKAGE',gene_fam_haps,gene_variants)"
   ]
  },
  {
   "cell_type": "markdown",
   "id": "847a613f-1929-420d-b2c0-8c9bab929b73",
   "metadata": {},
   "source": [
    "### calculate lods by mlink"
   ]
  },
  {
   "cell_type": "code",
   "execution_count": null,
   "id": "719b7776-5302-408d-9cc3-d403c8a64845",
   "metadata": {},
   "outputs": [],
   "source": [
    "env.outdir='../data/wg20220425genes/'"
   ]
  },
  {
   "cell_type": "code",
   "execution_count": null,
   "id": "90f28291-43d5-4147-9e21-5ef4179db509",
   "metadata": {},
   "outputs": [],
   "source": [
    "workdir='../data/wg20220425genes/LINKAGE'"
   ]
  },
  {
   "cell_type": "code",
   "execution_count": null,
   "id": "069ff2e4-e91c-42e0-b4d9-47208cfe96c9",
   "metadata": {},
   "outputs": [],
   "source": [
    "env.jobs=1"
   ]
  },
  {
   "cell_type": "code",
   "execution_count": null,
   "id": "6ac13194-1028-4d82-9f00-6bcc1ba76fef",
   "metadata": {},
   "outputs": [],
   "source": [
    "linkage_worker('../data/wg20220425genes/tenvariants_blutprint.txt',workdir,0.05,0.5,'../data/wg20220425genes/LinkageRuntimeError.txt',to_plot=False)"
   ]
  },
  {
   "cell_type": "markdown",
   "id": "512289f6-be74-4c29-830a-41b41e16bea6",
   "metadata": {},
   "source": [
    "### compare the results"
   ]
  },
  {
   "cell_type": "code",
   "execution_count": null,
   "id": "7b2324a0-938c-4dc6-8e0a-8803ba0261d1",
   "metadata": {},
   "outputs": [],
   "source": [
    "with open('../data/wg20220425genes/chr22test/tmp/CACHE/chr22test25cutoff0.05unimputed.lods', 'rb') as handle:\n",
    "    lods = pickle.load(handle) "
   ]
  },
  {
   "cell_type": "code",
   "execution_count": null,
   "id": "4b8cc475-d2a1-4ab7-980e-86015bbbcfdc",
   "metadata": {},
   "outputs": [
    {
     "data": {
      "text/plain": [
       "LOD0.0     0.016533\n",
       "LOD0.05    0.013439\n",
       "LOD0.1     0.010653\n",
       "LOD0.15    0.008180\n",
       "LOD0.2     0.006024\n",
       "LOD0.25    0.004192\n",
       "LOD0.3     0.002688\n",
       "LOD0.35    0.001514\n",
       "LOD0.4     0.000674\n",
       "LOD0.45    0.000168\n",
       "Name: chr22:50697518:G:GGCCC_A0, dtype: float64"
      ]
     },
     "execution_count": null,
     "metadata": {},
     "output_type": "execute_result"
    }
   ],
   "source": [
    "lods['723'].loc['chr22:50697518:G:GGCCC_A0',:]"
   ]
  },
  {
   "cell_type": "code",
   "execution_count": null,
   "id": "5c8141cc-34d6-4946-b152-2f7f7f909ef0",
   "metadata": {},
   "outputs": [],
   "source": [
    "mlinklods=pd.read_csv('../data/wg20220425genes/heatmap/LINKAGE.family-lods',header=None,sep=' ')"
   ]
  },
  {
   "cell_type": "code",
   "execution_count": null,
   "id": "cba0c754-bb96-4128-afa0-4feed563fd55",
   "metadata": {},
   "outputs": [],
   "source": [
    "mlinklods.columns=['fid','variants','chr','start','end','theta','mlods']"
   ]
  },
  {
   "cell_type": "code",
   "execution_count": null,
   "id": "ec86a6f1-5703-4a13-ba72-b5e878312d86",
   "metadata": {},
   "outputs": [
    {
     "data": {
      "text/plain": [
       "'LOD0.05'"
      ]
     },
     "execution_count": null,
     "metadata": {},
     "output_type": "execute_result"
    }
   ],
   "source": [
    "'LOD'+str(r.theta)"
   ]
  },
  {
   "cell_type": "code",
   "execution_count": null,
   "id": "549fd0b2-602d-4861-a6e8-c8ff93a918a1",
   "metadata": {},
   "outputs": [],
   "source": [
    "plods=[]\n",
    "for i,r in mlinklods.iterrows():\n",
    "    if r.theta==0.5:\n",
    "        plods.append(0.0)\n",
    "    else:\n",
    "        plods.append(lods[r.fid].loc[r.variants+'_A0','LOD'+str(r.theta)])"
   ]
  },
  {
   "cell_type": "code",
   "execution_count": null,
   "id": "5493d60a-098e-4be6-8606-96996e9f78e6",
   "metadata": {},
   "outputs": [],
   "source": [
    "mlinklods['plods']=plods"
   ]
  },
  {
   "cell_type": "code",
   "execution_count": null,
   "id": "c4972c28-4889-47b5-b5c1-c5e302a35f7d",
   "metadata": {},
   "outputs": [
    {
     "data": {
      "text/plain": [
       "37"
      ]
     },
     "execution_count": null,
     "metadata": {},
     "output_type": "execute_result"
    }
   ],
   "source": [
    "sum(np.abs(mlinklods.mlods-mlinklods.plods)>0.00001)"
   ]
  },
  {
   "cell_type": "code",
   "execution_count": null,
   "id": "c563e613-e47f-4847-8da9-f9f798ddb92b",
   "metadata": {},
   "outputs": [],
   "source": []
  }
 ],
 "metadata": {
  "kernelspec": {
   "display_name": "Python 3 (ipykernel)",
   "language": "python",
   "name": "python3"
  }
 },
 "nbformat": 4,
 "nbformat_minor": 5
}
