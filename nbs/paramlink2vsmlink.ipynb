{
 "cells": [
  {
   "cell_type": "markdown",
   "id": "beaa2395-dea7-48f2-b304-42f4318333c0",
   "metadata": {},
   "source": [
    "## Format mlink input"
   ]
  },
  {
   "cell_type": "code",
   "execution_count": null,
   "id": "11c02ca2-3cee-4747-8274-9a2d76448cf4",
   "metadata": {},
   "outputs": [],
   "source": [
    "#linkage format, .pre and .loc\n",
    "#per locus, per family based\n",
    "\n",
    "def format_linkage(tped, tfam, prev, wild_pen, muta_pen, inherit_mode, theta_max, theta_inc):\n",
    "    out_base = '{}/LINKAGE/{}'.format(env.outdir, splitext(basename(tped))[0])\n",
    "    with open(tped) as tped_fh, open(tfam) as tfam_fh:\n",
    "        fams = parse_tfam(tfam_fh)\n",
    "        #parse per family per locus AF file\n",
    "        af = defaultdict(lambda: [])\n",
    "        #try to open the file for allele frequencies, otherwise use the default value\n",
    "        try:\n",
    "            with open(os.path.join(env.tmp_cache, basename(out_base) + '.freq')) as af_fh:\n",
    "                for line in af_fh:\n",
    "                    s = line.strip().split()\n",
    "                    freq = list(map(lambda x: max(1e-3, float(x)), s[2:]))\n",
    "                    relativefreq = np.array(freq)/sum(freq)\n",
    "                    af[(s[0],s[1])] = list(map(str, relativefreq))\n",
    "        except IOError:\n",
    "            env.error('freq info not properly read for [{}]'.format(basename(out_base)))\n",
    "        #parse tped\n",
    "        heter_pen = wild_pen\n",
    "        if inherit_mode == 'AD':\n",
    "            heter_pen = muta_pen\n",
    "        for line in tped_fh:\n",
    "            s = line.strip().split()\n",
    "            gene, gno = re.search(r'^(\\S+?)(?:\\[(\\d+)\\])?$', s[1]).groups()\n",
    "            if not gno:\n",
    "                gno = '0'\n",
    "                with env.format_counter.get_lock():\n",
    "                    env.format_counter.value += 1\n",
    "            elif gno == '1':\n",
    "                with env.format_counter.get_lock():\n",
    "                    env.format_counter.value += 1\n",
    "            if env.format_counter.value % (env.batch * env.jobs) == 0:\n",
    "                env.log('{:,d} units processed {{{:.2%}}} ...'.format(env.format_counter.value, float(env.format_counter.value)/env.success_counter.value), flush=True)\n",
    "            for fid in fams:\n",
    "                workdir = '{}/{}/{}'.format(out_base, gene, fid)\n",
    "                with env.lock:\n",
    "                    mkpath(workdir)\n",
    "                #env.error(\"fid {} num {}\\n\".format(fid, fams[fid].get_member_ids()))\n",
    "                fam_af = af[(fid, s[1])]\n",
    "                if not fam_af:\n",
    "                    #env.log('All missing in this family {} on {}[{}], skipped ...'.format(fid, gene, gno), flush=True)\n",
    "                    with env.skipped_counter.get_lock():\n",
    "                        env.skipped_counter.value += 1\n",
    "                    removeEmptyDir(workdir)\n",
    "                    continue\n",
    "                ids = fams[fid].get_sorted_ids()\n",
    "                idxes = list(map(lambda x: fams[fid].get_member_idx(x), ids))\n",
    "                gs = list(map(lambda x: s[2 * x + 4 : 2 * x + 6], idxes))\n",
    "                gs_num = len(set(filter(lambda x: x != '0', chain(*gs))))\n",
    "                if gs_num >= 10:\n",
    "                    with env.skipped_counter.get_lock():\n",
    "                        env.skipped_counter.value += 1\n",
    "                    removeEmptyDir(workdir)\n",
    "                    continue\n",
    "                with env.lock:\n",
    "                    mkpath(workdir)\n",
    "                with open('{}/{}.PRE'.format(workdir, gno), 'w') as pre:\n",
    "                    pre.write(''.join(\"{} {} {} {}\\n\".format(fid, fams[fid].print_member(pid), s[2*fams[fid].get_member_idx(pid) + 4], s[2*fams[fid].get_member_idx(pid) + 5]) for pid in ids))\n",
    "                with open('{}/{}.LOC'.format(workdir, gno), 'w') as loc:\n",
    "                    loc.write(\"2 0 0 5\\n\")\n",
    "                    loc.write(\"0 0.0 0.0 0\\n\")\n",
    "                    loc.write(\"1 2\\n\")\n",
    "                    loc.write(\"1 2\\n\")\n",
    "                    loc.write(\" {} {}\\n\".format(1 - prev, prev))\n",
    "                    loc.write(\" 1\\n\")\n",
    "                    loc.write(\" {} {} {}\\n\".format(wild_pen, heter_pen, muta_pen))\n",
    "                    loc.write(\"3 {}\\n\".format(gs_num))\n",
    "                    loc.write(' ' + ' '.join(fam_af) + \"\\n\")\n",
    "                    loc.write(\"0 0\\n\")\n",
    "                    loc.write(\"0.0\\n\")\n",
    "                    loc.write(\"1 {} {}\\n\".format(theta_inc, theta_max))\n",
    "\n",
    "            removeEmptyDir('{}/{}'.format(out_base, gene))\n",
    "    tped_fh.close()\n",
    "    tfam_fh.close()\n",
    "    removeEmptyDir('{}'.format(out_base))\n",
    "\n"
   ]
  },
  {
   "cell_type": "code",
   "execution_count": null,
   "id": "4fb675b1-eee7-479c-b0b8-720693286eb2",
   "metadata": {},
   "outputs": [],
   "source": []
  },
  {
   "cell_type": "code",
   "execution_count": null,
   "id": "1c82f3a0-98c1-47b4-ac80-b8816ec60a6b",
   "metadata": {},
   "outputs": [],
   "source": []
  },
  {
   "cell_type": "code",
   "execution_count": null,
   "id": "4a1b7a7d-4059-48de-ad78-1e6276651f95",
   "metadata": {},
   "outputs": [],
   "source": []
  },
  {
   "cell_type": "markdown",
   "id": "31e3f787-79b3-48b3-8619-c2c25f3d1dd0",
   "metadata": {},
   "source": [
    "## Run mlink"
   ]
  },
  {
   "cell_type": "code",
   "execution_count": null,
   "id": "93faa682-a820-4086-894f-b919e8af8375",
   "metadata": {},
   "outputs": [],
   "source": []
  },
  {
   "cell_type": "code",
   "execution_count": null,
   "id": "8fa354ea-c40a-406f-a384-ebcf4586fe8f",
   "metadata": {},
   "outputs": [],
   "source": []
  },
  {
   "cell_type": "code",
   "execution_count": null,
   "id": "7922388b-ebfc-4342-afcb-3f666390d828",
   "metadata": {},
   "outputs": [],
   "source": []
  },
  {
   "cell_type": "code",
   "execution_count": null,
   "id": "d650712e-ef82-4997-910a-e2f2d129ebea",
   "metadata": {},
   "outputs": [],
   "source": []
  },
  {
   "cell_type": "code",
   "execution_count": null,
   "id": "44adcf87-eccc-4cd3-8ad8-1ae335e61ef4",
   "metadata": {},
   "outputs": [],
   "source": []
  }
 ],
 "metadata": {
  "kernelspec": {
   "display_name": "Python 3 (ipykernel)",
   "language": "python",
   "name": "python3"
  }
 },
 "nbformat": 4,
 "nbformat_minor": 5
}
