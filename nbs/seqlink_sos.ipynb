{
 "cells": [
  {
   "cell_type": "markdown",
   "id": "f8f0858d-b766-43c8-86ea-cb5fa03ce02b",
   "metadata": {},
   "source": [
    "sos run nbs/seqlink_sos.ipynb --cwd data/wg20220316 --fam_path data/new_trim_ped_famless17_no:xx.fam --vcf_path /mnt/mfs/statgen/alzheimers-family/linkage_files/geno/full_sample/vcf/full_sample.vcf.gz --anno_path MWE/annotation --pop_path data/full_sample_fam_pop.txt"
   ]
  },
  {
   "cell_type": "code",
   "execution_count": null,
   "id": "02437132-df91-45f0-a547-ffcca1d1f4ee",
   "metadata": {},
   "outputs": [],
   "source": [
    "[seqlink (phasing haps)]\n",
    "# Work directory where output will be saved to\n",
    "parameter: cwd = path\n",
    "# Fam file\n",
    "parameter: fam_path = path\n",
    "# VCF file\n",
    "parameter: vcf_path = path\n",
    "# Phenotype path\n",
    "parameter: anno_path = path\n",
    "# Sample file path, for bgen format\n",
    "parameter: pop_path = path\n",
    "parameter: walltime = '24h'\n",
    "parameter: mem = '100G'\n",
    "# Load all regions of interest. Each item in the list will be a region: (chr, start, end)\n",
    "chrom = list(range(11,19))+[22]\n",
    "input: fam_path, vcf_path, anno_path, pop_path, for_each = 'chrom'\n",
    "output: f'{cwd:a}/chr{_chrom}test'\n",
    "task: walltime = walltime, mem = mem, tags = f'{step_name}_{_output:bn}'\n",
    "bash: expand = '${ }', stderr = f'{_output:n}.stderr', stdout = f'{_output:n}.stdout'\n",
    "    \n",
    "    echo \"start\"\n",
    "    seqlink --fam ${fam_path} --vcf ${vcf_path} \\\n",
    "    --anno '${anno_path:a}/EFIGA_NIALOAD_chr${_chrom}.hg38.hg38_multianno.csv' \\\n",
    "    --pop ${pop_path} \\\n",
    "    -o ${_output}  \\\n",
    "    -f 'MERLIN' --build 'hg38' --freq 'AF' --bin 1 --maf-cutoff 0.05 --jobs 1"
   ]
  },
  {
   "cell_type": "code",
   "execution_count": null,
   "id": "90841244-3525-43bf-b006-5ad21db1e076",
   "metadata": {},
   "outputs": [],
   "source": []
  }
 ],
 "metadata": {
  "kernelspec": {
   "display_name": "SoS",
   "language": "sos",
   "name": "sos"
  }
 },
 "nbformat": 4,
 "nbformat_minor": 5
}
