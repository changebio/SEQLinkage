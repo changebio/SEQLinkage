{
 "cells": [
  {
   "cell_type": "markdown",
   "id": "5c124015-38a8-46be-a326-237dca2cb13e",
   "metadata": {},
   "source": [
    "# Genome-wide Linkage Analysis"
   ]
  },
  {
   "cell_type": "markdown",
   "id": "62dd4af0-8cd5-4f18-afd4-3cb0bd167f73",
   "metadata": {},
   "source": [
    "## Aim"
   ]
  },
  {
   "cell_type": "markdown",
   "id": "0173e3c6-d843-43e0-b3e7-b5c6d0a9b6dc",
   "metadata": {},
   "source": [
    "To phase haplotypes from vcfs and run genome-wide linkage analysis"
   ]
  },
  {
   "cell_type": "markdown",
   "id": "d911ba7b-2d42-46df-94fa-50be23145b6b",
   "metadata": {},
   "source": [
    "### Input\n",
    "\n",
    "\n",
    "- `--cwd`, work directory where the output will be saved to\n",
    "- `--chrom`, including a list of chromosomes\n",
    "    - e.g. `1 2 3`\n",
    "- `--fam-path`, the path of the fam file.\n",
    "- `--vcf-path`, the path of a genotype file in `vcf` format.\n",
    "- `--anno-path`, the path of a annotation file.\n",
    "- `--anno-path`, the path of a sample source file."
   ]
  },
  {
   "cell_type": "markdown",
   "id": "5052f193-d2c4-4b49-8a63-c6921f7a1750",
   "metadata": {},
   "source": [
    "### Output\n",
    "- haplotypes\n",
    "- lods"
   ]
  },
  {
   "cell_type": "markdown",
   "id": "cefc2c43-9200-45f1-b1d7-75292e18de16",
   "metadata": {},
   "source": [
    "## Command Interface"
   ]
  },
  {
   "cell_type": "code",
   "execution_count": null,
   "id": "75d7ffdf-1610-43e6-863b-f89ef9adc540",
   "metadata": {},
   "outputs": [
    {
     "ename": "ContextualVersionConflict",
     "evalue": "(jupyter-client 6.1.12 (/mnt/mfs/hgrcgrid/homes/yh3455/miniconda3/lib/python3.8/site-packages), Requirement.parse('jupyter-client>=7.0.2'), {'sos-notebook'})",
     "execution_count": null,
     "output_type": "error",
     "status": "error",
     "traceback": [
      "\u001b[91m(jupyter-client 6.1.12 (/mnt/mfs/hgrcgrid/homes/yh3455/miniconda3/lib/python3.8/site-packages), Requirement.parse('jupyter-client>=7.0.2'), {'sos-notebook'})\u001b[0m"
     ]
    }
   ],
   "source": [
    "sos run seqlink_sos.ipynb -h"
   ]
  },
  {
   "cell_type": "markdown",
   "id": "ad44e858-6050-4055-901e-c0d30cabd2d7",
   "metadata": {},
   "source": [
    "## Example command"
   ]
  },
  {
   "cell_type": "markdown",
   "id": "590a1bc8-3384-4dcb-83d5-9d4870aa6f2e",
   "metadata": {},
   "source": [
    "### seqlink\n",
    "```\n",
    "sos run nbs/seqlink_sos.ipynb seqlink --cwd data/wg20220316 --fam_path data/new_trim_ped_famless17_no:xx.fam --vcf_path /mnt/mfs/statgen/alzheimers-family/linkage_files/geno/full_sample/vcf/full_sample.vcf.gz --anno_path MWE/annotation --pop_path data/full_sample_fam_pop.txt --chrom 9 10\n",
    "```\n",
    "### linkage\n",
    "```\n",
    "sos run nbs/seqlink_sos.ipynb linkage --cwd data/wg20220316 --fam_path data/new_trim_ped_famless17_no:xx.fam --chrom 1 2 3 4 5 6 7 8\n",
    "```\n",
    "### seqlink and linkage\n",
    "```\n",
    "sos run nbs/seqlink_sos.ipynb --cwd data/wg20220316 --fam_path data/new_trim_ped_famless17_no:xx.fam --vcf_path /mnt/mfs/statgen/alzheimers-family/linkage_files/geno/full_sample/vcf/full_sample.vcf.gz --anno_path MWE/annotation --pop_path data/full_sample_fam_pop.txt --chrom 9 10\n",
    "```"
   ]
  },
  {
   "cell_type": "markdown",
   "id": "c2d87e4d-862f-4f63-96ad-51eb95f7fc6b",
   "metadata": {},
   "source": [
    "## Workflow codes"
   ]
  },
  {
   "cell_type": "code",
   "execution_count": null,
   "id": "ba9b3459-24a5-49ac-93d9-77fec76b04b9",
   "metadata": {},
   "outputs": [],
   "source": [
    "[global]\n",
    "# Work directory where output will be saved to\n",
    "parameter: cwd = path\n",
    "# Fam file\n",
    "parameter: fam_path = path\n",
    "parameter: chrom = list\n",
    "parameter: walltime = '24h'\n",
    "parameter: mem = '100G'"
   ]
  },
  {
   "cell_type": "code",
   "execution_count": null,
   "id": "331b855c-4212-4c5e-8e40-a358e24b0ac9",
   "metadata": {},
   "outputs": [],
   "source": [
    "[seqlink (phasing haps)]\n",
    "# VCF file\n",
    "parameter: vcf_path = path\n",
    "# annotation path\n",
    "parameter: anno_path = path\n",
    "# Sample source file path\n",
    "parameter: pop_path = path\n",
    "input: fam_path, vcf_path, anno_path, pop_path, for_each = 'chrom'\n",
    "output: f'{cwd:a}/chr{_chrom}test'\n",
    "task: walltime = walltime, mem = mem, tags = f'{step_name}_{_output:bn}'\n",
    "bash: expand = '${ }', stderr = f'{_output:n}.stderr', stdout = f'{_output:n}.stdout'\n",
    "    \n",
    "    echo \"start\"\n",
    "    seqlink --fam ${fam_path} --vcf ${vcf_path} \\\n",
    "    --anno '${anno_path:a}/EFIGA_NIALOAD_chr${_chrom}.hg38.hg38_multianno.csv' \\\n",
    "    --pop ${pop_path} \\\n",
    "    -o ${_output}  \\\n",
    "    -f 'MERLIN' --build 'hg38' --freq 'AF' --bin 1 --maf-cutoff 0.05 --jobs 1"
   ]
  },
  {
   "cell_type": "code",
   "execution_count": null,
   "id": "90841244-3525-43bf-b006-5ad21db1e076",
   "metadata": {},
   "outputs": [],
   "source": [
    "[linkage (linkage analysis)]\n",
    "input: cwd, fam_path, for_each = 'chrom'\n",
    "output: f'{cwd:a}/chr{_chrom}test/tmp/CACHE/chr{_chrom}test'\n",
    "task: walltime = walltime, mem = mem, tags = f'{step_name}_{_output:bn}'\n",
    "python: expand = '${ }', stderr = f'{_output:n}.stderr', stdout = f'{_output:n}.stdout'\n",
    "\n",
    "    import glob\n",
    "    import pandas as pd\n",
    "    import numpy as np\n",
    "    import pickle\n",
    "    from SEQLinkage.linkage import *\n",
    "\n",
    "    def run_gene_lods(file,fam,cutoff=None):\n",
    "        with open(file+'.pickle', 'rb') as handle:\n",
    "            genes = pickle.load(handle)\n",
    "        gene_variants,gene_fam_haps = format_haps_bunch(genes,fam)\n",
    "        if cutoff is not None:\n",
    "            for f,variants in gene_variants.items():\n",
    "                gene_fam_haps[f]=gene_fam_haps[f].loc[:,[True]*6+list(np.repeat((variants.freqs>cutoff)[variants.uniq],2))]\n",
    "        res = parallel_lods(gene_fam_haps.values())\n",
    "        smy_res = sum_variant_lods(res)\n",
    "        with open(file+'cutoff'+str(cutoff)+'.result','wb') as handle:\n",
    "            pickle.dump(smy_res, handle, protocol=pickle.HIGHEST_PROTOCOL)\n",
    "\n",
    "    fam17 = pd.read_csv(f'${fam_path}',delim_whitespace=True,header=None,names=['fid','iid','fathid','mothid','sex','ad'])\n",
    "    fam17.index = list(fam17.iid)\n",
    "    fam17.ad[fam17.ad==-9]=0\n",
    "    fam17_d = {}\n",
    "    for i in fam17.fid.unique():\n",
    "        fam17_d[i] = fam17[fam17.fid==i]\n",
    "    inputs=glob.glob(f'${_input[0]}/chr${_chrom}test/tmp/CACHE/chr${_chrom}test*.pickle')\n",
    "    for i in inputs:\n",
    "        print(i[:-7])\n",
    "        run_gene_lods(i[:-7],fam17_d)"
   ]
  }
 ],
 "metadata": {
  "kernelspec": {
   "display_name": "SoS",
   "language": "sos",
   "name": "sos"
  }
 },
 "nbformat": 4,
 "nbformat_minor": 5
}
